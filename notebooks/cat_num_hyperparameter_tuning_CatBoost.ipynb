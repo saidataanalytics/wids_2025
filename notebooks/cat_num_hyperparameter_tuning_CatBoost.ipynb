{
  "cells": [
    {
      "cell_type": "markdown",
      "metadata": {
        "id": "MLXNVhxsy3k5"
      },
      "source": [
        "# Categorical and quantitative data - hyperparameter tuning - CatBoost\n",
        "\n",
        "### Techniques covered in this Notebook\n",
        "- Preprocessing the categorical and quantitative data\n",
        "- CatBoost\n",
        "- Hyperparameter tuning"
      ]
    },
    {
      "cell_type": "code",
      "execution_count": 2,
      "metadata": {},
      "outputs": [],
      "source": [
        "import numpy as np\n",
        "import pandas as pd\n",
        "import csv\n",
        "import openpyxl\n",
        "import matplotlib.pyplot as plt\n",
        "import seaborn as sns\n",
        "import time  \n",
        "import catboost as cb\n",
        "from catboost import CatBoostClassifier\n",
        "from sklearn.utils.class_weight import compute_class_weight\n",
        "from sklearn.decomposition import PCA\n",
        "from sklearn.preprocessing import OneHotEncoder\n",
        "from sklearn.preprocessing import StandardScaler\n",
        "from sklearn.impute import SimpleImputer\n",
        "from sklearn.experimental import enable_iterative_imputer\n",
        "from sklearn.impute import IterativeImputer\n",
        "from sklearn.compose import ColumnTransformer\n",
        "from sklearn.pipeline import Pipeline\n",
        "from sklearn.model_selection import train_test_split\n",
        "from sklearn.metrics import f1_score, accuracy_score, precision_score, recall_score\n",
        "from sklearn.metrics import confusion_matrix\n",
        "from sklearn.model_selection import ParameterGrid\n",
        "import random\n",
        "import itertools\n",
        "\n",
        "import warnings\n",
        "\n",
        "# Suppress FutureWarnings\n",
        "warnings.simplefilter(action='ignore', category=FutureWarning)\n",
        "warnings.simplefilter(action='ignore', category=UserWarning)"
      ]
    },
    {
      "cell_type": "markdown",
      "metadata": {
        "id": "MoObavSgy3k9"
      },
      "source": [
        "## Load the data"
      ]
    },
    {
      "cell_type": "code",
      "execution_count": 3,
      "metadata": {
        "colab": {
          "base_uri": "https://localhost:8080/"
        },
        "id": "HDyCZMFwzCVq",
        "outputId": "30a0851d-4087-4de9-bd40-53de8032361e"
      },
      "outputs": [],
      "source": [
        "# Set model family name  no features excluded, PCA not applied in this version\n",
        "model_family = 'Catboost'"
      ]
    },
    {
      "cell_type": "markdown",
      "metadata": {},
      "source": [
        "Specify data input folder"
      ]
    },
    {
      "cell_type": "code",
      "execution_count": 4,
      "metadata": {},
      "outputs": [],
      "source": [
        "# SET FOLDERS (LOCAL OR REMOTE - COLAB COVERED IN THIS CELL)\n",
        "\n",
        "# Local folders \n",
        "data_input_folder = '../data'\n",
        "output_folder = '../data/Interim'\n",
        "\n",
        "# In case run locally, also set the 'task_type' argument in 'model_param_ranges' to the default 'CPU' (for both 'sex and 'ADHD' prediction)\n",
        "\n",
        "# Colab \n",
        "# Mount drive \n",
        "#from google.colab import drive\n",
        "#drive.mount('/content/drive')\n",
        "\n",
        "# Set Colab folders\n",
        "# data_input_folder = '/content/drive/MyDrive/WIDS_2025'\n",
        "# output_folder = '/content/drive/MyDrive/WIDS_2025/Output'\n",
        "\n",
        "# In case run on Colab, also set the 'task_type' argument in 'model_param_ranges' to 'GPU' (for both 'sex and 'ADHD' prediction)"
      ]
    },
    {
      "cell_type": "markdown",
      "metadata": {},
      "source": [
        "Load training data"
      ]
    },
    {
      "cell_type": "code",
      "execution_count": 5,
      "metadata": {},
      "outputs": [],
      "source": [
        "# Start runtime measurement\n",
        "start_time                 = time.time()\n",
        "\n",
        "# Load categorical data as category:\n",
        "train_cat_features         = pd.read_excel(f\"{data_input_folder}/TRAIN_NEW/TRAIN_CATEGORICAL_METADATA_new.xlsx\")\n",
        "train_cat_features.sort_values(by='participant_id', inplace=True)\n",
        "train_cat_features         = train_cat_features.astype('category')\n",
        "\n",
        "# Load quantitative data:\n",
        "train_quant_features       = pd.read_excel(f\"{data_input_folder}/TRAIN_NEW/TRAIN_QUANTITATIVE_METADATA_new.xlsx\")\n",
        "train_quant_features.sort_values(by='participant_id', inplace=True)\n",
        "\n",
        "# Load solutions:\n",
        "solution                   = pd.read_excel(f\"{data_input_folder}/TRAIN_NEW/TRAINING_SOLUTIONS.xlsx\")\n",
        "solution.sort_values(by='participant_id', inplace=True)\n",
        "solution                   = solution.astype('category') \n",
        "\n",
        "# Merge datasets into one:\n",
        "train_merged               = pd.merge(train_cat_features, train_quant_features, on='participant_id', how='left')\n",
        "train_merged               = pd.merge(train_merged, solution, on='participant_id', how='left')\n",
        "\n",
        "# Dictionary of training data\n",
        "train                      = {'mode': 'train',\n",
        "                              'cat': train_cat_features,\n",
        "                              'quant': train_quant_features,\n",
        "                              'solution': solution,\n",
        "                              'merged': train_merged}"
      ]
    },
    {
      "cell_type": "markdown",
      "metadata": {},
      "source": [
        "Load test data"
      ]
    },
    {
      "cell_type": "code",
      "execution_count": 6,
      "metadata": {},
      "outputs": [],
      "source": [
        "# Load categorical data as category:\n",
        "test_cat_features         = pd.read_excel(f\"{data_input_folder}/TEST/TEST_CATEGORICAL.xlsx\")\n",
        "test_cat_features         = test_cat_features.astype('category')\n",
        "\n",
        "# Load quantitative data:\n",
        "test_quant_features       = pd.read_excel(f\"{data_input_folder}/TEST/TEST_QUANTITATIVE_METADATA.xlsx\")\n",
        "\n",
        "# Merge datasets into one:\n",
        "test_merged               = pd.merge(test_cat_features, test_quant_features, on='participant_id', how='left')\n",
        "\n",
        "# Dictionary of training data\n",
        "test                      = {'mode': 'test',\n",
        "                             'cat': test_cat_features,\n",
        "                             'quant': test_quant_features,\n",
        "                             'solution': None,\n",
        "                             'merged': test_merged}"
      ]
    },
    {
      "cell_type": "markdown",
      "metadata": {
        "id": "Jm0-sF--y3k-"
      },
      "source": [
        "## Set parameters\n",
        "\n",
        "Set parameters for data preprocessing"
      ]
    },
    {
      "cell_type": "code",
      "execution_count": 7,
      "metadata": {
        "execution": {
          "iopub.execute_input": "2025-03-08T13:10:24.980014Z",
          "iopub.status.busy": "2025-03-08T13:10:24.979609Z",
          "iopub.status.idle": "2025-03-08T13:10:24.986477Z",
          "shell.execute_reply": "2025-03-08T13:10:24.985391Z",
          "shell.execute_reply.started": "2025-03-08T13:10:24.979973Z"
        },
        "id": "0ecCoKXuy3k-",
        "trusted": true
      },
      "outputs": [],
      "source": [
        "# Size of random sample selected from hyperparameter range\n",
        "n_samples = 100\n",
        "\n",
        "data_preproc_params = {}\n",
        "\n",
        "# Full list of 9 categorical variables:\n",
        "#   Basic_Demos_Enroll_Year, Basic_Demos_Study_Site, PreInt_Demos_Fam_Child_Ethnicity, PreInt_Demos_Fam_Child_Race,\t\n",
        "#   MRI_Track_Scan_Location, Barratt_Barratt_P1_Edu, Barratt_Barratt_P1_Occ,           Barratt_Barratt_P2_Edu',      Barratt_Barratt_P2_Occ\n",
        "\n",
        "# Full list of 18 quantitatigve variables:\n",
        "#   EHQ_EHQ_Total,\t            ColorVision_CV_Score,  APQ_P_APQ_P_CP,\t          APQ_P_APQ_P_ID,\t         APQ_P_APQ_P_INV,   \n",
        "#   APQ_P_APQ_P_OPD\t            APQ_P_APQ_P_PM,\t       APQ_P_APQ_P_PP\t          SDQ_SDQ_Conduct_Problems,\t SDQ_SDQ_Difficulties_Total, \n",
        "#   SDQ_SDQ_Emotional_Problems\tSDQ_SDQ_Externalizing, SDQ_SDQ_Generating_Impact, SDQ_SDQ_Hyperactivity\t     SDQ_SDQ_Internalizing\t\n",
        "#   SDQ_SDQ_Peer_Problems,      SDQ_SDQ_Prosocial,     MRI_Track_Age_at_Scan\n",
        "\n",
        "# Columns to drop based on explanatory data analysis (drop columns that do not seem useful):\n",
        "#data_preproc_params['cat_columns_to_drop']   = ['Basic_Demos_Enroll_Year', 'Basic_Demos_Study_Site', 'MRI_Track_Scan_Location']\n",
        "#data_preproc_params['quant_columns_to_drop'] = ['EHQ_EHQ_Total', 'APQ_P_APQ_P_CP', 'MRI_Track_Age_at_Scan']\n",
        "data_preproc_params['cat_columns_to_drop']   = []\n",
        "data_preproc_params['quant_columns_to_drop'] = []\n",
        "\n",
        "# Specify if Principal Component Analysis (PCA) should be used for dimension reduction for quantitative features and connectome matrices:\n",
        "# If yes specify the number of principal components\n",
        "data_preproc_params['apply_pca_quant']              = False\n",
        "data_preproc_params['nr_pca_components_quant']      = 4\n",
        "\n",
        "# Set imputer methods:\n",
        "data_preproc_params['categorical_imputer_strategy']          = 'most_frequent'         # Options: 'most frequent' \n",
        "\n",
        "data_preproc_params['numeric_imputer']                       = 'iterative'             # Options: 'iterative' or 'simple'\n",
        "                                                                                       # In case 'iterative' selected then a RF regression will be performed\n",
        "data_preproc_params['numeric_imputer_strategy']              = None                    # Options for simple: 'median', 'mean', 'most freqent', 'constant'\n",
        "                                                                          # No options for iterative"
      ]
    },
    {
      "cell_type": "markdown",
      "metadata": {},
      "source": [
        "Set model hyperparameters"
      ]
    },
    {
      "cell_type": "code",
      "execution_count": 8,
      "metadata": {},
      "outputs": [],
      "source": [
        "model_param_ranges = {\n",
        "    'sex': {\n",
        "        'learning_rate': [0.001, 0.005, 0.01, 0.05, 0.1, 0.2],\n",
        "        'depth': [3, 4, 5, 6, 7, 8, 9, 10],\n",
        "        'l2_leaf_reg': [1, 3, 5, 7, 9],\n",
        "        'iterations': {'min': 100, 'max': 1100, 'step': 100},\n",
        "        'subsample': [0.5, 0.7, 0.9, 1.0],\n",
        "        'border_count': [32, 64, 128, 254],  # Number of splits for numeric features\n",
        "        'loss_function': ['Logloss'],       # Fixed parameter for binary classification\n",
        "        'eval_metric': ['F1'],              # Optional: useful for F1 optimization\n",
        "        'verbose': [0],                     # Fixed parameter to suppress logs\n",
        "        #'task_type': ['GPU']                # Use GPU on Colab\n",
        "        'task_type': ['CPU']                # Use CPU on local machi\n",
        "\n",
        "    },\n",
        "\n",
        "    'adhd': {\n",
        "        'learning_rate': [0.001, 0.005, 0.01, 0.05, 0.1, 0.2],\n",
        "        'depth': [3, 4, 5, 6, 7, 8, 9, 10],\n",
        "        'l2_leaf_reg': [1, 3, 5, 7, 9],\n",
        "        'iterations': {'min': 100, 'max': 1100, 'step': 100},\n",
        "        'subsample': [0.5, 0.7, 0.9, 1.0],\n",
        "        'border_count': [32, 64, 128, 254],  # Number of splits for numeric features\n",
        "        'loss_function': ['Logloss'],       # Fixed parameter for binary classification\n",
        "        'eval_metric': ['F1'],              # Optional: useful for F1 optimization\n",
        "        'verbose': [0],                     # Fixed parameter to suppress logs\n",
        "        #'task_type': ['GPU']                # Use GPU on Colab\n",
        "        'task_type': ['CPU']                # Use CPU on local machine\n",
        "    }\n",
        "}\n",
        "\n",
        "\n",
        "prediction_thresholds = {\n",
        "    'sex': np.linspace(0, 1, 21),\n",
        "    'adhd': np.linspace(0, 1, 21)\n",
        "}"
      ]
    },
    {
      "cell_type": "markdown",
      "metadata": {},
      "source": [
        "Set model evaluation parameters"
      ]
    },
    {
      "cell_type": "code",
      "execution_count": 9,
      "metadata": {},
      "outputs": [],
      "source": [
        "# Number of folds (k) for k-fold cross-validation:\n",
        "nr_of_folds      = 5 "
      ]
    },
    {
      "cell_type": "markdown",
      "metadata": {},
      "source": [
        "## Data preprocessing"
      ]
    },
    {
      "cell_type": "markdown",
      "metadata": {},
      "source": [
        "Define Principal Component Analysis (PCA)"
      ]
    },
    {
      "cell_type": "code",
      "execution_count": 10,
      "metadata": {},
      "outputs": [],
      "source": [
        "def perform_pca(data, nr_pca_components):\n",
        "    \"\"\"\n",
        "    Perform PCA on quantitative variables\n",
        "    \"\"\"\n",
        "\n",
        "    # Extract mode\n",
        "    mode = data['mode']\n",
        "\n",
        "    # Select quantitative (numeric) data for PCA and the full merged dataset\n",
        "    data_quant = data['quant'].copy()\n",
        "    data_merged = data['merged'].copy()\n",
        "\n",
        "    # Extract the ID column\n",
        "    participant_id = data_quant['participant_id'].copy()\n",
        "\n",
        "    # Select only numeric columns for PCA (excluding 'participant_id')\n",
        "    data_quant = data_quant.iloc[:, 1:].copy()\n",
        "\n",
        "    # Replace missing values by the median as otherwise PCA does not run\n",
        "    data_quant.fillna(data_quant.median(), inplace=True)\n",
        "\n",
        "    # Standardise data\n",
        "    scaler = StandardScaler()\n",
        "    data_scaled = scaler.fit_transform(data_quant)\n",
        "\n",
        "    # Apply PCA\n",
        "    pca = PCA(n_components=nr_pca_components)\n",
        "    data_pca = pca.fit_transform(data_scaled)\n",
        "\n",
        "    # Set PCA column names\n",
        "    pca_columns = [f\"PC{i+1}\" for i in range(nr_pca_components)]\n",
        "\n",
        "    # Convert to DataFrame\n",
        "    data_pca = pd.DataFrame(data_pca, columns=pca_columns)\n",
        "\n",
        "    # Add back participant_id\n",
        "    data_pca.insert(0, 'participant_id', participant_id.values)\n",
        "\n",
        "    # Check variance explained\n",
        "    explained_variance = pca.explained_variance_ratio_\n",
        "    total_explained_variance = explained_variance.sum()\n",
        "\n",
        "    print(f\"Variance explained for quantitative ({mode} data): {explained_variance}\")\n",
        "    print(f\"Total variance explained by {nr_pca_components} components for quantitative {mode} data: {total_explained_variance:.1%}\")\n",
        "\n",
        "    # Replace the original quantitative columns by the PCA columns in the merged dataset\n",
        "    data_merged.drop(columns=data_quant.columns, inplace=True, errors='ignore')\n",
        "    data_merged = data_merged.merge(data_pca, on='participant_id', how='left')\n",
        "\n",
        "    # Update data dictionary\n",
        "    data['merged'] = data_merged\n",
        "    data['quant'] = data_pca\n",
        "\n",
        "    return data\n",
        "\n"
      ]
    },
    {
      "cell_type": "code",
      "execution_count": 11,
      "metadata": {},
      "outputs": [],
      "source": [
        "def preprocess_data(data, data_preproc_params):\n",
        "\n",
        "    \"\"\"\n",
        "    Perform data preprocessing on both categorical and numerical data\n",
        "    \"\"\"\n",
        "\n",
        "    # Extract mode (train or test)\n",
        "    mode                    = data['mode']\n",
        "\n",
        "    # Merge categorical and quantitative columns to drop (no columns dropped from connectome matrix):\n",
        "    cat_columns_to_drop     = data_preproc_params['cat_columns_to_drop']\n",
        "    quant_columns_to_drop   = data_preproc_params['quant_columns_to_drop']\n",
        "    columns_to_drop         = cat_columns_to_drop + quant_columns_to_drop\n",
        "    \n",
        "    # Drop selected columns for categorical and quantitative data:\n",
        "    data_cat                = data['cat']\n",
        "    data_cat = data_cat.drop(cat_columns_to_drop, axis = 1)\n",
        "\n",
        "    data_quant              = data['quant']\n",
        "    data_quant              = data_quant.drop(quant_columns_to_drop, axis = 1)\n",
        "\n",
        "    data_merged             = data['merged']\n",
        "\n",
        "    # Run PCA on quantitative variables if required by the user:\n",
        "    apply_pca_quant         = data_preproc_params['apply_pca_quant']\n",
        "    nr_pca_components_quant = data_preproc_params['nr_pca_components_quant']\n",
        "\n",
        "    if apply_pca_quant:\n",
        "        # Perform PCA        \n",
        "        data = perform_pca(data, nr_pca_components_quant)\n",
        "        \n",
        "        # Update quantitative and merged data\n",
        "        data_quant          = data['quant']\n",
        "        data_merged         = data['merged']\n",
        "        \n",
        "\n",
        "    # Add participant_id and target variables (for training data) to the list of columns to drop:\n",
        "    columns_to_drop.append('participant_id')\n",
        "\n",
        "    if mode == 'train':\n",
        "        columns_to_drop.append('ADHD_Outcome')                     \n",
        "        columns_to_drop.append('Sex_F')\n",
        "\n",
        "    # Separate features and target variables\n",
        "    X      = data_merged.drop(columns_to_drop, axis=1, errors='ignore')\n",
        "\n",
        "    # Identify categorical and numerical features\n",
        "    categorical_features = X.select_dtypes(include=['object']).columns.tolist()\n",
        "    numerical_features = X.select_dtypes(exclude=['object']).columns.tolist()\n",
        "\n",
        "    # Specify imputer methods from data processing parameters\n",
        "    numeric_imputer = data_preproc_params['numeric_imputer']\n",
        "    numeric_imputer_strategy = data_preproc_params['numeric_imputer_strategy']\n",
        "    categorical_imputer_strategy = data_preproc_params['categorical_imputer_strategy']\n",
        "\n",
        "    # Simple numeric imputer\n",
        "    if numeric_imputer == 'simple':\n",
        "        # Create preprocessing pipelines\n",
        "        numeric_transformer = Pipeline(steps=[\n",
        "            ('imputer', SimpleImputer(strategy=numeric_imputer_strategy)),\n",
        "            ('scaler', StandardScaler())\n",
        "        ])\n",
        "    else:\n",
        "        numeric_transformer = Pipeline(steps=[\n",
        "        ('imputer', IterativeImputer(random_state=0)),\n",
        "        ('scaler', StandardScaler())\n",
        "    ])\n",
        "\n",
        "\n",
        "    categorical_transformer = Pipeline(steps=[\n",
        "        ('imputer', SimpleImputer(strategy=categorical_imputer_strategy)),\n",
        "        ('onehot', OneHotEncoder(handle_unknown='ignore'))\n",
        "    ])\n",
        "\n",
        "    preprocessor = ColumnTransformer(\n",
        "        transformers=[\n",
        "            ('num', numeric_transformer, numerical_features),\n",
        "            ('cat', categorical_transformer, categorical_features)\n",
        "        ]\n",
        "    )\n",
        "\n",
        "    X_preprocessed = preprocessor.fit_transform(X)\n",
        "\n",
        "    print(f'Shape of preprocess {mode} data: ', X_preprocessed.shape)\n",
        "\n",
        "    return X_preprocessed"
      ]
    },
    {
      "cell_type": "markdown",
      "metadata": {},
      "source": [
        "Perform data preprocessing"
      ]
    },
    {
      "cell_type": "code",
      "execution_count": 12,
      "metadata": {},
      "outputs": [
        {
          "name": "stdout",
          "output_type": "stream",
          "text": [
            "Shape of preprocess train data:  (1213, 27)\n",
            "Shape of preprocess test data:  (304, 27)\n"
          ]
        }
      ],
      "source": [
        "X_preprocessed_train = preprocess_data(train, data_preproc_params)\n",
        "X_preprocessed_test  = preprocess_data(test, data_preproc_params)"
      ]
    },
    {
      "cell_type": "markdown",
      "metadata": {},
      "source": [
        "## Model training"
      ]
    },
    {
      "cell_type": "code",
      "execution_count": 13,
      "metadata": {},
      "outputs": [],
      "source": [
        "def train_model(X_preprocessed, nr_of_folds, model_param, target):\n",
        "\n",
        "\n",
        "    # Set model:\n",
        "    if target == 'adhd':\n",
        "        y_actual = solution['ADHD_Outcome']\n",
        "    else:\n",
        "        y_actual = solution['Sex_F']\n",
        "\n",
        "    # Calculate class weights for ADHD for LGBM and Catboost:\n",
        "    weights   = compute_class_weight(class_weight='balanced', classes=np.unique(y_actual), y=y_actual)\n",
        "\n",
        "    # Specify LGBM model with default parameters:\n",
        "    model    = cb.CatBoostClassifier(\n",
        "                        learning_rate = model_param[target]['learning_rate'],\n",
        "                        depth = model_param[target]['depth'],\n",
        "                        l2_leaf_reg = model_param[target]['l2_leaf_reg'],\n",
        "                        iterations = model_param[target]['iterations'],\n",
        "                        subsample = model_param[target]['subsample'],\n",
        "                        border_count = model_param[target]['border_count'],\n",
        "                        loss_function = model_param[target]['loss_function'],\n",
        "                        eval_metric = model_param[target]['eval_metric'],\n",
        "                        verbose = model_param[target]['verbose'],\n",
        "                        task_type = model_param[target]['task_type'],\n",
        "                        bootstrap_type = 'Bernoulli',  \n",
        "                        class_weights = weights.tolist()\n",
        "                    )\n",
        "\n",
        "    # Split data into training and validation sets using k-fold cross-validation:\n",
        "    X_train, X_val, y_train, y_val = train_test_split(\n",
        "        X_preprocessed, y_actual, test_size = 1 / nr_of_folds, random_state=42, stratify=y_actual\n",
        "        )        \n",
        "\n",
        "    # Train model\n",
        "    #print(f\"Training {model_family} model for {target} prediction...\")\n",
        "    model.fit(X_train, y_train, eval_set=[(X_val, y_val)])\n",
        "    #print(f\"Training {model_family} for {target} completed.\")\n",
        "    \n",
        "    return model, X_val, y_val"
      ]
    },
    {
      "cell_type": "markdown",
      "metadata": {
        "id": "dqzC5Tbr2sdy"
      },
      "source": [
        "## Model Evaluation\n",
        "\n",
        "Evaluate the model on the test set and calculate its accuracy."
      ]
    },
    {
      "cell_type": "markdown",
      "metadata": {},
      "source": [
        "Define weighted F1 score (evaluation metric specified in the Datathon where females have double weight for ADHD prediction)"
      ]
    },
    {
      "cell_type": "code",
      "execution_count": 14,
      "metadata": {},
      "outputs": [],
      "source": [
        "def get_weighted_f1(y_true: pd.Series, y_pred: pd.Series, sex: pd.Series, female_weight: float = 2.0, male_weight: float = 1.0) -> float:\n",
        "\n",
        "    sample_weight = np.where(sex == 1, female_weight, male_weight)\n",
        "    return f1_score(y_true, y_pred, average='binary', sample_weight=sample_weight)"
      ]
    },
    {
      "cell_type": "markdown",
      "metadata": {},
      "source": [
        "### Select best model (highest F1 score)"
      ]
    },
    {
      "cell_type": "markdown",
      "metadata": {},
      "source": [
        "Expand parameter ranges for hypermarameter tuning (using model_param_ranges )"
      ]
    },
    {
      "cell_type": "code",
      "execution_count": 15,
      "metadata": {},
      "outputs": [],
      "source": [
        "def sample_param_grid(param_dict, n_samples=n_samples, seed=42):\n",
        "    random.seed(seed)\n",
        "    np.random.seed(seed)\n",
        "\n",
        "    # Expand any param defined with min/max/step\n",
        "    expanded = {}\n",
        "    for key, value in param_dict.items():\n",
        "        if isinstance(value, dict) and {'min', 'max', 'step'}.issubset(value.keys()):\n",
        "            expanded[key] = list(range(value['min'], value['max'] + 1, value['step']))\n",
        "        else:\n",
        "            expanded[key] = value\n",
        "\n",
        "    # Now sample from the full grid\n",
        "    keys = list(expanded.keys())\n",
        "    all_combinations = list(itertools.product(*(expanded[key] for key in keys)))\n",
        "    print(f\"Total possible combinations: {len(all_combinations)}\")\n",
        "\n",
        "    sampled_combinations = random.sample(all_combinations, min(n_samples, len(all_combinations)))\n",
        "\n",
        "    # Convert list of tuples to list of dicts\n",
        "    sampled_param_dicts = [dict(zip(keys, combo)) for combo in sampled_combinations]\n",
        "    return sampled_param_dicts\n"
      ]
    },
    {
      "cell_type": "markdown",
      "metadata": {},
      "source": [
        "Perform hyperparamter tuning to select the best model"
      ]
    },
    {
      "cell_type": "code",
      "execution_count": 16,
      "metadata": {},
      "outputs": [],
      "source": [
        "def select_best_model(X_preprocessed_train, nr_of_folds, model_param_ranges, target, y_val_sex=None, n_samples=n_samples):\n",
        "    best_metric = -1\n",
        "    best_model = None\n",
        "    best_params = None\n",
        "\n",
        "    fixed_threshold = 0.5\n",
        "\n",
        "    param_grid = sample_param_grid(model_param_ranges[target], n_samples=n_samples)\n",
        "\n",
        "    for i, param_combo in enumerate(param_grid, start=1):\n",
        "        model_params = {target: param_combo}\n",
        "        model, X_val, y_val = train_model(X_preprocessed_train, nr_of_folds, model_params, target)\n",
        "        \n",
        "        # Use predict_proba and select the probability for the positive class (1)\n",
        "        y_pred_probs = model.predict_proba(X_val)[:, 1]  # For binary classification, select column 1\n",
        "        y_pred = (y_pred_probs > fixed_threshold).astype(int)  # Apply threshold to get final predictions\n",
        "        y_true = np.asarray(y_val)\n",
        "\n",
        "        if target == 'adhd':\n",
        "            if y_val_sex is None:\n",
        "                raise ValueError(\"y_val_sex must be provided for ADHD model to compute weighted F1 score.\")\n",
        "            metric = get_weighted_f1(y_true, y_pred, y_val_sex)\n",
        "        else:\n",
        "            # Ensure y_true and y_pred are both one-dimensional arrays\n",
        "            metric = f1_score(y_true, y_pred)\n",
        "\n",
        "        if metric > best_metric:\n",
        "            best_metric = metric\n",
        "            best_model = model\n",
        "            best_params = param_combo\n",
        "            best_threshold = fixed_threshold\n",
        "\n",
        "        # Print progress and current best score every 100 combinations\n",
        "        if i % 10 == 0:\n",
        "            print(f\"{i} parameter combinations processed for {target} model selection | Current best F1: {best_metric:.4f}\")\n",
        "\n",
        "    best_params['best_threshold'] = best_threshold\n",
        "\n",
        "    return best_model, X_val, y_val, best_metric, best_params\n",
        "\n"
      ]
    },
    {
      "cell_type": "markdown",
      "metadata": {},
      "source": [
        "Set ADHD and set models to the best ones. Note that the best F1 scores here are not the final ones as they were calculated using a prediction threshold of 0.5 (to be optimised in the following step)"
      ]
    },
    {
      "cell_type": "code",
      "execution_count": 17,
      "metadata": {},
      "outputs": [
        {
          "name": "stdout",
          "output_type": "stream",
          "text": [
            "Total possible combinations: 42240\n",
            "10 parameter combinations processed for sex model selection | Current best F1: 0.5366\n",
            "20 parameter combinations processed for sex model selection | Current best F1: 0.5685\n",
            "30 parameter combinations processed for sex model selection | Current best F1: 0.5685\n",
            "40 parameter combinations processed for sex model selection | Current best F1: 0.5685\n",
            "50 parameter combinations processed for sex model selection | Current best F1: 0.5685\n",
            "60 parameter combinations processed for sex model selection | Current best F1: 0.5685\n",
            "70 parameter combinations processed for sex model selection | Current best F1: 0.5685\n",
            "80 parameter combinations processed for sex model selection | Current best F1: 0.5685\n",
            "90 parameter combinations processed for sex model selection | Current best F1: 0.5685\n",
            "100 parameter combinations processed for sex model selection | Current best F1: 0.5685\n",
            "Total possible combinations: 42240\n",
            "10 parameter combinations processed for adhd model selection | Current best F1: 0.8994\n",
            "20 parameter combinations processed for adhd model selection | Current best F1: 0.8994\n",
            "30 parameter combinations processed for adhd model selection | Current best F1: 0.8994\n",
            "40 parameter combinations processed for adhd model selection | Current best F1: 0.9010\n",
            "50 parameter combinations processed for adhd model selection | Current best F1: 0.9123\n",
            "60 parameter combinations processed for adhd model selection | Current best F1: 0.9123\n",
            "70 parameter combinations processed for adhd model selection | Current best F1: 0.9123\n",
            "80 parameter combinations processed for adhd model selection | Current best F1: 0.9123\n",
            "90 parameter combinations processed for adhd model selection | Current best F1: 0.9123\n",
            "100 parameter combinations processed for adhd model selection | Current best F1: 0.9123\n"
          ]
        }
      ],
      "source": [
        "# Train sex model first\n",
        "sex_model, X_val_sex, y_val_sex, best_f1_sex, best_params_sex = select_best_model(\n",
        "    X_preprocessed_train, nr_of_folds, model_param_ranges, target='sex')\n",
        "\n",
        "# Then ADHD model\n",
        "adhd_model, X_val_adhd, y_val_adhd, best_f1_adhd, best_params_adhd = select_best_model(\n",
        "    X_preprocessed_train, nr_of_folds, model_param_ranges, target='adhd',\n",
        "    y_val_sex=y_val_sex\n",
        ")"
      ]
    },
    {
      "cell_type": "markdown",
      "metadata": {},
      "source": [
        "Print interim best F1 scores (with prediction threshold = 0.5)"
      ]
    },
    {
      "cell_type": "code",
      "execution_count": 18,
      "metadata": {},
      "outputs": [
        {
          "name": "stdout",
          "output_type": "stream",
          "text": [
            "Best interim F1 score for ADHD - weighted with double weights for females:  0.9123\n",
            "Best interim F1 score for Sex - unweighted:  0.5685\n"
          ]
        }
      ],
      "source": [
        "print('Best interim F1 score for ADHD - weighted with double weights for females: ', round(best_f1_adhd, 4))\n",
        "print('Best interim F1 score for Sex - unweighted: ', round(best_f1_sex, 4))"
      ]
    },
    {
      "cell_type": "markdown",
      "metadata": {},
      "source": [
        "Find best threshold for prediction:"
      ]
    },
    {
      "cell_type": "code",
      "execution_count": 19,
      "metadata": {},
      "outputs": [],
      "source": [
        "def find_best_threshold(y_true, y_pred_probs, target, y_val_sex=None):\n",
        "    thresholds = np.linspace(0, 1, 101)\n",
        "    metrics = []\n",
        "\n",
        "    for t in thresholds:\n",
        "        y_pred = (y_pred_probs > t).astype(int)\n",
        "        metric = (\n",
        "            f1_score(y_true, y_pred) if target == 'sex'\n",
        "            else get_weighted_f1(y_true, y_pred, y_val_sex)\n",
        "        )\n",
        "        metrics.append(metric)\n",
        "\n",
        "    best_idx = np.argmax(metrics)\n",
        "    return thresholds[best_idx], metrics[best_idx]\n"
      ]
    },
    {
      "cell_type": "markdown",
      "metadata": {},
      "source": [
        "Print highest F1 scores and corresponding thresholds"
      ]
    },
    {
      "cell_type": "markdown",
      "metadata": {},
      "source": [
        "ADHD"
      ]
    },
    {
      "cell_type": "code",
      "execution_count": 20,
      "metadata": {},
      "outputs": [
        {
          "name": "stdout",
          "output_type": "stream",
          "text": [
            "For ADHD prediction the best prediction threshold is 0.49\n",
            "Highest F1 score for sex with Catboost: 0.9123\n",
            "\n",
            "  learning_rate: 0.1\n",
            "  depth: 10\n",
            "  l2_leaf_reg: 9\n",
            "  iterations: 800\n",
            "  subsample: 0.7\n",
            "  border_count: 128\n",
            "  loss_function: Logloss\n",
            "  eval_metric: F1\n",
            "  verbose: 0\n",
            "  task_type: CPU\n",
            "  best_threshold: 0.5\n"
          ]
        }
      ],
      "source": [
        "y_true_adhd = np.asarray(y_val_adhd)\n",
        "y_pred_probs_adhd = adhd_model.predict_proba(X_val_adhd)[:, 1]\n",
        "best_threshold_adhd, best_f1_score_adhd = find_best_threshold(y_true_adhd, y_pred_probs_adhd, 'adhd', y_val_sex)\n",
        "print(f'For ADHD prediction the best prediction threshold is {best_threshold_adhd}')\n",
        "print(f'Highest F1 score for sex with {model_family}: {round(best_f1_score_adhd, 4)}\\n')\n",
        "for param, value in best_params_adhd.items():\n",
        "    print(f\"  {param}: {value}\")"
      ]
    },
    {
      "cell_type": "markdown",
      "metadata": {},
      "source": [
        "Sex"
      ]
    },
    {
      "cell_type": "code",
      "execution_count": 21,
      "metadata": {},
      "outputs": [
        {
          "name": "stdout",
          "output_type": "stream",
          "text": [
            "For sex prediction the best prediction threshold is 0.5\n",
            "Highest F1 score for sex with Catboost: 0.5685]\n",
            "\n",
            "  learning_rate: 0.001\n",
            "  depth: 5\n",
            "  l2_leaf_reg: 3\n",
            "  iterations: 200\n",
            "  subsample: 0.5\n",
            "  border_count: 32\n",
            "  loss_function: Logloss\n",
            "  eval_metric: F1\n",
            "  verbose: 0\n",
            "  task_type: CPU\n",
            "  best_threshold: 0.5\n"
          ]
        }
      ],
      "source": [
        "y_true_sex = np.asarray(y_val_sex)\n",
        "y_pred_probs_sex = sex_model.predict_proba(X_val_sex)[:, 1]\n",
        "best_threshold_sex, best_f1_score_sex = find_best_threshold(y_true_sex, y_pred_probs_sex, 'sex')\n",
        "print(f'For sex prediction the best prediction threshold is {best_threshold_sex}')\n",
        "print(f'Highest F1 score for sex with {model_family}: {round(best_f1_score_sex, 4)}]\\n')\n",
        "for param, value in best_params_sex.items():\n",
        "    print(f\"  {param}: {value}\")"
      ]
    },
    {
      "cell_type": "markdown",
      "metadata": {
        "id": "5EYtIHS-2sdy"
      },
      "source": [
        "### Model Evaluation - ADHD (best)"
      ]
    },
    {
      "cell_type": "markdown",
      "metadata": {},
      "source": [
        "Model performance (ADHD)"
      ]
    },
    {
      "cell_type": "code",
      "execution_count": 22,
      "metadata": {},
      "outputs": [
        {
          "name": "stdout",
          "output_type": "stream",
          "text": [
            "Weighted F1 score: 0.9123\n",
            "F1 score: 0.8832\n",
            "Precision: 0.8378\n",
            "Recall: 0.9337\n",
            "Accuracy: 0.8313\n"
          ]
        }
      ],
      "source": [
        "# Use predicted labels from model\n",
        "y_true = y_true_adhd\n",
        "y_pred_probs = y_pred_probs_adhd\n",
        "y_pred = (y_pred_probs > best_threshold_adhd).astype(int)\n",
        "\n",
        "# Flatten if needed\n",
        "y_true = np.ravel(y_true)\n",
        "y_pred = np.ravel(y_pred)\n",
        "\n",
        "# Metrics \n",
        "# Note: for weighted F1, the sex target variable is used (as per competition rules, in the ADHD F1 score females have double weight)\n",
        "weighted_f1 = get_weighted_f1(y_true, y_pred, y_val_sex)\n",
        "f1 = f1_score(y_true, y_pred)\n",
        "precision = precision_score(y_true, y_pred)\n",
        "recall = recall_score(y_true, y_pred)\n",
        "accuracy = accuracy_score(y_true, y_pred)\n",
        "\n",
        "# Output\n",
        "print(\"Weighted F1 score:\", round(weighted_f1, 4))\n",
        "print(\"F1 score:\", round(f1, 4))\n",
        "print(\"Precision:\", round(precision, 4))\n",
        "print(\"Recall:\", round(recall, 4))\n",
        "print(\"Accuracy:\", round(accuracy, 4))"
      ]
    },
    {
      "cell_type": "markdown",
      "metadata": {},
      "source": [
        "Confusion matrix (ADHD)"
      ]
    },
    {
      "cell_type": "code",
      "execution_count": 23,
      "metadata": {},
      "outputs": [
        {
          "data": {
            "image/png": "[encoded data removed]",
            "text/plain": [
              "<Figure size 600x300 with 2 Axes>"
            ]
          },
          "metadata": {},
          "output_type": "display_data"
        }
      ],
      "source": [
        "# Generate confusion matrix\n",
        "cm = confusion_matrix(y_true, y_pred)\n",
        "\n",
        "# Optional: [TP, FN], [FP, TN] format\n",
        "# If you want to follow your previous manual format:\n",
        "conf_matrix = np.array([[cm[1,1], cm[1,0]],\n",
        "                        [cm[0,1], cm[0,0]]])\n",
        "\n",
        "# Plot\n",
        "cm_labels = ['Positive', 'Negative']\n",
        "categories = ['Positive', 'Negative']\n",
        "\n",
        "plt.figure(figsize=(6, 3))\n",
        "sns.heatmap(conf_matrix, annot=True, fmt='d', cmap='Blues',\n",
        "            xticklabels=cm_labels, yticklabels=categories)\n",
        "\n",
        "plt.title('Confusion Matrix')\n",
        "plt.xlabel('Predicted Labels')\n",
        "plt.ylabel('True Labels')\n",
        "plt.tight_layout()\n",
        "plt.show()"
      ]
    },
    {
      "cell_type": "markdown",
      "metadata": {},
      "source": [
        "### Model Evaluation - Sex model (best)"
      ]
    },
    {
      "cell_type": "markdown",
      "metadata": {},
      "source": [
        "Model performance"
      ]
    },
    {
      "cell_type": "code",
      "execution_count": 24,
      "metadata": {},
      "outputs": [
        {
          "name": "stdout",
          "output_type": "stream",
          "text": [
            "F1 score: 0.5685\n",
            "Precision: 0.4912\n",
            "Recall: 0.6747\n",
            "Accuracy: 0.6502\n"
          ]
        }
      ],
      "source": [
        "# Use predicted labels from model\n",
        "#y_true = y_val_sex.numpy() if hasattr(y_val_sex, 'numpy') else y_val_sex\n",
        "y_true = y_true_sex\n",
        "y_pred_probs = y_pred_probs_sex\n",
        "y_pred = (y_pred_probs > best_threshold_sex).astype(int)\n",
        "\n",
        "# Metrics\n",
        "f1 = f1_score(y_true, y_pred)\n",
        "precision = precision_score(y_true, y_pred)\n",
        "recall = recall_score(y_true, y_pred)\n",
        "accuracy = accuracy_score(y_true, y_pred)\n",
        "\n",
        "# Output\n",
        "print(\"F1 score:\", round(f1, 4))\n",
        "print(\"Precision:\", round(precision, 4))\n",
        "print(\"Recall:\", round(recall, 4))\n",
        "print(\"Accuracy:\", round(accuracy, 4))"
      ]
    },
    {
      "cell_type": "markdown",
      "metadata": {},
      "source": [
        "Confusion matrix"
      ]
    },
    {
      "cell_type": "code",
      "execution_count": 25,
      "metadata": {
        "colab": {
          "base_uri": "https://localhost:8080/",
          "height": 325
        },
        "id": "e0VMie362sdy",
        "outputId": "7829402d-9a7e-4d71-a63c-ec2ea9d83cc0"
      },
      "outputs": [
        {
          "data": {
            "image/png": "[encoded data removed]",
            "text/plain": [
              "<Figure size 600x300 with 2 Axes>"
            ]
          },
          "metadata": {},
          "output_type": "display_data"
        }
      ],
      "source": [
        "# Generate confusion matrix\n",
        "cm = confusion_matrix(y_true, y_pred)\n",
        "\n",
        "# Optional: [TP, FN], [FP, TN] format\n",
        "# If you want to follow your previous manual format:\n",
        "conf_matrix = np.array([[cm[1,1], cm[1,0]],\n",
        "                        [cm[0,1], cm[0,0]]])\n",
        "\n",
        "# Plot\n",
        "cm_labels = ['Positive', 'Negative']\n",
        "categories = ['Positive', 'Negative']\n",
        "\n",
        "plt.figure(figsize=(6, 3))\n",
        "sns.heatmap(conf_matrix, annot=True, fmt='d', cmap='Blues',\n",
        "            xticklabels=cm_labels, yticklabels=categories)\n",
        "\n",
        "plt.title('Confusion Matrix')\n",
        "plt.xlabel('Predicted Labels')\n",
        "plt.ylabel('True Labels')\n",
        "plt.tight_layout()\n",
        "plt.show()\n"
      ]
    },
    {
      "cell_type": "markdown",
      "metadata": {
        "id": "4QkKg8WZyf-C"
      },
      "source": [
        "## Prediction on the training set (for meta classification)"
      ]
    },
    {
      "cell_type": "code",
      "execution_count": 26,
      "metadata": {},
      "outputs": [],
      "source": [
        "# Calculate probabilities of belonging to a certain class on the training data\n",
        "y_probs_train_sex = sex_model.predict_proba(X_preprocessed_train)[:, 1]\n",
        "y_probs_train_adhd = adhd_model.predict_proba(X_preprocessed_train)[:, 1]\n",
        "\n",
        "# Use probabilities to perform model prediction on the training data\n",
        "y_pred_train_sex = (y_probs_train_sex > best_threshold_sex).astype(int)\n",
        "y_pred_train_adhd = (y_probs_train_adhd> best_threshold_adhd).astype(int)\n",
        "\n",
        "# Retrieve participant id from the training data\n",
        "train_cat            = train['cat']\n",
        "participant_id_train = train_cat['participant_id']"
      ]
    },
    {
      "cell_type": "markdown",
      "metadata": {
        "id": "G8i_QVmQ2sdy"
      },
      "source": [
        "Include ADHD predictins and probabilities on the trainig dataset in a pandas dataframe and save to a csv file."
      ]
    },
    {
      "cell_type": "code",
      "execution_count": 27,
      "metadata": {
        "id": "OvN8tqZB2sdy"
      },
      "outputs": [],
      "source": [
        "train_pred_prob_df = pd.DataFrame({\n",
        "    'participant_id': participant_id_train,  # This should be your patient_id array\n",
        "    'pred_sex': y_pred_train_sex,  # Flatten the predictions (if needed)\n",
        "    'prob_sex': y_probs_train_sex,  # Flatten the probabilities (if needed)\n",
        "    'pred_adhd': y_pred_train_adhd,  # Flatten the predictions (if needed)\n",
        "    'prob_adhd': y_probs_train_adhd  # Flatten the probabilities (if needed)\n",
        "})\n",
        "\n",
        "# Save to CSV\n",
        "train_pred_prob_df.to_csv(f\"{output_folder}/{model_family}_train_pred_prob.csv\", index=False)"
      ]
    },
    {
      "cell_type": "markdown",
      "metadata": {
        "id": "64YTgcOoy3lA"
      },
      "source": [
        "## Prediction on the test set"
      ]
    },
    {
      "cell_type": "markdown",
      "metadata": {},
      "source": [
        "Evaluate model on the test data"
      ]
    },
    {
      "cell_type": "code",
      "execution_count": 28,
      "metadata": {},
      "outputs": [],
      "source": [
        "# Calculate probabilities of belonging to a certain class on the training data\n",
        "y_probs_test_sex = sex_model.predict_proba(X_preprocessed_test)[:, 1]\n",
        "y_probs_test_adhd = adhd_model.predict_proba(X_preprocessed_test)[:, 1]\n",
        "\n",
        "# Use probabilities to perform model prediction on the training data\n",
        "y_pred_test_sex = (y_probs_test_sex > best_threshold_sex).astype(int)\n",
        "y_pred_test_adhd = (y_probs_test_adhd> best_threshold_adhd).astype(int)\n",
        "\n",
        "# Retrieve participant id from the training data\n",
        "test_cat            = test['cat']\n",
        "participant_id_test = test_cat['participant_id']"
      ]
    },
    {
      "cell_type": "code",
      "execution_count": 29,
      "metadata": {},
      "outputs": [],
      "source": [
        "test_pred_prob_df = pd.DataFrame({\n",
        "    'participant_id': participant_id_test,  # This should be your patient_id array\n",
        "    'pred_sex': y_pred_test_sex,  # Flatten the predictions (if needed)\n",
        "    'prob_sex': y_probs_test_sex,  # Flatten the probabilities (if needed)\n",
        "    'pred_adhd': y_pred_test_adhd,  # Flatten the predictions (if needed)\n",
        "    'prob_adhd': y_probs_test_adhd  # Flatten the probabilities (if needed)\n",
        "})\n",
        "\n",
        "# Save to CSV\n",
        "test_pred_prob_df.to_csv(f\"{output_folder}/{model_family}_test_pred_prob.csv\", index=False)"
      ]
    },
    {
      "cell_type": "markdown",
      "metadata": {
        "id": "A90c_nuK2sd3"
      },
      "source": [
        "Include preditions on the test dataset to a pandas dataframe and save to a submission csv file."
      ]
    },
    {
      "cell_type": "code",
      "execution_count": 30,
      "metadata": {
        "id": "Z2GzaQAey3lF"
      },
      "outputs": [],
      "source": [
        "submission_cnn_adhd = pd.DataFrame({\n",
        "    'participant_id': participant_id_test,  # Updated to correct test dataset patient IDs\n",
        "    'ADHD_Outcome': y_pred_test_adhd,\n",
        "    'Sex_F': y_pred_test_sex\n",
        "})\n",
        "\n",
        "# Save to CSV\n",
        "submission_cnn_adhd.to_csv(f\"{output_folder}/submission_{model_family}.csv\", index=False)\n"
      ]
    },
    {
      "cell_type": "code",
      "execution_count": 31,
      "metadata": {
        "colab": {
          "base_uri": "https://localhost:8080/"
        },
        "id": "uYUEfTrn2sd3",
        "outputId": "2d8eb1bb-7869-4a78-852f-fc9c3d6b4f90"
      },
      "outputs": [
        {
          "name": "stdout",
          "output_type": "stream",
          "text": [
            "Total runtime  is  800.7 seconds\n"
          ]
        }
      ],
      "source": [
        "# Print runtime\n",
        "end_time = time.time()\n",
        "runtime = round(end_time - start_time, 1)\n",
        "print('Total runtime  is ', runtime, 'seconds')"
      ]
    }
  ],
  "metadata": {
    "colab": {
      "provenance": []
    },
    "kaggle": {
      "accelerator": "nvidiaTeslaT4",
      "dataSources": [
        {
          "databundleVersionId": 11498594,
          "sourceId": 90566,
          "sourceType": "competition"
        }
      ],
      "dockerImageVersionId": 30918,
      "isGpuEnabled": true,
      "isInternetEnabled": true,
      "language": "python",
      "sourceType": "notebook"
    },
    "kernelspec": {
      "display_name": "Python 3",
      "language": "python",
      "name": "python3"
    },
    "language_info": {
      "codemirror_mode": {
        "name": "ipython",
        "version": 3
      },
      "file_extension": ".py",
      "mimetype": "text/x-python",
      "name": "python",
      "nbconvert_exporter": "python",
      "pygments_lexer": "ipython3",
      "version": "3.12.0"
    }
  },
  "nbformat": 4,
  "nbformat_minor": 0
}
