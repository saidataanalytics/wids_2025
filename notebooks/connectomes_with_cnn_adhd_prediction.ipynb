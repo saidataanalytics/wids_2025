{
  "cells": [
    {
      "cell_type": "markdown",
      "metadata": {
        "id": "MLXNVhxsy3k5"
      },
      "source": [
        "# Connectomes Data and Modeling Techniques\n",
        "\n",
        "### Techniques covered in this Notebook\n",
        "- Preprocessing the functional connectome data\n",
        "- Convolutional neural networks\n",
        "\n",
        "V2\n",
        "- Higher weight for females in loss function\n",
        "- Added F1 score to metrics\n",
        "- Optimised threshold"
      ]
    },
    {
      "cell_type": "markdown",
      "metadata": {
        "id": "RN_PEO_oy3k7"
      },
      "source": [
        "## Functional Connectomes\n",
        "\n",
        "A **functional connectome** refers to the theoretical concept of the brain's functional connections, which describes how different brain regions interact and communicate with each other.\n",
        "\n",
        "**Functional connectome data**, on the other hand, is the actual data that represents these connections, typically obtained through neuroimaging techniques such as functional MRI. This data provides a quantitative measure of the synchronized activity between brain regions, allowing researchers to study and analyze the functional connectome.\n",
        "\n",
        "This data is crucial in ADHD research, as it can help us understand how brain connectivity patterns differ between individuals with ADHD and those without. By analyzing these patterns, we can identify potential biomarkers for ADHD and develop more accurate diagnostic tools.\n"
      ]
    },
    {
      "cell_type": "markdown",
      "metadata": {
        "id": "Ys8kgcdFy3k8"
      },
      "source": [
        "## The 2025 Datathon Functional Connectome Data\n",
        "\n",
        "The dataset correponds to the Functional Connectivity Networks (FCN) extracted from resting-state fMRIs of **1213 patients at 200 Regions Of Interest (ROIs)**. Patients are separated in two classes: ADHD and control. The goal will be to classify them. (You can also use these techniques to classify the sex of the patients.)\n",
        "\n",
        "\n",
        "\n",
        "\n",
        "\n"
      ]
    },
    {
      "cell_type": "markdown",
      "metadata": {
        "id": "JEIDqHNay3k8"
      },
      "source": [
        "## Geodesic vs Euclidean Distances\n",
        "\n",
        "We compare brain connectomes using Symmetric Positive Definite (SPD) matrices, which live on a curved surface (a manifold). To calculate distances between them, we use geodesic distance (shortest path on the curve, shown in black) instead of Euclidean distance (straight-line distance, shown in red)."
      ]
    },
    {
      "cell_type": "markdown",
      "metadata": {
        "id": "KETmRoeTy3k9"
      },
      "source": [
        "## Functional Connectome Data and SPD Matrices\n",
        "\n",
        "Functional connectome data is often approximated as a Symmetric Positive Definite (SPD) matrix. However, in reality, functional connectome data may not always be perfectly SPD."
      ]
    },
    {
      "cell_type": "markdown",
      "metadata": {
        "id": "MoObavSgy3k9"
      },
      "source": [
        "# Load the data"
      ]
    },
    {
      "cell_type": "code",
      "execution_count": 1,
      "metadata": {
        "colab": {
          "base_uri": "https://localhost:8080/"
        },
        "id": "eIPUb3SMz6Er",
        "outputId": "aaeb57fe-521d-4b3f-9d14-fff3dfd98625"
      },
      "outputs": [
        {
          "name": "stdout",
          "output_type": "stream",
          "text": [
            "Requirement already satisfied: geomstats in /usr/local/lib/python3.11/dist-packages (2.8.0)\n",
            "Requirement already satisfied: joblib>=0.17.0 in /usr/local/lib/python3.11/dist-packages (from geomstats) (1.4.2)\n",
            "Requirement already satisfied: matplotlib>=3.3.4 in /usr/local/lib/python3.11/dist-packages (from geomstats) (3.10.0)\n",
            "Requirement already satisfied: numpy>=1.18.1 in /usr/local/lib/python3.11/dist-packages (from geomstats) (1.26.4)\n",
            "Requirement already satisfied: pandas>=1.1.5 in /usr/local/lib/python3.11/dist-packages (from geomstats) (2.2.2)\n",
            "Requirement already satisfied: scikit-learn>=0.22.1 in /usr/local/lib/python3.11/dist-packages (from geomstats) (1.6.1)\n",
            "Requirement already satisfied: scipy>=1.9 in /usr/local/lib/python3.11/dist-packages (from geomstats) (1.14.1)\n",
            "Requirement already satisfied: contourpy>=1.0.1 in /usr/local/lib/python3.11/dist-packages (from matplotlib>=3.3.4->geomstats) (1.3.2)\n",
            "Requirement already satisfied: cycler>=0.10 in /usr/local/lib/python3.11/dist-packages (from matplotlib>=3.3.4->geomstats) (0.12.1)\n",
            "Requirement already satisfied: fonttools>=4.22.0 in /usr/local/lib/python3.11/dist-packages (from matplotlib>=3.3.4->geomstats) (4.57.0)\n",
            "Requirement already satisfied: kiwisolver>=1.3.1 in /usr/local/lib/python3.11/dist-packages (from matplotlib>=3.3.4->geomstats) (1.4.8)\n",
            "Requirement already satisfied: packaging>=20.0 in /usr/local/lib/python3.11/dist-packages (from matplotlib>=3.3.4->geomstats) (24.2)\n",
            "Requirement already satisfied: pillow>=8 in /usr/local/lib/python3.11/dist-packages (from matplotlib>=3.3.4->geomstats) (11.1.0)\n",
            "Requirement already satisfied: pyparsing>=2.3.1 in /usr/local/lib/python3.11/dist-packages (from matplotlib>=3.3.4->geomstats) (3.2.3)\n",
            "Requirement already satisfied: python-dateutil>=2.7 in /usr/local/lib/python3.11/dist-packages (from matplotlib>=3.3.4->geomstats) (2.8.2)\n",
            "Requirement already satisfied: pytz>=2020.1 in /usr/local/lib/python3.11/dist-packages (from pandas>=1.1.5->geomstats) (2025.2)\n",
            "Requirement already satisfied: tzdata>=2022.7 in /usr/local/lib/python3.11/dist-packages (from pandas>=1.1.5->geomstats) (2025.2)\n",
            "Requirement already satisfied: threadpoolctl>=3.1.0 in /usr/local/lib/python3.11/dist-packages (from scikit-learn>=0.22.1->geomstats) (3.6.0)\n",
            "Requirement already satisfied: six>=1.5 in /usr/local/lib/python3.11/dist-packages (from python-dateutil>=2.7->matplotlib>=3.3.4->geomstats) (1.17.0)\n",
            "Requirement already satisfied: tensorflow==2.15.0 in /usr/local/lib/python3.11/dist-packages (2.15.0)\n",
            "Requirement already satisfied: absl-py>=1.0.0 in /usr/local/lib/python3.11/dist-packages (from tensorflow==2.15.0) (1.4.0)\n",
            "Requirement already satisfied: astunparse>=1.6.0 in /usr/local/lib/python3.11/dist-packages (from tensorflow==2.15.0) (1.6.3)\n",
            "Requirement already satisfied: flatbuffers>=23.5.26 in /usr/local/lib/python3.11/dist-packages (from tensorflow==2.15.0) (25.2.10)\n",
            "Requirement already satisfied: gast!=0.5.0,!=0.5.1,!=0.5.2,>=0.2.1 in /usr/local/lib/python3.11/dist-packages (from tensorflow==2.15.0) (0.6.0)\n",
            "Requirement already satisfied: google-pasta>=0.1.1 in /usr/local/lib/python3.11/dist-packages (from tensorflow==2.15.0) (0.2.0)\n",
            "Requirement already satisfied: h5py>=2.9.0 in /usr/local/lib/python3.11/dist-packages (from tensorflow==2.15.0) (3.13.0)\n",
            "Requirement already satisfied: libclang>=13.0.0 in /usr/local/lib/python3.11/dist-packages (from tensorflow==2.15.0) (18.1.1)\n",
            "Requirement already satisfied: ml-dtypes~=0.2.0 in /usr/local/lib/python3.11/dist-packages (from tensorflow==2.15.0) (0.2.0)\n",
            "Requirement already satisfied: numpy<2.0.0,>=1.23.5 in /usr/local/lib/python3.11/dist-packages (from tensorflow==2.15.0) (1.26.4)\n",
            "Requirement already satisfied: opt-einsum>=2.3.2 in /usr/local/lib/python3.11/dist-packages (from tensorflow==2.15.0) (3.4.0)\n",
            "Requirement already satisfied: packaging in /usr/local/lib/python3.11/dist-packages (from tensorflow==2.15.0) (24.2)\n",
            "Requirement already satisfied: protobuf!=4.21.0,!=4.21.1,!=4.21.2,!=4.21.3,!=4.21.4,!=4.21.5,<5.0.0dev,>=3.20.3 in /usr/local/lib/python3.11/dist-packages (from tensorflow==2.15.0) (4.25.6)\n",
            "Requirement already satisfied: setuptools in /usr/local/lib/python3.11/dist-packages (from tensorflow==2.15.0) (75.2.0)\n",
            "Requirement already satisfied: six>=1.12.0 in /usr/local/lib/python3.11/dist-packages (from tensorflow==2.15.0) (1.17.0)\n",
            "Requirement already satisfied: termcolor>=1.1.0 in /usr/local/lib/python3.11/dist-packages (from tensorflow==2.15.0) (3.0.1)\n",
            "Requirement already satisfied: typing-extensions>=3.6.6 in /usr/local/lib/python3.11/dist-packages (from tensorflow==2.15.0) (4.13.2)\n",
            "Requirement already satisfied: wrapt<1.15,>=1.11.0 in /usr/local/lib/python3.11/dist-packages (from tensorflow==2.15.0) (1.14.1)\n",
            "Requirement already satisfied: tensorflow-io-gcs-filesystem>=0.23.1 in /usr/local/lib/python3.11/dist-packages (from tensorflow==2.15.0) (0.37.1)\n",
            "Requirement already satisfied: grpcio<2.0,>=1.24.3 in /usr/local/lib/python3.11/dist-packages (from tensorflow==2.15.0) (1.71.0)\n",
            "Requirement already satisfied: tensorboard<2.16,>=2.15 in /usr/local/lib/python3.11/dist-packages (from tensorflow==2.15.0) (2.15.2)\n",
            "Requirement already satisfied: tensorflow-estimator<2.16,>=2.15.0 in /usr/local/lib/python3.11/dist-packages (from tensorflow==2.15.0) (2.15.0)\n",
            "Requirement already satisfied: keras<2.16,>=2.15.0 in /usr/local/lib/python3.11/dist-packages (from tensorflow==2.15.0) (2.15.0)\n",
            "Requirement already satisfied: wheel<1.0,>=0.23.0 in /usr/local/lib/python3.11/dist-packages (from astunparse>=1.6.0->tensorflow==2.15.0) (0.45.1)\n",
            "Requirement already satisfied: google-auth<3,>=1.6.3 in /usr/local/lib/python3.11/dist-packages (from tensorboard<2.16,>=2.15->tensorflow==2.15.0) (2.38.0)\n",
            "Requirement already satisfied: google-auth-oauthlib<2,>=0.5 in /usr/local/lib/python3.11/dist-packages (from tensorboard<2.16,>=2.15->tensorflow==2.15.0) (1.2.1)\n",
            "Requirement already satisfied: markdown>=2.6.8 in /usr/local/lib/python3.11/dist-packages (from tensorboard<2.16,>=2.15->tensorflow==2.15.0) (3.8)\n",
            "Requirement already satisfied: requests<3,>=2.21.0 in /usr/local/lib/python3.11/dist-packages (from tensorboard<2.16,>=2.15->tensorflow==2.15.0) (2.32.3)\n",
            "Requirement already satisfied: tensorboard-data-server<0.8.0,>=0.7.0 in /usr/local/lib/python3.11/dist-packages (from tensorboard<2.16,>=2.15->tensorflow==2.15.0) (0.7.2)\n",
            "Requirement already satisfied: werkzeug>=1.0.1 in /usr/local/lib/python3.11/dist-packages (from tensorboard<2.16,>=2.15->tensorflow==2.15.0) (3.1.3)\n",
            "Requirement already satisfied: cachetools<6.0,>=2.0.0 in /usr/local/lib/python3.11/dist-packages (from google-auth<3,>=1.6.3->tensorboard<2.16,>=2.15->tensorflow==2.15.0) (5.5.2)\n",
            "Requirement already satisfied: pyasn1-modules>=0.2.1 in /usr/local/lib/python3.11/dist-packages (from google-auth<3,>=1.6.3->tensorboard<2.16,>=2.15->tensorflow==2.15.0) (0.4.2)\n",
            "Requirement already satisfied: rsa<5,>=3.1.4 in /usr/local/lib/python3.11/dist-packages (from google-auth<3,>=1.6.3->tensorboard<2.16,>=2.15->tensorflow==2.15.0) (4.9.1)\n",
            "Requirement already satisfied: requests-oauthlib>=0.7.0 in /usr/local/lib/python3.11/dist-packages (from google-auth-oauthlib<2,>=0.5->tensorboard<2.16,>=2.15->tensorflow==2.15.0) (2.0.0)\n",
            "Requirement already satisfied: charset-normalizer<4,>=2 in /usr/local/lib/python3.11/dist-packages (from requests<3,>=2.21.0->tensorboard<2.16,>=2.15->tensorflow==2.15.0) (3.4.1)\n",
            "Requirement already satisfied: idna<4,>=2.5 in /usr/local/lib/python3.11/dist-packages (from requests<3,>=2.21.0->tensorboard<2.16,>=2.15->tensorflow==2.15.0) (3.10)\n",
            "Requirement already satisfied: urllib3<3,>=1.21.1 in /usr/local/lib/python3.11/dist-packages (from requests<3,>=2.21.0->tensorboard<2.16,>=2.15->tensorflow==2.15.0) (2.3.0)\n",
            "Requirement already satisfied: certifi>=2017.4.17 in /usr/local/lib/python3.11/dist-packages (from requests<3,>=2.21.0->tensorboard<2.16,>=2.15->tensorflow==2.15.0) (2025.1.31)\n",
            "Requirement already satisfied: MarkupSafe>=2.1.1 in /usr/local/lib/python3.11/dist-packages (from werkzeug>=1.0.1->tensorboard<2.16,>=2.15->tensorflow==2.15.0) (3.0.2)\n",
            "Requirement already satisfied: pyasn1<0.7.0,>=0.6.1 in /usr/local/lib/python3.11/dist-packages (from pyasn1-modules>=0.2.1->google-auth<3,>=1.6.3->tensorboard<2.16,>=2.15->tensorflow==2.15.0) (0.6.1)\n",
            "Requirement already satisfied: oauthlib>=3.0.0 in /usr/local/lib/python3.11/dist-packages (from requests-oauthlib>=0.7.0->google-auth-oauthlib<2,>=0.5->tensorboard<2.16,>=2.15->tensorflow==2.15.0) (3.2.2)\n",
            "Requirement already satisfied: tensorflow-addons==0.23.0 in /usr/local/lib/python3.11/dist-packages (0.23.0)\n",
            "Requirement already satisfied: packaging in /usr/local/lib/python3.11/dist-packages (from tensorflow-addons==0.23.0) (24.2)\n",
            "Requirement already satisfied: typeguard<3.0.0,>=2.7 in /usr/local/lib/python3.11/dist-packages (from tensorflow-addons==0.23.0) (2.13.3)\n"
          ]
        }
      ],
      "source": [
        "!pip install geomstats\n",
        "!pip install tensorflow==2.15.0\n",
        "!pip install tensorflow-addons==0.23.0"
      ]
    },
    {
      "cell_type": "code",
      "execution_count": null,
      "metadata": {
        "colab": {
          "base_uri": "https://localhost:8080/"
        },
        "id": "HDyCZMFwzCVq",
        "outputId": "30a0851d-4087-4de9-bd40-53de8032361e"
      },
      "outputs": [
        {
          "name": "stdout",
          "output_type": "stream",
          "text": [
            "Drive already mounted at /content/drive; to attempt to forcibly remount, call drive.mount(\"/content/drive\", force_remount=True).\n"
          ]
        }
      ],
      "source": [
        "# Mount Google Drive (if run on Colab)\n",
        "from google.colab import drive\n",
        "drive.mount('/content/drive')"
      ]
    },
    {
      "cell_type": "code",
      "execution_count": null,
      "metadata": {
        "execution": {
          "iopub.execute_input": "2025-03-08T13:10:07.19468Z",
          "iopub.status.busy": "2025-03-08T13:10:07.194397Z",
          "iopub.status.idle": "2025-03-08T13:10:24.977705Z",
          "shell.execute_reply": "2025-03-08T13:10:24.976595Z",
          "shell.execute_reply.started": "2025-03-08T13:10:07.194656Z"
        },
        "id": "k0jR9u8Ry3k9",
        "trusted": true
      },
      "outputs": [],
      "source": [
        "import numpy as np\n",
        "import pandas as pd\n",
        "import csv\n",
        "import openpyxl\n",
        "import matplotlib.pyplot as plt\n",
        "import time\n",
        "\n",
        "import geomstats.datasets.utils as data_utils\n",
        "import geomstats.backend as gs\n",
        "from geomstats.geometry.skew_symmetric_matrices import SkewSymmetricMatrices\n",
        "\n",
        "# Read in the data (update to your root folder)\n",
        "start_time = time.time()\n",
        "\n",
        "# Read in the data (update to your root folder)\n",
        "df_soln = pd.read_excel(\"/content/drive/MyDrive/WIDS_2025/TRAIN_NEW/TRAINING_SOLUTIONS.xlsx\")\n",
        "df_conn = pd.read_csv(\"/content/drive/MyDrive/WIDS_2025/TRAIN_NEW/TRAIN_FUNCTIONAL_CONNECTOME_MATRICES_new_36P_Pearson.csv\")\n",
        "df_conn_test = pd.read_csv(\"/content/drive/MyDrive/WIDS_2025/TEST/TEST_FUNCTIONAL_CONNECTOME_MATRICES.csv\")\n",
        "\n",
        "# Extract the ADHD solutions and sort the data by participant_id\n",
        "df_soln_adhd = df_soln[['participant_id', 'ADHD_Outcome']].sort_values('participant_id')\n",
        "df_conn = df_conn.sort_values('participant_id')"
      ]
    },
    {
      "cell_type": "markdown",
      "metadata": {
        "id": "Jm0-sF--y3k-"
      },
      "source": [
        "### Reshape the connectome data into symmetric matrices\n",
        "\n",
        "We are given the upper half of the connectome matrices as vectors, which represent the functional connections between different brain regions. However, to analyze and process this data using Riemannian geometry-based methods, we need to reshape it into symmetric matrices.\n",
        "\n",
        "By reshaping the upper half vectors into symmetric matrices, we can reconstruct the full matrix, which is a more natural representation of the brain's functional connectivity."
      ]
    },
    {
      "cell_type": "code",
      "execution_count": 4,
      "metadata": {
        "execution": {
          "iopub.execute_input": "2025-03-08T13:10:24.980014Z",
          "iopub.status.busy": "2025-03-08T13:10:24.979609Z",
          "iopub.status.idle": "2025-03-08T13:10:24.986477Z",
          "shell.execute_reply": "2025-03-08T13:10:24.985391Z",
          "shell.execute_reply.started": "2025-03-08T13:10:24.979973Z"
        },
        "id": "0ecCoKXuy3k-",
        "trusted": true
      },
      "outputs": [],
      "source": [
        "# Define the load_connectomes function\n",
        "def load_connectomes(df_conn, df_soln_adhd, as_vectors=False):\n",
        "    \"\"\"\n",
        "    Load brain connectome data and ADHD labels, returning symmetric matrices with ones on the diagonal.\n",
        "    \"\"\"\n",
        "\n",
        "    patient_id = gs.array(df_conn['participant_id'])\n",
        "    data = gs.array(df_conn.drop('participant_id', axis=1))\n",
        "    target = gs.array(df_soln_adhd['ADHD_Outcome'])\n",
        "\n",
        "    if as_vectors:\n",
        "        return data, patient_id, target\n",
        "    mat = SkewSymmetricMatrices(200).matrix_representation(data)\n",
        "    mat = gs.eye(200) - gs.transpose(gs.tril(mat), (0, 2, 1))\n",
        "    mat = 1.0 / 2.0 * (mat + gs.transpose(mat, (0, 2, 1)))\n",
        "\n",
        "    return mat, patient_id, target"
      ]
    },
    {
      "cell_type": "code",
      "execution_count": 5,
      "metadata": {
        "colab": {
          "base_uri": "https://localhost:8080/"
        },
        "execution": {
          "iopub.execute_input": "2025-03-08T13:10:24.987809Z",
          "iopub.status.busy": "2025-03-08T13:10:24.987449Z",
          "iopub.status.idle": "2025-03-08T13:23:10.265817Z",
          "shell.execute_reply": "2025-03-08T13:23:10.264773Z",
          "shell.execute_reply.started": "2025-03-08T13:10:24.987778Z"
        },
        "id": "hkhezbuyy3k-",
        "outputId": "29ef46af-189a-4af4-a5ef-1e544e688eab",
        "trusted": true
      },
      "outputs": [
        {
          "name": "stdout",
          "output_type": "stream",
          "text": [
            "There are 1213 connectomes: 382 non-ADHD and 831 ADHD patients.\n"
          ]
        }
      ],
      "source": [
        "# Call the load_connectomes function\n",
        "data, patient_id, labels = load_connectomes(df_conn, df_soln_adhd)\n",
        "\n",
        "# Print the results\n",
        "print(f\"There are {len(data)} connectomes: {sum(labels==0)} non-ADHD and {sum(labels==1)} ADHD patients.\")"
      ]
    },
    {
      "cell_type": "code",
      "execution_count": 6,
      "metadata": {
        "colab": {
          "base_uri": "https://localhost:8080/"
        },
        "execution": {
          "iopub.execute_input": "2025-03-08T13:23:10.268782Z",
          "iopub.status.busy": "2025-03-08T13:23:10.26833Z",
          "iopub.status.idle": "2025-03-08T13:23:10.276249Z",
          "shell.execute_reply": "2025-03-08T13:23:10.275359Z",
          "shell.execute_reply.started": "2025-03-08T13:23:10.268748Z"
        },
        "id": "ptEHKC1Fy3k-",
        "outputId": "8008e2cb-ee97-4603-9a53-917033b66ee9",
        "trusted": true
      },
      "outputs": [
        {
          "data": {
            "text/plain": [
              "(1213, 200, 200)"
            ]
          },
          "execution_count": 6,
          "metadata": {},
          "output_type": "execute_result"
        }
      ],
      "source": [
        "data.shape"
      ]
    },
    {
      "cell_type": "markdown",
      "metadata": {
        "id": "iy4b3Fkoy3k-"
      },
      "source": [
        "We now have 200 x 200 matrices for each of the 1213 patients"
      ]
    },
    {
      "cell_type": "markdown",
      "metadata": {
        "id": "jfIzvt1y2sdx"
      },
      "source": [
        "# Convolutional Neural Networks"
      ]
    },
    {
      "cell_type": "code",
      "execution_count": 7,
      "metadata": {
        "id": "07hBeAnY2sdx"
      },
      "outputs": [],
      "source": [
        "import tensorflow as tf\n",
        "from tensorflow.keras import layers, models\n",
        "from sklearn.model_selection import train_test_split"
      ]
    },
    {
      "cell_type": "markdown",
      "metadata": {
        "id": "aZYU1p6a2sdx"
      },
      "source": [
        "### Data Preparation\n",
        "\n",
        "We need to convert our data into a format that can be used by the CNN. This involves creating graph data objects for each connectivity matrix."
      ]
    },
    {
      "cell_type": "code",
      "execution_count": 8,
      "metadata": {
        "id": "ELYSCVpn2sdx"
      },
      "outputs": [],
      "source": [
        "# Convert the data to a NumPy array first, and add a new axis for CNN input\n",
        "data = np.array(data)  # Ensure it's a NumPy array\n",
        "data = data[..., np.newaxis]  # Add the channel dimension (e.g., shape: [1213, 200, 200, 1])\n",
        "\n",
        "# Keep target labels as a NumPy array\n",
        "target = np.array(labels, dtype=np.float32) # Changed to keep target as NumPy array"
      ]
    },
    {
      "cell_type": "code",
      "execution_count": 9,
      "metadata": {
        "id": "svZsE6cP2sdx"
      },
      "outputs": [],
      "source": [
        "### Splitting Data into Training and Testing Sets"
      ]
    },
    {
      "cell_type": "code",
      "execution_count": 10,
      "metadata": {
        "id": "EcBtnALu2sdx"
      },
      "outputs": [],
      "source": [
        "# Train-test split\n",
        "X_train, X_val, y_train, y_val = train_test_split(data, target, test_size=0.2, random_state=42)"
      ]
    },
    {
      "cell_type": "markdown",
      "metadata": {
        "id": "aL-xWGjs2sdx"
      },
      "source": [
        "### Defining the CNN\n",
        "\n",
        "- 1 Conv2D Layer\n",
        "- BatchNorm + ReLU\n",
        "- Flatten\n",
        "- Dense → BatchNorm → ReLU → Dropout (50%) (repeated 3 times)"
      ]
    },
    {
      "cell_type": "code",
      "execution_count": 11,
      "metadata": {
        "id": "p2c326912sdx"
      },
      "outputs": [],
      "source": [
        "# CNN Model\n",
        "model = models.Sequential([\n",
        "    layers.Conv2D(32, (3, 3), padding='same', input_shape=(200, 200, 1)),\n",
        "    layers.BatchNormalization(),\n",
        "    layers.ReLU(),\n",
        "\n",
        "    layers.Flatten(),\n",
        "\n",
        "    layers.Dense(256),\n",
        "    layers.BatchNormalization(),\n",
        "    layers.ReLU(),\n",
        "    layers.Dropout(0.5),\n",
        "\n",
        "    layers.Dense(128),\n",
        "    layers.BatchNormalization(),\n",
        "    layers.ReLU(),\n",
        "    layers.Dropout(0.5),\n",
        "\n",
        "    layers.Dense(64),\n",
        "    layers.BatchNormalization(),\n",
        "    layers.ReLU(),\n",
        "    layers.Dropout(0.5),\n",
        "\n",
        "    layers.Dense(1, activation='sigmoid')  # Binary classification\n",
        "])"
      ]
    },
    {
      "cell_type": "markdown",
      "metadata": {
        "id": "ZSmMKdZg2sdx"
      },
      "source": [
        "Compile model"
      ]
    },
    {
      "cell_type": "code",
      "execution_count": 12,
      "metadata": {
        "colab": {
          "base_uri": "https://localhost:8080/"
        },
        "id": "mRaAwuvN2sdx",
        "outputId": "84fd4790-65c5-4c11-87ec-650086e2a401"
      },
      "outputs": [
        {
          "name": "stderr",
          "output_type": "stream",
          "text": [
            "/usr/local/lib/python3.11/dist-packages/tensorflow_addons/utils/tfa_eol_msg.py:23: UserWarning: \n",
            "\n",
            "TensorFlow Addons (TFA) has ended development and introduction of new features.\n",
            "TFA has entered a minimal maintenance and release mode until a planned end of life in May 2024.\n",
            "Please modify downstream libraries to take dependencies from other repositories in our TensorFlow community (e.g. Keras, Keras-CV, and Keras-NLP). \n",
            "\n",
            "For more information see: https://github.com/tensorflow/addons/issues/2807 \n",
            "\n",
            "  warnings.warn(\n"
          ]
        }
      ],
      "source": [
        "import tensorflow_addons as tfa\n",
        "\n",
        "model.compile(optimizer='adam',\n",
        "              loss='binary_crossentropy',\n",
        "              metrics=['accuracy',\n",
        "              tfa.metrics.F1Score(num_classes=1, average='macro', threshold=0.5),\n",
        "              tf.keras.metrics.Precision(),\n",
        "              tf.keras.metrics.Recall()]\n",
        "              )"
      ]
    },
    {
      "cell_type": "markdown",
      "metadata": {
        "id": "_jWY9QwZ2sdy"
      },
      "source": [
        "### Train the model\n",
        "\n",
        "Train the model using a simple training loop."
      ]
    },
    {
      "cell_type": "code",
      "execution_count": 13,
      "metadata": {
        "id": "xZdQSrSj1xrz"
      },
      "outputs": [],
      "source": [
        "class_weight = {\n",
        "    0: 1.0,  # males\n",
        "    1: 2.0   # females\n",
        "}"
      ]
    },
    {
      "cell_type": "code",
      "execution_count": 14,
      "metadata": {
        "colab": {
          "base_uri": "https://localhost:8080/"
        },
        "id": "IZgVlrnG2sdy",
        "outputId": "b739f379-02dc-4860-b2a7-a52ca0aa7586"
      },
      "outputs": [
        {
          "name": "stdout",
          "output_type": "stream",
          "text": [
            "Epoch 1/30\n",
            "31/31 [==============================] - 239s 7s/step - loss: 1.4795 - accuracy: 0.5165 - f1_score: 0.6108 - precision: 0.6904 - recall: 0.5476 - val_loss: 0.6535 - val_accuracy: 0.6543 - val_f1_score: 0.7910 - val_precision: 0.6543 - val_recall: 1.0000\n",
            "Epoch 2/30\n",
            "31/31 [==============================] - 220s 7s/step - loss: 0.9959 - accuracy: 0.6443 - f1_score: 0.7572 - precision: 0.7183 - recall: 0.8006 - val_loss: 0.6441 - val_accuracy: 0.6543 - val_f1_score: 0.7910 - val_precision: 0.6543 - val_recall: 1.0000\n",
            "Epoch 3/30\n",
            "31/31 [==============================] - 226s 7s/step - loss: 1.0184 - accuracy: 0.6474 - f1_score: 0.7738 - precision: 0.6964 - recall: 0.8705 - val_loss: 0.6434 - val_accuracy: 0.6543 - val_f1_score: 0.7910 - val_precision: 0.6543 - val_recall: 1.0000\n",
            "Epoch 4/30\n",
            "31/31 [==============================] - 227s 7s/step - loss: 0.9117 - accuracy: 0.6773 - f1_score: 0.7977 - precision: 0.7051 - recall: 0.9182 - val_loss: 0.6430 - val_accuracy: 0.6543 - val_f1_score: 0.7910 - val_precision: 0.6543 - val_recall: 1.0000\n",
            "Epoch 5/30\n",
            "31/31 [==============================] - 228s 7s/step - loss: 0.8398 - accuracy: 0.6969 - f1_score: 0.8111 - precision: 0.7138 - recall: 0.9390 - val_loss: 0.6452 - val_accuracy: 0.6543 - val_f1_score: 0.7910 - val_precision: 0.6543 - val_recall: 1.0000\n",
            "Epoch 6/30\n",
            "31/31 [==============================] - 225s 7s/step - loss: 0.8220 - accuracy: 0.7000 - f1_score: 0.8124 - precision: 0.7167 - recall: 0.9375 - val_loss: 0.6591 - val_accuracy: 0.6543 - val_f1_score: 0.7910 - val_precision: 0.6543 - val_recall: 1.0000\n",
            "Epoch 7/30\n",
            "31/31 [==============================] - 226s 7s/step - loss: 0.7455 - accuracy: 0.7103 - f1_score: 0.8177 - precision: 0.7250 - recall: 0.9375 - val_loss: 0.6956 - val_accuracy: 0.4897 - val_f1_score: 0.5000 - val_precision: 0.6966 - val_recall: 0.3899\n",
            "Epoch 8/30\n",
            "31/31 [==============================] - 227s 7s/step - loss: 0.6548 - accuracy: 0.7577 - f1_score: 0.8459 - precision: 0.7562 - recall: 0.9598 - val_loss: 0.7987 - val_accuracy: 0.3457 - val_f1_score: 0.0000e+00 - val_precision: 0.0000e+00 - val_recall: 0.0000e+00\n",
            "Epoch 9/30\n",
            "31/31 [==============================] - 225s 7s/step - loss: 0.5407 - accuracy: 0.7969 - f1_score: 0.8675 - precision: 0.7914 - recall: 0.9598 - val_loss: 0.9171 - val_accuracy: 0.3457 - val_f1_score: 0.0000e+00 - val_precision: 0.0000e+00 - val_recall: 0.0000e+00\n",
            "Epoch 10/30\n",
            "31/31 [==============================] - 224s 7s/step - loss: 0.4306 - accuracy: 0.8464 - f1_score: 0.8972 - precision: 0.8366 - recall: 0.9673 - val_loss: 1.0035 - val_accuracy: 0.3457 - val_f1_score: 0.0000e+00 - val_precision: 0.0000e+00 - val_recall: 0.0000e+00\n",
            "Epoch 11/30\n",
            "31/31 [==============================] - 223s 7s/step - loss: 0.3684 - accuracy: 0.8825 - f1_score: 0.9196 - precision: 0.8740 - recall: 0.9702 - val_loss: 1.2254 - val_accuracy: 0.3457 - val_f1_score: 0.0000e+00 - val_precision: 0.0000e+00 - val_recall: 0.0000e+00\n",
            "Epoch 12/30\n",
            "31/31 [==============================] - 220s 7s/step - loss: 0.2850 - accuracy: 0.9072 - f1_score: 0.9356 - precision: 0.9008 - recall: 0.9732 - val_loss: 1.2803 - val_accuracy: 0.3457 - val_f1_score: 0.0000e+00 - val_precision: 0.0000e+00 - val_recall: 0.0000e+00\n",
            "Epoch 13/30\n",
            "31/31 [==============================] - 225s 7s/step - loss: 0.2219 - accuracy: 0.9423 - f1_score: 0.9594 - precision: 0.9350 - recall: 0.9851 - val_loss: 1.2661 - val_accuracy: 0.3457 - val_f1_score: 0.0000e+00 - val_precision: 0.0000e+00 - val_recall: 0.0000e+00\n",
            "Epoch 14/30\n",
            "31/31 [==============================] - 223s 7s/step - loss: 0.1804 - accuracy: 0.9526 - f1_score: 0.9665 - precision: 0.9459 - recall: 0.9881 - val_loss: 1.0871 - val_accuracy: 0.3580 - val_f1_score: 0.0488 - val_precision: 0.8000 - val_recall: 0.0252\n",
            "Epoch 15/30\n",
            "31/31 [==============================] - 226s 7s/step - loss: 0.1654 - accuracy: 0.9546 - f1_score: 0.9679 - precision: 0.9499 - recall: 0.9866 - val_loss: 1.1408 - val_accuracy: 0.3580 - val_f1_score: 0.1034 - val_precision: 0.6000 - val_recall: 0.0566\n",
            "Epoch 16/30\n",
            "31/31 [==============================] - 223s 7s/step - loss: 0.1323 - accuracy: 0.9660 - f1_score: 0.9759 - precision: 0.9584 - recall: 0.9940 - val_loss: 1.0823 - val_accuracy: 0.3992 - val_f1_score: 0.2700 - val_precision: 0.6585 - val_recall: 0.1698\n",
            "Epoch 17/30\n",
            "31/31 [==============================] - 222s 7s/step - loss: 0.1094 - accuracy: 0.9732 - f1_score: 0.9810 - precision: 0.9654 - recall: 0.9970 - val_loss: 1.1727 - val_accuracy: 0.3868 - val_f1_score: 0.3070 - val_precision: 0.5893 - val_recall: 0.2075\n",
            "Epoch 18/30\n",
            "31/31 [==============================] - 225s 7s/step - loss: 0.1022 - accuracy: 0.9804 - f1_score: 0.9860 - precision: 0.9753 - recall: 0.9970 - val_loss: 1.3074 - val_accuracy: 0.3868 - val_f1_score: 0.2660 - val_precision: 0.6136 - val_recall: 0.1698\n",
            "Epoch 19/30\n",
            "31/31 [==============================] - 225s 7s/step - loss: 0.0923 - accuracy: 0.9804 - f1_score: 0.9860 - precision: 0.9794 - recall: 0.9926 - val_loss: 1.0933 - val_accuracy: 0.4609 - val_f1_score: 0.4863 - val_precision: 0.6458 - val_recall: 0.3899\n",
            "Epoch 20/30\n",
            "31/31 [==============================] - 223s 7s/step - loss: 0.0793 - accuracy: 0.9866 - f1_score: 0.9904 - precision: 0.9838 - recall: 0.9970 - val_loss: 1.0663 - val_accuracy: 0.5103 - val_f1_score: 0.5854 - val_precision: 0.6562 - val_recall: 0.5283\n",
            "Epoch 21/30\n",
            "31/31 [==============================] - 222s 7s/step - loss: 0.0943 - accuracy: 0.9804 - f1_score: 0.9859 - precision: 0.9823 - recall: 0.9896 - val_loss: 1.2123 - val_accuracy: 0.5103 - val_f1_score: 0.5966 - val_precision: 0.6471 - val_recall: 0.5535\n",
            "Epoch 22/30\n",
            "31/31 [==============================] - 230s 7s/step - loss: 0.0867 - accuracy: 0.9763 - f1_score: 0.9831 - precision: 0.9710 - recall: 0.9955 - val_loss: 1.3050 - val_accuracy: 0.6049 - val_f1_score: 0.7241 - val_precision: 0.6667 - val_recall: 0.7925\n",
            "Epoch 23/30\n",
            "31/31 [==============================] - 222s 7s/step - loss: 0.0728 - accuracy: 0.9794 - f1_score: 0.9853 - precision: 0.9766 - recall: 0.9940 - val_loss: 1.3219 - val_accuracy: 0.5350 - val_f1_score: 0.6367 - val_precision: 0.6513 - val_recall: 0.6226\n",
            "Epoch 24/30\n",
            "31/31 [==============================] - 224s 7s/step - loss: 0.0606 - accuracy: 0.9866 - f1_score: 0.9904 - precision: 0.9853 - recall: 0.9955 - val_loss: 1.6309 - val_accuracy: 0.6173 - val_f1_score: 0.7559 - val_precision: 0.6486 - val_recall: 0.9057\n",
            "Epoch 25/30\n",
            "31/31 [==============================] - 227s 7s/step - loss: 0.0701 - accuracy: 0.9866 - f1_score: 0.9904 - precision: 0.9867 - recall: 0.9940 - val_loss: 1.8036 - val_accuracy: 0.6337 - val_f1_score: 0.7735 - val_precision: 0.6496 - val_recall: 0.9560\n",
            "Epoch 26/30\n",
            "31/31 [==============================] - 220s 7s/step - loss: 0.0583 - accuracy: 0.9876 - f1_score: 0.9911 - precision: 0.9867 - recall: 0.9955 - val_loss: 1.6067 - val_accuracy: 0.6255 - val_f1_score: 0.7599 - val_precision: 0.6545 - val_recall: 0.9057\n",
            "Epoch 27/30\n",
            "31/31 [==============================] - 229s 7s/step - loss: 0.0738 - accuracy: 0.9835 - f1_score: 0.9881 - precision: 0.9896 - recall: 0.9866 - val_loss: 1.3264 - val_accuracy: 0.5967 - val_f1_score: 0.7308 - val_precision: 0.6488 - val_recall: 0.8365\n",
            "Epoch 28/30\n",
            "31/31 [==============================] - 225s 7s/step - loss: 0.0412 - accuracy: 0.9918 - f1_score: 0.9941 - precision: 0.9911 - recall: 0.9970 - val_loss: 1.4804 - val_accuracy: 0.6008 - val_f1_score: 0.7385 - val_precision: 0.6462 - val_recall: 0.8616\n",
            "Epoch 29/30\n",
            "31/31 [==============================] - 226s 7s/step - loss: 0.0668 - accuracy: 0.9866 - f1_score: 0.9904 - precision: 0.9867 - recall: 0.9940 - val_loss: 2.0548 - val_accuracy: 0.6461 - val_f1_score: 0.7828 - val_precision: 0.6540 - val_recall: 0.9748\n",
            "Epoch 30/30\n",
            "31/31 [==============================] - 224s 7s/step - loss: 0.0591 - accuracy: 0.9876 - f1_score: 0.9911 - precision: 0.9867 - recall: 0.9955 - val_loss: 1.8600 - val_accuracy: 0.6337 - val_f1_score: 0.7700 - val_precision: 0.6535 - val_recall: 0.9371\n"
          ]
        }
      ],
      "source": [
        "history = model.fit(X_train, y_train, validation_data=(X_val, y_val),\n",
        "                    epochs=30, batch_size=32, class_weight=class_weight)"
      ]
    },
    {
      "cell_type": "markdown",
      "metadata": {
        "id": "dqzC5Tbr2sdy"
      },
      "source": [
        "### Evaluate the model\n",
        "\n",
        "Evaluate the model on the test set and calculate its accuracy."
      ]
    },
    {
      "cell_type": "code",
      "execution_count": 15,
      "metadata": {
        "colab": {
          "base_uri": "https://localhost:8080/"
        },
        "id": "1wPv-P_d2sdy",
        "outputId": "116986c8-e7ae-486a-e857-ab32642f6e1d"
      },
      "outputs": [
        {
          "name": "stdout",
          "output_type": "stream",
          "text": [
            "8/8 [==============================] - 8s 1s/step\n",
            "Best F1 = 0.7809 at threshold = 0.11\n",
            "Number of examples in test data: 243\n",
            "Accuracy: 0.6008\n",
            "ROC AUC: 0.5021\n"
          ]
        }
      ],
      "source": [
        "from sklearn.metrics import accuracy_score, roc_auc_score, f1_score\n",
        "\n",
        "# Get model predictions (returns probabilities)\n",
        "y_pred_probs = model.predict(X_val)\n",
        "best_f1, best_thresh = 0, 0.5\n",
        "\n",
        "for thresh in np.linspace(0.1, 0.9, 81):\n",
        "    y_pred = (y_pred_probs > thresh).astype(int)\n",
        "    f1 = f1_score(y_val, y_pred)\n",
        "    if f1 > best_f1:\n",
        "        best_f1 = f1\n",
        "        best_thresh = thresh\n",
        "\n",
        "print(f\"Best F1 = {best_f1:.4f} at threshold = {best_thresh:.2f}\")\n",
        "\n",
        "# Convert y_val to numpy (if it's still a Tensor)\n",
        "y_true = y_val.numpy() if hasattr(y_val, 'numpy') else y_val\n",
        "\n",
        "# Compute metrics\n",
        "accuracy = accuracy_score(y_true, y_pred)\n",
        "roc_auc = roc_auc_score(y_true, y_pred_probs)\n",
        "\n",
        "# Display results\n",
        "print(f\"Number of examples in test data: {len(y_true)}\")\n",
        "print(f\"Accuracy: {accuracy:.4f}\")\n",
        "print(f\"ROC AUC: {roc_auc:.4f}\")"
      ]
    },
    {
      "cell_type": "markdown",
      "metadata": {
        "id": "p4XkRQRk2sdy"
      },
      "source": [
        "### Training Loss Plot\n",
        "\n",
        "Visualize the training loss over epochs to see how the model converges."
      ]
    },
    {
      "cell_type": "code",
      "execution_count": 16,
      "metadata": {
        "colab": {
          "base_uri": "https://localhost:8080/",
          "height": 307
        },
        "id": "MqTeIF7U2sdy",
        "outputId": "89a1c289-2c42-46c2-ceaa-cb2368b647c5"
      },
      "outputs": [
        {
          "data": {
            "image/png": "[encoded data removed]",
            "text/plain": [
              "<Figure size 600x300 with 1 Axes>"
            ]
          },
          "metadata": {},
          "output_type": "display_data"
        }
      ],
      "source": [
        "import matplotlib.pyplot as plt\n",
        "\n",
        "# Access loss history\n",
        "losses = history.history['loss']\n",
        "val_losses = history.history['val_loss']\n",
        "epochs = list(range(1, len(losses) + 1))\n",
        "\n",
        "# Plot the losses\n",
        "plt.figure(figsize=(6, 3))\n",
        "plt.plot(epochs, losses, marker='o', linestyle='-', label='Training Loss')\n",
        "plt.plot(epochs, val_losses, marker='s', linestyle='--', label='Validation Loss', color='orange')\n",
        "plt.title('Loss over Epochs')\n",
        "plt.xlabel('Epoch')\n",
        "plt.ylabel('Loss')\n",
        "plt.legend()\n",
        "plt.grid(True)\n",
        "plt.tight_layout()\n",
        "plt.show()"
      ]
    },
    {
      "cell_type": "markdown",
      "metadata": {
        "id": "5EYtIHS-2sdy"
      },
      "source": [
        "### Confusion Matrix\n",
        "\n",
        "To evaluate the model's performance"
      ]
    },
    {
      "cell_type": "code",
      "execution_count": 17,
      "metadata": {
        "colab": {
          "base_uri": "https://localhost:8080/",
          "height": 325
        },
        "id": "e0VMie362sdy",
        "outputId": "7829402d-9a7e-4d71-a63c-ec2ea9d83cc0"
      },
      "outputs": [
        {
          "name": "stdout",
          "output_type": "stream",
          "text": [
            "8/8 [==============================] - 8s 1s/step\n"
          ]
        },
        {
          "data": {
            "image/png": "[encoded data removed]",
            "text/plain": [
              "<Figure size 600x300 with 2 Axes>"
            ]
          },
          "metadata": {},
          "output_type": "display_data"
        }
      ],
      "source": [
        "from sklearn.metrics import confusion_matrix\n",
        "import seaborn as sns\n",
        "import numpy as np\n",
        "import matplotlib.pyplot as plt\n",
        "\n",
        "# Ensure y_true and y_pred are NumPy arrays\n",
        "y_true = y_val.numpy() if hasattr(y_val, 'numpy') else y_val\n",
        "y_pred = (model.predict(X_val) > best_thresh).astype(int)\n",
        "\n",
        "# Generate confusion matrix\n",
        "cm = confusion_matrix(y_true, y_pred)\n",
        "\n",
        "# Optional: [TP, FN], [FP, TN] format\n",
        "# If you want to follow your previous manual format:\n",
        "conf_matrix = np.array([[cm[1,1], cm[1,0]],\n",
        "                        [cm[0,1], cm[0,0]]])\n",
        "\n",
        "# Plot\n",
        "cm_labels = ['Positive', 'Negative']\n",
        "categories = ['Positive', 'Negative']\n",
        "\n",
        "plt.figure(figsize=(6, 3))\n",
        "sns.heatmap(conf_matrix, annot=True, fmt='d', cmap='Blues',\n",
        "            xticklabels=cm_labels, yticklabels=categories)\n",
        "\n",
        "plt.title('Confusion Matrix')\n",
        "plt.xlabel('Predicted Labels')\n",
        "plt.ylabel('True Labels')\n",
        "plt.tight_layout()\n",
        "plt.show()\n"
      ]
    },
    {
      "cell_type": "code",
      "execution_count": 18,
      "metadata": {
        "colab": {
          "base_uri": "https://localhost:8080/"
        },
        "id": "cnNiFm2_2sdy",
        "outputId": "630a7be2-cc94-405e-fcd1-dcda67178ac7"
      },
      "outputs": [
        {
          "name": "stdout",
          "output_type": "stream",
          "text": [
            "8/8 [==============================] - 6s 744ms/step\n",
            "F1 score: 0.7809\n",
            "Precision: 0.6513\n",
            "Recall: 0.9748\n",
            "Accuracy: 0.642\n"
          ]
        }
      ],
      "source": [
        "from sklearn.metrics import precision_score, recall_score, f1_score, accuracy_score\n",
        "\n",
        "# Use predicted labels from model\n",
        "y_true = y_val.numpy() if hasattr(y_val, 'numpy') else y_val\n",
        "y_pred_probs = model.predict(X_val)\n",
        "y_pred = (y_pred_probs > best_thresh).astype(int)\n",
        "\n",
        "# Flatten if needed\n",
        "y_true = np.ravel(y_true)\n",
        "y_pred = np.ravel(y_pred)\n",
        "\n",
        "# Metrics\n",
        "f1 = f1_score(y_true, y_pred)\n",
        "precision = precision_score(y_true, y_pred)\n",
        "recall = recall_score(y_true, y_pred)\n",
        "accuracy = accuracy_score(y_true, y_pred)\n",
        "\n",
        "# Output\n",
        "print(\"F1 score:\", round(f1, 4))\n",
        "print(\"Precision:\", round(precision, 4))\n",
        "print(\"Recall:\", round(recall, 4))\n",
        "print(\"Accuracy:\", round(accuracy, 4))\n"
      ]
    },
    {
      "cell_type": "markdown",
      "metadata": {
        "id": "kXiuwf_z2sdy"
      },
      "source": [
        "Convert patient_id to a 1D numpy array:"
      ]
    },
    {
      "cell_type": "code",
      "execution_count": 19,
      "metadata": {
        "id": "d-18OiMR2sdy"
      },
      "outputs": [],
      "source": [
        "patient_id_np = np.array(patient_id)"
      ]
    },
    {
      "cell_type": "code",
      "execution_count": 20,
      "metadata": {
        "colab": {
          "base_uri": "https://localhost:8080/"
        },
        "id": "5d8feWzqyf5k",
        "outputId": "fa66a908-67a8-488c-efb7-5cd094c74248"
      },
      "outputs": [
        {
          "name": "stdout",
          "output_type": "stream",
          "text": [
            "38/38 [==============================] - 34s 893ms/step\n"
          ]
        }
      ],
      "source": [
        "y_pred_train_probs = model.predict(data)\n"
      ]
    },
    {
      "cell_type": "code",
      "execution_count": 21,
      "metadata": {
        "id": "4QkKg8WZyf-C"
      },
      "outputs": [],
      "source": [
        "y_pred_train = (y_pred_train_probs > best_thresh).astype(int)"
      ]
    },
    {
      "cell_type": "markdown",
      "metadata": {
        "id": "G8i_QVmQ2sdy"
      },
      "source": [
        "Include ADHD predictins and probabilities on the trainig dataset in a pandas dataframe and save to a csv file."
      ]
    },
    {
      "cell_type": "code",
      "execution_count": 22,
      "metadata": {
        "id": "OvN8tqZB2sdy"
      },
      "outputs": [],
      "source": [
        "train_pred_prob_df = pd.DataFrame({\n",
        "    'participant_id': patient_id_np,  # This should be your patient_id array\n",
        "    'predicted_label': y_pred_train.flatten(),  # Flatten the predictions (if needed)\n",
        "    'probability': y_pred_train_probs.flatten()  # Flatten the probabilities (if needed)\n",
        "})\n",
        "\n",
        "# Save to CSV\n",
        "train_pred_prob_df.to_csv(\"/content/drive/MyDrive/WIDS_2025/Output/cnn_train_pred_prob_adhd.csv\", index=False)"
      ]
    },
    {
      "cell_type": "markdown",
      "metadata": {
        "id": "64YTgcOoy3lA"
      },
      "source": [
        "## Prediction on the test set"
      ]
    },
    {
      "cell_type": "code",
      "execution_count": 23,
      "metadata": {
        "id": "cG6WunK26WKH"
      },
      "outputs": [],
      "source": [
        "def load_connectomes_test(df_conn):\n",
        "\n",
        "    \"\"\"\n",
        "    Load brain connectome data, returning symmetric matrices with ones on the diagonal.\n",
        "    \"\"\"\n",
        "\n",
        "    patient_id = gs.array(df_conn['participant_id'])\n",
        "    data = gs.array(df_conn.drop('participant_id', axis=1))\n",
        "\n",
        "    mat = SkewSymmetricMatrices(200).matrix_representation(data)\n",
        "    mat = gs.eye(200) - gs.transpose(gs.tril(mat), (0, 2, 1))\n",
        "    mat = 1.0 / 2.0 * (mat + gs.transpose(mat, (0, 2, 1)))\n",
        "\n",
        "    return mat, patient_id"
      ]
    },
    {
      "cell_type": "code",
      "execution_count": 24,
      "metadata": {
        "id": "VmVkgtfXy3lB"
      },
      "outputs": [],
      "source": [
        "data_test, patient_id_test = load_connectomes_test(df_conn_test)"
      ]
    },
    {
      "cell_type": "code",
      "execution_count": 25,
      "metadata": {
        "colab": {
          "base_uri": "https://localhost:8080/"
        },
        "id": "ORJ1fAtfy3lB",
        "outputId": "482efb27-5fa8-44cc-a160-31fd3d67c5d1"
      },
      "outputs": [
        {
          "data": {
            "text/plain": [
              "(304, 200, 200)"
            ]
          },
          "execution_count": 25,
          "metadata": {},
          "output_type": "execute_result"
        }
      ],
      "source": [
        "data_test.shape"
      ]
    },
    {
      "cell_type": "markdown",
      "metadata": {
        "id": "d-rxfOaZ2Z3h"
      },
      "source": [
        "Reformat data for CNN:"
      ]
    },
    {
      "cell_type": "code",
      "execution_count": 26,
      "metadata": {
        "id": "1lvrgW2X2YxD"
      },
      "outputs": [],
      "source": [
        "# Convert the data to a NumPy array first, and add a new axis for CNN input\n",
        "data_test = np.array(data_test)  # Ensure it's a NumPy array\n",
        "data_test = data_test[..., np.newaxis]"
      ]
    },
    {
      "cell_type": "code",
      "execution_count": 27,
      "metadata": {
        "colab": {
          "base_uri": "https://localhost:8080/"
        },
        "id": "z9uJPT5vy3lB",
        "outputId": "f76326cb-fd42-4730-99ea-4a5e1586c8b8"
      },
      "outputs": [
        {
          "name": "stdout",
          "output_type": "stream",
          "text": [
            "10/10 [==============================] - 10s 968ms/step\n",
            "Predictions and probabilities saved.\n"
          ]
        }
      ],
      "source": [
        "# Assuming data_test is the test data\n",
        "# Make predictions on the test data\n",
        "y_pred_probs_test = model.predict(data_test)\n",
        "\n",
        "# Convert probabilities to binary predictions (thresholded at best_thresh)\n",
        "y_pred_test = (y_pred_probs_test > best_thresh).astype(int)\n",
        "\n",
        "# Store the predictions and probabilities\n",
        "predicted_labels_test = y_pred_test.flatten()\n",
        "probabilities_test = y_pred_probs_test.flatten()\n",
        "\n",
        "# Print or save predictions to a DataFrame or file\n",
        "import pandas as pd\n",
        "test_pred_prob_df = pd.DataFrame({\n",
        "    'participant_id': patient_id_test,  # Assuming patient_id_test is the corresponding ID for test data\n",
        "    'predicted_label': predicted_labels_test,\n",
        "    'probability': probabilities_test\n",
        "})\n",
        "\n",
        "test_pred_prob_df.to_csv(\"/content/drive/MyDrive/WIDS_2025/Output/cnn_test_pred_prob_adhd.csv\", index=False)\n",
        "\n",
        "print(\"Predictions and probabilities saved.\")\n"
      ]
    },
    {
      "cell_type": "markdown",
      "metadata": {
        "id": "A90c_nuK2sd3"
      },
      "source": [
        "Include ADHD preditions on the test dataset to a pandas dataframe and save to a submission csv file."
      ]
    },
    {
      "cell_type": "code",
      "execution_count": 28,
      "metadata": {
        "id": "Z2GzaQAey3lF"
      },
      "outputs": [],
      "source": [
        "submission_cnn_adhd = pd.DataFrame({\n",
        "    'participant_id': patient_id_test,  # Updated to correct test dataset patient IDs\n",
        "    'predicted_label': predicted_labels_test\n",
        "})\n",
        "\n",
        "# Save to CSV\n",
        "submission_cnn_adhd.to_csv(\"/content/drive/MyDrive/WIDS_2025/Output/submission_cnn_adhd.csv\", index=False)\n"
      ]
    },
    {
      "cell_type": "code",
      "execution_count": 29,
      "metadata": {
        "colab": {
          "base_uri": "https://localhost:8080/"
        },
        "id": "uYUEfTrn2sd3",
        "outputId": "2d8eb1bb-7869-4a78-852f-fc9c3d6b4f90"
      },
      "outputs": [
        {
          "name": "stdout",
          "output_type": "stream",
          "text": [
            "Total runtime of CNN ADHD prediction is  133.2 minutes\n"
          ]
        }
      ],
      "source": [
        "# Print runtime\n",
        "end_time = time.time()\n",
        "runtime = round((end_time - start_time)/60, 1)\n",
        "print('Total runtime of CNN ADHD prediction is ', runtime, 'minutes')"
      ]
    }
  ],
  "metadata": {
    "colab": {
      "provenance": []
    },
    "kaggle": {
      "accelerator": "nvidiaTeslaT4",
      "dataSources": [
        {
          "databundleVersionId": 11498594,
          "sourceId": 90566,
          "sourceType": "competition"
        }
      ],
      "dockerImageVersionId": 30918,
      "isGpuEnabled": true,
      "isInternetEnabled": true,
      "language": "python",
      "sourceType": "notebook"
    },
    "kernelspec": {
      "display_name": "Python 3",
      "language": "python",
      "name": "python3"
    },
    "language_info": {
      "codemirror_mode": {
        "name": "ipython",
        "version": 3
      },
      "file_extension": ".py",
      "mimetype": "text/x-python",
      "name": "python",
      "nbconvert_exporter": "python",
      "pygments_lexer": "ipython3",
      "version": "3.12.0"
    }
  },
  "nbformat": 4,
  "nbformat_minor": 0
}
