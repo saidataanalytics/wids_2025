{
 "cells": [
  {
   "cell_type": "markdown",
   "metadata": {
    "id": "MLXNVhxsy3k5"
   },
   "source": [
    "# Categorical and quantitative data - hyperparameter tuning - CatBoost\n",
    "\n",
    "### Techniques covered in this Notebook\n",
    "- Preprocessing the categorical and quantitative data (excludes connectome matrices / MRI images)\n",
    "- CatBoost\n",
    "- Hyperparameter tuning\n",
    "- Feature importance"
   ]
  },
  {
   "cell_type": "code",
   "execution_count": 1,
   "metadata": {
    "colab": {
     "base_uri": "https://localhost:8080/"
    },
    "executionInfo": {
     "elapsed": 25693,
     "status": "ok",
     "timestamp": 1745836847549,
     "user": {
      "displayName": "Bence Zaupper",
      "userId": "12735160828860556821"
     },
     "user_tz": -60
    },
    "id": "9LJnglkRTTc0",
    "outputId": "7c894050-0d9d-4e0b-ae9e-65e211fef978"
   },
   "outputs": [
    {
     "name": "stdout",
     "output_type": "stream",
     "text": [
      "Collecting catboost\n",
      "  Downloading catboost-1.2.8-cp311-cp311-manylinux2014_x86_64.whl.metadata (1.2 kB)\n",
      "Requirement already satisfied: graphviz in /usr/local/lib/python3.11/dist-packages (from catboost) (0.20.3)\n",
      "Requirement already satisfied: matplotlib in /usr/local/lib/python3.11/dist-packages (from catboost) (3.10.0)\n",
      "Requirement already satisfied: numpy<3.0,>=1.16.0 in /usr/local/lib/python3.11/dist-packages (from catboost) (2.0.2)\n",
      "Requirement already satisfied: pandas>=0.24 in /usr/local/lib/python3.11/dist-packages (from catboost) (2.2.2)\n",
      "Requirement already satisfied: scipy in /usr/local/lib/python3.11/dist-packages (from catboost) (1.14.1)\n",
      "Requirement already satisfied: plotly in /usr/local/lib/python3.11/dist-packages (from catboost) (5.24.1)\n",
      "Requirement already satisfied: six in /usr/local/lib/python3.11/dist-packages (from catboost) (1.17.0)\n",
      "Requirement already satisfied: python-dateutil>=2.8.2 in /usr/local/lib/python3.11/dist-packages (from pandas>=0.24->catboost) (2.8.2)\n",
      "Requirement already satisfied: pytz>=2020.1 in /usr/local/lib/python3.11/dist-packages (from pandas>=0.24->catboost) (2025.2)\n",
      "Requirement already satisfied: tzdata>=2022.7 in /usr/local/lib/python3.11/dist-packages (from pandas>=0.24->catboost) (2025.2)\n",
      "Requirement already satisfied: contourpy>=1.0.1 in /usr/local/lib/python3.11/dist-packages (from matplotlib->catboost) (1.3.2)\n",
      "Requirement already satisfied: cycler>=0.10 in /usr/local/lib/python3.11/dist-packages (from matplotlib->catboost) (0.12.1)\n",
      "Requirement already satisfied: fonttools>=4.22.0 in /usr/local/lib/python3.11/dist-packages (from matplotlib->catboost) (4.57.0)\n",
      "Requirement already satisfied: kiwisolver>=1.3.1 in /usr/local/lib/python3.11/dist-packages (from matplotlib->catboost) (1.4.8)\n",
      "Requirement already satisfied: packaging>=20.0 in /usr/local/lib/python3.11/dist-packages (from matplotlib->catboost) (24.2)\n",
      "Requirement already satisfied: pillow>=8 in /usr/local/lib/python3.11/dist-packages (from matplotlib->catboost) (11.1.0)\n",
      "Requirement already satisfied: pyparsing>=2.3.1 in /usr/local/lib/python3.11/dist-packages (from matplotlib->catboost) (3.2.3)\n",
      "Requirement already satisfied: tenacity>=6.2.0 in /usr/local/lib/python3.11/dist-packages (from plotly->catboost) (9.1.2)\n",
      "Downloading catboost-1.2.8-cp311-cp311-manylinux2014_x86_64.whl (99.2 MB)\n",
      "\u001b[2K   \u001b[90m━━━━━━━━━━━━━━━━━━━━━━━━━━━━━━━━━━━━━━━━\u001b[0m \u001b[32m99.2/99.2 MB\u001b[0m \u001b[31m7.1 MB/s\u001b[0m eta \u001b[36m0:00:00\u001b[0m\n",
      "\u001b[?25hInstalling collected packages: catboost\n",
      "Successfully installed catboost-1.2.8\n"
     ]
    }
   ],
   "source": [
    "!pip install catboost"
   ]
  },
  {
   "cell_type": "code",
   "execution_count": 2,
   "metadata": {
    "executionInfo": {
     "elapsed": 8197,
     "status": "ok",
     "timestamp": 1745836863176,
     "user": {
      "displayName": "Bence Zaupper",
      "userId": "12735160828860556821"
     },
     "user_tz": -60
    },
    "id": "ZMeXmVvJTNeo"
   },
   "outputs": [],
   "source": [
    "import numpy as np\n",
    "import pandas as pd\n",
    "import csv\n",
    "import openpyxl\n",
    "import matplotlib.pyplot as plt\n",
    "import seaborn as sns\n",
    "import time\n",
    "import catboost as cb\n",
    "from catboost import CatBoostClassifier\n",
    "from sklearn.utils import class_weight\n",
    "from catboost import Pool\n",
    "from sklearn.decomposition import PCA\n",
    "from sklearn.preprocessing import OneHotEncoder\n",
    "from sklearn.preprocessing import StandardScaler\n",
    "from sklearn.impute import SimpleImputer\n",
    "from sklearn.experimental import enable_iterative_imputer\n",
    "from sklearn.impute import IterativeImputer\n",
    "from sklearn.compose import ColumnTransformer\n",
    "from sklearn.pipeline import Pipeline\n",
    "from sklearn.model_selection import train_test_split\n",
    "from sklearn.metrics import f1_score, accuracy_score, precision_score, recall_score\n",
    "from sklearn.metrics import confusion_matrix\n",
    "from sklearn.model_selection import ParameterGrid\n",
    "from sklearn.model_selection import StratifiedKFold\n",
    "import random\n",
    "import itertools\n",
    "import warnings\n",
    "\n",
    "# Suppress FutureWarnings\n",
    "warnings.simplefilter(action='ignore', category=FutureWarning)\n",
    "warnings.simplefilter(action='ignore', category=UserWarning)"
   ]
  },
  {
   "cell_type": "markdown",
   "metadata": {
    "id": "MoObavSgy3k9"
   },
   "source": [
    "## Load the data"
   ]
  },
  {
   "cell_type": "code",
   "execution_count": null,
   "metadata": {
    "executionInfo": {
     "elapsed": 5,
     "status": "ok",
     "timestamp": 1745836884477,
     "user": {
      "displayName": "Bence Zaupper",
      "userId": "12735160828860556821"
     },
     "user_tz": -60
    },
    "id": "CQQNg67lTNep"
   },
   "outputs": [],
   "source": [
    "# Set model family name  no features excluded,  not applied in this version\n",
    "model_family = 'CatBoost_thresh_0_3_0_7_(100)_feat_mod7b'"
   ]
  },
  {
   "cell_type": "markdown",
   "metadata": {
    "id": "rR-KeATlTNep"
   },
   "source": [
    "Specify data input folder"
   ]
  },
  {
   "cell_type": "code",
   "execution_count": 6,
   "metadata": {
    "colab": {
     "base_uri": "https://localhost:8080/"
    },
    "executionInfo": {
     "elapsed": 953,
     "status": "ok",
     "timestamp": 1745836919214,
     "user": {
      "displayName": "Bence Zaupper",
      "userId": "12735160828860556821"
     },
     "user_tz": -60
    },
    "id": "FV1vqeBUTNep",
    "outputId": "4223c3ea-c3af-4813-8e80-5fb55d37b39a"
   },
   "outputs": [
    {
     "name": "stdout",
     "output_type": "stream",
     "text": [
      "Drive already mounted at /content/drive; to attempt to forcibly remount, call drive.mount(\"/content/drive\", force_remount=True).\n"
     ]
    }
   ],
   "source": [
    "# SET FOLDERS (LOCAL OR REMOTE - COLAB COVERED IN THIS CELL)\n",
    "\n",
    "# Local folders\n",
    "#data_input_folder = '../data'\n",
    "#output_folder = '../data/Interim'\n",
    "\n",
    "\n",
    "# Colab\n",
    "# Mount drive\n",
    "from google.colab import drive\n",
    "drive.mount('/content/drive')\n",
    "\n",
    "# Set Colab folders\n",
    "data_input_folder = '/content/drive/MyDrive/WIDS_2025'\n",
    "output_folder = '/content/drive/MyDrive/WIDS_2025/Output'"
   ]
  },
  {
   "cell_type": "markdown",
   "metadata": {
    "id": "K39_ZI3fTNep"
   },
   "source": [
    "Load training data"
   ]
  },
  {
   "cell_type": "code",
   "execution_count": null,
   "metadata": {
    "executionInfo": {
     "elapsed": 2429,
     "status": "ok",
     "timestamp": 1745836921642,
     "user": {
      "displayName": "Bence Zaupper",
      "userId": "12735160828860556821"
     },
     "user_tz": -60
    },
    "id": "IrDPBdKQTNep"
   },
   "outputs": [],
   "source": [
    "# Start runtime measurement\n",
    "start_time                 = time.time()\n",
    "\n",
    "# Load categorical data as category:\n",
    "train_cat_features_input   = pd.read_excel(f\"{data_input_folder}/TRAIN_NEW/TRAIN_CATEGORICAL_METADATA_new.xlsx\")\n",
    "train_cat_features_input.sort_values(by='participant_id', inplace=True)\n",
    "\n",
    "# Load additional categorical variables (extracted from connectome matrices)\n",
    "cat_add_columns            = ['participant_id', 'avg_above_overall_avg']\n",
    "train_cat_features_add     = pd.read_csv(f\"{data_input_folder}/connectome_averages_TRAIN.csv\")[cat_add_columns]\n",
    "train_cat_features_add.sort_values(by='participant_id', inplace=True)\n",
    "\n",
    "# Merge categorical features:\n",
    "train_cat_features         = pd.merge(train_cat_features_input, train_cat_features_add, on='participant_id', how='left')\n",
    "train_cat_features         = train_cat_features.astype('category')\n",
    "\n",
    "# Load quantitative data:\n",
    "train_quant_features_input = pd.read_excel(f\"{data_input_folder}/TRAIN_NEW/TRAIN_QUANTITATIVE_METADATA_new.xlsx\")\n",
    "train_quant_features_input.sort_values(by='participant_id', inplace=True)\n",
    "\n",
    "# Load additional quantitative variables (extracted from connectome matrices)\n",
    "quant_add_columns          = ['participant_id', 'nr_of_cells_above_cell_avg', 'nr_of_cells_above_overall_avg', 'non_diagonal_diffs']\n",
    "train_quant_features_add   = pd.read_csv(f\"{data_input_folder}/connectome_averages_TRAIN.csv\")[quant_add_columns]\n",
    "train_quant_features_add.sort_values(by='participant_id', inplace=True)\n",
    "\n",
    "# Merge quantitative features:\n",
    "train_quant_features         = pd.merge(train_quant_features_input, train_quant_features_add, on='participant_id', how='left')\n",
    "#train_quant_features         = train_quant_features.astype('category')\n",
    "\n",
    "# Load solutions:\n",
    "solution                   = pd.read_excel(f\"{data_input_folder}/TRAIN_NEW/TRAINING_SOLUTIONS.xlsx\")\n",
    "solution.sort_values(by='participant_id', inplace=True)\n",
    "solution                   = solution.astype('category')\n",
    "\n",
    "train_merged               = pd.merge(train_cat_features, train_quant_features, on='participant_id', how='left')\n",
    "train_merged               = pd.merge(train_merged, solution, on='participant_id', how='left')\n",
    "\n",
    "# Dictionary of training data\n",
    "train                      = {'mode': 'train',\n",
    "                              'cat': train_cat_features,\n",
    "                              'quant': train_quant_features,\n",
    "                              'solution': solution,\n",
    "                              'merged': train_merged}"
   ]
  },
  {
   "cell_type": "markdown",
   "metadata": {
    "id": "KhRcde1ETNeq"
   },
   "source": [
    "Load test data"
   ]
  },
  {
   "cell_type": "code",
   "execution_count": 8,
   "metadata": {
    "executionInfo": {
     "elapsed": 785,
     "status": "ok",
     "timestamp": 1745836922425,
     "user": {
      "displayName": "Bence Zaupper",
      "userId": "12735160828860556821"
     },
     "user_tz": -60
    },
    "id": "aBL9UeL-TNeq"
   },
   "outputs": [],
   "source": [
    "# Load categorical data as category:\n",
    "test_cat_features_input   = pd.read_excel(f\"{data_input_folder}/TEST/TEST_CATEGORICAL.xlsx\")\n",
    "\n",
    "# Load additional categorical variables (extracted from connectome matrices)\n",
    "test_cat_features_add     = pd.read_csv(f\"{data_input_folder}/connectome_averages_TEST.csv\")[cat_add_columns]\n",
    "test_cat_features_add.sort_values(by='participant_id', inplace=True)\n",
    "\n",
    "# Merge categorical features:\n",
    "test_cat_features         = pd.merge(test_cat_features_input, test_cat_features_add, on='participant_id', how='left')\n",
    "test_cat_features         = test_cat_features.astype('category')\n",
    "\n",
    "# Load quantitative data:\n",
    "test_quant_features_input = pd.read_excel(f\"{data_input_folder}/TEST/TEST_QUANTITATIVE_METADATA.xlsx\")\n",
    "\n",
    "# Load additional quantitative variables (extracted from connectome matrices)\n",
    "test_quant_features_add     = pd.read_csv(f\"{data_input_folder}/connectome_averages_TEST.csv\")[quant_add_columns]\n",
    "test_quant_features_add.sort_values(by='participant_id', inplace=True)\n",
    "\n",
    "# Merge quantitative features:\n",
    "test_quant_features         = pd.merge(test_quant_features_input, test_quant_features_add, on='participant_id', how='left')\n",
    "\n",
    "\n",
    "# Merge datasets into one:\n",
    "test_merged               = pd.merge(test_cat_features, test_quant_features, on='participant_id', how='left')\n",
    "\n",
    "# Dictionary of training data\n",
    "test                      = {'mode': 'TEST',\n",
    "                             'cat': test_cat_features,\n",
    "                             'quant': test_quant_features,\n",
    "                             'solution': None,\n",
    "                             'merged': test_merged}"
   ]
  },
  {
   "cell_type": "markdown",
   "metadata": {
    "id": "Jm0-sF--y3k-"
   },
   "source": [
    "## Set parameters\n",
    "\n",
    "Set parameters for data preprocessing"
   ]
  },
  {
   "cell_type": "code",
   "execution_count": null,
   "metadata": {
    "execution": {
     "iopub.execute_input": "2025-03-08T13:10:24.980014Z",
     "iopub.status.busy": "2025-03-08T13:10:24.979609Z",
     "iopub.status.idle": "2025-03-08T13:10:24.986477Z",
     "shell.execute_reply": "2025-03-08T13:10:24.985391Z",
     "shell.execute_reply.started": "2025-03-08T13:10:24.979973Z"
    },
    "executionInfo": {
     "elapsed": 14,
     "status": "ok",
     "timestamp": 1745836922440,
     "user": {
      "displayName": "Bence Zaupper",
      "userId": "12735160828860556821"
     },
     "user_tz": -60
    },
    "id": "0ecCoKXuy3k-",
    "trusted": true
   },
   "outputs": [],
   "source": [
    "data_preproc_params = {}\n",
    "\n",
    "# Full list of 9 categorical variables:\n",
    "#   Basic_Demos_Enroll_Year, Basic_Demos_Study_Site, PreInt_Demos_Fam_Child_Ethnicity, PreInt_Demos_Fam_Child_Race,\n",
    "#   MRI_Track_Scan_Location, Barratt_Barratt_P1_Edu, Barratt_Barratt_P1_Occ,           Barratt_Barratt_P2_Edu',      Barratt_Barratt_P2_Occ\n",
    "\n",
    "# Full list of 18 quantitatigve variables:\n",
    "#   EHQ_EHQ_Total,\t            ColorVision_CV_Score,  APQ_P_APQ_P_CP,\t          APQ_P_APQ_P_ID,\t         APQ_P_APQ_P_INV,\n",
    "#   APQ_P_APQ_P_OPD\t            APQ_P_APQ_P_PM,\t       APQ_P_APQ_P_PP\t          SDQ_SDQ_Conduct_Problems,\t SDQ_SDQ_Difficulties_Total,\n",
    "#   SDQ_SDQ_Emotional_Problems\tSDQ_SDQ_Externalizing, SDQ_SDQ_Generating_Impact, SDQ_SDQ_Hyperactivity\t     SDQ_SDQ_Internalizing\n",
    "#   SDQ_SDQ_Peer_Problems,      SDQ_SDQ_Prosocial,     MRI_Track_Age_at_Scan\n",
    "\n",
    "\n",
    "data_preproc_params['cat_columns_to_drop']   = ['Basic_Demos_Enroll_Year', 'Basic_Demos_Study_Site', 'MRI_Track_Scan_Location']\n",
    "#                                                   \n",
    "data_preproc_params['quant_columns_to_drop'] = []  \n",
    "\n",
    "# Specify if Principal Component Analysis (PCA) should be used for dimension reduction for quantitative features and connectome matrices:\n",
    "# If yes specify the number of principal components\n",
    "data_preproc_params['apply_pca_quant']                       = False\n",
    "data_preproc_params['nr_pca_components_quant']               = 2\n",
    "\n",
    "# Set imputer methods:\n",
    "data_preproc_params['categorical_imputer_strategy']          = 'most_frequent'         # Options: 'most frequent'\n",
    "\n",
    "data_preproc_params['numeric_imputer']                       = 'iterative'             # Options: 'iterative' or 'simple'\n",
    "                                                                                       # In case 'iterative' selected then a RF regression will be performed\n",
    "data_preproc_params['numeric_imputer_strategy']              = None                    # Options for simple: 'median', 'mean', 'most freqent', 'constant'\n",
    "                                                                          # No options for iterative"
   ]
  },
  {
   "cell_type": "markdown",
   "metadata": {
    "id": "Bp7-afNHTNeq"
   },
   "source": [
    "Set model hyperparameters"
   ]
  },
  {
   "cell_type": "code",
   "execution_count": 10,
   "metadata": {
    "executionInfo": {
     "elapsed": 9,
     "status": "ok",
     "timestamp": 1745836922450,
     "user": {
      "displayName": "Bence Zaupper",
      "userId": "12735160828860556821"
     },
     "user_tz": -60
    },
    "id": "QoHxV37STNeq"
   },
   "outputs": [],
   "source": [
    "# Size of random sample selected from hyperparameter range\n",
    "n_samples = 100\n",
    "\n",
    "# Range for\n",
    "threshold_range = np.linspace(0.3, 0.7, 21)\n",
    "\n",
    "model_param_ranges = {\n",
    "    'sex': {\n",
    "        'learning_rate': [0.001, 0.005, 0.01, 0.05, 0.1, 0.2],\n",
    "        'depth': [3, 4, 5, 6, 7, 8, 9, 10],\n",
    "        'l2_leaf_reg': [1, 3, 5, 7, 9],\n",
    "        'iterations': {'min': 100, 'max': 1100, 'step': 100},\n",
    "        'subsample': [0.5, 0.7, 0.9, 1.0],\n",
    "        'border_count': [32, 64, 128, 254],  # Number of splits for numeric features\n",
    "        'loss_function': ['Logloss'],       # Fixed parameter for binary classification\n",
    "        'eval_metric': ['F1'],              # Optional: useful for F1 optimization\n",
    "        'verbose': [0],                     # Fixed parameter to suppress logs\n",
    "        #'task_type': ['GPU']                # Use GPU on Colab\n",
    "        'task_type': ['CPU']                # Use CPU on local machi\n",
    "\n",
    "    },\n",
    "\n",
    "    'adhd': {\n",
    "        'learning_rate': [0.001, 0.005, 0.01, 0.05, 0.1, 0.2],\n",
    "        'depth': [3, 4, 5, 6, 7, 8, 9, 10],\n",
    "        'l2_leaf_reg': [1, 3, 5, 7, 9],\n",
    "        'iterations': {'min': 100, 'max': 1100, 'step': 100},\n",
    "        'subsample': [0.5, 0.7, 0.9, 1.0],\n",
    "        'border_count': [32, 64, 128, 254],  # Number of splits for numeric features\n",
    "        'loss_function': ['Logloss'],       # Fixed parameter for binary classification\n",
    "        'eval_metric': ['F1'],              # Optional: useful for F1 optimization\n",
    "        'verbose': [0],                     # Fixed parameter to suppress logs\n",
    "        #'task_type': ['GPU']                # Use GPU on Colab\n",
    "        'task_type': ['CPU']                # Use CPU on local machine\n",
    "    }\n",
    "}\n"
   ]
  },
  {
   "cell_type": "markdown",
   "metadata": {
    "id": "Kkvrc_pvTNer"
   },
   "source": [
    "Set model evaluation parameters"
   ]
  },
  {
   "cell_type": "code",
   "execution_count": 11,
   "metadata": {
    "executionInfo": {
     "elapsed": 2,
     "status": "ok",
     "timestamp": 1745836922463,
     "user": {
      "displayName": "Bence Zaupper",
      "userId": "12735160828860556821"
     },
     "user_tz": -60
    },
    "id": "RuL0vf-7TNer"
   },
   "outputs": [],
   "source": [
    "# Number of folds (k) for k-fold cross-validation:\n",
    "nr_of_folds      = 5"
   ]
  },
  {
   "cell_type": "markdown",
   "metadata": {
    "id": "-41KZY-zTNer"
   },
   "source": [
    "## Data preprocessing"
   ]
  },
  {
   "cell_type": "markdown",
   "metadata": {
    "id": "EARFZbe5TNer"
   },
   "source": [
    "Define Principal Component Analysis (PCA)"
   ]
  },
  {
   "cell_type": "code",
   "execution_count": 12,
   "metadata": {
    "executionInfo": {
     "elapsed": 3,
     "status": "ok",
     "timestamp": 1745836922466,
     "user": {
      "displayName": "Bence Zaupper",
      "userId": "12735160828860556821"
     },
     "user_tz": -60
    },
    "id": "Zyde_fcaTNer"
   },
   "outputs": [],
   "source": [
    "def drop_columns(data, data_preproc_params):\n",
    "\n",
    "    mode = data['mode']\n",
    "\n",
    "    # Merge categorical and quantitative columns to drop (no columns dropped from connectome matrix):\n",
    "    cat_columns_to_drop = data_preproc_params['cat_columns_to_drop']\n",
    "    quant_columns_to_drop = data_preproc_params['quant_columns_to_drop']\n",
    "\n",
    "    # Drop selected columns for categorical and quantitative data:\n",
    "    data['cat'] = data['cat'].drop(cat_columns_to_drop, axis=1)\n",
    "    data['quant'] = data['quant'].drop(quant_columns_to_drop, axis=1)\n",
    "\n",
    "    # Merge cat and quant\n",
    "    data['merged'] = pd.merge(data['cat'], data['quant'], on='participant_id', how='left')\n",
    "\n",
    "    # Merge solution in TRAIN mode only\n",
    "    if mode == 'TRAIN':\n",
    "        solution = data['solution']  # <-- important!\n",
    "        data['merged'] = pd.merge(data['merged'], solution, on='participant_id', how='left')\n",
    "\n",
    "    return data"
   ]
  },
  {
   "cell_type": "code",
   "execution_count": 13,
   "metadata": {
    "executionInfo": {
     "elapsed": 10,
     "status": "ok",
     "timestamp": 1745836922534,
     "user": {
      "displayName": "Bence Zaupper",
      "userId": "12735160828860556821"
     },
     "user_tz": -60
    },
    "id": "fAFYPx_NTNer"
   },
   "outputs": [],
   "source": [
    "def preprocess_data_fit(data, data_preproc_params):\n",
    "    \"\"\"\n",
    "    Perform data preprocessing on training or test data.\n",
    "    If training, includes PCA fitting.\n",
    "    \"\"\"\n",
    "    apply_pca_quant = data_preproc_params['apply_pca_quant']\n",
    "    nr_pca_components_quant = data_preproc_params['nr_pca_components_quant']\n",
    "\n",
    "    # Retrieved merged data\n",
    "    data_merged = data['merged']\n",
    "\n",
    "    # Drop participant id and target columns\n",
    "    X = data_merged.drop(['participant_id', 'ADHD_Outcome', 'Sex_F'], axis=1, errors='ignore')\n",
    "\n",
    "    # Identify feature types\n",
    "    categorical_features = X.select_dtypes(include=['object', 'category']).columns.tolist()\n",
    "    numerical_features = X.select_dtypes(exclude=['object', 'category']).columns.tolist()\n",
    "\n",
    "    # Get imputers\n",
    "    numeric_imputer = data_preproc_params['numeric_imputer']\n",
    "    numeric_imputer_strategy = data_preproc_params['numeric_imputer_strategy']\n",
    "    categorical_imputer_strategy = data_preproc_params['categorical_imputer_strategy']\n",
    "\n",
    "    # Numeric pipeline steps list\n",
    "    numeric_transformer_steps = [\n",
    "        ('imputer', SimpleImputer(strategy=numeric_imputer_strategy)),\n",
    "        ('scaler', StandardScaler())\n",
    "    ] if numeric_imputer == 'simple' else [\n",
    "        ('imputer', IterativeImputer(random_state=0)),\n",
    "        ('scaler', StandardScaler())\n",
    "    ]\n",
    "\n",
    "    # Add PCA to the numeric pipeline steps list if PCA is required\n",
    "    if apply_pca_quant:\n",
    "        numeric_transformer_steps.append(('pca', PCA(n_components=nr_pca_components_quant)))\n",
    "\n",
    "    # Create the numeric pipeline with the updated steps\n",
    "    numeric_transformer = Pipeline(steps=numeric_transformer_steps)\n",
    "\n",
    "    # Categorical pipeline (only imputing missing values, no one-hot encoding)\n",
    "    categorical_transformer = Pipeline(steps=[\n",
    "        ('imputer', SimpleImputer(strategy=categorical_imputer_strategy))\n",
    "        # No OneHotEncoder here anymore\n",
    "    ])\n",
    "\n",
    "    # Full preprocessor\n",
    "    preprocessor = ColumnTransformer(\n",
    "        transformers=[\n",
    "            ('num', numeric_transformer, numerical_features),\n",
    "            ('cat', categorical_transformer, categorical_features)\n",
    "        ]\n",
    "    )\n",
    "\n",
    "    # Fit preprocessor on training data\n",
    "    preprocessor.fit(X)\n",
    "\n",
    "    # After preprocessing, numerical features are scaled (and PCA'd optionally)\n",
    "    # and categorical features are still intact (just missing values filled)\n",
    "    # So feature names are just numerical + categorical original names\n",
    "\n",
    "    return preprocessor\n"
   ]
  },
  {
   "cell_type": "code",
   "execution_count": 14,
   "metadata": {
    "executionInfo": {
     "elapsed": 21,
     "status": "ok",
     "timestamp": 1745836922555,
     "user": {
      "displayName": "Bence Zaupper",
      "userId": "12735160828860556821"
     },
     "user_tz": -60
    },
    "id": "MqVt4mg2TNer"
   },
   "outputs": [],
   "source": [
    "def preprocess_data_transform(data, preprocessor):\n",
    "    \"\"\"\n",
    "    Apply data preprocessing (including PCA transformation if requested) to data.\n",
    "    Uses the provided preprocessor and applies transformations.\n",
    "    \"\"\"\n",
    "    # Preprocess data with the provided preprocessor\n",
    "    data_merged = data['merged']\n",
    "\n",
    "    # Ensure you select the correct features based on your ColumnTransformer\n",
    "    X = data_merged.drop(['participant_id', 'ADHD_Outcome', 'Sex_F'], axis=1, errors='ignore')\n",
    "\n",
    "    # Apply preprocessing (numeric and categorical transformations)\n",
    "    data_transformed = preprocessor.transform(X)\n",
    "\n",
    "    # Convert the transformed data to a DataFrame\n",
    "    data_transformed_df = pd.DataFrame(\n",
    "        data_transformed,\n",
    "        index=X.index,\n",
    "        columns=preprocessor.get_feature_names_out()\n",
    "    )\n",
    "\n",
    "    print('Data transformed df cols:', data_transformed_df.columns)\n",
    "    print('Data transformed df shape:', data_transformed_df.shape)\n",
    "\n",
    "    # No need for PCA application here since it's done in preprocessing\n",
    "\n",
    "    return data_transformed_df"
   ]
  },
  {
   "cell_type": "markdown",
   "metadata": {
    "id": "Ot302VAQTNer"
   },
   "source": [
    "Drop unused columns"
   ]
  },
  {
   "cell_type": "code",
   "execution_count": 15,
   "metadata": {
    "executionInfo": {
     "elapsed": 1,
     "status": "ok",
     "timestamp": 1745836922557,
     "user": {
      "displayName": "Bence Zaupper",
      "userId": "12735160828860556821"
     },
     "user_tz": -60
    },
    "id": "2JB8pVIaTNer"
   },
   "outputs": [],
   "source": [
    "train                               = drop_columns(train, data_preproc_params)\n",
    "test                                = drop_columns(test, data_preproc_params)"
   ]
  },
  {
   "cell_type": "markdown",
   "metadata": {
    "id": "Gtz2MPW7TNer"
   },
   "source": [
    "Perform data preprocessing (fit preprocessor and perform PCA if required)"
   ]
  },
  {
   "cell_type": "code",
   "execution_count": 16,
   "metadata": {
    "executionInfo": {
     "elapsed": 105,
     "status": "ok",
     "timestamp": 1745836922664,
     "user": {
      "displayName": "Bence Zaupper",
      "userId": "12735160828860556821"
     },
     "user_tz": -60
    },
    "id": "GsiIoOOMTNer"
   },
   "outputs": [],
   "source": [
    "preprocessor = preprocess_data_fit(train, data_preproc_params)"
   ]
  },
  {
   "cell_type": "markdown",
   "metadata": {
    "id": "pQlH06p5TNes"
   },
   "source": [
    "Perform data transformation to prepare data for training"
   ]
  },
  {
   "cell_type": "code",
   "execution_count": 17,
   "metadata": {
    "colab": {
     "base_uri": "https://localhost:8080/"
    },
    "executionInfo": {
     "elapsed": 46,
     "status": "ok",
     "timestamp": 1745836922722,
     "user": {
      "displayName": "Bence Zaupper",
      "userId": "12735160828860556821"
     },
     "user_tz": -60
    },
    "id": "DcdJnm1oTNes",
    "outputId": "25487fb5-0d56-4a8b-91e0-85dee04d9297"
   },
   "outputs": [
    {
     "name": "stdout",
     "output_type": "stream",
     "text": [
      "Data transformed df cols: Index(['num__EHQ_EHQ_Total', 'num__ColorVision_CV_Score',\n",
      "       'num__APQ_P_APQ_P_CP', 'num__APQ_P_APQ_P_ID', 'num__APQ_P_APQ_P_INV',\n",
      "       'num__APQ_P_APQ_P_OPD', 'num__APQ_P_APQ_P_PM', 'num__APQ_P_APQ_P_PP',\n",
      "       'num__SDQ_SDQ_Conduct_Problems', 'num__SDQ_SDQ_Difficulties_Total',\n",
      "       'num__SDQ_SDQ_Emotional_Problems', 'num__SDQ_SDQ_Externalizing',\n",
      "       'num__SDQ_SDQ_Generating_Impact', 'num__SDQ_SDQ_Hyperactivity',\n",
      "       'num__SDQ_SDQ_Internalizing', 'num__SDQ_SDQ_Peer_Problems',\n",
      "       'num__SDQ_SDQ_Prosocial', 'num__MRI_Track_Age_at_Scan',\n",
      "       'num__nr_of_cells_above_cell_avg', 'num__nr_of_cells_above_overall_avg',\n",
      "       'num__non_diagonal_diffs', 'cat__PreInt_Demos_Fam_Child_Ethnicity',\n",
      "       'cat__PreInt_Demos_Fam_Child_Race', 'cat__Barratt_Barratt_P1_Edu',\n",
      "       'cat__Barratt_Barratt_P1_Occ', 'cat__Barratt_Barratt_P2_Edu',\n",
      "       'cat__Barratt_Barratt_P2_Occ', 'cat__avg_above_overall_avg'],\n",
      "      dtype='object')\n",
      "Data transformed df shape: (1213, 28)\n",
      "Data transformed df cols: Index(['num__EHQ_EHQ_Total', 'num__ColorVision_CV_Score',\n",
      "       'num__APQ_P_APQ_P_CP', 'num__APQ_P_APQ_P_ID', 'num__APQ_P_APQ_P_INV',\n",
      "       'num__APQ_P_APQ_P_OPD', 'num__APQ_P_APQ_P_PM', 'num__APQ_P_APQ_P_PP',\n",
      "       'num__SDQ_SDQ_Conduct_Problems', 'num__SDQ_SDQ_Difficulties_Total',\n",
      "       'num__SDQ_SDQ_Emotional_Problems', 'num__SDQ_SDQ_Externalizing',\n",
      "       'num__SDQ_SDQ_Generating_Impact', 'num__SDQ_SDQ_Hyperactivity',\n",
      "       'num__SDQ_SDQ_Internalizing', 'num__SDQ_SDQ_Peer_Problems',\n",
      "       'num__SDQ_SDQ_Prosocial', 'num__MRI_Track_Age_at_Scan',\n",
      "       'num__nr_of_cells_above_cell_avg', 'num__nr_of_cells_above_overall_avg',\n",
      "       'num__non_diagonal_diffs', 'cat__PreInt_Demos_Fam_Child_Ethnicity',\n",
      "       'cat__PreInt_Demos_Fam_Child_Race', 'cat__Barratt_Barratt_P1_Edu',\n",
      "       'cat__Barratt_Barratt_P1_Occ', 'cat__Barratt_Barratt_P2_Edu',\n",
      "       'cat__Barratt_Barratt_P2_Occ', 'cat__avg_above_overall_avg'],\n",
      "      dtype='object')\n",
      "Data transformed df shape: (304, 28)\n"
     ]
    }
   ],
   "source": [
    "X_preprocessed_train                = preprocess_data_transform(train, preprocessor)\n",
    "X_preprocessed_test                 = preprocess_data_transform(test, preprocessor)"
   ]
  },
  {
   "cell_type": "markdown",
   "metadata": {
    "id": "dqzC5Tbr2sdy"
   },
   "source": [
    "## Model training and hyperparameter tuning"
   ]
  },
  {
   "cell_type": "markdown",
   "metadata": {
    "id": "_X0pcKf2TNes"
   },
   "source": [
    "Define weighted F1 score (evaluation metric specified in the Datathon where females have double weight for ADHD prediction)"
   ]
  },
  {
   "cell_type": "code",
   "execution_count": 18,
   "metadata": {
    "executionInfo": {
     "elapsed": 5,
     "status": "ok",
     "timestamp": 1745836922729,
     "user": {
      "displayName": "Bence Zaupper",
      "userId": "12735160828860556821"
     },
     "user_tz": -60
    },
    "id": "rDjPHQ8HTNes"
   },
   "outputs": [],
   "source": [
    "def get_weighted_f1(y_true, y_pred, sex, female_weight = 2.0, male_weight = 1.0):\n",
    "\n",
    "    sample_weight = np.where(sex == 1, female_weight, male_weight)\n",
    "    return f1_score(y_true, y_pred, average='binary', sample_weight=sample_weight)"
   ]
  },
  {
   "cell_type": "markdown",
   "metadata": {
    "id": "NbVuD7rsTNes"
   },
   "source": [
    "### Train model on a grid of hyperparameters and select the best model (highest F1 score)"
   ]
  },
  {
   "cell_type": "markdown",
   "metadata": {
    "id": "aTN0gdXpTNet"
   },
   "source": [
    "Expand parameter ranges for hypermarameter tuning (using model_param_ranges )"
   ]
  },
  {
   "cell_type": "code",
   "execution_count": 19,
   "metadata": {
    "executionInfo": {
     "elapsed": 15,
     "status": "ok",
     "timestamp": 1745836922756,
     "user": {
      "displayName": "Bence Zaupper",
      "userId": "12735160828860556821"
     },
     "user_tz": -60
    },
    "id": "b1j9YKs2TNet"
   },
   "outputs": [],
   "source": [
    "def sample_param_grid(param_dict, n_samples=n_samples, seed=42):\n",
    "    random.seed(seed)\n",
    "    np.random.seed(seed)\n",
    "\n",
    "    # Expand any param defined with min/max/step\n",
    "    expanded = {}\n",
    "    for key, value in param_dict.items():\n",
    "        if isinstance(value, dict) and {'min', 'max', 'step'}.issubset(value.keys()):\n",
    "            expanded[key] = list(range(value['min'], value['max'] + 1, value['step']))\n",
    "        else:\n",
    "            expanded[key] = value\n",
    "\n",
    "    # Now sample from the full grid\n",
    "    keys = list(expanded.keys())\n",
    "    all_combinations = list(itertools.product(*(expanded[key] for key in keys)))\n",
    "    print(f\"Total possible combinations: {len(all_combinations)}\")\n",
    "\n",
    "    sampled_combinations = random.sample(all_combinations, min(n_samples, len(all_combinations)))\n",
    "\n",
    "    # Convert list of tuples to list of dicts\n",
    "    sampled_param_dicts = [dict(zip(keys, combo)) for combo in sampled_combinations]\n",
    "    return sampled_param_dicts\n"
   ]
  },
  {
   "cell_type": "markdown",
   "metadata": {
    "id": "JQJrNduwTNet"
   },
   "source": [
    "Define function for hyperparameter tuning and model selection"
   ]
  },
  {
   "cell_type": "code",
   "execution_count": 20,
   "metadata": {
    "executionInfo": {
     "elapsed": 15,
     "status": "ok",
     "timestamp": 1745836922773,
     "user": {
      "displayName": "Bence Zaupper",
      "userId": "12735160828860556821"
     },
     "user_tz": -60
    },
    "id": "HZydDnZ3TNeu"
   },
   "outputs": [],
   "source": [
    "def select_best_model(X_preprocessed_train, y_actual, nr_of_folds, model_param_ranges,\n",
    "                      target, y_true_sex=None, n_samples=n_samples):\n",
    "\n",
    "    best_metric = -1\n",
    "    best_model = None\n",
    "    best_params = None\n",
    "    best_oof_probs = None\n",
    "    fixed_threshold = 0.5\n",
    "\n",
    "    param_grid = sample_param_grid(model_param_ranges[target], n_samples=n_samples)\n",
    "\n",
    "    skf = StratifiedKFold(n_splits=nr_of_folds, shuffle=True, random_state=42)\n",
    "\n",
    "    for i, param_combo in enumerate(param_grid, start=1):\n",
    "\n",
    "        oof_preds = np.zeros(len(y_actual))\n",
    "\n",
    "        for train_idx, val_idx in skf.split(X_preprocessed_train, y_actual):\n",
    "            X_train, X_val = X_preprocessed_train.iloc[train_idx], X_preprocessed_train.iloc[val_idx]\n",
    "            y_train, y_val = y_actual.iloc[train_idx], y_actual.iloc[val_idx]\n",
    "\n",
    "            model = CatBoostClassifier(\n",
    "                **param_combo\n",
    "            )\n",
    "\n",
    "            model.fit(\n",
    "                X_train,\n",
    "                y_train,\n",
    "                eval_set=(X_val, y_val),\n",
    "                use_best_model=False  # Set True if using early stopping\n",
    "                #early_stopping_rounds=50\n",
    "            )\n",
    "\n",
    "            preds = model.predict_proba(X_val)[:, 1]\n",
    "            oof_preds[val_idx] = preds\n",
    "\n",
    "        y_pred = (oof_preds > fixed_threshold).astype(int)\n",
    "\n",
    "        if target == 'adhd':\n",
    "            metric = get_weighted_f1(y_actual, y_pred, y_true_sex)\n",
    "        else:\n",
    "            metric = f1_score(y_actual, y_pred)\n",
    "\n",
    "        if metric > best_metric:\n",
    "            best_metric = metric\n",
    "            best_model = model  # Use the model from the cross-validation loop\n",
    "            best_params = param_combo\n",
    "            best_oof_probs = oof_preds\n",
    "\n",
    "        if i % 10 == 0:\n",
    "            print(f\"{i} parameter combinations processed for {target} model selection | Best F1: {best_metric:.4f}\")\n",
    "\n",
    "    best_params['fixed_threshold'] = fixed_threshold\n",
    "    return best_model, best_metric, best_params, best_oof_probs"
   ]
  },
  {
   "cell_type": "markdown",
   "metadata": {
    "id": "f2itQj_ITNeu"
   },
   "source": [
    "Set ADHD and set models to the best ones. Note that the best F1 scores here are not the final ones as they were calculated using a prediction threshold of 0.5 (to be optimised in the following step)"
   ]
  },
  {
   "cell_type": "code",
   "execution_count": 21,
   "metadata": {
    "colab": {
     "base_uri": "https://localhost:8080/"
    },
    "executionInfo": {
     "elapsed": 2784720,
     "status": "ok",
     "timestamp": 1745839707494,
     "user": {
      "displayName": "Bence Zaupper",
      "userId": "12735160828860556821"
     },
     "user_tz": -60
    },
    "id": "WefUN_SCTNeu",
    "outputId": "1f025843-78f8-47f5-88a0-ae9da3ebc216"
   },
   "outputs": [
    {
     "name": "stdout",
     "output_type": "stream",
     "text": [
      "Total possible combinations: 42240\n",
      "10 parameter combinations processed for sex model selection | Best F1: 0.3467\n",
      "20 parameter combinations processed for sex model selection | Best F1: 0.3660\n",
      "30 parameter combinations processed for sex model selection | Best F1: 0.3757\n",
      "40 parameter combinations processed for sex model selection | Best F1: 0.3757\n",
      "50 parameter combinations processed for sex model selection | Best F1: 0.3757\n",
      "60 parameter combinations processed for sex model selection | Best F1: 0.3757\n",
      "70 parameter combinations processed for sex model selection | Best F1: 0.3757\n",
      "80 parameter combinations processed for sex model selection | Best F1: 0.3757\n",
      "90 parameter combinations processed for sex model selection | Best F1: 0.3758\n",
      "100 parameter combinations processed for sex model selection | Best F1: 0.3758\n",
      "Total possible combinations: 42240\n",
      "10 parameter combinations processed for adhd model selection | Best F1: 0.8543\n",
      "20 parameter combinations processed for adhd model selection | Best F1: 0.8543\n",
      "30 parameter combinations processed for adhd model selection | Best F1: 0.8543\n",
      "40 parameter combinations processed for adhd model selection | Best F1: 0.8555\n",
      "50 parameter combinations processed for adhd model selection | Best F1: 0.8562\n",
      "60 parameter combinations processed for adhd model selection | Best F1: 0.8562\n",
      "70 parameter combinations processed for adhd model selection | Best F1: 0.8562\n",
      "80 parameter combinations processed for adhd model selection | Best F1: 0.8565\n",
      "90 parameter combinations processed for adhd model selection | Best F1: 0.8565\n",
      "100 parameter combinations processed for adhd model selection | Best F1: 0.8570\n"
     ]
    }
   ],
   "source": [
    "# Specify actual labels:\n",
    "y_actual_sex  = train_merged['Sex_F'].astype(int)  # Ensure this aligns 100% with X_preprocessed_train\n",
    "y_actual_adhd = train_merged['ADHD_Outcome'].astype(int)  # Ensure this aligns 100% with X_preprocessed_train\n",
    "\n",
    "# Train sex model first\n",
    "sex_model, best_f1_sex, best_params_sex, best_oof_probs_sex = select_best_model(\n",
    "    X_preprocessed_train, y_actual_sex, nr_of_folds, model_param_ranges, target='sex')\n",
    "\n",
    "# Then ADHD model\n",
    "adhd_model,  best_f1_adhd, best_params_adhd, best_oof_probs_adhd = select_best_model(\n",
    "    X_preprocessed_train, y_actual_adhd, nr_of_folds, model_param_ranges, target='adhd',\n",
    "    y_true_sex = y_actual_sex)"
   ]
  },
  {
   "cell_type": "markdown",
   "metadata": {
    "id": "OlVabiEQTNeu"
   },
   "source": [
    "Print interim best F1 scores (with prediction threshold = 0.5)"
   ]
  },
  {
   "cell_type": "code",
   "execution_count": 22,
   "metadata": {
    "colab": {
     "base_uri": "https://localhost:8080/"
    },
    "executionInfo": {
     "elapsed": 36,
     "status": "ok",
     "timestamp": 1745839707496,
     "user": {
      "displayName": "Bence Zaupper",
      "userId": "12735160828860556821"
     },
     "user_tz": -60
    },
    "id": "m0ooNwl0TNeu",
    "outputId": "deb59d47-569f-47b5-eacf-23ffc2893d3c"
   },
   "outputs": [
    {
     "name": "stdout",
     "output_type": "stream",
     "text": [
      "Best interim F1 score for ADHD - weighted with double weights for females:  0.857\n",
      "Best interim F1 score for Sex - unweighted:  0.3758\n"
     ]
    }
   ],
   "source": [
    "print('Best interim F1 score for ADHD - weighted with double weights for females: ', round(best_f1_adhd, 4))\n",
    "print('Best interim F1 score for Sex - unweighted: ', round(best_f1_sex, 4))"
   ]
  },
  {
   "cell_type": "markdown",
   "metadata": {
    "id": "B9lPqMQqTNe8"
   },
   "source": [
    "Find best threshold for prediction:"
   ]
  },
  {
   "cell_type": "code",
   "execution_count": 23,
   "metadata": {
    "executionInfo": {
     "elapsed": 8,
     "status": "ok",
     "timestamp": 1745839707498,
     "user": {
      "displayName": "Bence Zaupper",
      "userId": "12735160828860556821"
     },
     "user_tz": -60
    },
    "id": "O_WsMlooTNe8"
   },
   "outputs": [],
   "source": [
    "def find_best_threshold(y_true, best_oof_probs, target, y_true_sex=None):\n",
    "    thresholds = threshold_range\n",
    "    metrics = []\n",
    "\n",
    "    for t in thresholds:\n",
    "        y_pred = (best_oof_probs > t).astype(int)\n",
    "        metric = (\n",
    "            f1_score(y_true, y_pred) if target == 'sex'\n",
    "            else get_weighted_f1(y_true, y_pred, y_true_sex)\n",
    "        )\n",
    "        metrics.append(metric)\n",
    "\n",
    "    best_idx = np.argmax(metrics)\n",
    "    return thresholds[best_idx], metrics[best_idx]\n"
   ]
  },
  {
   "cell_type": "markdown",
   "metadata": {
    "id": "W109HqjBTNe8"
   },
   "source": [
    "Print highest F1 scores and corresponding thresholds"
   ]
  },
  {
   "cell_type": "markdown",
   "metadata": {
    "id": "9Xd2pOdmTNe9"
   },
   "source": [
    "ADHD"
   ]
  },
  {
   "cell_type": "code",
   "execution_count": 24,
   "metadata": {
    "colab": {
     "base_uri": "https://localhost:8080/"
    },
    "executionInfo": {
     "elapsed": 23,
     "status": "ok",
     "timestamp": 1745839707515,
     "user": {
      "displayName": "Bence Zaupper",
      "userId": "12735160828860556821"
     },
     "user_tz": -60
    },
    "id": "buixvjuWTNe9",
    "outputId": "cae756d1-334b-4301-961c-0b7c7061e9c2"
   },
   "outputs": [
    {
     "name": "stdout",
     "output_type": "stream",
     "text": [
      "For ADHD prediction the best prediction threshold is 0.49999999999999994\n",
      "Highest F1 score for sex ADHD with CatBoost_thresh_0_3_0_7_(500)_feat_mod7b: 0.857\n",
      "\n",
      "  learning_rate: 0.01\n",
      "  depth: 10\n",
      "  l2_leaf_reg: 5\n",
      "  iterations: 600\n",
      "  subsample: 0.5\n",
      "  border_count: 64\n",
      "  loss_function: Logloss\n",
      "  eval_metric: F1\n",
      "  verbose: 0\n",
      "  task_type: CPU\n",
      "  fixed_threshold: 0.5\n"
     ]
    }
   ],
   "source": [
    "# Determine best threshold and best F1 score\n",
    "best_threshold_adhd, best_f1_score_adhd = find_best_threshold(y_actual_adhd, best_oof_probs_adhd, 'adhd', y_actual_sex)\n",
    "\n",
    "print(f'For ADHD prediction the best prediction threshold is {best_threshold_adhd}')\n",
    "print(f'Highest F1 score for sex ADHD with {model_family}: {round(best_f1_score_adhd, 4)}\\n')\n",
    "for param, value in best_params_adhd.items():\n",
    "    print(f\"  {param}: {value}\")"
   ]
  },
  {
   "cell_type": "markdown",
   "metadata": {
    "id": "_haoElJRTNe9"
   },
   "source": [
    "Sex"
   ]
  },
  {
   "cell_type": "code",
   "execution_count": 25,
   "metadata": {
    "colab": {
     "base_uri": "https://localhost:8080/"
    },
    "executionInfo": {
     "elapsed": 54,
     "status": "ok",
     "timestamp": 1745839707571,
     "user": {
      "displayName": "Bence Zaupper",
      "userId": "12735160828860556821"
     },
     "user_tz": -60
    },
    "id": "krJpm9AjTNe9",
    "outputId": "55dbc788-5e15-4e5b-ab03-180150109f52"
   },
   "outputs": [
    {
     "name": "stdout",
     "output_type": "stream",
     "text": [
      "For sex prediction the best prediction threshold is 0.3\n",
      "Highest F1 score for sex with CatBoost_thresh_0_3_0_7_(500)_feat_mod7b: 0.491]\n",
      "\n",
      "  learning_rate: 0.1\n",
      "  depth: 5\n",
      "  l2_leaf_reg: 5\n",
      "  iterations: 200\n",
      "  subsample: 0.7\n",
      "  border_count: 128\n",
      "  loss_function: Logloss\n",
      "  eval_metric: F1\n",
      "  verbose: 0\n",
      "  task_type: CPU\n",
      "  fixed_threshold: 0.5\n"
     ]
    }
   ],
   "source": [
    "# Determine best threshold for Sex\n",
    "best_threshold_sex, best_f1_score_sex = find_best_threshold(y_actual_sex, best_oof_probs_sex, 'sex')\n",
    "print(f'For sex prediction the best prediction threshold is {best_threshold_sex}')\n",
    "print(f'Highest F1 score for sex with {model_family}: {round(best_f1_score_sex, 4)}]\\n')\n",
    "for param, value in best_params_sex.items():\n",
    "    print(f\"  {param}: {value}\")"
   ]
  },
  {
   "cell_type": "markdown",
   "metadata": {
    "id": "6JtfuB_uTNe9"
   },
   "source": [
    "## Feature importance"
   ]
  },
  {
   "cell_type": "markdown",
   "metadata": {
    "id": "6dHOagw_TNe9"
   },
   "source": [
    "### Feature importance - gain"
   ]
  },
  {
   "cell_type": "markdown",
   "metadata": {
    "id": "AjcJpl88TNe-"
   },
   "source": [
    "ADHD"
   ]
  },
  {
   "cell_type": "code",
   "execution_count": 26,
   "metadata": {
    "colab": {
     "base_uri": "https://localhost:8080/"
    },
    "executionInfo": {
     "elapsed": 200745,
     "status": "ok",
     "timestamp": 1745839908319,
     "user": {
      "displayName": "Bence Zaupper",
      "userId": "12735160828860556821"
     },
     "user_tz": -60
    },
    "id": "MlwEl2ePTNe-",
    "outputId": "dd37cddb-243d-48d2-a6d2-51f112b027c7"
   },
   "outputs": [
    {
     "name": "stdout",
     "output_type": "stream",
     "text": [
      "                                  feature  importance (%)\n",
      "13             num__SDQ_SDQ_Hyperactivity       27.707346\n",
      "12         num__SDQ_SDQ_Generating_Impact        8.344769\n",
      "11             num__SDQ_SDQ_Externalizing        6.488047\n",
      "17             num__MRI_Track_Age_at_Scan        3.545050\n",
      "24            cat__Barratt_Barratt_P1_Occ        3.088225\n",
      "0                      num__EHQ_EHQ_Total        3.067400\n",
      "26            cat__Barratt_Barratt_P2_Occ        3.047799\n",
      "4                    num__APQ_P_APQ_P_INV        2.963939\n",
      "7                     num__APQ_P_APQ_P_PP        2.952560\n",
      "6                     num__APQ_P_APQ_P_PM        2.798954\n",
      "5                    num__APQ_P_APQ_P_OPD        2.788681\n",
      "9         num__SDQ_SDQ_Difficulties_Total        2.738279\n",
      "3                     num__APQ_P_APQ_P_ID        2.533251\n",
      "16                 num__SDQ_SDQ_Prosocial        2.377039\n",
      "8           num__SDQ_SDQ_Conduct_Problems        2.188160\n",
      "18        num__nr_of_cells_above_cell_avg        2.163749\n",
      "20                num__non_diagonal_diffs        2.134253\n",
      "22       cat__PreInt_Demos_Fam_Child_Race        2.080344\n",
      "2                     num__APQ_P_APQ_P_CP        2.040645\n",
      "15             num__SDQ_SDQ_Peer_Problems        1.985238\n",
      "25            cat__Barratt_Barratt_P2_Edu        1.972278\n",
      "19     num__nr_of_cells_above_overall_avg        1.943041\n",
      "10        num__SDQ_SDQ_Emotional_Problems        1.903240\n",
      "23            cat__Barratt_Barratt_P1_Edu        1.876519\n",
      "21  cat__PreInt_Demos_Fam_Child_Ethnicity        1.575051\n",
      "14             num__SDQ_SDQ_Internalizing        1.428605\n",
      "27             cat__avg_above_overall_avg        1.242910\n",
      "1               num__ColorVision_CV_Score        1.024626\n"
     ]
    }
   ],
   "source": [
    "from catboost import Pool\n",
    "\n",
    "# Wrap training data\n",
    "catboost_pool_train_adhd = Pool(data=X_preprocessed_train, label=y_actual_adhd)\n",
    "\n",
    "# Get feature importances\n",
    "adhd_feature_importances = adhd_model.get_feature_importance(\n",
    "    type='LossFunctionChange',\n",
    "    data=catboost_pool_train_adhd\n",
    ")\n",
    "\n",
    "# Normalize to percentages\n",
    "adhd_feature_importances_percent = 100 * adhd_feature_importances / adhd_feature_importances.sum()\n",
    "\n",
    "# Get feature names\n",
    "if hasattr(adhd_model, 'feature_names_') and adhd_model.feature_names_ is not None:\n",
    "    adhd_feature_names = adhd_model.feature_names_\n",
    "else:\n",
    "    adhd_feature_names = [f'feature_{i}' for i in range(len(adhd_feature_importances))]\n",
    "\n",
    "# Create DataFrame\n",
    "adhd_importance_df = pd.DataFrame({\n",
    "    'feature': adhd_feature_names,\n",
    "    'importance (%)': adhd_feature_importances_percent\n",
    "}).sort_values('importance (%)', ascending=False)\n",
    "\n",
    "print(adhd_importance_df)"
   ]
  },
  {
   "cell_type": "markdown",
   "metadata": {
    "id": "CqnTH6fBTNe-"
   },
   "source": [
    "Sex"
   ]
  },
  {
   "cell_type": "code",
   "execution_count": 27,
   "metadata": {
    "colab": {
     "base_uri": "https://localhost:8080/"
    },
    "executionInfo": {
     "elapsed": 188,
     "status": "ok",
     "timestamp": 1745839908483,
     "user": {
      "displayName": "Bence Zaupper",
      "userId": "12735160828860556821"
     },
     "user_tz": -60
    },
    "id": "m-18HnGbTNe-",
    "outputId": "b6923363-07a2-4060-b373-dab107615ec2"
   },
   "outputs": [
    {
     "name": "stdout",
     "output_type": "stream",
     "text": [
      "                                  feature  importance (%)\n",
      "17             num__MRI_Track_Age_at_Scan        9.448231\n",
      "13             num__SDQ_SDQ_Hyperactivity        6.476857\n",
      "10        num__SDQ_SDQ_Emotional_Problems        6.461421\n",
      "4                    num__APQ_P_APQ_P_INV        5.657466\n",
      "0                      num__EHQ_EHQ_Total        5.368895\n",
      "16                 num__SDQ_SDQ_Prosocial        5.332190\n",
      "18        num__nr_of_cells_above_cell_avg        5.329803\n",
      "6                     num__APQ_P_APQ_P_PM        4.902102\n",
      "3                     num__APQ_P_APQ_P_ID        4.614174\n",
      "7                     num__APQ_P_APQ_P_PP        4.125156\n",
      "20                num__non_diagonal_diffs        3.753861\n",
      "11             num__SDQ_SDQ_Externalizing        3.561503\n",
      "14             num__SDQ_SDQ_Internalizing        3.553681\n",
      "26            cat__Barratt_Barratt_P2_Occ        3.415991\n",
      "5                    num__APQ_P_APQ_P_OPD        3.154342\n",
      "1               num__ColorVision_CV_Score        2.872278\n",
      "19     num__nr_of_cells_above_overall_avg        2.856099\n",
      "24            cat__Barratt_Barratt_P1_Occ        2.662214\n",
      "12         num__SDQ_SDQ_Generating_Impact        2.629556\n",
      "22       cat__PreInt_Demos_Fam_Child_Race        2.400136\n",
      "9         num__SDQ_SDQ_Difficulties_Total        2.093285\n",
      "23            cat__Barratt_Barratt_P1_Edu        1.972702\n",
      "2                     num__APQ_P_APQ_P_CP        1.905419\n",
      "25            cat__Barratt_Barratt_P2_Edu        1.734331\n",
      "21  cat__PreInt_Demos_Fam_Child_Ethnicity        1.190026\n",
      "15             num__SDQ_SDQ_Peer_Problems        1.136247\n",
      "8           num__SDQ_SDQ_Conduct_Problems        1.025292\n",
      "27             cat__avg_above_overall_avg        0.366740\n"
     ]
    }
   ],
   "source": [
    "\n",
    "\n",
    "# Wrap training data\n",
    "catboost_pool_train_sex = Pool(data=X_preprocessed_train, label=y_actual_sex)\n",
    "\n",
    "# Get feature importances\n",
    "sex_feature_importances = sex_model.get_feature_importance(\n",
    "    type='LossFunctionChange',\n",
    "    data=catboost_pool_train_sex\n",
    ")\n",
    "\n",
    "# Normalize to percentages\n",
    "sex_feature_importances_percent = 100 * sex_feature_importances / sex_feature_importances.sum()\n",
    "\n",
    "# Get feature names\n",
    "if hasattr(sex_model, 'feature_names_') and sex_model.feature_names_ is not None:\n",
    "    sex_feature_names = sex_model.feature_names_\n",
    "else:\n",
    "    sex_feature_names = [f'feature_{i}' for i in range(len(sex_feature_importances))]\n",
    "\n",
    "# Create DataFrame\n",
    "sex_importance_df = pd.DataFrame({\n",
    "    'feature': sex_feature_names,\n",
    "    'importance (%)': sex_feature_importances_percent\n",
    "}).sort_values('importance (%)', ascending=False)\n",
    "\n",
    "print(sex_importance_df)"
   ]
  },
  {
   "cell_type": "markdown",
   "metadata": {
    "id": "fj_8Rf5_TNe_"
   },
   "source": [
    "Distinguish between important and not important features"
   ]
  },
  {
   "cell_type": "code",
   "execution_count": 28,
   "metadata": {
    "colab": {
     "base_uri": "https://localhost:8080/"
    },
    "executionInfo": {
     "elapsed": 13,
     "status": "ok",
     "timestamp": 1745839908497,
     "user": {
      "displayName": "Bence Zaupper",
      "userId": "12735160828860556821"
     },
     "user_tz": -60
    },
    "id": "4mF7D_OTTNe_",
    "outputId": "1e588b05-75c1-4866-a7a7-c6b6c98d51be"
   },
   "outputs": [
    {
     "name": "stdout",
     "output_type": "stream",
     "text": [
      "Important features for ADHD prediction (>90% importance):\n",
      "['num__SDQ_SDQ_Hyperactivity', 'num__SDQ_SDQ_Generating_Impact', 'num__SDQ_SDQ_Externalizing', 'num__MRI_Track_Age_at_Scan', 'cat__Barratt_Barratt_P1_Occ', 'num__EHQ_EHQ_Total', 'cat__Barratt_Barratt_P2_Occ', 'num__APQ_P_APQ_P_INV', 'num__APQ_P_APQ_P_PP', 'num__APQ_P_APQ_P_PM', 'num__APQ_P_APQ_P_OPD', 'num__SDQ_SDQ_Difficulties_Total', 'num__APQ_P_APQ_P_ID', 'num__SDQ_SDQ_Prosocial', 'num__SDQ_SDQ_Conduct_Problems', 'num__nr_of_cells_above_cell_avg', 'num__non_diagonal_diffs', 'cat__PreInt_Demos_Fam_Child_Race', 'num__APQ_P_APQ_P_CP', 'num__SDQ_SDQ_Peer_Problems', 'cat__Barratt_Barratt_P2_Edu']\n",
      "\n",
      "Important features for Sex prediction (>90% importance):\n",
      "['num__MRI_Track_Age_at_Scan', 'num__SDQ_SDQ_Hyperactivity', 'num__SDQ_SDQ_Emotional_Problems', 'num__APQ_P_APQ_P_INV', 'num__EHQ_EHQ_Total', 'num__SDQ_SDQ_Prosocial', 'num__nr_of_cells_above_cell_avg', 'num__APQ_P_APQ_P_PM', 'num__APQ_P_APQ_P_ID', 'num__APQ_P_APQ_P_PP', 'num__non_diagonal_diffs', 'num__SDQ_SDQ_Externalizing', 'num__SDQ_SDQ_Internalizing', 'cat__Barratt_Barratt_P2_Occ', 'num__APQ_P_APQ_P_OPD', 'num__ColorVision_CV_Score', 'num__nr_of_cells_above_overall_avg', 'cat__Barratt_Barratt_P1_Occ', 'num__SDQ_SDQ_Generating_Impact', 'cat__PreInt_Demos_Fam_Child_Race']\n",
      "\n",
      "Features to drop (not important for either):\n",
      "['cat__avg_above_overall_avg', 'cat__Barratt_Barratt_P1_Edu', 'cat__PreInt_Demos_Fam_Child_Ethnicity']\n"
     ]
    }
   ],
   "source": [
    "# First, add cumulative importance columns\n",
    "adhd_importance_df['cumulative_importance'] = adhd_importance_df['importance (%)'].cumsum() / 100\n",
    "sex_importance_df['cumulative_importance']  = sex_importance_df['importance (%)'].cumsum() / 100\n",
    "\n",
    "# Select features that contribute to >90% of importance\n",
    "adhd_important_features = adhd_importance_df[adhd_importance_df['cumulative_importance'] <= 0.90]['feature'].tolist()\n",
    "sex_important_features  = sex_importance_df[sex_importance_df['cumulative_importance']  <= 0.90]['feature'].tolist()\n",
    "\n",
    "# Print kept features\n",
    "print(\"Important features for ADHD prediction (>90% importance):\")\n",
    "print(adhd_important_features)\n",
    "\n",
    "print(\"\\nImportant features for Sex prediction (>90% importance):\")\n",
    "print(sex_important_features)\n",
    "\n",
    "# Now create a list of features to drop:\n",
    "# Features that are NOT important for either ADHD or Sex prediction\n",
    "\n",
    "# Combine all features\n",
    "all_features = set(adhd_importance_df['feature'].tolist()) | set(sex_importance_df['feature'].tolist())\n",
    "\n",
    "# Features that are important for either ADHD or Sex\n",
    "important_features = set(adhd_important_features) | set(sex_important_features)\n",
    "\n",
    "# Features to drop = features not in important_features\n",
    "features_to_drop = list(all_features - important_features)\n",
    "\n",
    "print(\"\\nFeatures to drop (not important for either):\")\n",
    "print(features_to_drop)"
   ]
  },
  {
   "cell_type": "markdown",
   "metadata": {
    "id": "5EYtIHS-2sdy"
   },
   "source": [
    "## Model Evaluation"
   ]
  },
  {
   "cell_type": "markdown",
   "metadata": {
    "id": "p3P2vf4oTNe_"
   },
   "source": [
    "### Model Evaluation - ADHD"
   ]
  },
  {
   "cell_type": "markdown",
   "metadata": {
    "id": "xmYuDjvJTNfA"
   },
   "source": [
    "Model performance (ADHD)"
   ]
  },
  {
   "cell_type": "code",
   "execution_count": 29,
   "metadata": {
    "colab": {
     "base_uri": "https://localhost:8080/"
    },
    "executionInfo": {
     "elapsed": 39,
     "status": "ok",
     "timestamp": 1745839908538,
     "user": {
      "displayName": "Bence Zaupper",
      "userId": "12735160828860556821"
     },
     "user_tz": -60
    },
    "id": "peW32mViTNfA",
    "outputId": "13fd0857-1bed-4d37-c995-a2a344fb7b88"
   },
   "outputs": [
    {
     "name": "stdout",
     "output_type": "stream",
     "text": [
      "Weighted F1 score: 0.857\n",
      "F1 score: 0.8654\n",
      "Precision: 0.8164\n",
      "Recall: 0.9206\n",
      "Accuracy: 0.8038\n"
     ]
    }
   ],
   "source": [
    "# Use predicted labels from model\n",
    "y_true              = y_actual_adhd\n",
    "y_true_sex          = y_actual_sex\n",
    "best_oof_preds_adhd = (best_oof_probs_adhd> best_threshold_adhd).astype(int)\n",
    "y_pred              = best_oof_preds_adhd\n",
    "\n",
    "# Flatten if needed\n",
    "y_true = np.ravel(y_true)\n",
    "y_pred = np.ravel(y_pred)\n",
    "\n",
    "# Metrics\n",
    "# Note: for weighted F1, the sex target variable is used (as per competition rules, in the ADHD F1 score females have double weight)\n",
    "weighted_f1 = get_weighted_f1(y_true, y_pred, y_true_sex)\n",
    "f1 = f1_score(y_true, y_pred)\n",
    "precision = precision_score(y_true, y_pred)\n",
    "recall = recall_score(y_true, y_pred)\n",
    "accuracy = accuracy_score(y_true, y_pred)\n",
    "\n",
    "# Output\n",
    "print(\"Weighted F1 score:\", round(weighted_f1, 4))\n",
    "print(\"F1 score:\", round(f1, 4))\n",
    "print(\"Precision:\", round(precision, 4))\n",
    "print(\"Recall:\", round(recall, 4))\n",
    "print(\"Accuracy:\", round(accuracy, 4))"
   ]
  },
  {
   "cell_type": "markdown",
   "metadata": {
    "id": "0prwAk-GTNfA"
   },
   "source": [
    "Confusion matrix (ADHD)"
   ]
  },
  {
   "cell_type": "code",
   "execution_count": 30,
   "metadata": {
    "colab": {
     "base_uri": "https://localhost:8080/",
     "height": 307
    },
    "executionInfo": {
     "elapsed": 504,
     "status": "ok",
     "timestamp": 1745839909045,
     "user": {
      "displayName": "Bence Zaupper",
      "userId": "12735160828860556821"
     },
     "user_tz": -60
    },
    "id": "7Gd7L-4gTNfA",
    "outputId": "0e856955-56f9-41a4-cd53-cdff93c318f4"
   },
   "outputs": [
    {
     "data": {
      "image/png": "[encoded data removed]",
      "text/plain": [
       "<Figure size 600x300 with 2 Axes>"
      ]
     },
     "metadata": {},
     "output_type": "display_data"
    }
   ],
   "source": [
    "# Generate confusion matrix\n",
    "cm = confusion_matrix(y_true, y_pred)\n",
    "\n",
    "# Optional: [TP, FN], [FP, TN] format\n",
    "# If you want to follow your previous manual format:\n",
    "conf_matrix = np.array([[cm[1,1], cm[1,0]],\n",
    "                        [cm[0,1], cm[0,0]]])\n",
    "\n",
    "# Plot\n",
    "cm_labels = ['Positive', 'Negative']\n",
    "categories = ['Positive', 'Negative']\n",
    "plt.figure(figsize=(6, 3))\n",
    "sns.heatmap(conf_matrix, annot=True, fmt='d', cmap='Blues',\n",
    "            xticklabels=cm_labels, yticklabels=categories)\n",
    "\n",
    "plt.title('Confusion Matrix')\n",
    "plt.xlabel('Predicted Labels')\n",
    "plt.ylabel('True Labels')\n",
    "plt.tight_layout()\n",
    "plt.show()"
   ]
  },
  {
   "cell_type": "markdown",
   "metadata": {
    "id": "nbqmWf9UTNfA"
   },
   "source": [
    "### Model Evaluation - Sex model (best)"
   ]
  },
  {
   "cell_type": "markdown",
   "metadata": {
    "id": "EqRrL_1vTNfA"
   },
   "source": [
    "Model performance"
   ]
  },
  {
   "cell_type": "code",
   "execution_count": 31,
   "metadata": {
    "colab": {
     "base_uri": "https://localhost:8080/"
    },
    "executionInfo": {
     "elapsed": 10,
     "status": "ok",
     "timestamp": 1745839909057,
     "user": {
      "displayName": "Bence Zaupper",
      "userId": "12735160828860556821"
     },
     "user_tz": -60
    },
    "id": "Zh9XelRDTNfB",
    "outputId": "7ae4b631-f479-41bf-f384-78365ade7903"
   },
   "outputs": [
    {
     "name": "stdout",
     "output_type": "stream",
     "text": [
      "F1 score: 0.491\n",
      "Precision: 0.421\n",
      "Recall: 0.5889\n",
      "Accuracy: 0.5812\n"
     ]
    }
   ],
   "source": [
    "# Set sex predictions on the validation set based on the optimised (best) threshold and probabilities\n",
    "y_true             = y_true_sex\n",
    "best_oof_preds_sex = (best_oof_probs_sex > best_threshold_sex).astype(int)\n",
    "y_pred             = best_oof_preds_sex\n",
    "\n",
    "# Metrics\n",
    "f1 = f1_score(y_true, y_pred)\n",
    "precision = precision_score(y_true, y_pred)\n",
    "recall = recall_score(y_true, y_pred)\n",
    "accuracy = accuracy_score(y_true, y_pred)\n",
    "\n",
    "# Output\n",
    "print(\"F1 score:\", round(f1, 4))\n",
    "print(\"Precision:\", round(precision, 4))\n",
    "print(\"Recall:\", round(recall, 4))\n",
    "print(\"Accuracy:\", round(accuracy, 4))"
   ]
  },
  {
   "cell_type": "markdown",
   "metadata": {
    "id": "ArBRSPvjTNfB"
   },
   "source": [
    "Confusion matrix"
   ]
  },
  {
   "cell_type": "code",
   "execution_count": 32,
   "metadata": {
    "colab": {
     "base_uri": "https://localhost:8080/",
     "height": 307
    },
    "executionInfo": {
     "elapsed": 251,
     "status": "ok",
     "timestamp": 1745839909310,
     "user": {
      "displayName": "Bence Zaupper",
      "userId": "12735160828860556821"
     },
     "user_tz": -60
    },
    "id": "e0VMie362sdy",
    "outputId": "06a8b8be-9082-4960-ae0c-24baf0ac0d29"
   },
   "outputs": [
    {
     "data": {
      "image/png": "[encoded data removed]",
      "text/plain": [
       "<Figure size 600x300 with 2 Axes>"
      ]
     },
     "metadata": {},
     "output_type": "display_data"
    }
   ],
   "source": [
    "# Generate confusion matrix\n",
    "cm = confusion_matrix(y_true, y_pred)\n",
    "\n",
    "# Optional: [TP, FN], [FP, TN] format\n",
    "# If you want to follow your previous manual format:\n",
    "conf_matrix = np.array([[cm[1,1], cm[1,0]],\n",
    "                        [cm[0,1], cm[0,0]]])\n",
    "\n",
    "# Plot\n",
    "cm_labels = ['Positive', 'Negative']\n",
    "categories = ['Positive', 'Negative']\n",
    "\n",
    "plt.figure(figsize=(6, 3))\n",
    "sns.heatmap(conf_matrix, annot=True, fmt='d', cmap='Blues',\n",
    "            xticklabels=cm_labels, yticklabels=categories)\n",
    "\n",
    "plt.title('Confusion Matrix')\n",
    "plt.xlabel('Predicted Labels')\n",
    "plt.ylabel('True Labels')\n",
    "plt.tight_layout()\n",
    "plt.show()\n"
   ]
  },
  {
   "cell_type": "markdown",
   "metadata": {
    "id": "4QkKg8WZyf-C"
   },
   "source": [
    "## Prediction on the training validation set (for meta classification)"
   ]
  },
  {
   "cell_type": "markdown",
   "metadata": {
    "id": "G8i_QVmQ2sdy"
   },
   "source": [
    "Include ADHD predictions and probabilities on the trainig validation dataset in a pandas dataframe and save to a csv file."
   ]
  },
  {
   "cell_type": "markdown",
   "metadata": {
    "id": "hxv5X3JiTNfC"
   },
   "source": [
    "print(solution.head())"
   ]
  },
  {
   "cell_type": "code",
   "execution_count": 33,
   "metadata": {
    "executionInfo": {
     "elapsed": 154,
     "status": "ok",
     "timestamp": 1745839909467,
     "user": {
      "displayName": "Bence Zaupper",
      "userId": "12735160828860556821"
     },
     "user_tz": -60
    },
    "id": "OvN8tqZB2sdy"
   },
   "outputs": [],
   "source": [
    "participant_id_train = solution.index\n",
    "\n",
    "train_pred_prob_df = pd.DataFrame({\n",
    "    'participant_id': participant_id_train,  # This should be your patient_id array\n",
    "    'pred_sex': best_oof_preds_sex,\n",
    "    'prob_sex': best_oof_probs_sex,\n",
    "    'pred_adhd': best_oof_preds_adhd,\n",
    "    'prob_adhd': best_oof_probs_adhd\n",
    "})\n",
    "\n",
    "# Save to CSV\n",
    "train_pred_prob_df.to_csv(f\"{output_folder}/{model_family}_train_pred_prob.csv\", index=False)"
   ]
  },
  {
   "cell_type": "markdown",
   "metadata": {
    "id": "64YTgcOoy3lA"
   },
   "source": [
    "## Prediction on the test set"
   ]
  },
  {
   "cell_type": "markdown",
   "metadata": {
    "id": "elB8hJoGTNfC"
   },
   "source": [
    "Evaluate model on the test data"
   ]
  },
  {
   "cell_type": "code",
   "execution_count": 34,
   "metadata": {
    "colab": {
     "base_uri": "https://localhost:8080/"
    },
    "executionInfo": {
     "elapsed": 58,
     "status": "ok",
     "timestamp": 1745839909527,
     "user": {
      "displayName": "Bence Zaupper",
      "userId": "12735160828860556821"
     },
     "user_tz": -60
    },
    "id": "I6ioeVNwTNfC",
    "outputId": "b9fe3c42-ee3b-4bae-e115-e0b8e55e44c5"
   },
   "outputs": [
    {
     "name": "stdout",
     "output_type": "stream",
     "text": [
      "First 10 predicted probabilities (Sex model):\n",
      "[0.217678   0.83233781 0.76629311 0.29124199 0.08407611 0.5014572\n",
      " 0.37475608 0.10657687 0.24930184 0.81825418]\n",
      "First 10 predicted probabilities (ADHD model):\n",
      "[0.81693833 0.71108509 0.67659351 0.94919985 0.93939069 0.87066604\n",
      " 0.43995769 0.17542381 0.82859471 0.93633355]\n"
     ]
    }
   ],
   "source": [
    "# Calculate probabilities of belonging to a certain class on the training data\n",
    "y_probs_test_sex = sex_model.predict_proba(X_preprocessed_test)[:, 1]\n",
    "y_probs_test_adhd = adhd_model.predict_proba(X_preprocessed_test)[:, 1]\n",
    "\n",
    "# Use probabilities to perform model prediction on the training data\n",
    "y_pred_test_sex = (y_probs_test_sex > best_threshold_sex).astype(int)\n",
    "y_pred_test_adhd = (y_probs_test_adhd> best_threshold_adhd).astype(int)\n",
    "\n",
    "# Retrieve participant id from the training data\n",
    "test_cat            = test['cat']\n",
    "participant_id_test = test_cat['participant_id']\n",
    "\n",
    "# Check first 10 predicted probabilities for sex model\n",
    "print(\"First 10 predicted probabilities (Sex model):\")\n",
    "print(y_probs_test_sex[:10])\n",
    "\n",
    "# Check first 10 predicted probabilities for adhd model\n",
    "print(\"First 10 predicted probabilities (ADHD model):\")\n",
    "print(y_probs_test_adhd[:10])"
   ]
  },
  {
   "cell_type": "code",
   "execution_count": 35,
   "metadata": {
    "executionInfo": {
     "elapsed": 6,
     "status": "ok",
     "timestamp": 1745839909532,
     "user": {
      "displayName": "Bence Zaupper",
      "userId": "12735160828860556821"
     },
     "user_tz": -60
    },
    "id": "wf7wfomfTNfD"
   },
   "outputs": [],
   "source": [
    "test_pred_prob_df = pd.DataFrame({\n",
    "    'participant_id': participant_id_test,\n",
    "    'pred_sex': y_pred_test_sex,\n",
    "    'prob_sex': y_probs_test_sex,\n",
    "    'pred_adhd': y_pred_test_adhd,\n",
    "    'prob_adhd': y_probs_test_adhd\n",
    "})\n",
    "\n",
    "# Save to CSV\n",
    "test_pred_prob_df.to_csv(f\"{output_folder}/{model_family}_test_pred_prob.csv\", index=False)"
   ]
  },
  {
   "cell_type": "markdown",
   "metadata": {
    "id": "A90c_nuK2sd3"
   },
   "source": [
    "Include preditions on the test dataset to a pandas dataframe and save to a submission csv file."
   ]
  },
  {
   "cell_type": "code",
   "execution_count": 36,
   "metadata": {
    "executionInfo": {
     "elapsed": 4,
     "status": "ok",
     "timestamp": 1745839909534,
     "user": {
      "displayName": "Bence Zaupper",
      "userId": "12735160828860556821"
     },
     "user_tz": -60
    },
    "id": "Z2GzaQAey3lF"
   },
   "outputs": [],
   "source": [
    "submission_cnn_adhd = pd.DataFrame({\n",
    "    'participant_id': participant_id_test,  # Updated to correct test dataset patient IDs\n",
    "    'ADHD_Outcome': y_pred_test_adhd,\n",
    "    'Sex_F': y_pred_test_sex\n",
    "})\n",
    "\n",
    "# Save to CSV\n",
    "submission_cnn_adhd.to_csv(f\"{output_folder}/submission_{model_family}.csv\", index=False)\n"
   ]
  },
  {
   "cell_type": "code",
   "execution_count": 37,
   "metadata": {
    "colab": {
     "base_uri": "https://localhost:8080/"
    },
    "executionInfo": {
     "elapsed": 59,
     "status": "ok",
     "timestamp": 1745839909594,
     "user": {
      "displayName": "Bence Zaupper",
      "userId": "12735160828860556821"
     },
     "user_tz": -60
    },
    "id": "uYUEfTrn2sd3",
    "outputId": "2dfa464a-c824-468a-87a4-540c231f0541"
   },
   "outputs": [
    {
     "name": "stdout",
     "output_type": "stream",
     "text": [
      "Total runtime  is  49.8 minutes\n"
     ]
    }
   ],
   "source": [
    "# Print runtime\n",
    "end_time = time.time()\n",
    "runtime = round((end_time - start_time)/60, 1)\n",
    "print('Total runtime  is ', runtime, 'minutes')"
   ]
  }
 ],
 "metadata": {
  "colab": {
   "provenance": [
    {
     "file_id": "1NEwX2GsD_Fdi7tUmkhlhJMOyThyDGMPC",
     "timestamp": 1745836782759
    }
   ]
  },
  "kaggle": {
   "accelerator": "nvidiaTeslaT4",
   "dataSources": [
    {
     "databundleVersionId": 11498594,
     "sourceId": 90566,
     "sourceType": "competition"
    }
   ],
   "dockerImageVersionId": 30918,
   "isGpuEnabled": true,
   "isInternetEnabled": true,
   "language": "python",
   "sourceType": "notebook"
  },
  "kernelspec": {
   "display_name": "Python 3",
   "name": "python3"
  },
  "language_info": {
   "codemirror_mode": {
    "name": "ipython",
    "version": 3
   },
   "file_extension": ".py",
   "mimetype": "text/x-python",
   "name": "python",
   "nbconvert_exporter": "python",
   "pygments_lexer": "ipython3",
   "version": "3.12.0"
  }
 },
 "nbformat": 4,
 "nbformat_minor": 0
}
