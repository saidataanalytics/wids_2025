{
  "cells": [
    {
      "cell_type": "markdown",
      "metadata": {
        "id": "MLXNVhxsy3k5"
      },
      "source": [
        "# Categorical and quantitative data - hyperparameter tuning - LGBM \n",
        "\n",
        "### Techniques covered in this Notebook\n",
        "- Preprocessing the categorical and quantitative data (excludes connectome matrices / MRI images)\n",
        "- LGBM\n",
        "- Hyperparameter tuning\n",
        "- Feature importance"
      ]
    },
    {
      "cell_type": "code",
      "execution_count": 2,
      "metadata": {},
      "outputs": [],
      "source": [
        "import numpy as np\n",
        "import pandas as pd\n",
        "import os\n",
        "import csv\n",
        "import openpyxl\n",
        "import matplotlib.pyplot as plt\n",
        "import seaborn as sns\n",
        "import time  \n",
        "import lightgbm as lgb \n",
        "from lightgbm import early_stopping, log_evaluation\n",
        "from sklearn.utils import class_weight\n",
        "from sklearn.decomposition import PCA\n",
        "from sklearn.preprocessing import OneHotEncoder\n",
        "from sklearn.preprocessing import StandardScaler\n",
        "from sklearn.impute import SimpleImputer\n",
        "from sklearn.experimental import enable_iterative_imputer\n",
        "from sklearn.impute import IterativeImputer\n",
        "from sklearn.compose import ColumnTransformer\n",
        "from sklearn.pipeline import Pipeline\n",
        "from sklearn.model_selection import train_test_split\n",
        "from sklearn.metrics import f1_score, accuracy_score, precision_score, recall_score\n",
        "from sklearn.metrics import confusion_matrix\n",
        "from sklearn.model_selection import ParameterGrid\n",
        "from sklearn.model_selection import StratifiedKFold\n",
        "import random\n",
        "import itertools\n",
        "import warnings\n",
        "\n",
        "# Suppress FutureWarnings\n",
        "warnings.simplefilter(action='ignore', category=FutureWarning)\n",
        "warnings.simplefilter(action='ignore', category=UserWarning)"
      ]
    },
    {
      "cell_type": "markdown",
      "metadata": {
        "id": "MoObavSgy3k9"
      },
      "source": [
        "## Load the data"
      ]
    },
    {
      "cell_type": "code",
      "execution_count": 3,
      "metadata": {},
      "outputs": [],
      "source": [
        "# Set model family name  no features excluded,  not applied in this version\n",
        "model_family = 'LGBM_thresh_0_30_0_70_(100)_feat_mod7a'"
      ]
    },
    {
      "cell_type": "markdown",
      "metadata": {},
      "source": [
        "Specify data input folder"
      ]
    },
    {
      "cell_type": "code",
      "execution_count": 4,
      "metadata": {},
      "outputs": [],
      "source": [
        "# SET FOLDERS (LOCAL OR REMOTE - COLAB COVERED IN THIS CELL)\n",
        "\n",
        "# Local folders \n",
        "data_input_folder = '../data'\n",
        "output_folder = '../data/Interim'\n",
        "\n",
        "\n",
        "# Colab \n",
        "# Mount drive \n",
        "#from google.colab import drive\n",
        "#drive.mount('/content/drive')\n",
        "\n",
        "# Set Colab folders\n",
        "# data_input_folder = '/content/drive/MyDrive/WIDS_2025'\n",
        "# output_folder = '/content/drive/MyDrive/WIDS_2025/Output'"
      ]
    },
    {
      "cell_type": "markdown",
      "metadata": {},
      "source": [
        "Load training data"
      ]
    },
    {
      "cell_type": "code",
      "execution_count": 5,
      "metadata": {},
      "outputs": [],
      "source": [
        "# Start runtime measurement\n",
        "start_time                 = time.time()\n",
        "\n",
        "# Load categorical data as category:\n",
        "train_cat_features_input   = pd.read_excel(f\"{data_input_folder}/TRAIN_NEW/TRAIN_CATEGORICAL_METADATA_new.xlsx\")\n",
        "train_cat_features_input.sort_values(by='participant_id', inplace=True)\n",
        "\n",
        "# Load additional categorical variables (extracted from connectome matrices)\n",
        "cat_add_columns            = ['participant_id', 'avg_above_overall_avg']\n",
        "train_cat_features_add     = pd.read_csv(f\"{data_input_folder}/Interim/connectome_averages_TRAIN.csv\")[cat_add_columns]\n",
        "train_cat_features_add.sort_values(by='participant_id', inplace=True)\n",
        "\n",
        "# Merge categorical features:\n",
        "train_cat_features         = pd.merge(train_cat_features_input, train_cat_features_add, on='participant_id', how='left')\n",
        "train_cat_features         = train_cat_features.astype('category')\n",
        "\n",
        "# Load quantitative data:\n",
        "train_quant_features_input = pd.read_excel(f\"{data_input_folder}/TRAIN_NEW/TRAIN_QUANTITATIVE_METADATA_new.xlsx\")\n",
        "train_quant_features_input.sort_values(by='participant_id', inplace=True)\n",
        "\n",
        "# Load additional quantitative variables (extracted from connectome matrices)\n",
        "quant_add_columns          = ['participant_id', 'nr_of_cells_above_cell_avg', 'nr_of_cells_above_overall_avg', 'non_diagonal_diffs']\n",
        "train_quant_features_add   = pd.read_csv(f\"{data_input_folder}/Interim/connectome_averages_TRAIN.csv\")[quant_add_columns]\n",
        "train_quant_features_add.sort_values(by='participant_id', inplace=True)\n",
        "\n",
        "# Merge quantitative features:\n",
        "train_quant_features         = pd.merge(train_quant_features_input, train_quant_features_add, on='participant_id', how='left')\n",
        "train_quant_features         = train_quant_features.astype('category')\n",
        "\n",
        "# Load solutions:\n",
        "solution                   = pd.read_excel(f\"{data_input_folder}/TRAIN_NEW/TRAINING_SOLUTIONS.xlsx\")\n",
        "solution.sort_values(by='participant_id', inplace=True)\n",
        "solution                   = solution.astype('category') \n",
        "\n",
        "train_merged               = pd.merge(train_cat_features, train_quant_features, on='participant_id', how='left')\n",
        "train_merged               = pd.merge(train_merged, solution, on='participant_id', how='left')\n",
        "\n",
        "# Dictionary of training data\n",
        "train                      = {'mode': 'train',\n",
        "                              'cat': train_cat_features,\n",
        "                              'quant': train_quant_features,\n",
        "                              'solution': solution,\n",
        "                              'merged': train_merged}"
      ]
    },
    {
      "cell_type": "markdown",
      "metadata": {},
      "source": [
        "Load test data"
      ]
    },
    {
      "cell_type": "code",
      "execution_count": 6,
      "metadata": {},
      "outputs": [],
      "source": [
        "# Load categorical data as category:\n",
        "test_cat_features_input   = pd.read_excel(f\"{data_input_folder}/TEST/TEST_CATEGORICAL.xlsx\")\n",
        "\n",
        "# Load additional categorical variables (extracted from connectome matrices)\n",
        "test_cat_features_add     = pd.read_csv(f\"{data_input_folder}/Interim/connectome_averages_TEST.csv\")[cat_add_columns]\n",
        "test_cat_features_add.sort_values(by='participant_id', inplace=True)\n",
        "\n",
        "# Merge categorical features:\n",
        "test_cat_features         = pd.merge(test_cat_features_input, test_cat_features_add, on='participant_id', how='left')\n",
        "test_cat_features         = test_cat_features.astype('category')\n",
        "\n",
        "# Load quantitative data:\n",
        "test_quant_features_input = pd.read_excel(f\"{data_input_folder}/TEST/TEST_QUANTITATIVE_METADATA.xlsx\")\n",
        "\n",
        "# Load additional quantitative variables (extracted from connectome matrices)\n",
        "test_quant_features_add     = pd.read_csv(f\"{data_input_folder}/Interim/connectome_averages_TEST.csv\")[quant_add_columns]\n",
        "test_quant_features_add.sort_values(by='participant_id', inplace=True)\n",
        "\n",
        "# Merge quantitative features:\n",
        "test_quant_features         = pd.merge(test_quant_features_input, test_quant_features_add, on='participant_id', how='left')\n",
        "test_quant_features         = test_quant_features.astype('category')\n",
        "\n",
        "# Merge datasets into one:\n",
        "test_merged               = pd.merge(test_cat_features, test_quant_features, on='participant_id', how='left')\n",
        "\n",
        "# Dictionary of training data\n",
        "test                      = {'mode': 'TEST',\n",
        "                             'cat': test_cat_features,\n",
        "                             'quant': test_quant_features,\n",
        "                             'solution': None,\n",
        "                             'merged': test_merged}"
      ]
    },
    {
      "cell_type": "markdown",
      "metadata": {
        "id": "Jm0-sF--y3k-"
      },
      "source": [
        "## Set parameters\n",
        "\n",
        "Set parameters for data preprocessing"
      ]
    },
    {
      "cell_type": "code",
      "execution_count": 7,
      "metadata": {
        "execution": {
          "iopub.execute_input": "2025-03-08T13:10:24.980014Z",
          "iopub.status.busy": "2025-03-08T13:10:24.979609Z",
          "iopub.status.idle": "2025-03-08T13:10:24.986477Z",
          "shell.execute_reply": "2025-03-08T13:10:24.985391Z",
          "shell.execute_reply.started": "2025-03-08T13:10:24.979973Z"
        },
        "id": "0ecCoKXuy3k-",
        "trusted": true
      },
      "outputs": [],
      "source": [
        "data_preproc_params = {}\n",
        "\n",
        "# Full list of 9 categorical variables:\n",
        "#   Basic_Demos_Enroll_Year, Basic_Demos_Study_Site, PreInt_Demos_Fam_Child_Ethnicity, PreInt_Demos_Fam_Child_Race,\t\n",
        "#   MRI_Track_Scan_Location, Barratt_Barratt_P1_Edu, Barratt_Barratt_P1_Occ,           Barratt_Barratt_P2_Edu',      Barratt_Barratt_P2_Occ\n",
        "\n",
        "# Full list of 18 quantitatigve variables:\n",
        "#   EHQ_EHQ_Total,\t            ColorVision_CV_Score,  APQ_P_APQ_P_CP,\t          APQ_P_APQ_P_ID,\t         APQ_P_APQ_P_INV,   \n",
        "#   APQ_P_APQ_P_OPD\t            APQ_P_APQ_P_PM,\t       APQ_P_APQ_P_PP\t          SDQ_SDQ_Conduct_Problems,\t SDQ_SDQ_Difficulties_Total, \n",
        "#   SDQ_SDQ_Emotional_Problems\tSDQ_SDQ_Externalizing, SDQ_SDQ_Generating_Impact, SDQ_SDQ_Hyperactivity\t     SDQ_SDQ_Internalizing\t\n",
        "#   SDQ_SDQ_Peer_Problems,      SDQ_SDQ_Prosocial,     MRI_Track_Age_at_Scan\n",
        "\n",
        "data_preproc_params['cat_columns_to_drop']   = ['Basic_Demos_Enroll_Year', 'Basic_Demos_Study_Site', 'MRI_Track_Scan_Location']\n",
        "#                                                    \n",
        "data_preproc_params['quant_columns_to_drop'] = []  \n",
        "\n",
        "# Specify if Principal Component Analysis (PCA) should be used for dimension reduction for quantitative features and connectome matrices:\n",
        "# If yes specify the number of principal components\n",
        "data_preproc_params['apply_pca_quant']                       = False\n",
        "data_preproc_params['nr_pca_components_quant']               = 2\n",
        "\n",
        "# Set imputer methods:\n",
        "data_preproc_params['categorical_imputer_strategy']          = 'most_frequent'         # Options: 'most frequent' \n",
        "\n",
        "data_preproc_params['numeric_imputer']                       = 'iterative'             # Options: 'iterative' or 'simple'\n",
        "                                                                                       # In case 'iterative' selected then a RF regression will be performed\n",
        "data_preproc_params['numeric_imputer_strategy']              = None                    # Options for simple: 'median', 'mean', 'most freqent', 'constant'\n",
        "                                                                          # No options for iterative"
      ]
    },
    {
      "cell_type": "markdown",
      "metadata": {},
      "source": [
        "Set model hyperparameters"
      ]
    },
    {
      "cell_type": "code",
      "execution_count": 8,
      "metadata": {},
      "outputs": [],
      "source": [
        "# Size of random sample selected from hyperparameter range\n",
        "n_samples = 100\n",
        "\n",
        "# Range for \n",
        "threshold_range = np.linspace(0.0, 1.0, 21)\n",
        "\n",
        "model_param_ranges = {\n",
        "    'sex': {\n",
        "        'num_leaves': [15, 31, 63, 127, 255, 511, 1023, 2047],  # Wider range of num_leaves\n",
        "        'learning_rate': [0.005, 0.01, 0.02, 0.03, 0.04],  # Expanded learning rate range\n",
        "        'n_estimators': {'min': 100, 'max': 1000, 'step': 100},  # Will be expanded to a list in sampling\n",
        "        'max_depth': [3, 5, 7, 9, 12, 15],\n",
        "        'min_data_in_leaf': [1, 3, 5, 10, 20, 50, 100],\n",
        "        'subsample': [0.5, 0.6, 0.7, 0.8, 0.9, 1.0],\n",
        "        'colsample_bytree': [0.5, 0.6, 0.7, 0.8, 0.9, 1.0],\n",
        "        'lambda_l1': [0, 0.1, 0.5, 1.0, 2.0],\n",
        "        'lambda_l2': [0, 0.1, 0.5, 1.0, 2.0],\n",
        "        'early_stopping_rounds': [50],  # fixed parameter\n",
        "        'verbose': [-1]  # fixed parameter\n",
        "\n",
        "    },\n",
        "\n",
        "    'adhd': {\n",
        "        'num_leaves': [15, 31, 63, 127],  # Wider range of num_leaves\n",
        "        'learning_rate': [0.001, 0.005, 0.01, 0.02],  # Expanded learning rate range\n",
        "        'n_estimators': {'min': 100, 'max': 500, 'step': 100},  # Will be expanded to a list in sampling\n",
        "        'max_depth': [3, 5, 7],\n",
        "        'min_data_in_leaf': [10, 20, 50],\n",
        "        'subsample': [0.5, 0.6, 0.7, 0.8, 0.9, 1.0],\n",
        "        'colsample_bytree': [0.5, 0.6, 0.7, 0.8, 0.9, 1.0],\n",
        "        'lambda_l1': [0, 0.1, 0.5, 1.0, 2.0],\n",
        "        'lambda_l2': [0, 0.1, 0.5, 1.0, 2.0],\n",
        "        'early_stopping_rounds': [50],  # fixed parameter\n",
        "        'verbose': [-1]  # fixed parameter                           \n",
        "    }\n",
        "}\n"
      ]
    },
    {
      "cell_type": "markdown",
      "metadata": {},
      "source": [
        "Set model evaluation parameters"
      ]
    },
    {
      "cell_type": "code",
      "execution_count": 9,
      "metadata": {},
      "outputs": [],
      "source": [
        "# Number of folds (k) for k-fold cross-validation:\n",
        "nr_of_folds      = 5 "
      ]
    },
    {
      "cell_type": "markdown",
      "metadata": {},
      "source": [
        "## Data preprocessing"
      ]
    },
    {
      "cell_type": "markdown",
      "metadata": {},
      "source": [
        "Define Principal Component Analysis (PCA)"
      ]
    },
    {
      "cell_type": "code",
      "execution_count": 10,
      "metadata": {},
      "outputs": [],
      "source": [
        "def drop_columns(data, data_preproc_params):\n",
        "    \n",
        "    mode = data['mode']\n",
        "\n",
        "    # Merge categorical and quantitative columns to drop (no columns dropped from connectome matrix):\n",
        "    cat_columns_to_drop = data_preproc_params['cat_columns_to_drop']\n",
        "    quant_columns_to_drop = data_preproc_params['quant_columns_to_drop']\n",
        "\n",
        "    # Drop selected columns for categorical and quantitative data:\n",
        "    data['cat'] = data['cat'].drop(cat_columns_to_drop, axis=1)\n",
        "    data['quant'] = data['quant'].drop(quant_columns_to_drop, axis=1)\n",
        "\n",
        "    # Merge cat and quant\n",
        "    data['merged'] = pd.merge(data['cat'], data['quant'], on='participant_id', how='left')\n",
        "\n",
        "    # Merge solution in TRAIN mode only\n",
        "    if mode == 'TRAIN':\n",
        "        solution = data['solution']  # <-- important!\n",
        "        data['merged'] = pd.merge(data['merged'], solution, on='participant_id', how='left')\n",
        "\n",
        "    return data"
      ]
    },
    {
      "cell_type": "code",
      "execution_count": 11,
      "metadata": {},
      "outputs": [],
      "source": [
        "def preprocess_data_fit(data, data_preproc_params):\n",
        "    \"\"\"\n",
        "    Perform data preprocessing on training or test data.\n",
        "    If training, includes PCA fitting.\n",
        "    \"\"\"\n",
        "    apply_pca_quant = data_preproc_params['apply_pca_quant']\n",
        "    nr_pca_components_quant = data_preproc_params['nr_pca_components_quant']\n",
        "\n",
        "    # Retrieved merged data\n",
        "    data_merged = data['merged']\n",
        "\n",
        "    # Drop participant id and target columns\n",
        "    X = data_merged.drop(['participant_id', 'ADHD_Outcome', 'Sex_F'], axis=1, errors='ignore')\n",
        "\n",
        "    # Identify feature types\n",
        "    categorical_features = X.select_dtypes(include=['object', 'category']).columns.tolist()\n",
        "    numerical_features = X.select_dtypes(exclude=['object', 'category']).columns.tolist()\n",
        "\n",
        "    # Get imputers\n",
        "    numeric_imputer = data_preproc_params['numeric_imputer']\n",
        "    numeric_imputer_strategy = data_preproc_params['numeric_imputer_strategy']\n",
        "    categorical_imputer_strategy = data_preproc_params['categorical_imputer_strategy']\n",
        "\n",
        "    # Numeric pipeline steps list\n",
        "    numeric_transformer_steps = [\n",
        "        ('imputer', SimpleImputer(strategy=numeric_imputer_strategy)),\n",
        "        ('scaler', StandardScaler())\n",
        "    ] if numeric_imputer == 'simple' else [\n",
        "        ('imputer', IterativeImputer(random_state=0)),\n",
        "        ('scaler', StandardScaler())\n",
        "    ]\n",
        "\n",
        "    # Add PCA to the numeric pipeline steps list if PCA is required\n",
        "    if apply_pca_quant:\n",
        "        numeric_transformer_steps.append(('pca', PCA(n_components=nr_pca_components_quant)))\n",
        "\n",
        "    # Create the numeric pipeline with the updated steps\n",
        "    numeric_transformer = Pipeline(steps=numeric_transformer_steps)\n",
        "\n",
        "    # Categorical pipeline (only imputing missing values, no one-hot encoding)\n",
        "    categorical_transformer = Pipeline(steps=[\n",
        "        ('imputer', SimpleImputer(strategy=categorical_imputer_strategy))\n",
        "        # No OneHotEncoder here anymore\n",
        "    ])\n",
        "\n",
        "    # Full preprocessor\n",
        "    preprocessor = ColumnTransformer(\n",
        "        transformers=[\n",
        "            ('num', numeric_transformer, numerical_features),\n",
        "            ('cat', categorical_transformer, categorical_features)\n",
        "        ]\n",
        "    )\n",
        "\n",
        "    # Fit preprocessor on training data\n",
        "    preprocessor.fit(X)\n",
        "\n",
        "    # After preprocessing, numerical features are scaled (and PCA'd optionally)\n",
        "    # and categorical features are still intact (just missing values filled)\n",
        "    # So feature names are just numerical + categorical original names\n",
        "\n",
        "    return preprocessor\n"
      ]
    },
    {
      "cell_type": "code",
      "execution_count": 12,
      "metadata": {},
      "outputs": [],
      "source": [
        "def preprocess_data_transform(data, preprocessor):\n",
        "    \"\"\"\n",
        "    Apply data preprocessing (including PCA transformation if requested) to data.\n",
        "    Uses the provided preprocessor and applies transformations.\n",
        "    \"\"\"\n",
        "    # Preprocess data with the provided preprocessor\n",
        "    data_merged = data['merged']\n",
        "    \n",
        "    # Ensure you select the correct features based on your ColumnTransformer\n",
        "    X = data_merged.drop(['participant_id', 'ADHD_Outcome', 'Sex_F'], axis=1, errors='ignore')\n",
        "\n",
        "    # Apply preprocessing (numeric and categorical transformations)\n",
        "    data_transformed = preprocessor.transform(X)\n",
        "    \n",
        "    # Convert the transformed data to a DataFrame\n",
        "    data_transformed_df = pd.DataFrame(\n",
        "        data_transformed, \n",
        "        index=X.index,\n",
        "        columns=preprocessor.get_feature_names_out()\n",
        "    )\n",
        "\n",
        "    print('Data transformed df cols:', data_transformed_df.columns)\n",
        "    print('Data transformed df shape:', data_transformed_df.shape)\n",
        "\n",
        "    # No need for PCA application here since it's done in preprocessing\n",
        "\n",
        "    return data_transformed_df"
      ]
    },
    {
      "cell_type": "markdown",
      "metadata": {},
      "source": [
        "Drop unused columns"
      ]
    },
    {
      "cell_type": "code",
      "execution_count": 13,
      "metadata": {},
      "outputs": [],
      "source": [
        "train                               = drop_columns(train, data_preproc_params)\n",
        "test                                = drop_columns(test, data_preproc_params)"
      ]
    },
    {
      "cell_type": "markdown",
      "metadata": {},
      "source": [
        "Perform data preprocessing (fit preprocessor and perform PCA if required)"
      ]
    },
    {
      "cell_type": "code",
      "execution_count": 14,
      "metadata": {},
      "outputs": [],
      "source": [
        "preprocessor = preprocess_data_fit(train, data_preproc_params)"
      ]
    },
    {
      "cell_type": "markdown",
      "metadata": {},
      "source": [
        "Perform data transformation to prepare data for training"
      ]
    },
    {
      "cell_type": "code",
      "execution_count": 15,
      "metadata": {},
      "outputs": [
        {
          "name": "stdout",
          "output_type": "stream",
          "text": [
            "Data transformed df cols: Index(['cat__PreInt_Demos_Fam_Child_Ethnicity',\n",
            "       'cat__PreInt_Demos_Fam_Child_Race', 'cat__Barratt_Barratt_P1_Edu',\n",
            "       'cat__Barratt_Barratt_P1_Occ', 'cat__Barratt_Barratt_P2_Edu',\n",
            "       'cat__Barratt_Barratt_P2_Occ', 'cat__avg_above_overall_avg',\n",
            "       'cat__EHQ_EHQ_Total', 'cat__ColorVision_CV_Score',\n",
            "       'cat__APQ_P_APQ_P_CP', 'cat__APQ_P_APQ_P_ID', 'cat__APQ_P_APQ_P_INV',\n",
            "       'cat__APQ_P_APQ_P_OPD', 'cat__APQ_P_APQ_P_PM', 'cat__APQ_P_APQ_P_PP',\n",
            "       'cat__SDQ_SDQ_Conduct_Problems', 'cat__SDQ_SDQ_Difficulties_Total',\n",
            "       'cat__SDQ_SDQ_Emotional_Problems', 'cat__SDQ_SDQ_Externalizing',\n",
            "       'cat__SDQ_SDQ_Generating_Impact', 'cat__SDQ_SDQ_Hyperactivity',\n",
            "       'cat__SDQ_SDQ_Internalizing', 'cat__SDQ_SDQ_Peer_Problems',\n",
            "       'cat__SDQ_SDQ_Prosocial', 'cat__MRI_Track_Age_at_Scan',\n",
            "       'cat__nr_of_cells_above_cell_avg', 'cat__nr_of_cells_above_overall_avg',\n",
            "       'cat__non_diagonal_diffs'],\n",
            "      dtype='object')\n",
            "Data transformed df shape: (1213, 28)\n",
            "Data transformed df cols: Index(['cat__PreInt_Demos_Fam_Child_Ethnicity',\n",
            "       'cat__PreInt_Demos_Fam_Child_Race', 'cat__Barratt_Barratt_P1_Edu',\n",
            "       'cat__Barratt_Barratt_P1_Occ', 'cat__Barratt_Barratt_P2_Edu',\n",
            "       'cat__Barratt_Barratt_P2_Occ', 'cat__avg_above_overall_avg',\n",
            "       'cat__EHQ_EHQ_Total', 'cat__ColorVision_CV_Score',\n",
            "       'cat__APQ_P_APQ_P_CP', 'cat__APQ_P_APQ_P_ID', 'cat__APQ_P_APQ_P_INV',\n",
            "       'cat__APQ_P_APQ_P_OPD', 'cat__APQ_P_APQ_P_PM', 'cat__APQ_P_APQ_P_PP',\n",
            "       'cat__SDQ_SDQ_Conduct_Problems', 'cat__SDQ_SDQ_Difficulties_Total',\n",
            "       'cat__SDQ_SDQ_Emotional_Problems', 'cat__SDQ_SDQ_Externalizing',\n",
            "       'cat__SDQ_SDQ_Generating_Impact', 'cat__SDQ_SDQ_Hyperactivity',\n",
            "       'cat__SDQ_SDQ_Internalizing', 'cat__SDQ_SDQ_Peer_Problems',\n",
            "       'cat__SDQ_SDQ_Prosocial', 'cat__MRI_Track_Age_at_Scan',\n",
            "       'cat__nr_of_cells_above_cell_avg', 'cat__nr_of_cells_above_overall_avg',\n",
            "       'cat__non_diagonal_diffs'],\n",
            "      dtype='object')\n",
            "Data transformed df shape: (304, 28)\n"
          ]
        }
      ],
      "source": [
        "X_preprocessed_train                = preprocess_data_transform(train, preprocessor)\n",
        "X_preprocessed_test                 = preprocess_data_transform(test, preprocessor)"
      ]
    },
    {
      "cell_type": "markdown",
      "metadata": {
        "id": "dqzC5Tbr2sdy"
      },
      "source": [
        "## Model training and hyperparameter tuning"
      ]
    },
    {
      "cell_type": "markdown",
      "metadata": {},
      "source": [
        "Define weighted F1 score (evaluation metric specified in the Datathon where females have double weight for ADHD prediction)"
      ]
    },
    {
      "cell_type": "code",
      "execution_count": 16,
      "metadata": {},
      "outputs": [],
      "source": [
        "def get_weighted_f1(y_true, y_pred, sex, female_weight = 2.0, male_weight = 1.0):\n",
        "\n",
        "    sample_weight = np.where(sex == 1, female_weight, male_weight)\n",
        "    return f1_score(y_true, y_pred, average='binary', sample_weight=sample_weight)"
      ]
    },
    {
      "cell_type": "markdown",
      "metadata": {},
      "source": [
        "### Train model on a grid of hyperparameters and select the best model (highest F1 score)"
      ]
    },
    {
      "cell_type": "markdown",
      "metadata": {},
      "source": [
        "Expand parameter ranges for hypermarameter tuning (using model_param_ranges )"
      ]
    },
    {
      "cell_type": "code",
      "execution_count": 17,
      "metadata": {},
      "outputs": [],
      "source": [
        "def sample_param_grid(param_dict, n_samples=n_samples, seed=42):\n",
        "    random.seed(seed)\n",
        "    np.random.seed(seed)\n",
        "\n",
        "    # Expand any param defined with min/max/step\n",
        "    expanded = {}\n",
        "    for key, value in param_dict.items():\n",
        "        if isinstance(value, dict) and {'min', 'max', 'step'}.issubset(value.keys()):\n",
        "            expanded[key] = list(range(value['min'], value['max'] + 1, value['step']))\n",
        "        else:\n",
        "            expanded[key] = value\n",
        "\n",
        "    # Now sample from the full grid\n",
        "    keys = list(expanded.keys())\n",
        "    all_combinations = list(itertools.product(*(expanded[key] for key in keys)))\n",
        "    print(f\"Total possible combinations: {len(all_combinations)}\")\n",
        "\n",
        "    sampled_combinations = random.sample(all_combinations, min(n_samples, len(all_combinations)))\n",
        "\n",
        "    # Convert list of tuples to list of dicts\n",
        "    sampled_param_dicts = [dict(zip(keys, combo)) for combo in sampled_combinations]\n",
        "    return sampled_param_dicts\n"
      ]
    },
    {
      "cell_type": "markdown",
      "metadata": {},
      "source": [
        "Define function for hyperparameter tuning and model selection"
      ]
    },
    {
      "cell_type": "code",
      "execution_count": 18,
      "metadata": {},
      "outputs": [],
      "source": [
        "def select_best_model(X_preprocessed_train, y_actual, nr_of_folds, model_param_ranges,\n",
        "                      target, y_true_sex=None, n_samples=n_samples):\n",
        "\n",
        "    best_metric = -1\n",
        "    best_model = None\n",
        "    best_params = None\n",
        "    best_oof_probs = None\n",
        "    fixed_threshold = 0.5\n",
        "\n",
        "    param_grid = sample_param_grid(model_param_ranges[target], n_samples=n_samples)\n",
        "\n",
        "    skf = StratifiedKFold(n_splits=nr_of_folds, shuffle=True, random_state=42)\n",
        "\n",
        "    for i, param_combo in enumerate(param_grid, start=1):\n",
        "\n",
        "        oof_preds = np.zeros(len(y_actual))\n",
        "\n",
        "        for train_idx, val_idx in skf.split(X_preprocessed_train, y_actual):\n",
        "            X_train, X_val = X_preprocessed_train.iloc[train_idx], X_preprocessed_train.iloc[val_idx]\n",
        "            y_train, y_val = y_actual.iloc[train_idx], y_actual.iloc[val_idx]\n",
        "\n",
        "            model = lgb.LGBMClassifier(\n",
        "                objective='binary',\n",
        "                metric='binary_logloss',\n",
        "                **param_combo\n",
        "            )\n",
        "\n",
        "            model.fit(\n",
        "                X_train,\n",
        "                y_train,\n",
        "                eval_set=[(X_val, y_val)]\n",
        "            )\n",
        "\n",
        "            preds = model.predict_proba(X_val)[:, 1]\n",
        "            oof_preds[val_idx] = preds\n",
        "\n",
        "        y_pred = (oof_preds > fixed_threshold).astype(int)\n",
        "\n",
        "        if target == 'adhd':\n",
        "            metric = get_weighted_f1(y_actual, y_pred, y_true_sex)\n",
        "        else:\n",
        "            metric = f1_score(y_actual, y_pred)\n",
        "\n",
        "        if metric > best_metric:\n",
        "            best_metric = metric\n",
        "            best_model = model  # Use the model from the cross-validation loop\n",
        "            best_params = param_combo\n",
        "            best_oof_probs = oof_preds\n",
        "\n",
        "        if i % 50 == 0:\n",
        "            print(f\"{i} parameter combinations processed for {target} model selection | Best F1: {best_metric:.4f}\")\n",
        "\n",
        "    best_params['fixed_threshold'] = fixed_threshold\n",
        "    return best_model, best_metric, best_params, best_oof_probs"
      ]
    },
    {
      "cell_type": "markdown",
      "metadata": {},
      "source": [
        "Set ADHD and set models to the best ones. Note that the best F1 scores here are not the final ones as they were calculated using a prediction threshold of 0.5 (to be optimised in the following step)"
      ]
    },
    {
      "cell_type": "code",
      "execution_count": 19,
      "metadata": {},
      "outputs": [
        {
          "name": "stdout",
          "output_type": "stream",
          "text": [
            "Total possible combinations: 15120000\n",
            "50 parameter combinations processed for sex model selection | Best F1: 0.2222\n",
            "100 parameter combinations processed for sex model selection | Best F1: 0.2362\n",
            "Total possible combinations: 648000\n",
            "50 parameter combinations processed for adhd model selection | Best F1: 0.8583\n",
            "100 parameter combinations processed for adhd model selection | Best F1: 0.8583\n"
          ]
        }
      ],
      "source": [
        "# Specify actual labels:\n",
        "y_actual_sex  = train_merged['Sex_F'].astype(int)  # Ensure this aligns 100% with X_preprocessed_train\n",
        "y_actual_adhd = train_merged['ADHD_Outcome'].astype(int)  # Ensure this aligns 100% with X_preprocessed_train\n",
        "\n",
        "# Train sex model first\n",
        "sex_model, best_f1_sex, best_params_sex, best_oof_probs_sex = select_best_model(\n",
        "    X_preprocessed_train, y_actual_sex, nr_of_folds, model_param_ranges, target='sex')\n",
        "\n",
        "# Then ADHD model\n",
        "adhd_model,  best_f1_adhd, best_params_adhd, best_oof_probs_adhd = select_best_model(\n",
        "    X_preprocessed_train, y_actual_adhd, nr_of_folds, model_param_ranges, target='adhd',\n",
        "    y_true_sex = y_actual_sex)"
      ]
    },
    {
      "cell_type": "markdown",
      "metadata": {},
      "source": [
        "Print interim best F1 scores (with prediction threshold = 0.5)"
      ]
    },
    {
      "cell_type": "code",
      "execution_count": 20,
      "metadata": {},
      "outputs": [
        {
          "name": "stdout",
          "output_type": "stream",
          "text": [
            "Best interim F1 score for ADHD - weighted with double weights for females:  0.8583\n",
            "Best interim F1 score for Sex - unweighted:  0.2362\n"
          ]
        }
      ],
      "source": [
        "print('Best interim F1 score for ADHD - weighted with double weights for females: ', round(best_f1_adhd, 4))\n",
        "print('Best interim F1 score for Sex - unweighted: ', round(best_f1_sex, 4))"
      ]
    },
    {
      "cell_type": "markdown",
      "metadata": {},
      "source": [
        "Find best threshold for prediction:"
      ]
    },
    {
      "cell_type": "code",
      "execution_count": 21,
      "metadata": {},
      "outputs": [],
      "source": [
        "def find_best_threshold(y_true, best_oof_probs, target, y_true_sex=None, plot=True):\n",
        "    thresholds = threshold_range\n",
        "    metrics = []\n",
        "\n",
        "    for t in thresholds:\n",
        "        y_pred = (best_oof_probs > t).astype(int)\n",
        "        metric = (\n",
        "            f1_score(y_true, y_pred) if target == 'sex'\n",
        "            else get_weighted_f1(y_true, y_pred, y_true_sex)\n",
        "        )\n",
        "        metrics.append(metric)\n",
        "\n",
        "    best_idx = np.argmax(metrics)\n",
        "    best_threshold = thresholds[best_idx]\n",
        "    best_metric = metrics[best_idx]\n",
        "\n",
        "    if plot:\n",
        "        plt.figure(figsize=(8, 5))\n",
        "        plt.plot(thresholds, metrics, marker='o')\n",
        "        plt.scatter(best_threshold, best_metric, color='red', label=f'Best threshold = {best_threshold:.3f}')\n",
        "        plt.xlabel('Threshold')\n",
        "        plt.ylabel('F1 Score' if target == 'sex' else 'Weighted F1 Score')\n",
        "        plt.title(f'F1 Score vs Threshold for {target}')\n",
        "        plt.legend()\n",
        "        plt.grid(True)\n",
        "        plt.show()\n",
        "\n",
        "    return best_threshold, best_metric\n"
      ]
    },
    {
      "cell_type": "markdown",
      "metadata": {},
      "source": [
        "Print highest F1 scores and corresponding thresholds"
      ]
    },
    {
      "cell_type": "markdown",
      "metadata": {},
      "source": [
        "ADHD"
      ]
    },
    {
      "cell_type": "code",
      "execution_count": 22,
      "metadata": {},
      "outputs": [
        {
          "data": {
            "image/png": "[encoded data removed]",
            "text/plain": [
              "<Figure size 800x500 with 1 Axes>"
            ]
          },
          "metadata": {},
          "output_type": "display_data"
        },
        {
          "name": "stdout",
          "output_type": "stream",
          "text": [
            "For ADHD prediction the best prediction threshold is 0.5\n",
            "Highest F1 score for sex ADHD with LGBM_thresh_0_30_0_70_(100)_feat_mod7a: 0.8583\n",
            "\n",
            "  num_leaves: 127\n",
            "  learning_rate: 0.02\n",
            "  n_estimators: 200\n",
            "  max_depth: 3\n",
            "  min_data_in_leaf: 50\n",
            "  subsample: 0.8\n",
            "  colsample_bytree: 0.6\n",
            "  lambda_l1: 0.5\n",
            "  lambda_l2: 2.0\n",
            "  early_stopping_rounds: 50\n",
            "  verbose: -1\n",
            "  fixed_threshold: 0.5\n"
          ]
        }
      ],
      "source": [
        "# Determine best threshold and best F1 score\n",
        "best_threshold_adhd, best_f1_score_adhd = find_best_threshold(y_actual_adhd, best_oof_probs_adhd, 'adhd', y_actual_sex)\n",
        "\n",
        "print(f'For ADHD prediction the best prediction threshold is {best_threshold_adhd}')\n",
        "print(f'Highest F1 score for sex ADHD with {model_family}: {round(best_f1_score_adhd, 4)}\\n')\n",
        "for param, value in best_params_adhd.items():\n",
        "    print(f\"  {param}: {value}\")"
      ]
    },
    {
      "cell_type": "markdown",
      "metadata": {},
      "source": [
        "Sex"
      ]
    },
    {
      "cell_type": "code",
      "execution_count": 23,
      "metadata": {},
      "outputs": [
        {
          "data": {
            "image/png": "[encoded data removed]",
            "text/plain": [
              "<Figure size 800x500 with 1 Axes>"
            ]
          },
          "metadata": {},
          "output_type": "display_data"
        },
        {
          "name": "stdout",
          "output_type": "stream",
          "text": [
            "For sex prediction the best prediction threshold is 0.30000000000000004\n",
            "Highest F1 score for sex with LGBM_thresh_0_30_0_70_(100)_feat_mod7a: 0.5307]\n",
            "\n",
            "  num_leaves: 511\n",
            "  learning_rate: 0.04\n",
            "  n_estimators: 800\n",
            "  max_depth: 7\n",
            "  min_data_in_leaf: 20\n",
            "  subsample: 1.0\n",
            "  colsample_bytree: 0.9\n",
            "  lambda_l1: 2.0\n",
            "  lambda_l2: 1.0\n",
            "  early_stopping_rounds: 50\n",
            "  verbose: -1\n",
            "  fixed_threshold: 0.5\n"
          ]
        }
      ],
      "source": [
        "# Determine best threshold for Sex\n",
        "best_threshold_sex, best_f1_score_sex = find_best_threshold(y_actual_sex, best_oof_probs_sex, 'sex')\n",
        "print(f'For sex prediction the best prediction threshold is {best_threshold_sex}')\n",
        "print(f'Highest F1 score for sex with {model_family}: {round(best_f1_score_sex, 4)}]\\n')\n",
        "for param, value in best_params_sex.items():\n",
        "    print(f\"  {param}: {value}\")"
      ]
    },
    {
      "cell_type": "markdown",
      "metadata": {},
      "source": [
        "## Feature importance"
      ]
    },
    {
      "cell_type": "markdown",
      "metadata": {},
      "source": [
        "### Feature importance - gain"
      ]
    },
    {
      "cell_type": "markdown",
      "metadata": {},
      "source": [
        "ADHD"
      ]
    },
    {
      "cell_type": "code",
      "execution_count": 24,
      "metadata": {},
      "outputs": [
        {
          "name": "stdout",
          "output_type": "stream",
          "text": [
            "                                  feature   importance\n",
            "20             cat__SDQ_SDQ_Hyperactivity  5985.132565\n",
            "18             cat__SDQ_SDQ_Externalizing  1461.377312\n",
            "16        cat__SDQ_SDQ_Difficulties_Total  1204.975928\n",
            "19         cat__SDQ_SDQ_Generating_Impact   787.820038\n",
            "12                   cat__APQ_P_APQ_P_OPD   192.744361\n",
            "27                cat__non_diagonal_diffs   177.461072\n",
            "24             cat__MRI_Track_Age_at_Scan   160.927327\n",
            "11                   cat__APQ_P_APQ_P_INV   145.417002\n",
            "3             cat__Barratt_Barratt_P1_Occ   143.052963\n",
            "15          cat__SDQ_SDQ_Conduct_Problems   113.990421\n",
            "14                    cat__APQ_P_APQ_P_PP   106.327248\n",
            "1        cat__PreInt_Demos_Fam_Child_Race    97.967533\n",
            "26     cat__nr_of_cells_above_overall_avg    88.943532\n",
            "25        cat__nr_of_cells_above_cell_avg    84.180300\n",
            "17        cat__SDQ_SDQ_Emotional_Problems    84.147089\n",
            "13                    cat__APQ_P_APQ_P_PM    80.430145\n",
            "5             cat__Barratt_Barratt_P2_Occ    76.427700\n",
            "4             cat__Barratt_Barratt_P2_Edu    68.486938\n",
            "9                     cat__APQ_P_APQ_P_CP    50.408250\n",
            "21             cat__SDQ_SDQ_Internalizing    48.153110\n",
            "7                      cat__EHQ_EHQ_Total    35.723726\n",
            "22             cat__SDQ_SDQ_Peer_Problems    29.504054\n",
            "23                 cat__SDQ_SDQ_Prosocial    23.049740\n",
            "8               cat__ColorVision_CV_Score     8.520230\n",
            "10                    cat__APQ_P_APQ_P_ID     8.449163\n",
            "0   cat__PreInt_Demos_Fam_Child_Ethnicity     2.589560\n",
            "6              cat__avg_above_overall_avg     0.371815\n",
            "2             cat__Barratt_Barratt_P1_Edu     0.000000\n"
          ]
        }
      ],
      "source": [
        "adhd_feature_importances = adhd_model.booster_.feature_importance(importance_type='gain')\n",
        "adhd_feature_names       = adhd_model.booster_.feature_name()\n",
        "\n",
        "adhd_importance_df = pd.DataFrame({\n",
        "    'feature': adhd_feature_names,\n",
        "    'importance': adhd_feature_importances\n",
        "}).sort_values('importance', ascending=False)\n",
        "\n",
        "print(adhd_importance_df)"
      ]
    },
    {
      "cell_type": "markdown",
      "metadata": {},
      "source": [
        "Sex"
      ]
    },
    {
      "cell_type": "code",
      "execution_count": 25,
      "metadata": {},
      "outputs": [
        {
          "name": "stdout",
          "output_type": "stream",
          "text": [
            "                                  feature  importance\n",
            "20             cat__SDQ_SDQ_Hyperactivity  273.474752\n",
            "17        cat__SDQ_SDQ_Emotional_Problems  268.641460\n",
            "25        cat__nr_of_cells_above_cell_avg  259.181480\n",
            "5             cat__Barratt_Barratt_P2_Occ  216.243353\n",
            "7                      cat__EHQ_EHQ_Total  194.534418\n",
            "23                 cat__SDQ_SDQ_Prosocial  178.374224\n",
            "24             cat__MRI_Track_Age_at_Scan  176.532099\n",
            "13                    cat__APQ_P_APQ_P_PM  163.422298\n",
            "27                cat__non_diagonal_diffs  159.408181\n",
            "21             cat__SDQ_SDQ_Internalizing  146.411154\n",
            "11                   cat__APQ_P_APQ_P_INV  145.702705\n",
            "14                    cat__APQ_P_APQ_P_PP  127.245248\n",
            "3             cat__Barratt_Barratt_P1_Occ  126.801223\n",
            "1        cat__PreInt_Demos_Fam_Child_Race  124.834870\n",
            "26     cat__nr_of_cells_above_overall_avg  122.416419\n",
            "10                    cat__APQ_P_APQ_P_ID  109.685047\n",
            "8               cat__ColorVision_CV_Score   79.742200\n",
            "12                   cat__APQ_P_APQ_P_OPD   77.856031\n",
            "19         cat__SDQ_SDQ_Generating_Impact   62.215656\n",
            "18             cat__SDQ_SDQ_Externalizing   61.780889\n",
            "9                     cat__APQ_P_APQ_P_CP   42.247038\n",
            "16        cat__SDQ_SDQ_Difficulties_Total   39.145266\n",
            "2             cat__Barratt_Barratt_P1_Edu   29.377460\n",
            "15          cat__SDQ_SDQ_Conduct_Problems   28.307544\n",
            "22             cat__SDQ_SDQ_Peer_Problems   26.344067\n",
            "4             cat__Barratt_Barratt_P2_Edu   18.560186\n",
            "0   cat__PreInt_Demos_Fam_Child_Ethnicity   15.506140\n",
            "6              cat__avg_above_overall_avg    2.358310\n"
          ]
        }
      ],
      "source": [
        "sex_feature_importances = sex_model.booster_.feature_importance(importance_type='gain')\n",
        "sex_feature_names       = sex_model.booster_.feature_name()\n",
        "\n",
        "sex_importance_df = pd.DataFrame({\n",
        "    'feature': sex_feature_names,\n",
        "    'importance': sex_feature_importances\n",
        "}).sort_values('importance', ascending=False)\n",
        "\n",
        "print(sex_importance_df)"
      ]
    },
    {
      "cell_type": "markdown",
      "metadata": {},
      "source": [
        "Distinguish between important and not important features"
      ]
    },
    {
      "cell_type": "code",
      "execution_count": 26,
      "metadata": {},
      "outputs": [
        {
          "name": "stdout",
          "output_type": "stream",
          "text": [
            "Important features for ADHD prediction (>90% importance):\n",
            "['cat__SDQ_SDQ_Hyperactivity', 'cat__SDQ_SDQ_Externalizing', 'cat__SDQ_SDQ_Difficulties_Total', 'cat__SDQ_SDQ_Generating_Impact', 'cat__APQ_P_APQ_P_OPD', 'cat__non_diagonal_diffs', 'cat__MRI_Track_Age_at_Scan', 'cat__APQ_P_APQ_P_INV']\n",
            "\n",
            "Important features for Sex prediction (>90% importance):\n",
            "['cat__SDQ_SDQ_Hyperactivity', 'cat__SDQ_SDQ_Emotional_Problems', 'cat__nr_of_cells_above_cell_avg', 'cat__Barratt_Barratt_P2_Occ', 'cat__EHQ_EHQ_Total', 'cat__SDQ_SDQ_Prosocial', 'cat__MRI_Track_Age_at_Scan', 'cat__APQ_P_APQ_P_PM', 'cat__non_diagonal_diffs', 'cat__SDQ_SDQ_Internalizing', 'cat__APQ_P_APQ_P_INV', 'cat__APQ_P_APQ_P_PP', 'cat__Barratt_Barratt_P1_Occ', 'cat__PreInt_Demos_Fam_Child_Race', 'cat__nr_of_cells_above_overall_avg', 'cat__APQ_P_APQ_P_ID', 'cat__ColorVision_CV_Score']\n",
            "\n",
            "Features to drop (not important for either):\n",
            "['cat__PreInt_Demos_Fam_Child_Ethnicity', 'cat__SDQ_SDQ_Peer_Problems', 'cat__APQ_P_APQ_P_CP', 'cat__Barratt_Barratt_P2_Edu', 'cat__avg_above_overall_avg', 'cat__SDQ_SDQ_Conduct_Problems', 'cat__Barratt_Barratt_P1_Edu']\n"
          ]
        }
      ],
      "source": [
        "# First, add cumulative importance columns\n",
        "adhd_importance_df['cumulative_importance'] = adhd_importance_df['importance'].cumsum() / adhd_importance_df['importance'].sum()\n",
        "sex_importance_df['cumulative_importance']  = sex_importance_df['importance'].cumsum() / sex_importance_df['importance'].sum()\n",
        "\n",
        "# Select features that contribute to >90% of importance\n",
        "adhd_important_features = adhd_importance_df[adhd_importance_df['cumulative_importance'] <= 0.90]['feature'].tolist()\n",
        "sex_important_features  = sex_importance_df[sex_importance_df['cumulative_importance']  <= 0.90]['feature'].tolist()\n",
        "\n",
        "# Print kept features\n",
        "print(\"Important features for ADHD prediction (>90% importance):\")\n",
        "print(adhd_important_features)\n",
        "\n",
        "print(\"\\nImportant features for Sex prediction (>90% importance):\")\n",
        "print(sex_important_features)\n",
        "\n",
        "# Now create a list of features to drop:\n",
        "# Features that are NOT important for either ADHD or Sex prediction\n",
        "\n",
        "# Combine all features\n",
        "all_features = set(adhd_importance_df['feature'].tolist()) | set(sex_importance_df['feature'].tolist())\n",
        "\n",
        "# Features that are important for either ADHD or Sex\n",
        "important_features = set(adhd_important_features) | set(sex_important_features)\n",
        "\n",
        "# Features to drop = features not in important_features\n",
        "features_to_drop = list(all_features - important_features)\n",
        "\n",
        "print(\"\\nFeatures to drop (not important for either):\")\n",
        "print(features_to_drop)"
      ]
    },
    {
      "cell_type": "markdown",
      "metadata": {
        "id": "5EYtIHS-2sdy"
      },
      "source": [
        "## Model Evaluation"
      ]
    },
    {
      "cell_type": "markdown",
      "metadata": {},
      "source": [
        "### Model Evaluation - ADHD"
      ]
    },
    {
      "cell_type": "markdown",
      "metadata": {},
      "source": [
        "Model performance (ADHD)"
      ]
    },
    {
      "cell_type": "code",
      "execution_count": 27,
      "metadata": {},
      "outputs": [
        {
          "name": "stdout",
          "output_type": "stream",
          "text": [
            "Weighted F1 score: 0.8583\n",
            "F1 score: 0.8631\n",
            "Precision: 0.8143\n",
            "Recall: 0.9182\n",
            "Accuracy: 0.8005\n"
          ]
        }
      ],
      "source": [
        "# Use predicted labels from model\n",
        "y_true              = y_actual_adhd\n",
        "y_true_sex          = y_actual_sex\n",
        "best_oof_preds_adhd = (best_oof_probs_adhd> best_threshold_adhd).astype(int)\n",
        "y_pred              = best_oof_preds_adhd \n",
        "\n",
        "# Flatten if needed\n",
        "y_true = np.ravel(y_true)\n",
        "y_pred = np.ravel(y_pred)\n",
        "\n",
        "# Metrics \n",
        "# Note: for weighted F1, the sex target variable is used (as per competition rules, in the ADHD F1 score females have double weight)\n",
        "weighted_f1 = get_weighted_f1(y_true, y_pred, y_true_sex)\n",
        "f1 = f1_score(y_true, y_pred)\n",
        "precision = precision_score(y_true, y_pred)\n",
        "recall = recall_score(y_true, y_pred)\n",
        "accuracy = accuracy_score(y_true, y_pred)\n",
        "\n",
        "# Output\n",
        "print(\"Weighted F1 score:\", round(weighted_f1, 4))\n",
        "print(\"F1 score:\", round(f1, 4))\n",
        "print(\"Precision:\", round(precision, 4))\n",
        "print(\"Recall:\", round(recall, 4))\n",
        "print(\"Accuracy:\", round(accuracy, 4))"
      ]
    },
    {
      "cell_type": "markdown",
      "metadata": {},
      "source": [
        "Confusion matrix (ADHD)"
      ]
    },
    {
      "cell_type": "code",
      "execution_count": 28,
      "metadata": {},
      "outputs": [
        {
          "data": {
            "image/png": "[encoded data removed]",
            "text/plain": [
              "<Figure size 600x300 with 2 Axes>"
            ]
          },
          "metadata": {},
          "output_type": "display_data"
        }
      ],
      "source": [
        "# Generate confusion matrix\n",
        "cm = confusion_matrix(y_true, y_pred)\n",
        "\n",
        "# Optional: [TP, FN], [FP, TN] format\n",
        "# If you want to follow your previous manual format:\n",
        "conf_matrix = np.array([[cm[1,1], cm[1,0]],\n",
        "                        [cm[0,1], cm[0,0]]])\n",
        "\n",
        "# Plot\n",
        "cm_labels = ['Positive', 'Negative']\n",
        "categories = ['Positive', 'Negative']\n",
        "plt.figure(figsize=(6, 3))\n",
        "sns.heatmap(conf_matrix, annot=True, fmt='d', cmap='Blues',\n",
        "            xticklabels=cm_labels, yticklabels=categories)\n",
        "\n",
        "plt.title('Confusion Matrix')\n",
        "plt.xlabel('Predicted Labels')\n",
        "plt.ylabel('True Labels')\n",
        "plt.tight_layout()\n",
        "plt.show()"
      ]
    },
    {
      "cell_type": "markdown",
      "metadata": {},
      "source": [
        "### Model Evaluation - Sex model (best)"
      ]
    },
    {
      "cell_type": "markdown",
      "metadata": {},
      "source": [
        "Model performance"
      ]
    },
    {
      "cell_type": "code",
      "execution_count": 29,
      "metadata": {},
      "outputs": [
        {
          "name": "stdout",
          "output_type": "stream",
          "text": [
            "F1 score: 0.5307\n",
            "Precision: 0.4114\n",
            "Recall: 0.7476\n",
            "Accuracy: 0.5466\n"
          ]
        }
      ],
      "source": [
        "# Set sex predictions on the validation set based on the optimised (best) threshold and probabilities\n",
        "y_true             = y_true_sex\n",
        "best_oof_preds_sex = (best_oof_probs_sex > best_threshold_sex).astype(int)\n",
        "y_pred             = best_oof_preds_sex  \n",
        "\n",
        "# Metrics\n",
        "f1 = f1_score(y_true, y_pred)\n",
        "precision = precision_score(y_true, y_pred)\n",
        "recall = recall_score(y_true, y_pred)\n",
        "accuracy = accuracy_score(y_true, y_pred)\n",
        "\n",
        "# Output\n",
        "print(\"F1 score:\", round(f1, 4))\n",
        "print(\"Precision:\", round(precision, 4))\n",
        "print(\"Recall:\", round(recall, 4))\n",
        "print(\"Accuracy:\", round(accuracy, 4))"
      ]
    },
    {
      "cell_type": "markdown",
      "metadata": {},
      "source": [
        "Confusion matrix"
      ]
    },
    {
      "cell_type": "code",
      "execution_count": 30,
      "metadata": {
        "colab": {
          "base_uri": "https://localhost:8080/",
          "height": 325
        },
        "id": "e0VMie362sdy",
        "outputId": "7829402d-9a7e-4d71-a63c-ec2ea9d83cc0"
      },
      "outputs": [
        {
          "data": {
            "image/png": "[encoded data removed]",
            "text/plain": [
              "<Figure size 600x300 with 2 Axes>"
            ]
          },
          "metadata": {},
          "output_type": "display_data"
        }
      ],
      "source": [
        "# Generate confusion matrix\n",
        "cm = confusion_matrix(y_true, y_pred)\n",
        "\n",
        "# Optional: [TP, FN], [FP, TN] format\n",
        "# If you want to follow your previous manual format:\n",
        "conf_matrix = np.array([[cm[1,1], cm[1,0]],\n",
        "                        [cm[0,1], cm[0,0]]])\n",
        "\n",
        "# Plot\n",
        "cm_labels = ['Positive', 'Negative']\n",
        "categories = ['Positive', 'Negative']\n",
        "\n",
        "plt.figure(figsize=(6, 3))\n",
        "sns.heatmap(conf_matrix, annot=True, fmt='d', cmap='Blues',\n",
        "            xticklabels=cm_labels, yticklabels=categories)\n",
        "\n",
        "plt.title('Confusion Matrix')\n",
        "plt.xlabel('Predicted Labels')\n",
        "plt.ylabel('True Labels')\n",
        "plt.tight_layout()\n",
        "plt.show()\n"
      ]
    },
    {
      "cell_type": "markdown",
      "metadata": {
        "id": "4QkKg8WZyf-C"
      },
      "source": [
        "## Prediction on the training validation set (for meta classification)"
      ]
    },
    {
      "cell_type": "markdown",
      "metadata": {
        "id": "G8i_QVmQ2sdy"
      },
      "source": [
        "Include ADHD predictions and probabilities on the trainig validation dataset in a pandas dataframe and save to a csv file."
      ]
    },
    {
      "cell_type": "markdown",
      "metadata": {},
      "source": [
        "print(solution.head())"
      ]
    },
    {
      "cell_type": "code",
      "execution_count": 31,
      "metadata": {
        "id": "OvN8tqZB2sdy"
      },
      "outputs": [],
      "source": [
        "participant_id_train = solution.index\n",
        "\n",
        "train_pred_prob_df = pd.DataFrame({\n",
        "    'participant_id': participant_id_train,  # This should be your patient_id array\n",
        "    'pred_sex': best_oof_preds_sex, \n",
        "    'prob_sex': best_oof_probs_sex, \n",
        "    'pred_adhd': best_oof_preds_adhd,  \n",
        "    'prob_adhd': best_oof_probs_adhd  \n",
        "})\n",
        "\n",
        "# Save to CSV\n",
        "train_pred_prob_df.to_csv(f\"{output_folder}/{model_family}_train_pred_prob.csv\", index=False)"
      ]
    },
    {
      "cell_type": "markdown",
      "metadata": {
        "id": "64YTgcOoy3lA"
      },
      "source": [
        "## Prediction on the test set"
      ]
    },
    {
      "cell_type": "markdown",
      "metadata": {},
      "source": [
        "Evaluate model on the test data"
      ]
    },
    {
      "cell_type": "code",
      "execution_count": 32,
      "metadata": {},
      "outputs": [
        {
          "name": "stdout",
          "output_type": "stream",
          "text": [
            "First 10 predicted probabilities (Sex model):\n",
            "[0.22066338 0.5948388  0.43498691 0.30390838 0.27461939 0.42496964\n",
            " 0.35538907 0.34011773 0.39255672 0.40967835]\n",
            "First 10 predicted probabilities (ADHD model):\n",
            "[0.73850476 0.77175893 0.68602251 0.90286405 0.94099872 0.72383927\n",
            " 0.54796694 0.23931696 0.66322155 0.91654084]\n"
          ]
        }
      ],
      "source": [
        "# Calculate probabilities of belonging to a certain class on the training data\n",
        "y_probs_test_sex = sex_model.predict_proba(X_preprocessed_test)[:, 1]\n",
        "y_probs_test_adhd = adhd_model.predict_proba(X_preprocessed_test)[:, 1]\n",
        "\n",
        "# Use probabilities to perform model prediction on the training data\n",
        "y_pred_test_sex = (y_probs_test_sex > best_threshold_sex).astype(int)\n",
        "y_pred_test_adhd = (y_probs_test_adhd> best_threshold_adhd).astype(int)\n",
        "\n",
        "# Retrieve participant id from the training data\n",
        "test_cat            = test['cat']\n",
        "participant_id_test = test_cat['participant_id']\n",
        "\n",
        "# Check first 10 predicted probabilities for sex model\n",
        "print(\"First 10 predicted probabilities (Sex model):\")\n",
        "print(y_probs_test_sex[:10])\n",
        "\n",
        "# Check first 10 predicted probabilities for adhd model\n",
        "print(\"First 10 predicted probabilities (ADHD model):\")\n",
        "print(y_probs_test_adhd[:10])"
      ]
    },
    {
      "cell_type": "code",
      "execution_count": 33,
      "metadata": {},
      "outputs": [],
      "source": [
        "test_pred_prob_df = pd.DataFrame({\n",
        "    'participant_id': participant_id_test, \n",
        "    'pred_sex': y_pred_test_sex, \n",
        "    'prob_sex': y_probs_test_sex, \n",
        "    'pred_adhd': y_pred_test_adhd,  \n",
        "    'prob_adhd': y_probs_test_adhd \n",
        "})\n",
        "\n",
        "# Save to CSV\n",
        "test_pred_prob_df.to_csv(f\"{output_folder}/{model_family}_test_pred_prob.csv\", index=False)"
      ]
    },
    {
      "cell_type": "markdown",
      "metadata": {
        "id": "A90c_nuK2sd3"
      },
      "source": [
        "Include preditions on the test dataset to a pandas dataframe and save to a submission csv file."
      ]
    },
    {
      "cell_type": "code",
      "execution_count": 34,
      "metadata": {
        "id": "Z2GzaQAey3lF"
      },
      "outputs": [],
      "source": [
        "submission_cnn_adhd = pd.DataFrame({\n",
        "    'participant_id': participant_id_test,  # Updated to correct test dataset patient IDs\n",
        "    'ADHD_Outcome': y_pred_test_adhd,\n",
        "    'Sex_F': y_pred_test_sex\n",
        "})\n",
        "\n",
        "# Save to CSV\n",
        "submission_cnn_adhd.to_csv(f\"{output_folder}/submission_{model_family}.csv\", index=False)\n"
      ]
    },
    {
      "cell_type": "code",
      "execution_count": 35,
      "metadata": {
        "colab": {
          "base_uri": "https://localhost:8080/"
        },
        "id": "uYUEfTrn2sd3",
        "outputId": "2d8eb1bb-7869-4a78-852f-fc9c3d6b4f90"
      },
      "outputs": [
        {
          "name": "stdout",
          "output_type": "stream",
          "text": [
            "Total runtime  is  2.3 minutes\n"
          ]
        }
      ],
      "source": [
        "# Print runtime\n",
        "end_time = time.time()\n",
        "runtime = round((end_time - start_time)/60, 1)\n",
        "print('Total runtime  is ', runtime, 'minutes')"
      ]
    }
  ],
  "metadata": {
    "colab": {
      "provenance": []
    },
    "kaggle": {
      "accelerator": "nvidiaTeslaT4",
      "dataSources": [
        {
          "databundleVersionId": 11498594,
          "sourceId": 90566,
          "sourceType": "competition"
        }
      ],
      "dockerImageVersionId": 30918,
      "isGpuEnabled": true,
      "isInternetEnabled": true,
      "language": "python",
      "sourceType": "notebook"
    },
    "kernelspec": {
      "display_name": "Python 3",
      "language": "python",
      "name": "python3"
    },
    "language_info": {
      "codemirror_mode": {
        "name": "ipython",
        "version": 3
      },
      "file_extension": ".py",
      "mimetype": "text/x-python",
      "name": "python",
      "nbconvert_exporter": "python",
      "pygments_lexer": "ipython3",
      "version": "3.12.0"
    }
  },
  "nbformat": 4,
  "nbformat_minor": 0
}
