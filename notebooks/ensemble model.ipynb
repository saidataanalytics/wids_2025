{
 "cells": [
  {
   "cell_type": "code",
   "execution_count": 1127,
   "metadata": {},
   "outputs": [],
   "source": [
    "from sklearn.metrics import f1_score\n",
    "import numpy as np\n",
    "import pandas as pd\n",
    "from sklearn.linear_model import LogisticRegression"
   ]
  },
  {
   "cell_type": "markdown",
   "metadata": {},
   "source": [
    "# Ensemble model"
   ]
  },
  {
   "cell_type": "markdown",
   "metadata": {},
   "source": [
    "Set data input folder"
   ]
  },
  {
   "cell_type": "code",
   "execution_count": 1128,
   "metadata": {},
   "outputs": [],
   "source": [
    "data_input_folder = '../data'"
   ]
  },
  {
   "cell_type": "markdown",
   "metadata": {},
   "source": [
    "Import actual labels"
   ]
  },
  {
   "cell_type": "code",
   "execution_count": 1129,
   "metadata": {},
   "outputs": [],
   "source": [
    "y_true      = pd.read_excel(f\"{data_input_folder}/TRAIN_NEW/TRAINING_SOLUTIONS.xlsx\")\n",
    "y_true.sort_values(by='participant_id', inplace=True)\n",
    "y_true_sex  = y_true['Sex_F'].values.flatten()\n",
    "y_true_adhd = y_true['ADHD_Outcome'].values.flatten()"
   ]
  },
  {
   "cell_type": "markdown",
   "metadata": {},
   "source": [
    "Import prediction probabilities on the training data (with k-fold cross-validation)"
   ]
  },
  {
   "cell_type": "code",
   "execution_count": 1130,
   "metadata": {},
   "outputs": [],
   "source": [
    "catboost_pred_prob_train     = pd.read_csv(f\"{data_input_folder}/Interim/CatBoost_thresh_0_3_0_7_(100)_feat_mod7b_train_pred_prob.csv\")\n",
    "lgbm_pred_prob_train         = pd.read_csv(f\"{data_input_folder}/Interim/LGBM_thresh_0_30_0_70_(100)_feat_mod7a_train_pred_prob.csv\")\n",
    "logreg_pred_prob_train       = pd.read_csv(f\"{data_input_folder}/Interim/LogReg_thresh_0_3_0_7_(100)_feat_mod7b_train_pred_prob.csv\")\n",
    "gnn_pred_prob_train_sex      = pd.read_csv(f\"{data_input_folder}/Interim/gnn_train_pred_prob_sex.csv\")\n",
    "gnn_pred_prob_train_adhd     = pd.read_csv(f\"{data_input_folder}/Interim/gnn_train_pred_prob_adhd.csv\")\n",
    "cnn_pred_prob_train_sex      = pd.read_csv(f\"{data_input_folder}/Interim/cnn_train_pred_prob_sex.csv\")\n",
    "cnn_pred_prob_train_adhd     = pd.read_csv(f\"{data_input_folder}/Interim/cnn_train_pred_prob_adhd - before opt.csv\")\n",
    "\n",
    "#print(cnn_pred_prob_train_sex.head())"
   ]
  },
  {
   "cell_type": "markdown",
   "metadata": {},
   "source": [
    "Import test data"
   ]
  },
  {
   "cell_type": "code",
   "execution_count": 1131,
   "metadata": {},
   "outputs": [],
   "source": [
    "# Read test predictions (matches structure of train predictions)\n",
    "catboost_pred_prob_test      = pd.read_csv(f\"{data_input_folder}/Interim/CatBoost_thresh_0_3_0_7_(100)_feat_mod7b_test_pred_prob.csv\")\n",
    "lgbm_pred_prob_test          = pd.read_csv(f\"{data_input_folder}/Interim/LGBM_thresh_0_30_0_70_(100)_feat_mod7a_test_pred_prob.csv\")\n",
    "logreg_pred_prob_test        = pd.read_csv(f\"{data_input_folder}/Interim/LogReg_thresh_0_3_0_7_(100)_feat_mod7b_test_pred_prob.csv\")\n",
    "gnn_pred_prob_test_sex       = pd.read_csv(f\"{data_input_folder}/Interim/gnn_test_pred_prob_sex.csv\")\n",
    "cnn_pred_prob_test_sex       = pd.read_csv(f\"{data_input_folder}/Interim/cnn_test_pred_prob_sex.csv\")\n",
    "gnn_pred_prob_test_adhd      = pd.read_csv(f\"{data_input_folder}/Interim/gnn_test_pred_prob_adhd.csv\")\n",
    "cnn_pred_prob_test_adhd      = pd.read_csv(f\"{data_input_folder}/Interim/cnn_test_pred_prob_adhd - before opt.csv\")\n",
    "\n",
    "# Set predictions to integers:\n",
    "catboost_pred_prob_test['pred_sex']         = catboost_pred_prob_test['pred_sex'].astype(int)\n",
    "catboost_pred_prob_test['pred_adhd']        = catboost_pred_prob_test['pred_adhd'].astype(int)\n",
    "lgbm_pred_prob_test['pred_sex']             = lgbm_pred_prob_test['pred_sex'].astype(int)\n",
    "lgbm_pred_prob_test['pred_adhd']            = lgbm_pred_prob_test['pred_adhd'].astype(int)\n",
    "logreg_pred_prob_test['pred_sex']           = logreg_pred_prob_test['pred_sex'].astype(int) \n",
    "logreg_pred_prob_test['pred_adhd']          = logreg_pred_prob_test['pred_adhd'].astype(int) \n",
    "gnn_pred_prob_test_sex['predicted_label']   = gnn_pred_prob_test_sex['predicted_label'].astype(int)  \n",
    "gnn_pred_prob_test_adhd['predicted_label']  = gnn_pred_prob_test_adhd['predicted_label'].astype(int)\n",
    "cnn_pred_prob_test_sex['predicted_label']   = cnn_pred_prob_test_sex['predicted_label'].astype(int) \n",
    "cnn_pred_prob_test_adhd['predicted_label']  = cnn_pred_prob_test_adhd['predicted_label'].astype(int)"
   ]
  },
  {
   "cell_type": "markdown",
   "metadata": {},
   "source": [
    "Include probabilities and predictions in dataframes"
   ]
  },
  {
   "cell_type": "code",
   "execution_count": 1132,
   "metadata": {},
   "outputs": [],
   "source": [
    "# Sex\n",
    "y_probs_train_sex             = pd.DataFrame(columns = ['catboost', 'lgbm', 'logreg', 'gnn', 'cnn'])\n",
    "y_preds_train_sex             = pd.DataFrame(columns = ['catboost', 'lgbm', 'logreg', 'gnn', 'cnn'])\n",
    "\n",
    "y_probs_train_sex['catboost'] = catboost_pred_prob_train['prob_sex']\n",
    "y_probs_train_sex['lgbm']     = lgbm_pred_prob_train['prob_sex']\n",
    "y_probs_train_sex['logreg']   = logreg_pred_prob_train['prob_sex']\n",
    "y_probs_train_sex['gnn']      = gnn_pred_prob_train_sex['probability']\n",
    "y_probs_train_sex['cnn']      = cnn_pred_prob_train_sex ['probability']\n",
    "\n",
    "y_preds_train_sex['catboost'] = catboost_pred_prob_train['pred_sex'].astype(int)\n",
    "y_preds_train_sex['lgbm']     = lgbm_pred_prob_train['pred_sex'].astype(int)\n",
    "y_preds_train_sex['logreg']   = logreg_pred_prob_train['pred_sex'].astype(int)\n",
    "y_preds_train_sex['gnn']      = gnn_pred_prob_train_sex['predicted_label'].astype(int)\n",
    "y_preds_train_sex['cnn']      = cnn_pred_prob_train_sex ['predicted_label'].astype(int)\n",
    "\n",
    "\n",
    "# ADHD\n",
    "y_probs_train_adhd             = pd.DataFrame(columns = ['catboost', 'lgbm', 'logreg', 'gnn', 'cnn'])\n",
    "y_preds_train_adhd             = pd.DataFrame(columns = ['catboost', 'lgbm', 'logreg', 'gnn', 'cnn'])                                       \n",
    "                                        \n",
    "y_probs_train_adhd['catboost'] = catboost_pred_prob_train['prob_adhd']\n",
    "y_probs_train_adhd['lgbm']     = lgbm_pred_prob_train['prob_adhd']\n",
    "y_probs_train_adhd['logreg']   = logreg_pred_prob_train['prob_adhd']\n",
    "y_probs_train_adhd['gnn']      = gnn_pred_prob_train_adhd['probability']\n",
    "y_probs_train_adhd['cnn']      = cnn_pred_prob_train_adhd['probability']\n",
    "\n",
    "y_preds_train_adhd['catboost'] = catboost_pred_prob_train['pred_adhd'].astype(int)\n",
    "y_preds_train_adhd['lgbm']     = lgbm_pred_prob_train['pred_adhd'].astype(int)\n",
    "y_preds_train_adhd['logreg']   = logreg_pred_prob_train['pred_adhd'].astype(int)\n",
    "y_preds_train_adhd['gnn']      = gnn_pred_prob_train_adhd['predicted_label'].astype(int)\n",
    "y_preds_train_adhd['cnn']      = cnn_pred_prob_train_adhd ['predicted_label'].astype(int)\n"
   ]
  },
  {
   "cell_type": "markdown",
   "metadata": {},
   "source": [
    "### Inspect training seet - actuals, predictions and probabilities"
   ]
  },
  {
   "cell_type": "code",
   "execution_count": 1133,
   "metadata": {},
   "outputs": [
    {
     "name": "stdout",
     "output_type": "stream",
     "text": [
      "    participant_id  ADHD_Outcome  Sex_F\n",
      "26    00aIpNTbG5uh             1      0\n",
      "668   00fV0OyyoLfw             1      0\n",
      "850   04X1eiS79T4B             0      1\n",
      "972   05ocQutkURd6             0      1\n",
      "703   06YUNBA9ZRLq             1      0\n"
     ]
    }
   ],
   "source": [
    "print(y_true.head())"
   ]
  },
  {
   "cell_type": "code",
   "execution_count": 1134,
   "metadata": {},
   "outputs": [
    {
     "name": "stdout",
     "output_type": "stream",
     "text": [
      "CatBoost - head:     participant_id  pred_sex  prob_sex  pred_adhd  prob_adhd\n",
      "0              26         1  0.371678          1   0.945520\n",
      "1             668         1  0.480290          1   0.947815\n",
      "2             850         0  0.077468          1   0.941741\n",
      "3             972         1  0.402840          0   0.358736\n",
      "4             703         0  0.156785          1   0.960568\n",
      "LGBM - head:     participant_id  pred_sex  prob_sex  pred_adhd  prob_adhd\n",
      "0              26         1  0.418269          1   0.908085\n",
      "1             668         1  0.483076          1   0.951754\n",
      "2             850         1  0.304343          1   0.931524\n",
      "3             972         1  0.376036          0   0.286332\n",
      "4             703         1  0.345151          1   0.924369\n",
      "Logistic Regression - head:     participant_id  pred_sex  prob_sex  pred_adhd  prob_adhd\n",
      "0              26         0  0.233080          1   0.967997\n",
      "1             668         0  0.277645          1   0.938851\n",
      "2             850         1  0.459461          1   0.967378\n",
      "3             972         1  0.404952          0   0.291292\n",
      "4             703         1  0.428437          1   0.937478\n"
     ]
    }
   ],
   "source": [
    "# CatBoost, LGBM and Logistic regression\n",
    "print('CatBoost - head: ', catboost_pred_prob_train.head())\n",
    "print('LGBM - head: ', lgbm_pred_prob_train.head())\n",
    "print('Logistic Regression - head: ',logreg_pred_prob_train.head())"
   ]
  },
  {
   "cell_type": "code",
   "execution_count": 1135,
   "metadata": {},
   "outputs": [
    {
     "name": "stdout",
     "output_type": "stream",
     "text": [
      "CNN - sex - head:    participant_id  predicted_label  probability\n",
      "0   00aIpNTbG5uh                0     0.005227\n",
      "1   00fV0OyyoLfw                0     0.002063\n",
      "2   04X1eiS79T4B                1     0.995286\n",
      "3   05ocQutkURd6                1     0.999951\n",
      "4   06YUNBA9ZRLq                0     0.004608\n",
      "CNN - adhd - head:    participant_id  predicted_label  probability\n",
      "0   00aIpNTbG5uh                1     0.999836\n",
      "1   00fV0OyyoLfw                1     0.999314\n",
      "2   04X1eiS79T4B                0     0.024080\n",
      "3   05ocQutkURd6                0     0.036821\n",
      "4   06YUNBA9ZRLq                1     0.998820\n",
      "GNN - adhd - head:    participant_id  predicted_label  probability\n",
      "0   00aIpNTbG5uh              0.0     0.290706\n",
      "1   00fV0OyyoLfw              0.0     0.005263\n",
      "2   04X1eiS79T4B              1.0     0.555447\n",
      "3   05ocQutkURd6              1.0     0.671185\n",
      "4   06YUNBA9ZRLq              0.0     0.062872\n",
      "GNN - adhd - head:    participant_id  predicted_label  probability\n",
      "0   00aIpNTbG5uh              1.0     0.729686\n",
      "1   00fV0OyyoLfw              1.0     0.931447\n",
      "2   04X1eiS79T4B              0.0     0.431156\n",
      "3   05ocQutkURd6              0.0     0.300768\n",
      "4   06YUNBA9ZRLq              1.0     0.864426\n"
     ]
    }
   ],
   "source": [
    "# CNN and GNN:\n",
    "print('CNN - sex - head: ', cnn_pred_prob_train_sex.head())\n",
    "print('CNN - adhd - head: ', cnn_pred_prob_train_adhd.head())\n",
    "print('GNN - adhd - head: ', gnn_pred_prob_train_sex.head())\n",
    "print('GNN - adhd - head: ', gnn_pred_prob_train_adhd.head())"
   ]
  },
  {
   "cell_type": "code",
   "execution_count": 1136,
   "metadata": {},
   "outputs": [
    {
     "name": "stdout",
     "output_type": "stream",
     "text": [
      "Sums Sex:  catboost    582\n",
      "lgbm        756\n",
      "logreg      586\n",
      "gnn         366\n",
      "cnn         429\n",
      "dtype: int64\n",
      "Ratios Sex: catboost    0.479802\n",
      "lgbm        0.623248\n",
      "logreg      0.483100\n",
      "gnn         0.301731\n",
      "cnn         0.353669\n",
      "dtype: float64 2\n",
      "   catboost  lgbm  logreg  gnn  cnn\n",
      "0         1     1       0    0    0\n",
      "1         1     1       0    0    0\n",
      "2         0     1       1    1    1\n",
      "3         1     1       1    1    1\n",
      "4         0     1       1    0    0\n"
     ]
    }
   ],
   "source": [
    "print('Sums Sex: ', y_preds_train_sex.sum())\n",
    "print('Ratios Sex:', y_preds_train_sex.sum()/len(y_preds_train_sex), 2)\n",
    "print(y_preds_train_sex.head())"
   ]
  },
  {
   "cell_type": "code",
   "execution_count": 1137,
   "metadata": {},
   "outputs": [
    {
     "name": "stdout",
     "output_type": "stream",
     "text": [
      "Averages Sex: catboost    0.322381\n",
      "lgbm        0.339087\n",
      "logreg      0.344791\n",
      "gnn         0.334102\n",
      "cnn         0.337501\n",
      "dtype: float64 2\n",
      "   catboost      lgbm    logreg       gnn       cnn\n",
      "0  0.371678  0.418269  0.233080  0.290706  0.005227\n",
      "1  0.480290  0.483076  0.277645  0.005263  0.002063\n",
      "2  0.077468  0.304343  0.459461  0.555447  0.995286\n",
      "3  0.402840  0.376036  0.404952  0.671185  0.999951\n",
      "4  0.156785  0.345151  0.428437  0.062872  0.004608\n"
     ]
    }
   ],
   "source": [
    "# Probabilities - Sex\n",
    "print('Averages Sex:', y_probs_train_sex.sum()/len(y_probs_train_sex), 2)\n",
    "print(y_probs_train_sex.head())"
   ]
  },
  {
   "cell_type": "code",
   "execution_count": 1138,
   "metadata": {},
   "outputs": [
    {
     "name": "stdout",
     "output_type": "stream",
     "text": [
      "Sums ADHD:  catboost    937\n",
      "lgbm        937\n",
      "logreg      908\n",
      "gnn         946\n",
      "cnn         915\n",
      "dtype: int64\n",
      "Ratios ADHD: catboost    0.772465\n",
      "lgbm        0.772465\n",
      "logreg      0.748557\n",
      "gnn         0.779885\n",
      "cnn         0.754328\n",
      "dtype: float64 2\n",
      "   catboost  lgbm  logreg  gnn  cnn\n",
      "0         1     1       1    1    1\n",
      "1         1     1       1    1    1\n",
      "2         1     1       1    0    0\n",
      "3         0     0       0    0    0\n",
      "4         1     1       1    1    1\n"
     ]
    }
   ],
   "source": [
    "print('Sums ADHD: ', y_preds_train_adhd.sum())\n",
    "print('Ratios ADHD:', y_preds_train_adhd.sum()/len(y_preds_train_adhd), 2)\n",
    "print(y_preds_train_adhd.head())"
   ]
  },
  {
   "cell_type": "code",
   "execution_count": 1139,
   "metadata": {},
   "outputs": [
    {
     "name": "stdout",
     "output_type": "stream",
     "text": [
      "Averages ADHD: catboost    0.705087\n",
      "lgbm        0.689378\n",
      "logreg      0.685702\n",
      "gnn         0.708630\n",
      "cnn         0.744217\n",
      "dtype: float64 2\n",
      "   catboost      lgbm    logreg       gnn       cnn\n",
      "0  0.945520  0.908085  0.967997  0.729686  0.999836\n",
      "1  0.947815  0.951754  0.938851  0.931447  0.999314\n",
      "2  0.941741  0.931524  0.967378  0.431156  0.024080\n",
      "3  0.358736  0.286332  0.291292  0.300768  0.036821\n",
      "4  0.960568  0.924369  0.937478  0.864426  0.998820\n"
     ]
    }
   ],
   "source": [
    "# Probabilities - ADHD\n",
    "print('Averages ADHD:', y_probs_train_adhd.sum()/len(y_probs_train_adhd), 2)\n",
    "print(y_probs_train_adhd.head())"
   ]
  },
  {
   "cell_type": "markdown",
   "metadata": {},
   "source": [
    "### Inspect test dataset - predictions and liabilities (by model)"
   ]
  },
  {
   "cell_type": "code",
   "execution_count": 1140,
   "metadata": {},
   "outputs": [
    {
     "name": "stdout",
     "output_type": "stream",
     "text": [
      "CatBoost - head:    participant_id  pred_sex  prob_sex  pred_adhd  prob_adhd\n",
      "0   Cfwaf5FX7jWK         0  0.217678          1   0.816938\n",
      "1   vhGrzmvA3Hjq         1  0.832338          1   0.711085\n",
      "2   ULliyEXjy4OV         1  0.766293          1   0.676594\n",
      "3   LZfeAb1xMtql         0  0.291242          1   0.949200\n",
      "4   EnFOUv0YK1RG         0  0.084076          1   0.939391\n",
      "LGBM - head:    participant_id  pred_sex  prob_sex  pred_adhd  prob_adhd\n",
      "0   Cfwaf5FX7jWK         0  0.220663          1   0.738505\n",
      "1   vhGrzmvA3Hjq         1  0.594839          1   0.771759\n",
      "2   ULliyEXjy4OV         1  0.434987          1   0.686023\n",
      "3   LZfeAb1xMtql         1  0.303908          1   0.902864\n",
      "4   EnFOUv0YK1RG         0  0.274619          1   0.940999\n",
      "Logistic Regression - head:    participant_id  pred_sex  prob_sex  pred_adhd  prob_adhd\n",
      "0   Cfwaf5FX7jWK         0  0.221684          1   0.799824\n",
      "1   vhGrzmvA3Hjq         1  0.752063          1   0.666145\n",
      "2   ULliyEXjy4OV         1  0.423283          1   0.628365\n",
      "3   LZfeAb1xMtql         1  0.369043          1   0.886771\n",
      "4   EnFOUv0YK1RG         0  0.264808          1   0.971868\n"
     ]
    }
   ],
   "source": [
    "# CatBoost, LGBM and Logistic regression - heads \n",
    "print('CatBoost - head: ', catboost_pred_prob_test.head())\n",
    "print('LGBM - head: ', lgbm_pred_prob_test.head())\n",
    "print('Logistic Regression - head: ',logreg_pred_prob_test.head())"
   ]
  },
  {
   "cell_type": "code",
   "execution_count": 1141,
   "metadata": {},
   "outputs": [
    {
     "name": "stdout",
     "output_type": "stream",
     "text": [
      "CatBoost - stats:           pred_sex    prob_sex   pred_adhd   prob_adhd\n",
      "count  304.000000  304.000000  304.000000  304.000000\n",
      "mean     0.536184    0.353699    0.805921    0.716176\n",
      "std      0.499511    0.209396    0.396142    0.252279\n",
      "min      0.000000    0.032280    0.000000    0.037443\n",
      "25%      0.000000    0.180953    1.000000    0.633322\n",
      "50%      1.000000    0.326111    1.000000    0.822441\n",
      "75%      1.000000    0.471892    1.000000    0.899807\n",
      "max      1.000000    0.927453    1.000000    0.968338\n",
      "LGBM - stats:           pred_sex    prob_sex   pred_adhd   prob_adhd\n",
      "count  304.000000  304.000000  304.000000  304.000000\n",
      "mean     0.677632    0.356538    0.819079    0.688543\n",
      "std      0.468154    0.111389    0.385587    0.238114\n",
      "min      0.000000    0.135740    0.000000    0.094530\n",
      "25%      0.000000    0.269061    1.000000    0.584264\n",
      "50%      1.000000    0.352041    1.000000    0.755004\n",
      "75%      1.000000    0.429743    1.000000    0.869885\n",
      "max      1.000000    0.626213    1.000000    0.966909\n",
      "Logistic Regression - stats:           pred_sex    prob_sex   pred_adhd   prob_adhd\n",
      "count  304.000000  304.000000  304.000000  304.000000\n",
      "mean     0.467105    0.357712    0.789474    0.698945\n",
      "std      0.499739    0.177740    0.408355    0.271259\n",
      "min      0.000000    0.032793    0.000000    0.023843\n",
      "25%      0.000000    0.222112    1.000000    0.560098\n",
      "50%      0.000000    0.326736    1.000000    0.798057\n",
      "75%      1.000000    0.475744    1.000000    0.911442\n",
      "max      1.000000    0.844215    1.000000    0.997062\n"
     ]
    }
   ],
   "source": [
    "# CatBoost, LGBM and Logistic Regression - stats:\n",
    "print('CatBoost - stats: ', catboost_pred_prob_test.describe())\n",
    "print('LGBM - stats: ', lgbm_pred_prob_test.describe())\n",
    "print('Logistic Regression - stats: ', logreg_pred_prob_test.describe())"
   ]
  },
  {
   "cell_type": "code",
   "execution_count": 1142,
   "metadata": {},
   "outputs": [
    {
     "name": "stdout",
     "output_type": "stream",
     "text": [
      "CNN - sex - head:    participant_id  predicted_label  probability\n",
      "0   Cfwaf5FX7jWK                0     0.025782\n",
      "1   vhGrzmvA3Hjq                0     0.016927\n",
      "2   ULliyEXjy4OV                1     0.584016\n",
      "3   LZfeAb1xMtql                1     0.501813\n",
      "4   EnFOUv0YK1RG                0     0.004733\n",
      "CNN - adhd - head:    participant_id  predicted_label  probability\n",
      "0   Cfwaf5FX7jWK                1     0.994249\n",
      "1   vhGrzmvA3Hjq                1     0.969364\n",
      "2   ULliyEXjy4OV                1     0.919596\n",
      "3   LZfeAb1xMtql                1     0.963592\n",
      "4   EnFOUv0YK1RG                1     0.997853\n",
      "GNN - adhd - head:    participant_id  predicted_label  probability\n",
      "0   Cfwaf5FX7jWK                0     0.298635\n",
      "1   vhGrzmvA3Hjq                0     0.114017\n",
      "2   ULliyEXjy4OV                0     0.060964\n",
      "3   LZfeAb1xMtql                0     0.388152\n",
      "4   EnFOUv0YK1RG                0     0.148169\n",
      "GNN - adhd - head:    participant_id  predicted_label  probability\n",
      "0   00aIpNTbG5uh              1.0     0.729686\n",
      "1   00fV0OyyoLfw              1.0     0.931447\n",
      "2   04X1eiS79T4B              0.0     0.431156\n",
      "3   05ocQutkURd6              0.0     0.300768\n",
      "4   06YUNBA9ZRLq              1.0     0.864426\n"
     ]
    }
   ],
   "source": [
    "# CNN and GNN - heads\n",
    "print('CNN - sex - head: ', cnn_pred_prob_test_sex.head())\n",
    "print('CNN - adhd - head: ', cnn_pred_prob_test_adhd.head())\n",
    "print('GNN - adhd - head: ', gnn_pred_prob_test_sex.head())\n",
    "print('GNN - adhd - head: ', gnn_pred_prob_train_adhd.head())"
   ]
  },
  {
   "cell_type": "code",
   "execution_count": 1143,
   "metadata": {},
   "outputs": [
    {
     "name": "stdout",
     "output_type": "stream",
     "text": [
      "CNN - sex - stats:         predicted_label  probability\n",
      "count       304.000000   304.000000\n",
      "mean          0.296053     0.207823\n",
      "std           0.457267     0.330410\n",
      "min           0.000000     0.000445\n",
      "25%           0.000000     0.005346\n",
      "50%           0.000000     0.019836\n",
      "75%           1.000000     0.233734\n",
      "max           1.000000     0.998261\n",
      "CNN - adhd - stats:         predicted_label  probability\n",
      "count       304.000000   304.000000\n",
      "mean          0.868421     0.843506\n",
      "std           0.338590     0.276454\n",
      "min           0.000000     0.023616\n",
      "25%           1.000000     0.860555\n",
      "50%           1.000000     0.982372\n",
      "75%           1.000000     0.996108\n",
      "max           1.000000     0.999793\n",
      "GNN - sex - stats:         predicted_label  probability\n",
      "count       304.000000   304.000000\n",
      "mean          0.220395     0.289679\n",
      "std           0.415196     0.254193\n",
      "min           0.000000     0.000037\n",
      "25%           0.000000     0.074951\n",
      "50%           0.000000     0.210772\n",
      "75%           0.000000     0.456233\n",
      "max           1.000000     0.961382\n",
      "GNN - adhd - stats:         predicted_label  probability\n",
      "count      1213.000000  1213.000000\n",
      "mean          0.779885     0.708630\n",
      "std           0.414495     0.232726\n",
      "min           0.000000     0.051799\n",
      "25%           1.000000     0.541622\n",
      "50%           1.000000     0.772961\n",
      "75%           1.000000     0.904122\n",
      "max           1.000000     0.999660\n"
     ]
    }
   ],
   "source": [
    "# CNN and GNN - stats\n",
    "print('CNN - sex - stats: ', cnn_pred_prob_test_sex.describe())\n",
    "print('CNN - adhd - stats: ', cnn_pred_prob_test_adhd.describe())\n",
    "print('GNN - sex - stats: ', gnn_pred_prob_test_sex.describe())\n",
    "print('GNN - adhd - stats: ', gnn_pred_prob_train_adhd.describe())"
   ]
  },
  {
   "cell_type": "markdown",
   "metadata": {},
   "source": [
    "## Submissions - preparations"
   ]
  },
  {
   "cell_type": "markdown",
   "metadata": {},
   "source": [
    "Prepare dataframe for test data for submissions"
   ]
  },
  {
   "cell_type": "code",
   "execution_count": 1144,
   "metadata": {},
   "outputs": [],
   "source": [
    "# Sex\n",
    "X_meta_test_sex = pd.DataFrame({\n",
    "    'catboost': catboost_pred_prob_test['prob_sex'],\n",
    "    'lgbm':     lgbm_pred_prob_test['prob_sex'],\n",
    "    'logreg':   logreg_pred_prob_test['prob_sex'],\n",
    "    'gnn':      gnn_pred_prob_test_sex['probability'],\n",
    "    'cnn':      cnn_pred_prob_test_sex['probability']\n",
    "}).values\n",
    "\n",
    "# ADHD\n",
    "X_meta_test_adhd = pd.DataFrame({\n",
    "    'catboost': catboost_pred_prob_test['prob_adhd'],\n",
    "    'lgbm':     lgbm_pred_prob_test['prob_adhd'],\n",
    "    'logreg':   logreg_pred_prob_test['prob_adhd'],\n",
    "    'gnn':      gnn_pred_prob_test_adhd['probability'],\n",
    "    'cnn':      cnn_pred_prob_test_adhd['probability']\n",
    "}).values"
   ]
  },
  {
   "cell_type": "markdown",
   "metadata": {},
   "source": [
    "Convert DataFrame to NumPy array (optional, Ridge handles DataFrames too)"
   ]
  },
  {
   "cell_type": "code",
   "execution_count": 1145,
   "metadata": {},
   "outputs": [],
   "source": [
    "# Sex\n",
    "X_meta_train_sex = y_probs_train_sex.values \n",
    "\n",
    "# ADHD\n",
    "X_meta_train_adhd = y_probs_train_adhd.values "
   ]
  },
  {
   "cell_type": "markdown",
   "metadata": {},
   "source": [
    "Define metric (weighted F1 score for ADHD prediction as per competition rules)"
   ]
  },
  {
   "cell_type": "code",
   "execution_count": 1146,
   "metadata": {},
   "outputs": [],
   "source": [
    "def get_weighted_f1(y_true, y_pred, sex, female_weight = 2.0, male_weight = 1.0):\n",
    "\n",
    "    sample_weight = np.where(sex == 1, female_weight, male_weight)\n",
    "    return f1_score(y_true, y_pred, average='binary', sample_weight=sample_weight)"
   ]
  },
  {
   "cell_type": "markdown",
   "metadata": {},
   "source": [
    "Select best threshold (for Submission 3)"
   ]
  },
  {
   "cell_type": "code",
   "execution_count": 1147,
   "metadata": {},
   "outputs": [],
   "source": [
    "def find_best_threshold(y_true, y_probs, target, y_true_sex=None, \n",
    "                        threshold_range = np.linspace(0, 1, 101)):\n",
    "    \n",
    "    thresholds = threshold_range\n",
    "    metrics = []\n",
    "\n",
    "    for t in thresholds:\n",
    "        y_pred = (y_probs > t).astype(int)\n",
    "        metric = (\n",
    "            f1_score(y_true, y_pred) if target == 'sex'\n",
    "            else get_weighted_f1(y_true, y_pred, y_true_sex)\n",
    "        )\n",
    "        metrics.append(metric)\n",
    "\n",
    "    best_idx = np.argmax(metrics)\n",
    "    return thresholds[best_idx], metrics[best_idx]"
   ]
  },
  {
   "cell_type": "markdown",
   "metadata": {},
   "source": [
    "Custom F1 score (for Submission 4)"
   ]
  },
  {
   "cell_type": "code",
   "execution_count": 1148,
   "metadata": {},
   "outputs": [],
   "source": [
    "def find_best_threshold_with_constraint(y_true_train, y_probs_train, y_probs_test, \n",
    "                                        target, y_true_sex_train=None,\n",
    "                                        threshold_range=np.linspace(0, 1, 101),\n",
    "                                        female_bounds=(0.28, 0.38),\n",
    "                                        adhd_bounds=(0.60, 0.85)):\n",
    "\n",
    "    best_score = -np.inf\n",
    "    best_threshold = None\n",
    "\n",
    "    for t in threshold_range:\n",
    "        y_pred_train = (y_probs_train > t).astype(int)\n",
    "        y_pred_test = (y_probs_test > t).astype(int)\n",
    "\n",
    "        test_pred_ratio = y_pred_test.mean()  # use TEST set predictions for constraint\n",
    "\n",
    "        # Enforce constraint on TEST prediction ratios\n",
    "        if target == 'sex':\n",
    "            if not (female_bounds[0] <= test_pred_ratio <= female_bounds[1]):\n",
    "                continue\n",
    "            metric = f1_score(y_true_train, y_pred_train)\n",
    "        elif target == 'adhd':\n",
    "            if not (adhd_bounds[0] <= test_pred_ratio <= adhd_bounds[1]):\n",
    "                continue\n",
    "            metric = get_weighted_f1(y_true_train, y_pred_train, y_true_sex_train)\n",
    "        else:\n",
    "            raise ValueError(\"Invalid target. Must be 'sex' or 'adhd'.\")\n",
    "\n",
    "        if metric > best_score:\n",
    "            best_score = metric\n",
    "            best_threshold = t\n",
    "\n",
    "    if best_threshold is None:\n",
    "        raise ValueError(\"No threshold satisfies the prediction bounds constraint.\")\n",
    "\n",
    "    return best_threshold, best_score"
   ]
  },
  {
   "cell_type": "markdown",
   "metadata": {},
   "source": [
    "### Submission 1 - Logistic regression (not optimised)"
   ]
  },
  {
   "cell_type": "markdown",
   "metadata": {},
   "source": [
    "Convert DataFrame to NumPy array (optional, Ridge handles DataFrames too)"
   ]
  },
  {
   "cell_type": "code",
   "execution_count": 1149,
   "metadata": {},
   "outputs": [],
   "source": [
    "# Define Logistic Regression Model\n",
    "clf_sex  = LogisticRegression()\n",
    "clf_adhd = LogisticRegression()\n",
    "\n",
    "# Fit model\n",
    "clf_sex.fit(X_meta_train_sex, y_true_sex)\n",
    "clf_adhd.fit(X_meta_train_adhd, y_true_adhd)\n",
    "\n",
    "# Calculate probabilities\n",
    "y_meta_prob_train_sex = clf_sex.predict_proba(X_meta_train_sex)[:, 1]\n",
    "y_meta_prob_train_adhd = clf_adhd.predict_proba(X_meta_train_adhd)[:, 1]"
   ]
  },
  {
   "cell_type": "code",
   "execution_count": 1150,
   "metadata": {},
   "outputs": [
    {
     "name": "stdout",
     "output_type": "stream",
     "text": [
      "Nr of females predictions in the training dataset:  423\n",
      "Nr of ADHD predictions in the training dataset:  863\n",
      "Proportion of females predictions in the training dataset:  0.3487\n",
      "Proportion of ADHD predictions in the training dataset:  0.7115\n"
     ]
    }
   ],
   "source": [
    "# Set fixed threshold\n",
    "fixed_threshold_sex  = 0.3\n",
    "fixed_threshold_adhd = 0.5 \n",
    "\n",
    "# Sex\n",
    "y_meta_pred_train_sex = (y_meta_prob_train_sex > fixed_threshold_sex).astype(int)\n",
    "\n",
    "# ADHD\n",
    "y_meta_pred_train_adhd = (y_meta_prob_train_adhd > fixed_threshold_adhd).astype(int)\n",
    "\n",
    "print('Nr of females predictions in the training dataset: ', y_meta_pred_train_sex.sum())\n",
    "print('Nr of ADHD predictions in the training dataset: ', y_meta_pred_train_adhd.sum())\n",
    "print('Proportion of females predictions in the training dataset: ', round(y_meta_pred_train_sex.sum()/ len(y_meta_pred_train_sex), 4))\n",
    "print('Proportion of ADHD predictions in the training dataset: ', round(y_meta_pred_train_adhd.sum()/ len(y_meta_pred_train_adhd), 4))# Set fixed threshold"
   ]
  },
  {
   "cell_type": "markdown",
   "metadata": {},
   "source": [
    "Evaluate F1 score on the training data"
   ]
  },
  {
   "cell_type": "code",
   "execution_count": 1151,
   "metadata": {},
   "outputs": [
    {
     "name": "stdout",
     "output_type": "stream",
     "text": [
      "F1 scores for Sex prediction of the original Catboost, LGBM, GNN and CNN models:  0.491 ,  0.5307  0.8005  and  0.9207\n",
      "F1 Score of ensemble Sex prediction model (on training data): 0.9297\n",
      "F1 scores for ADHD prediction of the original Catboost, LGBM, GNN and CNN models:  0.857 ,  0.8583 ,  0.8601 and  0.9446\n",
      "F1 Score of ensemble ADHD prediction model (on training data): 0.9628\n",
      "Overall F1 score of the ensemble model (on training data): 0.94625\n"
     ]
    }
   ],
   "source": [
    "# Sex \n",
    "f1_catboost_sex = round(f1_score(y_true_sex, y_preds_train_sex['catboost'].values),4)\n",
    "f1_lgbm_sex = round(f1_score(y_true_sex, y_preds_train_sex['lgbm'].values),4)\n",
    "f1_gnn_sex = round(f1_score(y_true_sex, y_preds_train_sex['gnn'].values),4)\n",
    "f1_cnn_sex = round(f1_score(y_true_sex, y_preds_train_sex['cnn'].values),4)\n",
    "print('F1 scores for Sex prediction of the original Catboost, LGBM, GNN and CNN models: ', f1_catboost_sex, ', ', f1_lgbm_sex, '', f1_gnn_sex, ' and ', f1_cnn_sex)\n",
    "f1_ensemble_sex = round(f1_score(y_true_sex, y_meta_pred_train_sex),4)\n",
    "print(\"F1 Score of ensemble Sex prediction model (on training data):\", f1_ensemble_sex)\n",
    "\n",
    "# ADHD\n",
    "f1_catboost_adhd = round(get_weighted_f1(y_true_adhd, y_preds_train_adhd['catboost'].values, y_true_sex),4)\n",
    "f1_lgbm_adhd = round(get_weighted_f1(y_true_adhd, y_preds_train_adhd['lgbm'].values, y_true_sex),4)\n",
    "f1_gnn_adhd = round(get_weighted_f1(y_true_adhd, y_preds_train_adhd['gnn'].values,y_true_sex), 4)\n",
    "f1_cnn_adhd = round(get_weighted_f1(y_true_adhd, y_preds_train_adhd['cnn'].values, y_true_sex),4)\n",
    "print('F1 scores for ADHD prediction of the original Catboost, LGBM, GNN and CNN models: ', f1_catboost_adhd, ', ', f1_lgbm_adhd, ', ', f1_gnn_adhd, 'and ', f1_cnn_adhd)\n",
    "f1_ensemble_adhd = round(get_weighted_f1(y_true_adhd, y_meta_pred_train_adhd, y_true_sex), 4)\n",
    "print(\"F1 Score of ensemble ADHD prediction model (on training data):\", f1_ensemble_adhd)\n",
    "print(\"Overall F1 score of the ensemble model (on training data):\", (f1_ensemble_sex + f1_ensemble_adhd)/2)"
   ]
  },
  {
   "cell_type": "code",
   "execution_count": 1152,
   "metadata": {},
   "outputs": [],
   "source": [
    "# Predict ensemble probabilities\n",
    "y_meta_prob_test_sex  = clf_sex.predict_proba(X_meta_test_sex)[:, 1]\n",
    "y_meta_prob_test_adhd = clf_sex.predict_proba(X_meta_test_adhd)[:, 1]\n",
    "\n",
    "\n",
    "# Convert to binary predictions\n",
    "y_meta_pred_test_sex_logreg  = (y_meta_prob_test_sex > fixed_threshold_sex).astype(int)\n",
    "y_meta_pred_test_adhd_logreg = (y_meta_prob_test_adhd > fixed_threshold_adhd).astype(int)"
   ]
  },
  {
   "cell_type": "code",
   "execution_count": 1153,
   "metadata": {},
   "outputs": [],
   "source": [
    "# Assuming all prediction DataFrames were sorted by 'participant_id'\n",
    "participant_ids = cnn_pred_prob_test_adhd['participant_id'].values\n",
    "\n",
    "# Create the submission DataFrame\n",
    "submission_df = pd.DataFrame({\n",
    "    'participant_id': participant_ids,\n",
    "    'ADHD_Outcome': y_meta_pred_test_adhd_logreg,\n",
    "    'Sex_F': y_meta_pred_test_sex_logreg\n",
    "})\n",
    "\n",
    "# Save to CSV\n",
    "submission_df.to_csv(f\"{data_input_folder}/Interim/submission_ensemble_logistic_regr_preopt.csv\", index=False)"
   ]
  },
  {
   "cell_type": "markdown",
   "metadata": {},
   "source": [
    "### Submission 2 - Ensemble with Logistic Regression (optimised test demographics)"
   ]
  },
  {
   "cell_type": "markdown",
   "metadata": {},
   "source": [
    "Optimise threshold so that female and ADHD proportions in the test dataset match the training dataset"
   ]
  },
  {
   "cell_type": "code",
   "execution_count": 1154,
   "metadata": {},
   "outputs": [
    {
     "name": "stdout",
     "output_type": "stream",
     "text": [
      "target nr fem  104\n",
      "target nr adhd  208\n",
      "Optimal threshold sex: 0.13\n",
      "Optimal threshold adhd: 0.97\n",
      "Minimum total difference sex: 0\n",
      "Minimum total difference adhd: 12\n",
      "Number of females predictions in the test dataset:  104\n",
      "Number of ADHD predictions in the test dataset:  220\n",
      "Proportion of females predictions in the test dataset:  0.3421\n",
      "Proportion of ADHD predictions in the test dataset:  0.7237\n",
      "F1 Score of ensemble Sex prediction model (on training data): 0.9074\n",
      "F1 Score of ensemble ADHD prediction model (on training data): 0.6963\n",
      "Overall F1 score of the ensemble model (on training data): 0.80185\n"
     ]
    }
   ],
   "source": [
    "# Select threshold to make sure proportion of females and males in the test dataset matches the \n",
    "# proportion in training dataset\n",
    "best_threshold_sex = 0\n",
    "best_threshold_adhd = 0\n",
    "min_total_diff_sex = float('inf')\n",
    "min_total_diff_adhd = float('inf')\n",
    "threshold_range = np.arange(0, 1.01, 0.01)\n",
    "\n",
    "target_nr_of_females = round(len(y_meta_prob_test_sex)* y_true_sex.sum()/len(y_true_sex))\n",
    "target_nr_of_adhd = round(len(y_meta_prob_test_adhd)* y_true_adhd.sum()/len(y_true_adhd))\n",
    "print('target nr fem ', target_nr_of_females)\n",
    "print('target nr adhd ', target_nr_of_adhd)\n",
    "\n",
    "for threshold in threshold_range:\n",
    "    y_pred_sex = (y_meta_prob_test_sex > threshold).astype(int)\n",
    "    \n",
    "    diff_sex = abs(y_pred_sex.sum() - target_nr_of_females)\n",
    "    \n",
    "    if diff_sex < min_total_diff_sex:\n",
    "        min_total_diff_sex      = diff_sex \n",
    "        best_threshold_sex      = threshold\n",
    "\n",
    "for threshold in threshold_range:\n",
    "    y_pred_adhd = (y_meta_prob_test_adhd > threshold).astype(int)\n",
    "    \n",
    "    diff_adhd = abs(y_pred_adhd.sum() - target_nr_of_adhd)\n",
    "    \n",
    "    if diff_adhd < min_total_diff_adhd:\n",
    "        min_total_diff_adhd     = diff_adhd\n",
    "        best_threshold_adhd     = threshold\n",
    "\n",
    "# Optimal thresholds:\n",
    "print(f\"Optimal threshold sex: {best_threshold_sex:.2f}\")\n",
    "print(f\"Optimal threshold adhd: {best_threshold_adhd:.2f}\")\n",
    "print(f\"Minimum total difference sex: { min_total_diff_sex }\")\n",
    "print(f\"Minimum total difference adhd: { min_total_diff_adhd }\")\n",
    "\n",
    "# Convert to binary predictions\n",
    "y_meta_pred_test_sex_2  = (y_meta_prob_test_sex > best_threshold_sex).astype(int)\n",
    "y_meta_pred_test_adhd_2 = (y_meta_prob_test_adhd > best_threshold_adhd).astype(int)\n",
    "\n",
    "print('Number of females predictions in the test dataset: ', y_meta_pred_test_sex_2.sum())\n",
    "print('Number of ADHD predictions in the test dataset: ', y_meta_pred_test_adhd_2.sum())\n",
    "print('Proportion of females predictions in the test dataset: ', round(y_meta_pred_test_sex_2.sum()/ len(y_meta_pred_test_sex_2), 4))\n",
    "print('Proportion of ADHD predictions in the test dataset: ', round(y_meta_pred_test_adhd_2.sum()/ len(y_meta_pred_test_adhd_2), 4))\n",
    "\n",
    "# Update predictions on the training dataset:\n",
    "y_meta_pred_train_sex_2  = (y_meta_prob_train_sex > best_threshold_sex).astype(int)\n",
    "y_meta_pred_train_adhd_2 = (y_meta_prob_train_adhd > best_threshold_adhd).astype(int)\n",
    "\n",
    "# Optimal F1 scores:\n",
    "f1_ensemble_sex_2 = round(f1_score(y_true_sex, y_meta_pred_train_sex_2),4)\n",
    "print(\"F1 Score of ensemble Sex prediction model (on training data):\", f1_ensemble_sex_2)\n",
    "f1_ensemble_adhd_2 = round(get_weighted_f1(y_true_adhd, y_meta_pred_train_adhd_2, y_true_sex), 4)\n",
    "print(\"F1 Score of ensemble ADHD prediction model (on training data):\", f1_ensemble_adhd_2)\n",
    "print(\"Overall F1 score of the ensemble model (on training data):\", (f1_ensemble_sex_2 + f1_ensemble_adhd_2)/2)\n",
    "\n"
   ]
  },
  {
   "cell_type": "markdown",
   "metadata": {},
   "source": [
    "Recalculate the F1 score with the optimal threshold:"
   ]
  },
  {
   "cell_type": "markdown",
   "metadata": {},
   "source": [
    "Create submission file"
   ]
  },
  {
   "cell_type": "code",
   "execution_count": 1155,
   "metadata": {},
   "outputs": [],
   "source": [
    "# Create the submission DataFrame\n",
    "submission_df = pd.DataFrame({\n",
    "    'participant_id': participant_ids,\n",
    "    'ADHD_Outcome': y_meta_pred_test_adhd_2,\n",
    "    'Sex_F': y_meta_pred_test_sex_2\n",
    "})\n",
    "\n",
    "# Save to CSV\n",
    "submission_df.to_csv(f\"{data_input_folder}/Interim/submission_ensemble_logistic_regr_opt_prop.csv\", index=False)"
   ]
  },
  {
   "cell_type": "markdown",
   "metadata": {},
   "source": [
    "### Submission 3 - Logistic regression (optimised for threshold)"
   ]
  },
  {
   "cell_type": "markdown",
   "metadata": {},
   "source": [
    "Optimise threshold to reach maximum F1 score"
   ]
  },
  {
   "cell_type": "code",
   "execution_count": 1156,
   "metadata": {},
   "outputs": [
    {
     "name": "stdout",
     "output_type": "stream",
     "text": [
      "Optimal threshold sex: 0.50\n",
      "Optimal threshold adhd: 0.53\n",
      "Optimal (weighted) F1 sex: 0.9356\n",
      "Optimal (weighted) F1 ADHD: 0.9644\n",
      "Optimal overall F1: 0.9500\n",
      "Number of females predictions in the test dataset:  59\n",
      "Number of ADHD predictions in the test dataset:  283\n",
      "Proportion of females predictions in the test dataset:  0.1941\n",
      "Proportion of ADHD predictions in the test dataset:  0.9309\n"
     ]
    }
   ],
   "source": [
    "# Select threshold to make sure proportion of females and males in the test dataset matches the \n",
    "# proportion in training dataset\n",
    "best_threshold_sex = 0\n",
    "best_threshold_adhd = 0\n",
    "min_f1_sex = float('inf')\n",
    "min_f1_adhd = float('inf')\n",
    "threshold_range = np.arange(0, 1.01, 0.01)\n",
    "\n",
    "\n",
    "best_threshold_sex_3, best_f1_sex_3 = find_best_threshold(y_true_sex, y_meta_prob_train_sex , 'sex', \n",
    "                                                      y_true_sex=None, threshold_range = threshold_range)\n",
    "best_threshold_adhd_3, best_f1_adhd_3 =find_best_threshold(y_true_adhd, y_meta_prob_train_adhd, 'adhd', \n",
    "                                                      y_true_sex=y_true_sex, threshold_range = threshold_range)\n",
    "\n",
    "print(f\"Optimal threshold sex: {best_threshold_sex_3:.2f}\")\n",
    "print(f\"Optimal threshold adhd: {best_threshold_adhd_3:.2f}\")\n",
    "\n",
    "print(f\"Optimal (weighted) F1 sex: {best_f1_sex_3:.4}\")\n",
    "print(f\"Optimal (weighted) F1 ADHD: {best_f1_adhd_3:.4f}\")\n",
    "best_f1_overall_3 = (best_f1_sex_3 + best_f1_adhd_3)/2\n",
    "print(f\"Optimal overall F1: {best_f1_overall_3:.4f}\")\n",
    "\n",
    "\n",
    "# Convert to binary predictions\n",
    "y_meta_pred_test_sex_3  = (y_meta_prob_test_sex > best_threshold_sex_3).astype(int)\n",
    "y_meta_pred_test_adhd_3 = (y_meta_prob_test_adhd > best_threshold_adhd_3).astype(int)\n",
    "\n",
    "print('Number of females predictions in the test dataset: ', y_meta_pred_test_sex_3.sum())\n",
    "print('Number of ADHD predictions in the test dataset: ', y_meta_pred_test_adhd_3.sum())\n",
    "print('Proportion of females predictions in the test dataset: ', round(y_meta_pred_test_sex_3.sum()/ len(y_meta_pred_test_sex_3), 4))\n",
    "print('Proportion of ADHD predictions in the test dataset: ', round(y_meta_pred_test_adhd_3.sum()/ len(y_meta_pred_test_adhd_3), 4))\n",
    "\n",
    "# Update predictions on the training dataset:\n",
    "y_meta_pred_train_sex_3  = (y_meta_prob_train_sex > best_threshold_sex_3).astype(int)\n",
    "y_meta_pred_train_adhd_3 = (y_meta_prob_train_adhd > best_threshold_adhd_3).astype(int)"
   ]
  },
  {
   "cell_type": "markdown",
   "metadata": {},
   "source": [
    "Create submission file"
   ]
  },
  {
   "cell_type": "code",
   "execution_count": 1157,
   "metadata": {},
   "outputs": [],
   "source": [
    "# Create the submission DataFrame\n",
    "submission_df = pd.DataFrame({\n",
    "    'participant_id': participant_ids,\n",
    "    'ADHD_Outcome': y_meta_pred_test_adhd_3,\n",
    "    'Sex_F': y_meta_pred_test_sex_3\n",
    "})\n",
    "\n",
    "# Save to CSV\n",
    "submission_df.to_csv(f\"{data_input_folder}/Interim/submission_ensemble_logistic_regr_opt_thres.csv\", index=False)"
   ]
  },
  {
   "cell_type": "markdown",
   "metadata": {},
   "source": [
    "### Submission 4 - Logistic regression (optimal F1 score with demographics constraints)"
   ]
  },
  {
   "cell_type": "markdown",
   "metadata": {},
   "source": [
    "Optimise threshold to reach maximum F1 score with penalty"
   ]
  },
  {
   "cell_type": "code",
   "execution_count": 1158,
   "metadata": {},
   "outputs": [
    {
     "name": "stdout",
     "output_type": "stream",
     "text": [
      "Optimal threshold sex: 0.02\n",
      "Optimal threshold adhd: 0.36\n",
      "Optimal (weighted) F1 sex: 0.6331\n",
      "Optimal (weighted) F1 ADHD: 0.9575\n",
      "Optimal overall F1: 0.7953\n",
      "Number of females predictions in the test dataset:  238\n",
      "Number of ADHD predictions in the test dataset:  293\n",
      "Proportion of females predictions in the test dataset:  0.7829\n",
      "Proportion of ADHD predictions in the test dataset:  0.9638\n"
     ]
    }
   ],
   "source": [
    "# Select threshold to make sure proportion of females and males in the test dataset matches the \n",
    "# proportion in training dataset\n",
    "best_threshold_sex = 0\n",
    "best_threshold_adhd = 0\n",
    "min_f1_sex = float('inf')\n",
    "min_f1_adhd = float('inf')\n",
    "threshold_range = np.arange(0, 1.01, 0.0001)\n",
    "female_bonds = (0.78, 1.0)        # Proportion of females in the test set\n",
    "adhd_bonds = (0.96, 1.0)           # Proportion of ADHD diagnosis in the test\n",
    " \n",
    "best_threshold_sex_4, best_f1_sex_4   = find_best_threshold_with_constraint(y_true_sex, y_meta_prob_train_sex, y_meta_prob_test_sex, 'sex',                                           \n",
    "                                                                            y_true_sex_train = None, threshold_range = threshold_range,\n",
    "                                                                            female_bounds = female_bonds)\n",
    "best_threshold_adhd_4, best_f1_adhd_4 = find_best_threshold_with_constraint(y_true_adhd, y_meta_prob_train_adhd, y_meta_prob_test_adhd, 'adhd', \n",
    "                                                                            y_true_sex_train = y_true_sex, threshold_range = threshold_range,\n",
    "                                                                            adhd_bounds = adhd_bonds)\n",
    "\n",
    "print(f\"Optimal threshold sex: {best_threshold_sex_4:.2f}\")\n",
    "print(f\"Optimal threshold adhd: {best_threshold_adhd_4:.2f}\")\n",
    "\n",
    "print(f\"Optimal (weighted) F1 sex: {best_f1_sex_4:.4}\")\n",
    "print(f\"Optimal (weighted) F1 ADHD: {best_f1_adhd_4:.4f}\")\n",
    "best_f1_overall_4 = (best_f1_sex_4 + best_f1_adhd_4)/2\n",
    "print(f\"Optimal overall F1: {best_f1_overall_4:.4f}\")\n",
    "\n",
    "\n",
    "# Convert to binary predictions\n",
    "y_meta_pred_test_sex_4  = (y_meta_prob_test_sex > best_threshold_sex_4).astype(int)\n",
    "y_meta_pred_test_adhd_4 = (y_meta_prob_test_adhd > best_threshold_adhd_4).astype(int)\n",
    "\n",
    "\n",
    "print('Number of females predictions in the test dataset: ', y_meta_pred_test_sex_4.sum())\n",
    "print('Number of ADHD predictions in the test dataset: ', y_meta_pred_test_adhd_4.sum())\n",
    "print('Proportion of females predictions in the test dataset: ', round(y_meta_pred_test_sex_4.sum()/ len(y_meta_pred_test_sex_4), 4))\n",
    "print('Proportion of ADHD predictions in the test dataset: ', round(y_meta_pred_test_adhd_4.sum()/ len(y_meta_pred_test_adhd_4), 4))\n"
   ]
  },
  {
   "cell_type": "markdown",
   "metadata": {},
   "source": [
    "Create submission file"
   ]
  },
  {
   "cell_type": "code",
   "execution_count": 1159,
   "metadata": {},
   "outputs": [],
   "source": [
    "# Create the submission DataFrame\n",
    "submission_df = pd.DataFrame({\n",
    "    'participant_id': participant_ids,\n",
    "    'ADHD_Outcome': y_meta_pred_test_adhd_4,\n",
    "    'Sex_F': y_meta_pred_test_sex_4\n",
    "})\n",
    "\n",
    "# Save to CSV\n",
    "submission_df.to_csv(f\"{data_input_folder}/Interim/submission_ensemble_logreg_f_{female_bonds}_a_{adhd_bonds}.csv\", index=False)"
   ]
  }
 ],
 "metadata": {
  "kernelspec": {
   "display_name": "Python 3",
   "language": "python",
   "name": "python3"
  },
  "language_info": {
   "codemirror_mode": {
    "name": "ipython",
    "version": 3
   },
   "file_extension": ".py",
   "mimetype": "text/x-python",
   "name": "python",
   "nbconvert_exporter": "python",
   "pygments_lexer": "ipython3",
   "version": "3.12.0"
  }
 },
 "nbformat": 4,
 "nbformat_minor": 2
}
