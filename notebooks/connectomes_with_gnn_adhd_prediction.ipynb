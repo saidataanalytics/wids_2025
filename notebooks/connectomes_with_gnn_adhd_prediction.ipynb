{
  "cells": [
    {
      "cell_type": "markdown",
      "metadata": {
        "id": "MLXNVhxsy3k5"
      },
      "source": [
        "# Connectomes Data and Modeling Techniques\n",
        "\n",
        "### Techniques covered in this Notebook\n",
        "- Preprocessing the functional connectome data\n",
        "- Graph Convolutional Neural Network"
      ]
    },
    {
      "cell_type": "markdown",
      "metadata": {
        "id": "RN_PEO_oy3k7"
      },
      "source": [
        "## Functional Connectomes\n",
        "\n",
        "A **functional connectome** refers to the theoretical concept of the brain's functional connections, which describes how different brain regions interact and communicate with each other.\n",
        "\n",
        "**Functional connectome data**, on the other hand, is the actual data that represents these connections, typically obtained through neuroimaging techniques such as functional MRI. This data provides a quantitative measure of the synchronized activity between brain regions, allowing researchers to study and analyze the functional connectome.\n",
        "\n",
        "This data is crucial in ADHD research, as it can help us understand how brain connectivity patterns differ between individuals with ADHD and those without. By analyzing these patterns, we can identify potential biomarkers for ADHD and develop more accurate diagnostic tools.\n"
      ]
    },
    {
      "cell_type": "markdown",
      "metadata": {
        "id": "Ys8kgcdFy3k8"
      },
      "source": [
        "## The 2025 Datathon Functional Connectome Data\n",
        "\n",
        "The dataset correponds to the Functional Connectivity Networks (FCN) extracted from resting-state fMRIs of **1213 patients at 200 Regions Of Interest (ROIs)**. Patients are separated in two classes: ADHD and control. The goal will be to classify them. (You can also use these techniques to classify the sex of the patients.)\n",
        "\n",
        "\n",
        "\n",
        "\n",
        "\n"
      ]
    },
    {
      "cell_type": "markdown",
      "metadata": {
        "id": "JEIDqHNay3k8"
      },
      "source": [
        "## Geodesic vs Euclidean Distances\n",
        "\n",
        "We compare brain connectomes using Symmetric Positive Definite (SPD) matrices, which live on a curved surface (a manifold). To calculate distances between them, we use geodesic distance (shortest path on the curve, shown in black) instead of Euclidean distance (straight-line distance, shown in red)."
      ]
    },
    {
      "cell_type": "markdown",
      "metadata": {
        "id": "KETmRoeTy3k9"
      },
      "source": [
        "## Functional Connectome Data and SPD Matrices\n",
        "\n",
        "Functional connectome data is often approximated as a Symmetric Positive Definite (SPD) matrix. However, in reality, functional connectome data may not always be perfectly SPD."
      ]
    },
    {
      "cell_type": "markdown",
      "metadata": {
        "id": "MoObavSgy3k9"
      },
      "source": [
        "# Load the data"
      ]
    },
    {
      "cell_type": "code",
      "execution_count": 1,
      "metadata": {
        "colab": {
          "base_uri": "https://localhost:8080/"
        },
        "id": "eIPUb3SMz6Er",
        "outputId": "37915f4e-e011-4a61-e429-a85ffb8269ba"
      },
      "outputs": [
        {
          "name": "stdout",
          "output_type": "stream",
          "text": [
            "Collecting geomstats\n",
            "  Downloading geomstats-2.8.0-py3-none-any.whl.metadata (16 kB)\n",
            "Requirement already satisfied: joblib>=0.17.0 in /usr/local/lib/python3.11/dist-packages (from geomstats) (1.4.2)\n",
            "Requirement already satisfied: matplotlib>=3.3.4 in /usr/local/lib/python3.11/dist-packages (from geomstats) (3.10.0)\n",
            "Requirement already satisfied: numpy>=1.18.1 in /usr/local/lib/python3.11/dist-packages (from geomstats) (2.0.2)\n",
            "Requirement already satisfied: pandas>=1.1.5 in /usr/local/lib/python3.11/dist-packages (from geomstats) (2.2.2)\n",
            "Requirement already satisfied: scikit-learn>=0.22.1 in /usr/local/lib/python3.11/dist-packages (from geomstats) (1.6.1)\n",
            "Requirement already satisfied: scipy>=1.9 in /usr/local/lib/python3.11/dist-packages (from geomstats) (1.14.1)\n",
            "Requirement already satisfied: contourpy>=1.0.1 in /usr/local/lib/python3.11/dist-packages (from matplotlib>=3.3.4->geomstats) (1.3.2)\n",
            "Requirement already satisfied: cycler>=0.10 in /usr/local/lib/python3.11/dist-packages (from matplotlib>=3.3.4->geomstats) (0.12.1)\n",
            "Requirement already satisfied: fonttools>=4.22.0 in /usr/local/lib/python3.11/dist-packages (from matplotlib>=3.3.4->geomstats) (4.57.0)\n",
            "Requirement already satisfied: kiwisolver>=1.3.1 in /usr/local/lib/python3.11/dist-packages (from matplotlib>=3.3.4->geomstats) (1.4.8)\n",
            "Requirement already satisfied: packaging>=20.0 in /usr/local/lib/python3.11/dist-packages (from matplotlib>=3.3.4->geomstats) (24.2)\n",
            "Requirement already satisfied: pillow>=8 in /usr/local/lib/python3.11/dist-packages (from matplotlib>=3.3.4->geomstats) (11.1.0)\n",
            "Requirement already satisfied: pyparsing>=2.3.1 in /usr/local/lib/python3.11/dist-packages (from matplotlib>=3.3.4->geomstats) (3.2.3)\n",
            "Requirement already satisfied: python-dateutil>=2.7 in /usr/local/lib/python3.11/dist-packages (from matplotlib>=3.3.4->geomstats) (2.8.2)\n",
            "Requirement already satisfied: pytz>=2020.1 in /usr/local/lib/python3.11/dist-packages (from pandas>=1.1.5->geomstats) (2025.2)\n",
            "Requirement already satisfied: tzdata>=2022.7 in /usr/local/lib/python3.11/dist-packages (from pandas>=1.1.5->geomstats) (2025.2)\n",
            "Requirement already satisfied: threadpoolctl>=3.1.0 in /usr/local/lib/python3.11/dist-packages (from scikit-learn>=0.22.1->geomstats) (3.6.0)\n",
            "Requirement already satisfied: six>=1.5 in /usr/local/lib/python3.11/dist-packages (from python-dateutil>=2.7->matplotlib>=3.3.4->geomstats) (1.17.0)\n",
            "Downloading geomstats-2.8.0-py3-none-any.whl (10.5 MB)\n",
            "\u001b[2K   \u001b[90m━━━━━━━━━━━━━━━━━━━━━━━━━━━━━━━━━━━━━━━━\u001b[0m \u001b[32m10.5/10.5 MB\u001b[0m \u001b[31m32.7 MB/s\u001b[0m eta \u001b[36m0:00:00\u001b[0m\n",
            "\u001b[?25hInstalling collected packages: geomstats\n",
            "Successfully installed geomstats-2.8.0\n"
          ]
        }
      ],
      "source": [
        "!pip install geomstats"
      ]
    },
    {
      "cell_type": "code",
      "execution_count": null,
      "metadata": {
        "colab": {
          "base_uri": "https://localhost:8080/"
        },
        "id": "HDyCZMFwzCVq",
        "outputId": "4ad0f34d-0e84-4b56-befb-ce804b48ed69"
      },
      "outputs": [
        {
          "name": "stdout",
          "output_type": "stream",
          "text": [
            "Mounted at /content/drive\n"
          ]
        }
      ],
      "source": [
        "# Mount Google drive (only needed when run on Colab)\n",
        "from google.colab import drive\n",
        "drive.mount('/content/drive')"
      ]
    },
    {
      "cell_type": "code",
      "execution_count": null,
      "metadata": {
        "execution": {
          "iopub.execute_input": "2025-03-08T13:10:07.19468Z",
          "iopub.status.busy": "2025-03-08T13:10:07.194397Z",
          "iopub.status.idle": "2025-03-08T13:10:24.977705Z",
          "shell.execute_reply": "2025-03-08T13:10:24.976595Z",
          "shell.execute_reply.started": "2025-03-08T13:10:07.194656Z"
        },
        "id": "k0jR9u8Ry3k9",
        "trusted": true
      },
      "outputs": [],
      "source": [
        "import numpy as np\n",
        "import pandas as pd\n",
        "import csv\n",
        "import openpyxl\n",
        "import matplotlib.pyplot as plt\n",
        "\n",
        "import geomstats.datasets.utils as data_utils\n",
        "import geomstats.backend as gs\n",
        "from geomstats.geometry.skew_symmetric_matrices import SkewSymmetricMatrices\n",
        "\n",
        "# Read in the data (update to your root folder)\n",
        "df_soln = pd.read_excel(\"/content/drive/MyDrive/WIDS_2025/TRAIN_NEW/TRAINING_SOLUTIONS.xlsx\")\n",
        "df_conn = pd.read_csv(\"/content/drive/MyDrive/WIDS_2025/TRAIN_NEW/TRAIN_FUNCTIONAL_CONNECTOME_MATRICES_new_36P_Pearson.csv\")\n",
        "df_conn_test = pd.read_csv(\"/content/drive/MyDrive/WIDS_2025/TEST/TEST_FUNCTIONAL_CONNECTOME_MATRICES.csv\")\n",
        "\n",
        "# Extract the ADHD solutions and sort the data by participant_id\n",
        "df_soln_adhd = df_soln[['participant_id', 'ADHD_Outcome']].sort_values('participant_id')\n",
        "df_conn = df_conn.sort_values('participant_id')"
      ]
    },
    {
      "cell_type": "markdown",
      "metadata": {
        "id": "Jm0-sF--y3k-"
      },
      "source": [
        "### Reshape the connectome data into symmetric matrices\n",
        "\n",
        "We are given the upper half of the connectome matrices as vectors, which represent the functional connections between different brain regions. However, to analyze and process this data using Riemannian geometry-based methods, we need to reshape it into symmetric matrices.\n",
        "\n",
        "By reshaping the upper half vectors into symmetric matrices, we can reconstruct the full matrix, which is a more natural representation of the brain's functional connectivity."
      ]
    },
    {
      "cell_type": "code",
      "execution_count": 4,
      "metadata": {
        "execution": {
          "iopub.execute_input": "2025-03-08T13:10:24.980014Z",
          "iopub.status.busy": "2025-03-08T13:10:24.979609Z",
          "iopub.status.idle": "2025-03-08T13:10:24.986477Z",
          "shell.execute_reply": "2025-03-08T13:10:24.985391Z",
          "shell.execute_reply.started": "2025-03-08T13:10:24.979973Z"
        },
        "id": "0ecCoKXuy3k-",
        "trusted": true
      },
      "outputs": [],
      "source": [
        "# Define the load_connectomes function\n",
        "def load_connectomes(df_conn, df_soln_adhd, as_vectors=False):\n",
        "    \"\"\"\n",
        "    Load brain connectome data and ADHD labels, returning symmetric matrices with ones on the diagonal.\n",
        "    \"\"\"\n",
        "\n",
        "    patient_id = gs.array(df_conn['participant_id'])\n",
        "    data = gs.array(df_conn.drop('participant_id', axis=1))\n",
        "    target = gs.array(df_soln_adhd['ADHD_Outcome'])\n",
        "\n",
        "    if as_vectors:\n",
        "        return data, patient_id, target\n",
        "    mat = SkewSymmetricMatrices(200).matrix_representation(data)\n",
        "    mat = gs.eye(200) - gs.transpose(gs.tril(mat), (0, 2, 1))\n",
        "    mat = 1.0 / 2.0 * (mat + gs.transpose(mat, (0, 2, 1)))\n",
        "\n",
        "    return mat, patient_id, target"
      ]
    },
    {
      "cell_type": "code",
      "execution_count": 5,
      "metadata": {
        "colab": {
          "base_uri": "https://localhost:8080/"
        },
        "execution": {
          "iopub.execute_input": "2025-03-08T13:10:24.987809Z",
          "iopub.status.busy": "2025-03-08T13:10:24.987449Z",
          "iopub.status.idle": "2025-03-08T13:23:10.265817Z",
          "shell.execute_reply": "2025-03-08T13:23:10.264773Z",
          "shell.execute_reply.started": "2025-03-08T13:10:24.987778Z"
        },
        "id": "hkhezbuyy3k-",
        "outputId": "b07d32c1-b088-4b96-f89e-6fe0b025d7fc",
        "trusted": true
      },
      "outputs": [
        {
          "name": "stdout",
          "output_type": "stream",
          "text": [
            "There are 1213 connectomes: 382 non-ADHD and 831 ADHD patients.\n"
          ]
        }
      ],
      "source": [
        "# Call the load_connectomes function\n",
        "data, patient_id, labels = load_connectomes(df_conn, df_soln_adhd)\n",
        "\n",
        "# Print the results\n",
        "print(f\"There are {len(data)} connectomes: {sum(labels==0)} non-ADHD and {sum(labels==1)} ADHD patients.\")"
      ]
    },
    {
      "cell_type": "code",
      "execution_count": 6,
      "metadata": {
        "colab": {
          "base_uri": "https://localhost:8080/"
        },
        "execution": {
          "iopub.execute_input": "2025-03-08T13:23:10.268782Z",
          "iopub.status.busy": "2025-03-08T13:23:10.26833Z",
          "iopub.status.idle": "2025-03-08T13:23:10.276249Z",
          "shell.execute_reply": "2025-03-08T13:23:10.275359Z",
          "shell.execute_reply.started": "2025-03-08T13:23:10.268748Z"
        },
        "id": "ptEHKC1Fy3k-",
        "outputId": "e914b926-7afa-481f-c424-6fa734b68622",
        "trusted": true
      },
      "outputs": [
        {
          "data": {
            "text/plain": [
              "(1213, 200, 200)"
            ]
          },
          "execution_count": 6,
          "metadata": {},
          "output_type": "execute_result"
        }
      ],
      "source": [
        "data.shape"
      ]
    },
    {
      "cell_type": "markdown",
      "metadata": {
        "id": "iy4b3Fkoy3k-"
      },
      "source": [
        "We now have 200 x 200 matrices for each of the 1213 patients"
      ]
    },
    {
      "cell_type": "markdown",
      "metadata": {
        "id": "LM-w6I9XkLNb"
      },
      "source": [
        "# Introduction to Graph Convolutional Neural Networks (GCNNs)\n",
        "\n",
        "**Reference** Graph Neural Networks to Process Brain Connectomes video: https://www.youtube.com/watch?v=OkE3776GfWU\n",
        "\n",
        "GCNNs (also referred to as GCN) are a type of neural network designed to work with graph-structured data. In this example, we'll use a GCN to classify brain connectomes."
      ]
    },
    {
      "cell_type": "code",
      "execution_count": 7,
      "metadata": {
        "colab": {
          "base_uri": "https://localhost:8080/"
        },
        "id": "p2F233r0kLNb",
        "outputId": "c4194a64-a7dd-492c-fdd6-c582f0d183ad"
      },
      "outputs": [
        {
          "name": "stdout",
          "output_type": "stream",
          "text": [
            "Collecting torch_geometric\n",
            "  Downloading torch_geometric-2.6.1-py3-none-any.whl.metadata (63 kB)\n",
            "\u001b[?25l     \u001b[90m━━━━━━━━━━━━━━━━━━━━━━━━━━━━━━━━━━━━━━━━\u001b[0m \u001b[32m0.0/63.1 kB\u001b[0m \u001b[31m?\u001b[0m eta \u001b[36m-:--:--\u001b[0m\r\u001b[2K     \u001b[90m━━━━━━━━━━━━━━━━━━━━━━━━━━━━━━━━━━━━━━━━\u001b[0m \u001b[32m63.1/63.1 kB\u001b[0m \u001b[31m2.7 MB/s\u001b[0m eta \u001b[36m0:00:00\u001b[0m\n",
            "\u001b[?25hRequirement already satisfied: aiohttp in /usr/local/lib/python3.11/dist-packages (from torch_geometric) (3.11.15)\n",
            "Requirement already satisfied: fsspec in /usr/local/lib/python3.11/dist-packages (from torch_geometric) (2025.3.2)\n",
            "Requirement already satisfied: jinja2 in /usr/local/lib/python3.11/dist-packages (from torch_geometric) (3.1.6)\n",
            "Requirement already satisfied: numpy in /usr/local/lib/python3.11/dist-packages (from torch_geometric) (2.0.2)\n",
            "Requirement already satisfied: psutil>=5.8.0 in /usr/local/lib/python3.11/dist-packages (from torch_geometric) (5.9.5)\n",
            "Requirement already satisfied: pyparsing in /usr/local/lib/python3.11/dist-packages (from torch_geometric) (3.2.3)\n",
            "Requirement already satisfied: requests in /usr/local/lib/python3.11/dist-packages (from torch_geometric) (2.32.3)\n",
            "Requirement already satisfied: tqdm in /usr/local/lib/python3.11/dist-packages (from torch_geometric) (4.67.1)\n",
            "Requirement already satisfied: aiohappyeyeballs>=2.3.0 in /usr/local/lib/python3.11/dist-packages (from aiohttp->torch_geometric) (2.6.1)\n",
            "Requirement already satisfied: aiosignal>=1.1.2 in /usr/local/lib/python3.11/dist-packages (from aiohttp->torch_geometric) (1.3.2)\n",
            "Requirement already satisfied: attrs>=17.3.0 in /usr/local/lib/python3.11/dist-packages (from aiohttp->torch_geometric) (25.3.0)\n",
            "Requirement already satisfied: frozenlist>=1.1.1 in /usr/local/lib/python3.11/dist-packages (from aiohttp->torch_geometric) (1.5.0)\n",
            "Requirement already satisfied: multidict<7.0,>=4.5 in /usr/local/lib/python3.11/dist-packages (from aiohttp->torch_geometric) (6.4.3)\n",
            "Requirement already satisfied: propcache>=0.2.0 in /usr/local/lib/python3.11/dist-packages (from aiohttp->torch_geometric) (0.3.1)\n",
            "Requirement already satisfied: yarl<2.0,>=1.17.0 in /usr/local/lib/python3.11/dist-packages (from aiohttp->torch_geometric) (1.19.0)\n",
            "Requirement already satisfied: MarkupSafe>=2.0 in /usr/local/lib/python3.11/dist-packages (from jinja2->torch_geometric) (3.0.2)\n",
            "Requirement already satisfied: charset-normalizer<4,>=2 in /usr/local/lib/python3.11/dist-packages (from requests->torch_geometric) (3.4.1)\n",
            "Requirement already satisfied: idna<4,>=2.5 in /usr/local/lib/python3.11/dist-packages (from requests->torch_geometric) (3.10)\n",
            "Requirement already satisfied: urllib3<3,>=1.21.1 in /usr/local/lib/python3.11/dist-packages (from requests->torch_geometric) (2.3.0)\n",
            "Requirement already satisfied: certifi>=2017.4.17 in /usr/local/lib/python3.11/dist-packages (from requests->torch_geometric) (2025.1.31)\n",
            "Downloading torch_geometric-2.6.1-py3-none-any.whl (1.1 MB)\n",
            "\u001b[2K   \u001b[90m━━━━━━━━━━━━━━━━━━━━━━━━━━━━━━━━━━━━━━━━\u001b[0m \u001b[32m1.1/1.1 MB\u001b[0m \u001b[31m27.0 MB/s\u001b[0m eta \u001b[36m0:00:00\u001b[0m\n",
            "\u001b[?25hInstalling collected packages: torch_geometric\n",
            "Successfully installed torch_geometric-2.6.1\n"
          ]
        }
      ],
      "source": [
        "pip install torch_geometric"
      ]
    },
    {
      "cell_type": "code",
      "execution_count": 8,
      "metadata": {
        "id": "a7JWjrEakLNc"
      },
      "outputs": [],
      "source": [
        "import torch\n",
        "import torch.nn.functional as F\n",
        "from torch_geometric.nn import GCNConv, global_mean_pool\n",
        "from torch_geometric.data import Data\n",
        "from torch_geometric.loader import DataLoader"
      ]
    },
    {
      "cell_type": "markdown",
      "metadata": {
        "id": "_aMldOHRkLNc"
      },
      "source": [
        "### Data Preparation\n",
        "\n",
        "We need to convert our data into a format that can be used by the GCN. This involves creating graph data objects for each connectivity matrix."
      ]
    },
    {
      "cell_type": "code",
      "execution_count": 9,
      "metadata": {
        "id": "L3dTwBV8kLNc"
      },
      "outputs": [],
      "source": [
        "# Convert data to torch tensors\n",
        "connectivity_matrices = torch.tensor(data).float()\n",
        "labels = torch.tensor(labels).float()\n",
        "\n",
        "# Create graph data objects for each matrix\n",
        "data_list = []\n",
        "for i in range(len(connectivity_matrices)):\n",
        "    matrix = connectivity_matrices[i]\n",
        "    edge_index = (matrix > 0).nonzero(as_tuple=False).t()\n",
        "    edge_attr = matrix[edge_index[0], edge_index[1]]\n",
        "    x = torch.eye(200)\n",
        "\n",
        "    # Create graph data object\n",
        "    graph_data = Data(x=x, edge_index=edge_index, edge_attr=edge_attr, y=labels[i].unsqueeze(0))\n",
        "    data_list.append(graph_data)"
      ]
    },
    {
      "cell_type": "code",
      "execution_count": 10,
      "metadata": {
        "id": "bxtqC5y4kLNd"
      },
      "outputs": [],
      "source": [
        "### Splitting Data into Training and Testing Sets"
      ]
    },
    {
      "cell_type": "code",
      "execution_count": 11,
      "metadata": {
        "colab": {
          "base_uri": "https://localhost:8080/"
        },
        "id": "E2Gpn39gkLNd",
        "outputId": "b5369daa-1c6d-4843-b58c-29039eed5ef5"
      },
      "outputs": [
        {
          "name": "stdout",
          "output_type": "stream",
          "text": [
            "Number of examples in training data: 909\n",
            "Number of examples in test data: 304\n"
          ]
        }
      ],
      "source": [
        "torch.manual_seed(192024)\n",
        "\n",
        "# Apply a 80:20 train test split\n",
        "split_index = int(len(data_list) * 0.75)\n",
        "\n",
        "# Manually split the data_list into train and test sets\n",
        "train_data = data_list[:split_index]\n",
        "test_data = data_list[split_index:]\n",
        "\n",
        "print(\"Number of examples in training data:\", len(train_data))\n",
        "print(\"Number of examples in test data:\", len(test_data))"
      ]
    },
    {
      "cell_type": "markdown",
      "metadata": {
        "id": "DB4qzEa-kLNd"
      },
      "source": [
        "### Defining the GCN\n",
        "\n",
        "We'll define a simple GCN model with two layers"
      ]
    },
    {
      "cell_type": "code",
      "execution_count": 12,
      "metadata": {
        "id": "iGWA32rQkLNd"
      },
      "outputs": [],
      "source": [
        "class GCN(torch.nn.Module):\n",
        "    def __init__(self):\n",
        "        super(GCN, self).__init__()\n",
        "        self.conv1 = GCNConv(in_channels=200, out_channels=128) # First layer\n",
        "        self.conv2 = GCNConv(in_channels=128, out_channels=1) # Second layer, outputting 1 logit\n",
        "\n",
        "    def forward(self, data):\n",
        "        x, edge_index, edge_attr, batch = data.x, data.edge_index, data.edge_attr, data.batch\n",
        "        # First convolution + ReLU activation\n",
        "        x = self.conv1(x, edge_index, edge_attr)\n",
        "        x = F.relu(x)\n",
        "        # Second convolution\n",
        "        x = self.conv2(x, edge_index, edge_attr)\n",
        "        # Pooling and returning logits\n",
        "        x = global_mean_pool(x, batch) # Simple pooling\n",
        "        return x.view(-1) # Ensuring output has the correct shape (batch_size,)"
      ]
    },
    {
      "cell_type": "markdown",
      "metadata": {
        "id": "l1bCGhwlkLNe"
      },
      "source": [
        "### Train the model\n",
        "\n",
        "Train the model using a simple training loop."
      ]
    },
    {
      "cell_type": "code",
      "execution_count": 13,
      "metadata": {
        "colab": {
          "base_uri": "https://localhost:8080/"
        },
        "id": "b35TjuFckLNe",
        "outputId": "339acbe5-1d32-4d10-e55e-18a5750ba099"
      },
      "outputs": [
        {
          "name": "stdout",
          "output_type": "stream",
          "text": [
            "Epoch 0, Loss: 0.6387\n",
            "Epoch 10, Loss: 0.6292\n",
            "Epoch 20, Loss: 0.6285\n",
            "Epoch 30, Loss: 0.6236\n",
            "Epoch 40, Loss: 0.6257\n",
            "Epoch 50, Loss: 0.6198\n",
            "Epoch 60, Loss: 0.6079\n",
            "Epoch 70, Loss: 0.5915\n",
            "Epoch 80, Loss: 0.5762\n",
            "Epoch 90, Loss: 0.5583\n",
            "Epoch 100, Loss: 0.5395\n",
            "Epoch 110, Loss: 0.5358\n",
            "Epoch 120, Loss: 0.5062\n",
            "Epoch 130, Loss: 0.4846\n",
            "Epoch 140, Loss: 0.4644\n",
            "Epoch 150, Loss: 0.4495\n",
            "Epoch 160, Loss: 0.4515\n",
            "Epoch 170, Loss: 0.4020\n",
            "Epoch 180, Loss: 0.3831\n",
            "Epoch 190, Loss: 0.3724\n"
          ]
        }
      ],
      "source": [
        "model = GCN()\n",
        "optimizer = torch.optim.Adam(model.parameters(), lr=0.01) # Set up optimizer\n",
        "criterion = torch.nn.BCEWithLogitsLoss() # Define criterion (loss function)\n",
        "train_loader = DataLoader(train_data, batch_size=32, shuffle=True)\n",
        "\n",
        "def train():\n",
        "    model.train()\n",
        "    total_loss = 0\n",
        "    for data in train_loader: # Load batches\n",
        "        optimizer.zero_grad() # Reset gradients\n",
        "        out = model(data) # Pass batch thru model to obtain predictions (forward pass)\n",
        "        loss = criterion(out, data.y) # Calculate loss between predictions and true labels\n",
        "        loss.backward() # Backpropogate the loss to compute gradients\n",
        "        optimizer.step() # Update the models parameters using gradients\n",
        "        total_loss += loss.item() # Accumulate batch loss into total loss\n",
        "    return total_loss / len(train_loader) # # Return loss average per batch\n",
        "\n",
        "losses = []\n",
        "for epoch in range(200):\n",
        "    loss = train()\n",
        "    losses.append(loss)\n",
        "    if epoch % 10 == 0:\n",
        "        print(f'Epoch {epoch}, Loss: {loss:.4f}')"
      ]
    },
    {
      "cell_type": "markdown",
      "metadata": {
        "id": "By0WCWOXkLNe"
      },
      "source": [
        "### Evaluate the model\n",
        "\n",
        "Evaluate the model on the test set and calculate its accuracy."
      ]
    },
    {
      "cell_type": "code",
      "execution_count": 14,
      "metadata": {
        "colab": {
          "base_uri": "https://localhost:8080/"
        },
        "id": "cnUfxSJfkLNf",
        "outputId": "4a59b4f7-a0b2-4ca2-a1dd-b070c7341621"
      },
      "outputs": [
        {
          "name": "stdout",
          "output_type": "stream",
          "text": [
            "Number of examples in test data: 304\n",
            "Accuracy: 0.6349\n"
          ]
        }
      ],
      "source": [
        "# Evaluate the model\n",
        "test_loader = DataLoader(test_data, batch_size=32, shuffle=False)\n",
        "print(\"Number of examples in test data:\", len(test_data))\n",
        "\n",
        "model.eval()\n",
        "actual_labels = []\n",
        "predicted_labels = []\n",
        "probabilities = []\n",
        "with torch.no_grad():\n",
        "    for data in test_loader:\n",
        "        out = model(data)\n",
        "        pred = torch.round(torch.sigmoid(out)) # Apply Sigmoid and threshold to get binary predictions\n",
        "        probs = torch.sigmoid(out)\n",
        "        actual_labels.extend(data.y.int().tolist())\n",
        "        predicted_labels.extend(pred.tolist())\n",
        "        probabilities.extend(probs.cpu().tolist())  # Store raw probabilities\n",
        "\n",
        "accuracy = sum(1 for a, p in zip(actual_labels, predicted_labels) if a == p) / len(actual_labels)\n",
        "print(f'Accuracy: {accuracy:.4f}')"
      ]
    },
    {
      "cell_type": "markdown",
      "metadata": {
        "id": "WnbstL2hkLNf"
      },
      "source": [
        "### Training Loss Plot\n",
        "\n",
        "Visualize the training loss over epochs to see how the model converges."
      ]
    },
    {
      "cell_type": "code",
      "execution_count": 15,
      "metadata": {
        "colab": {
          "base_uri": "https://localhost:8080/",
          "height": 333
        },
        "id": "3hAn7dZDkLNf",
        "outputId": "6c1b2027-931b-4efb-9047-6544bfe94af6"
      },
      "outputs": [
        {
          "data": {
            "image/png": "[encoded data removed]",
            "text/plain": [
              "<Figure size 600x300 with 1 Axes>"
            ]
          },
          "metadata": {},
          "output_type": "display_data"
        }
      ],
      "source": [
        "epochs = list(range(1, len(losses) + 1))\n",
        "\n",
        "# Visualize the loss values\n",
        "plt.figure(figsize=(6, 3))\n",
        "plt.plot(epochs, losses, marker='o', linestyle='-', color='b')\n",
        "plt.title('Training loss over epochs')\n",
        "plt.xlabel('Epoch')\n",
        "plt.ylabel('Loss')\n",
        "plt.grid(True)\n",
        "plt.show()"
      ]
    },
    {
      "cell_type": "markdown",
      "metadata": {
        "id": "UPBCbDJukLNg"
      },
      "source": [
        "### Confusion Matrix\n",
        "\n",
        "To evaluate the model's performance"
      ]
    },
    {
      "cell_type": "code",
      "execution_count": 16,
      "metadata": {
        "colab": {
          "base_uri": "https://localhost:8080/",
          "height": 333
        },
        "id": "AGj2vfcdkLNg",
        "outputId": "e5b3a161-44f8-46df-b466-92767663a1ec"
      },
      "outputs": [
        {
          "data": {
            "image/png": "[encoded data removed]",
            "text/plain": [
              "<Figure size 600x300 with 2 Axes>"
            ]
          },
          "metadata": {},
          "output_type": "display_data"
        }
      ],
      "source": [
        "# Confusion matrix\n",
        "import seaborn as sns\n",
        "\n",
        "true_positives = 0\n",
        "false_positives = 0\n",
        "true_negatives = 0\n",
        "false_negatives = 0\n",
        "\n",
        "for true, predicted in zip(actual_labels, predicted_labels):\n",
        "    if predicted == 1 and true == 1:\n",
        "        true_positives += 1\n",
        "    elif predicted == 1 and true == 0:\n",
        "        false_positives += 1\n",
        "    elif predicted == 0 and true == 0:\n",
        "        true_negatives += 1\n",
        "    elif predicted == 0 and true == 1:\n",
        "        false_negatives += 1\n",
        "\n",
        "conf_matrix = np.array([[true_positives, false_negatives],\n",
        "                        [false_positives, true_negatives]])\n",
        "\n",
        "cm_labels = ['Positive', 'Negative']\n",
        "categories = ['Positive', 'Negative']\n",
        "\n",
        "plt.figure(figsize=(6,3))\n",
        "sns.heatmap(conf_matrix, annot=True, fmt='d', cmap='Blues', xticklabels=cm_labels, yticklabels=categories)\n",
        "plt.title('Confusion Matrix')\n",
        "plt.xlabel('Predicted Labels')\n",
        "plt.ylabel('True Labels')\n",
        "plt.show()"
      ]
    },
    {
      "cell_type": "code",
      "execution_count": 17,
      "metadata": {
        "colab": {
          "base_uri": "https://localhost:8080/"
        },
        "id": "LrxX0QJckLNh",
        "outputId": "f4786f4e-42a3-49f5-f52c-7db58389c89d"
      },
      "outputs": [
        {
          "name": "stdout",
          "output_type": "stream",
          "text": [
            "F1 score: 0.7592190889370932\n",
            "Accuracy score: 0.6348684210526315\n"
          ]
        }
      ],
      "source": [
        "from sklearn.metrics import precision_score, recall_score, f1_score, accuracy_score\n",
        "f1 = f1_score(actual_labels, predicted_labels)\n",
        "print(\"F1 score:\", f1)\n",
        "print(\"Accuracy score:\", accuracy)\n"
      ]
    },
    {
      "cell_type": "markdown",
      "metadata": {
        "id": "4VB4M34ukLNh"
      },
      "source": [
        "Convert patient_id to a 1D numpy array:"
      ]
    },
    {
      "cell_type": "code",
      "execution_count": 18,
      "metadata": {
        "id": "8qSEQH8bkLNh"
      },
      "outputs": [],
      "source": [
        "patient_id_np = np.array(patient_id)"
      ]
    },
    {
      "cell_type": "markdown",
      "metadata": {
        "id": "sQNibicXHx4T"
      },
      "source": [
        "Calculate predicted values and probabilities for the entire training dataset:"
      ]
    },
    {
      "cell_type": "code",
      "execution_count": 20,
      "metadata": {
        "colab": {
          "base_uri": "https://localhost:8080/"
        },
        "id": "ACVeOVS7Hr0L",
        "outputId": "9e941d22-45d8-43f1-9405-03a0bd4c83d9"
      },
      "outputs": [
        {
          "name": "stdout",
          "output_type": "stream",
          "text": [
            "Number of examples in the entire dataset: 1213\n"
          ]
        }
      ],
      "source": [
        "# Create DataLoader for the entire dataset (data_list)\n",
        "data_loader = DataLoader(data_list, batch_size=32, shuffle=False)\n",
        "print(\"Number of examples in the entire dataset:\", len(data_list))\n",
        "\n",
        "model.eval()  # Set the model to evaluation mode\n",
        "actual_labels_train = []\n",
        "predicted_labels_train = []\n",
        "probabilities_train = []\n",
        "\n",
        "with torch.no_grad():  # No need to compute gradients during inference\n",
        "    for data in data_loader:\n",
        "        out = model(data)\n",
        "        pred_train = torch.round(torch.sigmoid(out))  # Apply Sigmoid and threshold to get binary predictions\n",
        "        probs_train = torch.sigmoid(out)              # Get raw probabilities\n",
        "        actual_labels_train.extend(data.y.int().tolist())  # Store true labels\n",
        "        predicted_labels_train.extend(pred_train.tolist())      # Store predicted labels\n",
        "        probabilities_train.extend(probs_train.cpu().tolist())  # Store raw probabilities"
      ]
    },
    {
      "cell_type": "markdown",
      "metadata": {
        "id": "Aaqub_68IAaL"
      },
      "source": [
        "Check accuracy of the prediction on the entire training dataset"
      ]
    },
    {
      "cell_type": "code",
      "execution_count": 27,
      "metadata": {
        "colab": {
          "base_uri": "https://localhost:8080/"
        },
        "id": "1UXMyO_GH-KJ",
        "outputId": "18e86632-eb49-453d-bd76-896b212398c6"
      },
      "outputs": [
        {
          "name": "stdout",
          "output_type": "stream",
          "text": [
            "Accuracy on training data: 0.8079\n",
            "Weighted F1 Score on the entire training dataset: 0.7971\n"
          ]
        }
      ],
      "source": [
        "accuracy = sum(1 for a, p in zip(actual_labels_train, predicted_labels_train) if a == p) / len(actual_labels_train)\n",
        "print(f'Accuracy on training data: {accuracy:.4f}')\n",
        "\n",
        "f1 = f1_score(actual_labels_train, predicted_labels_train, average='weighted')\n",
        "print(f'Weighted F1 Score on the entire training dataset: {f1:.4f}')"
      ]
    },
    {
      "cell_type": "markdown",
      "metadata": {
        "id": "A18AQA5vkLNh"
      },
      "source": [
        "Include ADHD predictins and probabilities on the trainig dataset in a pandas dataframe and save to a csv file."
      ]
    },
    {
      "cell_type": "code",
      "execution_count": 49,
      "metadata": {
        "id": "nNnZ-_gikLNh"
      },
      "outputs": [],
      "source": [
        "train_pred_prob_df = pd.DataFrame({\n",
        "    'participant_id': patient_id,\n",
        "    'predicted_label': predicted_labels_train,\n",
        "    'probability': probabilities_train\n",
        "})\n",
        "\n",
        "train_pred_prob_df.to_csv(\"/content/drive/MyDrive/WIDS_2025/Output/gnn_train_pred_prob_adhd.csv\", index=False)"
      ]
    },
    {
      "cell_type": "markdown",
      "metadata": {
        "id": "64YTgcOoy3lA"
      },
      "source": [
        "## Prediction on the test set"
      ]
    },
    {
      "cell_type": "code",
      "execution_count": 29,
      "metadata": {
        "id": "cG6WunK26WKH"
      },
      "outputs": [],
      "source": [
        "def load_connectomes_test(df_conn):\n",
        "\n",
        "    \"\"\"\n",
        "    Load brain connectome data, returning symmetric matrices with ones on the diagonal.\n",
        "    \"\"\"\n",
        "\n",
        "    patient_id = gs.array(df_conn['participant_id'])\n",
        "    data = gs.array(df_conn.drop('participant_id', axis=1))\n",
        "\n",
        "    mat = SkewSymmetricMatrices(200).matrix_representation(data)\n",
        "    mat = gs.eye(200) - gs.transpose(gs.tril(mat), (0, 2, 1))\n",
        "    mat = 1.0 / 2.0 * (mat + gs.transpose(mat, (0, 2, 1)))\n",
        "\n",
        "    return mat, patient_id"
      ]
    },
    {
      "cell_type": "code",
      "execution_count": 24,
      "metadata": {
        "id": "VmVkgtfXy3lB"
      },
      "outputs": [],
      "source": [
        "data_test, patient_id_test = load_connectomes_test(df_conn_test)"
      ]
    },
    {
      "cell_type": "code",
      "execution_count": 25,
      "metadata": {
        "colab": {
          "base_uri": "https://localhost:8080/"
        },
        "id": "ORJ1fAtfy3lB",
        "outputId": "6d93a2df-6bdd-4b27-94e4-a6b4e483c64f"
      },
      "outputs": [
        {
          "data": {
            "text/plain": [
              "(304, 200, 200)"
            ]
          },
          "execution_count": 25,
          "metadata": {},
          "output_type": "execute_result"
        }
      ],
      "source": [
        "data_test.shape"
      ]
    },
    {
      "cell_type": "markdown",
      "metadata": {
        "id": "BrF3CONKNEbl"
      },
      "source": [
        "\n",
        "Convert data_test to tensor"
      ]
    },
    {
      "cell_type": "code",
      "execution_count": 30,
      "metadata": {
        "id": "7f0aDizxNKEK"
      },
      "outputs": [],
      "source": [
        "# Convert to tensor if not already\n",
        "connectivity_matrices_test = torch.tensor(data_test).float()\n",
        "\n",
        "data_test_list = []\n",
        "for i in range(len(connectivity_matrices_test)):\n",
        "    matrix = connectivity_matrices_test[i]\n",
        "    edge_index = (matrix > 0).nonzero(as_tuple=False).t()  # Edges where weight > 0\n",
        "    edge_attr = matrix[edge_index[0], edge_index[1]]\n",
        "    x = torch.eye(200)  # Identity matrix as node features\n",
        "\n",
        "    graph_data = Data(x=x, edge_index=edge_index, edge_attr=edge_attr)\n",
        "    data_test_list.append(graph_data)"
      ]
    },
    {
      "cell_type": "markdown",
      "metadata": {
        "id": "EZpfj1QNNOMP"
      },
      "source": [
        "Load test data"
      ]
    },
    {
      "cell_type": "code",
      "execution_count": 44,
      "metadata": {
        "id": "z9uJPT5vy3lB"
      },
      "outputs": [],
      "source": [
        "# Create DataLoader for the test dataset\n",
        "test_loader = DataLoader(data_test_list, batch_size=32, shuffle=False)\n",
        "\n",
        "model.eval()\n",
        "predicted_labels_test = []\n",
        "probabilities_test = []\n",
        "\n",
        "with torch.no_grad():\n",
        "    for data in test_loader:\n",
        "        out = model(data)\n",
        "        probs_test = torch.sigmoid(out)                      # Get probabilities\n",
        "        pred_test = torch.round(probs_test)                       # Get binary predictions\n",
        "        predicted_labels_test.extend(pred_test.cpu().tolist())    # Move to CPU and store\n",
        "        probabilities_test.extend(probs_test.cpu().tolist())"
      ]
    },
    {
      "cell_type": "markdown",
      "metadata": {
        "id": "oHp_rWKtOODp"
      },
      "source": [
        "Convert patient_id, predicted labels and probabilities to numpy array before incuding in pandas dataframe"
      ]
    },
    {
      "cell_type": "code",
      "execution_count": 45,
      "metadata": {
        "id": "klL2wJ8Ey3lB"
      },
      "outputs": [],
      "source": [
        "patient_id_test = np.array(patient_id_test)\n",
        "predicted_labels_test = np.array(predicted_labels_test)\n",
        "probabilities_test = np.array(probabilities_test)"
      ]
    },
    {
      "cell_type": "markdown",
      "metadata": {
        "id": "HS06yxXvkLNy"
      },
      "source": [
        "Include ADHD preditions and probabilities on the test dataset to a pandas dataframe and save to a csv file."
      ]
    },
    {
      "cell_type": "code",
      "execution_count": 47,
      "metadata": {
        "id": "rVDWG_E7y3lB"
      },
      "outputs": [],
      "source": [
        "test_pred_prob_adhd_df = pd.DataFrame({\n",
        "    'participant_id': patient_id_test,\n",
        "    'predicted_label': predicted_labels_test,\n",
        "    'probability': probabilities_test\n",
        "})\n",
        "\n",
        "test_pred_prob_adhd_df.to_csv(\"/content/drive/MyDrive/WIDS_2025/Output/gnn_test_pred_prob_adhd.csv\", index=False)"
      ]
    },
    {
      "cell_type": "markdown",
      "metadata": {
        "id": "qAUr2Qs6kLNz"
      },
      "source": [
        "Include ADHD preditions on the test dataset to a pandas dataframe and save to a submission csv file."
      ]
    },
    {
      "cell_type": "code",
      "execution_count": 48,
      "metadata": {
        "id": "Z2GzaQAey3lF"
      },
      "outputs": [],
      "source": [
        "submission_gnn_adhd = pd.DataFrame({\n",
        "    'participant_id': patient_id_test_np,\n",
        "    'predicted_label': predicted_labels_test\n",
        "})\n",
        "\n",
        "submission_gnn_adhd.to_csv(\"/content/drive/MyDrive/WIDS_2025/Output/submission_gnn_adhd.csv\", index=False)"
      ]
    }
  ],
  "metadata": {
    "colab": {
      "provenance": []
    },
    "kaggle": {
      "accelerator": "nvidiaTeslaT4",
      "dataSources": [
        {
          "databundleVersionId": 11498594,
          "sourceId": 90566,
          "sourceType": "competition"
        }
      ],
      "dockerImageVersionId": 30918,
      "isGpuEnabled": true,
      "isInternetEnabled": true,
      "language": "python",
      "sourceType": "notebook"
    },
    "kernelspec": {
      "display_name": "Python 3",
      "language": "python",
      "name": "python3"
    },
    "language_info": {
      "codemirror_mode": {
        "name": "ipython",
        "version": 3
      },
      "file_extension": ".py",
      "mimetype": "text/x-python",
      "name": "python",
      "nbconvert_exporter": "python",
      "pygments_lexer": "ipython3",
      "version": "3.12.0"
    }
  },
  "nbformat": 4,
  "nbformat_minor": 0
}
