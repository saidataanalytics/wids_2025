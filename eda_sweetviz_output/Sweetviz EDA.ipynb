{
 "cells": [
  {
   "cell_type": "code",
   "execution_count": 63,
   "id": "0b7f19f6-4b91-47e9-8c07-6bdb39225add",
   "metadata": {},
   "outputs": [],
   "source": [
    "import pandas as pd\n",
    "import sweetviz as sv"
   ]
  },
  {
   "cell_type": "markdown",
   "id": "04b44cd1-f110-45cc-a9de-d8d93a4f3093",
   "metadata": {},
   "source": [
    "## Import All Training Data "
   ]
  },
  {
   "cell_type": "markdown",
   "id": "4b2c9308-b4b9-4ddd-83ba-20a8ef8ded9d",
   "metadata": {},
   "source": [
    "### Training Data Outcomes"
   ]
  },
  {
   "cell_type": "code",
   "execution_count": 90,
   "id": "c80b70f4-c49e-4f8f-83ae-d058eab0d88d",
   "metadata": {},
   "outputs": [],
   "source": [
    "# Read the Excel file\n",
    "train_sols = pd.read_excel(\"TRAINING_SOLUTIONS.xlsx\")"
   ]
  },
  {
   "cell_type": "code",
   "execution_count": 91,
   "id": "648dc4c9-4f9e-4695-8cb8-b092382be09d",
   "metadata": {},
   "outputs": [
    {
     "data": {
      "text/html": [
       "<div>\n",
       "<style scoped>\n",
       "    .dataframe tbody tr th:only-of-type {\n",
       "        vertical-align: middle;\n",
       "    }\n",
       "\n",
       "    .dataframe tbody tr th {\n",
       "        vertical-align: top;\n",
       "    }\n",
       "\n",
       "    .dataframe thead th {\n",
       "        text-align: right;\n",
       "    }\n",
       "</style>\n",
       "<table border=\"1\" class=\"dataframe\">\n",
       "  <thead>\n",
       "    <tr style=\"text-align: right;\">\n",
       "      <th></th>\n",
       "      <th>participant_id</th>\n",
       "      <th>ADHD_Outcome</th>\n",
       "      <th>Sex_F</th>\n",
       "    </tr>\n",
       "  </thead>\n",
       "  <tbody>\n",
       "    <tr>\n",
       "      <th>0</th>\n",
       "      <td>UmrK0vMLopoR</td>\n",
       "      <td>1</td>\n",
       "      <td>1</td>\n",
       "    </tr>\n",
       "    <tr>\n",
       "      <th>1</th>\n",
       "      <td>CPaeQkhcjg7d</td>\n",
       "      <td>1</td>\n",
       "      <td>0</td>\n",
       "    </tr>\n",
       "    <tr>\n",
       "      <th>2</th>\n",
       "      <td>Nb4EetVPm3gs</td>\n",
       "      <td>1</td>\n",
       "      <td>0</td>\n",
       "    </tr>\n",
       "    <tr>\n",
       "      <th>3</th>\n",
       "      <td>p4vPhVu91o4b</td>\n",
       "      <td>1</td>\n",
       "      <td>1</td>\n",
       "    </tr>\n",
       "    <tr>\n",
       "      <th>4</th>\n",
       "      <td>M09PXs7arQ5E</td>\n",
       "      <td>1</td>\n",
       "      <td>1</td>\n",
       "    </tr>\n",
       "  </tbody>\n",
       "</table>\n",
       "</div>"
      ],
      "text/plain": [
       "  participant_id  ADHD_Outcome  Sex_F\n",
       "0   UmrK0vMLopoR             1      1\n",
       "1   CPaeQkhcjg7d             1      0\n",
       "2   Nb4EetVPm3gs             1      0\n",
       "3   p4vPhVu91o4b             1      1\n",
       "4   M09PXs7arQ5E             1      1"
      ]
     },
     "execution_count": 91,
     "metadata": {},
     "output_type": "execute_result"
    }
   ],
   "source": [
    "train_sols.head()"
   ]
  },
  {
   "cell_type": "markdown",
   "id": "b4f8b836-7c46-475d-b6c1-c3097b25acfe",
   "metadata": {},
   "source": [
    "### Training MRI Data"
   ]
  },
  {
   "cell_type": "code",
   "execution_count": 66,
   "id": "a9cdbd27-c7fa-478c-ab79-d4a557b10f3f",
   "metadata": {},
   "outputs": [],
   "source": [
    "# Read the csv file\n",
    "train_mri = pd.read_csv(\"TRAIN_FUNCTIONAL_CONNECTOME_MATRICES.csv\")"
   ]
  },
  {
   "cell_type": "code",
   "execution_count": 67,
   "id": "34fce993-196a-410c-a5a7-00b63a8b583f",
   "metadata": {},
   "outputs": [
    {
     "data": {
      "text/html": [
       "<div>\n",
       "<style scoped>\n",
       "    .dataframe tbody tr th:only-of-type {\n",
       "        vertical-align: middle;\n",
       "    }\n",
       "\n",
       "    .dataframe tbody tr th {\n",
       "        vertical-align: top;\n",
       "    }\n",
       "\n",
       "    .dataframe thead th {\n",
       "        text-align: right;\n",
       "    }\n",
       "</style>\n",
       "<table border=\"1\" class=\"dataframe\">\n",
       "  <thead>\n",
       "    <tr style=\"text-align: right;\">\n",
       "      <th></th>\n",
       "      <th>participant_id</th>\n",
       "      <th>0throw_1thcolumn</th>\n",
       "      <th>0throw_2thcolumn</th>\n",
       "      <th>0throw_3thcolumn</th>\n",
       "      <th>0throw_4thcolumn</th>\n",
       "      <th>0throw_5thcolumn</th>\n",
       "      <th>0throw_6thcolumn</th>\n",
       "      <th>0throw_7thcolumn</th>\n",
       "      <th>0throw_8thcolumn</th>\n",
       "      <th>0throw_9thcolumn</th>\n",
       "      <th>...</th>\n",
       "      <th>195throw_196thcolumn</th>\n",
       "      <th>195throw_197thcolumn</th>\n",
       "      <th>195throw_198thcolumn</th>\n",
       "      <th>195throw_199thcolumn</th>\n",
       "      <th>196throw_197thcolumn</th>\n",
       "      <th>196throw_198thcolumn</th>\n",
       "      <th>196throw_199thcolumn</th>\n",
       "      <th>197throw_198thcolumn</th>\n",
       "      <th>197throw_199thcolumn</th>\n",
       "      <th>198throw_199thcolumn</th>\n",
       "    </tr>\n",
       "  </thead>\n",
       "  <tbody>\n",
       "    <tr>\n",
       "      <th>0</th>\n",
       "      <td>70z8Q2xdTXM3</td>\n",
       "      <td>0.093473</td>\n",
       "      <td>0.146902</td>\n",
       "      <td>0.067893</td>\n",
       "      <td>0.015141</td>\n",
       "      <td>0.070221</td>\n",
       "      <td>0.063997</td>\n",
       "      <td>0.055382</td>\n",
       "      <td>-0.035335</td>\n",
       "      <td>0.068583</td>\n",
       "      <td>...</td>\n",
       "      <td>0.003404</td>\n",
       "      <td>-0.010359</td>\n",
       "      <td>-0.050968</td>\n",
       "      <td>-0.014365</td>\n",
       "      <td>0.128066</td>\n",
       "      <td>0.112646</td>\n",
       "      <td>-0.058980</td>\n",
       "      <td>0.028228</td>\n",
       "      <td>0.133582</td>\n",
       "      <td>0.143372</td>\n",
       "    </tr>\n",
       "    <tr>\n",
       "      <th>1</th>\n",
       "      <td>WHWymJu6zNZi</td>\n",
       "      <td>0.029580</td>\n",
       "      <td>0.179323</td>\n",
       "      <td>0.112933</td>\n",
       "      <td>0.038291</td>\n",
       "      <td>0.104899</td>\n",
       "      <td>0.064250</td>\n",
       "      <td>0.008488</td>\n",
       "      <td>0.077505</td>\n",
       "      <td>-0.004750</td>\n",
       "      <td>...</td>\n",
       "      <td>-0.008409</td>\n",
       "      <td>-0.008479</td>\n",
       "      <td>0.020891</td>\n",
       "      <td>0.017754</td>\n",
       "      <td>0.094040</td>\n",
       "      <td>0.035141</td>\n",
       "      <td>0.032537</td>\n",
       "      <td>0.075007</td>\n",
       "      <td>0.115350</td>\n",
       "      <td>0.138200</td>\n",
       "    </tr>\n",
       "    <tr>\n",
       "      <th>2</th>\n",
       "      <td>4PAQp1M6EyAo</td>\n",
       "      <td>-0.051580</td>\n",
       "      <td>0.139734</td>\n",
       "      <td>0.068295</td>\n",
       "      <td>0.046991</td>\n",
       "      <td>0.111085</td>\n",
       "      <td>0.026978</td>\n",
       "      <td>0.151377</td>\n",
       "      <td>0.021198</td>\n",
       "      <td>0.083721</td>\n",
       "      <td>...</td>\n",
       "      <td>0.053245</td>\n",
       "      <td>-0.028003</td>\n",
       "      <td>0.028773</td>\n",
       "      <td>0.024556</td>\n",
       "      <td>0.166343</td>\n",
       "      <td>0.058925</td>\n",
       "      <td>0.035485</td>\n",
       "      <td>0.063661</td>\n",
       "      <td>0.042862</td>\n",
       "      <td>0.162162</td>\n",
       "    </tr>\n",
       "    <tr>\n",
       "      <th>3</th>\n",
       "      <td>obEacy4Of68I</td>\n",
       "      <td>0.016273</td>\n",
       "      <td>0.204702</td>\n",
       "      <td>0.115980</td>\n",
       "      <td>0.043103</td>\n",
       "      <td>0.056431</td>\n",
       "      <td>0.057615</td>\n",
       "      <td>0.055773</td>\n",
       "      <td>0.075030</td>\n",
       "      <td>0.001033</td>\n",
       "      <td>...</td>\n",
       "      <td>-0.023918</td>\n",
       "      <td>-0.005356</td>\n",
       "      <td>0.018607</td>\n",
       "      <td>0.016193</td>\n",
       "      <td>0.072955</td>\n",
       "      <td>0.130135</td>\n",
       "      <td>0.056120</td>\n",
       "      <td>0.084784</td>\n",
       "      <td>0.114148</td>\n",
       "      <td>0.190584</td>\n",
       "    </tr>\n",
       "    <tr>\n",
       "      <th>4</th>\n",
       "      <td>s7WzzDcmDOhF</td>\n",
       "      <td>0.065771</td>\n",
       "      <td>0.098714</td>\n",
       "      <td>0.097604</td>\n",
       "      <td>0.112988</td>\n",
       "      <td>0.071139</td>\n",
       "      <td>0.085607</td>\n",
       "      <td>0.019392</td>\n",
       "      <td>-0.036403</td>\n",
       "      <td>-0.020375</td>\n",
       "      <td>...</td>\n",
       "      <td>0.066439</td>\n",
       "      <td>-0.076680</td>\n",
       "      <td>-0.047530</td>\n",
       "      <td>-0.031443</td>\n",
       "      <td>0.221213</td>\n",
       "      <td>0.007343</td>\n",
       "      <td>0.005763</td>\n",
       "      <td>0.083820</td>\n",
       "      <td>0.079582</td>\n",
       "      <td>0.067269</td>\n",
       "    </tr>\n",
       "  </tbody>\n",
       "</table>\n",
       "<p>5 rows × 19901 columns</p>\n",
       "</div>"
      ],
      "text/plain": [
       "  participant_id  0throw_1thcolumn  0throw_2thcolumn  0throw_3thcolumn  \\\n",
       "0   70z8Q2xdTXM3          0.093473          0.146902          0.067893   \n",
       "1   WHWymJu6zNZi          0.029580          0.179323          0.112933   \n",
       "2   4PAQp1M6EyAo         -0.051580          0.139734          0.068295   \n",
       "3   obEacy4Of68I          0.016273          0.204702          0.115980   \n",
       "4   s7WzzDcmDOhF          0.065771          0.098714          0.097604   \n",
       "\n",
       "   0throw_4thcolumn  0throw_5thcolumn  0throw_6thcolumn  0throw_7thcolumn  \\\n",
       "0          0.015141          0.070221          0.063997          0.055382   \n",
       "1          0.038291          0.104899          0.064250          0.008488   \n",
       "2          0.046991          0.111085          0.026978          0.151377   \n",
       "3          0.043103          0.056431          0.057615          0.055773   \n",
       "4          0.112988          0.071139          0.085607          0.019392   \n",
       "\n",
       "   0throw_8thcolumn  0throw_9thcolumn  ...  195throw_196thcolumn  \\\n",
       "0         -0.035335          0.068583  ...              0.003404   \n",
       "1          0.077505         -0.004750  ...             -0.008409   \n",
       "2          0.021198          0.083721  ...              0.053245   \n",
       "3          0.075030          0.001033  ...             -0.023918   \n",
       "4         -0.036403         -0.020375  ...              0.066439   \n",
       "\n",
       "   195throw_197thcolumn  195throw_198thcolumn  195throw_199thcolumn  \\\n",
       "0             -0.010359             -0.050968             -0.014365   \n",
       "1             -0.008479              0.020891              0.017754   \n",
       "2             -0.028003              0.028773              0.024556   \n",
       "3             -0.005356              0.018607              0.016193   \n",
       "4             -0.076680             -0.047530             -0.031443   \n",
       "\n",
       "   196throw_197thcolumn  196throw_198thcolumn  196throw_199thcolumn  \\\n",
       "0              0.128066              0.112646             -0.058980   \n",
       "1              0.094040              0.035141              0.032537   \n",
       "2              0.166343              0.058925              0.035485   \n",
       "3              0.072955              0.130135              0.056120   \n",
       "4              0.221213              0.007343              0.005763   \n",
       "\n",
       "   197throw_198thcolumn  197throw_199thcolumn  198throw_199thcolumn  \n",
       "0              0.028228              0.133582              0.143372  \n",
       "1              0.075007              0.115350              0.138200  \n",
       "2              0.063661              0.042862              0.162162  \n",
       "3              0.084784              0.114148              0.190584  \n",
       "4              0.083820              0.079582              0.067269  \n",
       "\n",
       "[5 rows x 19901 columns]"
      ]
     },
     "execution_count": 67,
     "metadata": {},
     "output_type": "execute_result"
    }
   ],
   "source": [
    "train_mri.head()"
   ]
  },
  {
   "cell_type": "code",
   "execution_count": 68,
   "id": "e47ae441-084c-424f-837c-d89b0ee9bfac",
   "metadata": {},
   "outputs": [
    {
     "name": "stdout",
     "output_type": "stream",
     "text": [
      "<class 'pandas.core.frame.DataFrame'>\n",
      "RangeIndex: 1213 entries, 0 to 1212\n",
      "Columns: 19901 entries, participant_id to 198throw_199thcolumn\n",
      "dtypes: float64(19900), object(1)\n",
      "memory usage: 184.2+ MB\n"
     ]
    }
   ],
   "source": [
    "train_mri.info()"
   ]
  },
  {
   "cell_type": "code",
   "execution_count": 35,
   "id": "041c950b-781f-4f6f-bf2b-c40a370e3965",
   "metadata": {},
   "outputs": [
    {
     "data": {
      "text/plain": [
       "(1213, 19901)"
      ]
     },
     "execution_count": 35,
     "metadata": {},
     "output_type": "execute_result"
    }
   ],
   "source": [
    "train_mri.shape"
   ]
  },
  {
   "cell_type": "markdown",
   "id": "863ed492-2d6a-4961-be00-eac791f61a73",
   "metadata": {},
   "source": [
    "### Categorical Training Data"
   ]
  },
  {
   "cell_type": "code",
   "execution_count": 92,
   "id": "dba834a6-0d92-4c4f-ac2d-891888d03658",
   "metadata": {
    "scrolled": true
   },
   "outputs": [],
   "source": [
    "# Read the Excel file\n",
    "train_cat = pd.read_excel(\"TRAIN_CATEGORICAL_METADATA.xlsx\")"
   ]
  },
  {
   "cell_type": "code",
   "execution_count": 93,
   "id": "7f3b1340-5421-4107-ba71-649c7753ddbf",
   "metadata": {},
   "outputs": [
    {
     "data": {
      "text/html": [
       "<div>\n",
       "<style scoped>\n",
       "    .dataframe tbody tr th:only-of-type {\n",
       "        vertical-align: middle;\n",
       "    }\n",
       "\n",
       "    .dataframe tbody tr th {\n",
       "        vertical-align: top;\n",
       "    }\n",
       "\n",
       "    .dataframe thead th {\n",
       "        text-align: right;\n",
       "    }\n",
       "</style>\n",
       "<table border=\"1\" class=\"dataframe\">\n",
       "  <thead>\n",
       "    <tr style=\"text-align: right;\">\n",
       "      <th></th>\n",
       "      <th>participant_id</th>\n",
       "      <th>Basic_Demos_Enroll_Year</th>\n",
       "      <th>Basic_Demos_Study_Site</th>\n",
       "      <th>PreInt_Demos_Fam_Child_Ethnicity</th>\n",
       "      <th>PreInt_Demos_Fam_Child_Race</th>\n",
       "      <th>MRI_Track_Scan_Location</th>\n",
       "      <th>Barratt_Barratt_P1_Edu</th>\n",
       "      <th>Barratt_Barratt_P1_Occ</th>\n",
       "      <th>Barratt_Barratt_P2_Edu</th>\n",
       "      <th>Barratt_Barratt_P2_Occ</th>\n",
       "    </tr>\n",
       "  </thead>\n",
       "  <tbody>\n",
       "    <tr>\n",
       "      <th>0</th>\n",
       "      <td>UmrK0vMLopoR</td>\n",
       "      <td>2016</td>\n",
       "      <td>1</td>\n",
       "      <td>0.0</td>\n",
       "      <td>0</td>\n",
       "      <td>1</td>\n",
       "      <td>21</td>\n",
       "      <td>45</td>\n",
       "      <td>21</td>\n",
       "      <td>45</td>\n",
       "    </tr>\n",
       "    <tr>\n",
       "      <th>1</th>\n",
       "      <td>CPaeQkhcjg7d</td>\n",
       "      <td>2019</td>\n",
       "      <td>3</td>\n",
       "      <td>1.0</td>\n",
       "      <td>2</td>\n",
       "      <td>3</td>\n",
       "      <td>15</td>\n",
       "      <td>15</td>\n",
       "      <td>0</td>\n",
       "      <td>0</td>\n",
       "    </tr>\n",
       "    <tr>\n",
       "      <th>2</th>\n",
       "      <td>Nb4EetVPm3gs</td>\n",
       "      <td>2016</td>\n",
       "      <td>1</td>\n",
       "      <td>1.0</td>\n",
       "      <td>8</td>\n",
       "      <td>1</td>\n",
       "      <td>18</td>\n",
       "      <td>40</td>\n",
       "      <td>0</td>\n",
       "      <td>0</td>\n",
       "    </tr>\n",
       "    <tr>\n",
       "      <th>3</th>\n",
       "      <td>p4vPhVu91o4b</td>\n",
       "      <td>2018</td>\n",
       "      <td>3</td>\n",
       "      <td>0.0</td>\n",
       "      <td>8</td>\n",
       "      <td>3</td>\n",
       "      <td>15</td>\n",
       "      <td>30</td>\n",
       "      <td>18</td>\n",
       "      <td>0</td>\n",
       "    </tr>\n",
       "    <tr>\n",
       "      <th>4</th>\n",
       "      <td>M09PXs7arQ5E</td>\n",
       "      <td>2019</td>\n",
       "      <td>3</td>\n",
       "      <td>0.0</td>\n",
       "      <td>1</td>\n",
       "      <td>3</td>\n",
       "      <td>15</td>\n",
       "      <td>20</td>\n",
       "      <td>0</td>\n",
       "      <td>0</td>\n",
       "    </tr>\n",
       "  </tbody>\n",
       "</table>\n",
       "</div>"
      ],
      "text/plain": [
       "  participant_id  Basic_Demos_Enroll_Year  Basic_Demos_Study_Site  \\\n",
       "0   UmrK0vMLopoR                     2016                       1   \n",
       "1   CPaeQkhcjg7d                     2019                       3   \n",
       "2   Nb4EetVPm3gs                     2016                       1   \n",
       "3   p4vPhVu91o4b                     2018                       3   \n",
       "4   M09PXs7arQ5E                     2019                       3   \n",
       "\n",
       "   PreInt_Demos_Fam_Child_Ethnicity  PreInt_Demos_Fam_Child_Race  \\\n",
       "0                               0.0                            0   \n",
       "1                               1.0                            2   \n",
       "2                               1.0                            8   \n",
       "3                               0.0                            8   \n",
       "4                               0.0                            1   \n",
       "\n",
       "   MRI_Track_Scan_Location  Barratt_Barratt_P1_Edu  Barratt_Barratt_P1_Occ  \\\n",
       "0                        1                      21                      45   \n",
       "1                        3                      15                      15   \n",
       "2                        1                      18                      40   \n",
       "3                        3                      15                      30   \n",
       "4                        3                      15                      20   \n",
       "\n",
       "   Barratt_Barratt_P2_Edu  Barratt_Barratt_P2_Occ  \n",
       "0                      21                      45  \n",
       "1                       0                       0  \n",
       "2                       0                       0  \n",
       "3                      18                       0  \n",
       "4                       0                       0  "
      ]
     },
     "execution_count": 93,
     "metadata": {},
     "output_type": "execute_result"
    }
   ],
   "source": [
    "# Display the first few rows\n",
    "train_cat.head()"
   ]
  },
  {
   "cell_type": "code",
   "execution_count": 94,
   "id": "114d8ec9-9939-4c06-bfad-3f1cb9e439fa",
   "metadata": {},
   "outputs": [
    {
     "name": "stdout",
     "output_type": "stream",
     "text": [
      "<class 'pandas.core.frame.DataFrame'>\n",
      "RangeIndex: 1213 entries, 0 to 1212\n",
      "Data columns (total 10 columns):\n",
      " #   Column                            Non-Null Count  Dtype  \n",
      "---  ------                            --------------  -----  \n",
      " 0   participant_id                    1213 non-null   object \n",
      " 1   Basic_Demos_Enroll_Year           1213 non-null   int64  \n",
      " 2   Basic_Demos_Study_Site            1213 non-null   int64  \n",
      " 3   PreInt_Demos_Fam_Child_Ethnicity  1202 non-null   float64\n",
      " 4   PreInt_Demos_Fam_Child_Race       1213 non-null   int64  \n",
      " 5   MRI_Track_Scan_Location           1213 non-null   int64  \n",
      " 6   Barratt_Barratt_P1_Edu            1213 non-null   int64  \n",
      " 7   Barratt_Barratt_P1_Occ            1213 non-null   int64  \n",
      " 8   Barratt_Barratt_P2_Edu            1213 non-null   int64  \n",
      " 9   Barratt_Barratt_P2_Occ            1213 non-null   int64  \n",
      "dtypes: float64(1), int64(8), object(1)\n",
      "memory usage: 94.9+ KB\n"
     ]
    }
   ],
   "source": [
    "train_cat.info()"
   ]
  },
  {
   "cell_type": "code",
   "execution_count": 95,
   "id": "44eabac9-299f-449d-9dbf-9fa6ec8377cb",
   "metadata": {},
   "outputs": [
    {
     "data": {
      "text/plain": [
       "(1213, 10)"
      ]
     },
     "execution_count": 95,
     "metadata": {},
     "output_type": "execute_result"
    }
   ],
   "source": [
    "train_cat.shape"
   ]
  },
  {
   "cell_type": "markdown",
   "id": "7b77a514-5408-4bc1-8044-402c85f4cfa4",
   "metadata": {},
   "source": [
    "#### Merge Categorical Training Data with Training Outcomes"
   ]
  },
  {
   "cell_type": "code",
   "execution_count": 96,
   "id": "2c1a01bf-0b70-496e-b0e7-1b86f6161ece",
   "metadata": {},
   "outputs": [
    {
     "data": {
      "text/html": [
       "<div>\n",
       "<style scoped>\n",
       "    .dataframe tbody tr th:only-of-type {\n",
       "        vertical-align: middle;\n",
       "    }\n",
       "\n",
       "    .dataframe tbody tr th {\n",
       "        vertical-align: top;\n",
       "    }\n",
       "\n",
       "    .dataframe thead th {\n",
       "        text-align: right;\n",
       "    }\n",
       "</style>\n",
       "<table border=\"1\" class=\"dataframe\">\n",
       "  <thead>\n",
       "    <tr style=\"text-align: right;\">\n",
       "      <th></th>\n",
       "      <th>participant_id</th>\n",
       "      <th>Basic_Demos_Enroll_Year</th>\n",
       "      <th>Basic_Demos_Study_Site</th>\n",
       "      <th>PreInt_Demos_Fam_Child_Ethnicity</th>\n",
       "      <th>PreInt_Demos_Fam_Child_Race</th>\n",
       "      <th>MRI_Track_Scan_Location</th>\n",
       "      <th>Barratt_Barratt_P1_Edu</th>\n",
       "      <th>Barratt_Barratt_P1_Occ</th>\n",
       "      <th>Barratt_Barratt_P2_Edu</th>\n",
       "      <th>Barratt_Barratt_P2_Occ</th>\n",
       "      <th>ADHD_Outcome</th>\n",
       "      <th>Sex_F</th>\n",
       "    </tr>\n",
       "  </thead>\n",
       "  <tbody>\n",
       "    <tr>\n",
       "      <th>0</th>\n",
       "      <td>UmrK0vMLopoR</td>\n",
       "      <td>2016</td>\n",
       "      <td>1</td>\n",
       "      <td>0.0</td>\n",
       "      <td>0</td>\n",
       "      <td>1</td>\n",
       "      <td>21</td>\n",
       "      <td>45</td>\n",
       "      <td>21</td>\n",
       "      <td>45</td>\n",
       "      <td>1</td>\n",
       "      <td>1</td>\n",
       "    </tr>\n",
       "    <tr>\n",
       "      <th>1</th>\n",
       "      <td>CPaeQkhcjg7d</td>\n",
       "      <td>2019</td>\n",
       "      <td>3</td>\n",
       "      <td>1.0</td>\n",
       "      <td>2</td>\n",
       "      <td>3</td>\n",
       "      <td>15</td>\n",
       "      <td>15</td>\n",
       "      <td>0</td>\n",
       "      <td>0</td>\n",
       "      <td>1</td>\n",
       "      <td>0</td>\n",
       "    </tr>\n",
       "    <tr>\n",
       "      <th>2</th>\n",
       "      <td>Nb4EetVPm3gs</td>\n",
       "      <td>2016</td>\n",
       "      <td>1</td>\n",
       "      <td>1.0</td>\n",
       "      <td>8</td>\n",
       "      <td>1</td>\n",
       "      <td>18</td>\n",
       "      <td>40</td>\n",
       "      <td>0</td>\n",
       "      <td>0</td>\n",
       "      <td>1</td>\n",
       "      <td>0</td>\n",
       "    </tr>\n",
       "    <tr>\n",
       "      <th>3</th>\n",
       "      <td>p4vPhVu91o4b</td>\n",
       "      <td>2018</td>\n",
       "      <td>3</td>\n",
       "      <td>0.0</td>\n",
       "      <td>8</td>\n",
       "      <td>3</td>\n",
       "      <td>15</td>\n",
       "      <td>30</td>\n",
       "      <td>18</td>\n",
       "      <td>0</td>\n",
       "      <td>1</td>\n",
       "      <td>1</td>\n",
       "    </tr>\n",
       "    <tr>\n",
       "      <th>4</th>\n",
       "      <td>M09PXs7arQ5E</td>\n",
       "      <td>2019</td>\n",
       "      <td>3</td>\n",
       "      <td>0.0</td>\n",
       "      <td>1</td>\n",
       "      <td>3</td>\n",
       "      <td>15</td>\n",
       "      <td>20</td>\n",
       "      <td>0</td>\n",
       "      <td>0</td>\n",
       "      <td>1</td>\n",
       "      <td>1</td>\n",
       "    </tr>\n",
       "  </tbody>\n",
       "</table>\n",
       "</div>"
      ],
      "text/plain": [
       "  participant_id  Basic_Demos_Enroll_Year  Basic_Demos_Study_Site  \\\n",
       "0   UmrK0vMLopoR                     2016                       1   \n",
       "1   CPaeQkhcjg7d                     2019                       3   \n",
       "2   Nb4EetVPm3gs                     2016                       1   \n",
       "3   p4vPhVu91o4b                     2018                       3   \n",
       "4   M09PXs7arQ5E                     2019                       3   \n",
       "\n",
       "   PreInt_Demos_Fam_Child_Ethnicity  PreInt_Demos_Fam_Child_Race  \\\n",
       "0                               0.0                            0   \n",
       "1                               1.0                            2   \n",
       "2                               1.0                            8   \n",
       "3                               0.0                            8   \n",
       "4                               0.0                            1   \n",
       "\n",
       "   MRI_Track_Scan_Location  Barratt_Barratt_P1_Edu  Barratt_Barratt_P1_Occ  \\\n",
       "0                        1                      21                      45   \n",
       "1                        3                      15                      15   \n",
       "2                        1                      18                      40   \n",
       "3                        3                      15                      30   \n",
       "4                        3                      15                      20   \n",
       "\n",
       "   Barratt_Barratt_P2_Edu  Barratt_Barratt_P2_Occ  ADHD_Outcome  Sex_F  \n",
       "0                      21                      45             1      1  \n",
       "1                       0                       0             1      0  \n",
       "2                       0                       0             1      0  \n",
       "3                      18                       0             1      1  \n",
       "4                       0                       0             1      1  "
      ]
     },
     "execution_count": 96,
     "metadata": {},
     "output_type": "execute_result"
    }
   ],
   "source": [
    "train_cat = pd.merge(train_cat, train_sols, on=\"participant_id\", how=\"inner\")  # Inner join\n",
    "train_cat.head()"
   ]
  },
  {
   "cell_type": "markdown",
   "id": "c9241e75-ca56-4a5c-aafe-c1f86eb05a5b",
   "metadata": {},
   "source": [
    "### Quantitative Training Data"
   ]
  },
  {
   "cell_type": "code",
   "execution_count": 97,
   "id": "843dd367-3582-402e-bbbe-23bf4e8aa7bd",
   "metadata": {},
   "outputs": [],
   "source": [
    "# Read the Excel file\n",
    "train_quant = pd.read_excel(\"TRAIN_QUANTITATIVE_METADATA.xlsx\")"
   ]
  },
  {
   "cell_type": "code",
   "execution_count": 98,
   "id": "330249f7-d2cf-4277-9e74-65b14f78ba95",
   "metadata": {},
   "outputs": [
    {
     "data": {
      "text/html": [
       "<div>\n",
       "<style scoped>\n",
       "    .dataframe tbody tr th:only-of-type {\n",
       "        vertical-align: middle;\n",
       "    }\n",
       "\n",
       "    .dataframe tbody tr th {\n",
       "        vertical-align: top;\n",
       "    }\n",
       "\n",
       "    .dataframe thead th {\n",
       "        text-align: right;\n",
       "    }\n",
       "</style>\n",
       "<table border=\"1\" class=\"dataframe\">\n",
       "  <thead>\n",
       "    <tr style=\"text-align: right;\">\n",
       "      <th></th>\n",
       "      <th>participant_id</th>\n",
       "      <th>EHQ_EHQ_Total</th>\n",
       "      <th>ColorVision_CV_Score</th>\n",
       "      <th>APQ_P_APQ_P_CP</th>\n",
       "      <th>APQ_P_APQ_P_ID</th>\n",
       "      <th>APQ_P_APQ_P_INV</th>\n",
       "      <th>APQ_P_APQ_P_OPD</th>\n",
       "      <th>APQ_P_APQ_P_PM</th>\n",
       "      <th>APQ_P_APQ_P_PP</th>\n",
       "      <th>SDQ_SDQ_Conduct_Problems</th>\n",
       "      <th>SDQ_SDQ_Difficulties_Total</th>\n",
       "      <th>SDQ_SDQ_Emotional_Problems</th>\n",
       "      <th>SDQ_SDQ_Externalizing</th>\n",
       "      <th>SDQ_SDQ_Generating_Impact</th>\n",
       "      <th>SDQ_SDQ_Hyperactivity</th>\n",
       "      <th>SDQ_SDQ_Internalizing</th>\n",
       "      <th>SDQ_SDQ_Peer_Problems</th>\n",
       "      <th>SDQ_SDQ_Prosocial</th>\n",
       "      <th>MRI_Track_Age_at_Scan</th>\n",
       "    </tr>\n",
       "  </thead>\n",
       "  <tbody>\n",
       "    <tr>\n",
       "      <th>0</th>\n",
       "      <td>UmrK0vMLopoR</td>\n",
       "      <td>40.00</td>\n",
       "      <td>13</td>\n",
       "      <td>3</td>\n",
       "      <td>10</td>\n",
       "      <td>47</td>\n",
       "      <td>13</td>\n",
       "      <td>11</td>\n",
       "      <td>28</td>\n",
       "      <td>0</td>\n",
       "      <td>6</td>\n",
       "      <td>1</td>\n",
       "      <td>5</td>\n",
       "      <td>0</td>\n",
       "      <td>5</td>\n",
       "      <td>1</td>\n",
       "      <td>0</td>\n",
       "      <td>10</td>\n",
       "      <td>NaN</td>\n",
       "    </tr>\n",
       "    <tr>\n",
       "      <th>1</th>\n",
       "      <td>CPaeQkhcjg7d</td>\n",
       "      <td>-94.47</td>\n",
       "      <td>14</td>\n",
       "      <td>3</td>\n",
       "      <td>13</td>\n",
       "      <td>34</td>\n",
       "      <td>18</td>\n",
       "      <td>23</td>\n",
       "      <td>30</td>\n",
       "      <td>0</td>\n",
       "      <td>18</td>\n",
       "      <td>6</td>\n",
       "      <td>8</td>\n",
       "      <td>7</td>\n",
       "      <td>8</td>\n",
       "      <td>10</td>\n",
       "      <td>4</td>\n",
       "      <td>5</td>\n",
       "      <td>NaN</td>\n",
       "    </tr>\n",
       "    <tr>\n",
       "      <th>2</th>\n",
       "      <td>Nb4EetVPm3gs</td>\n",
       "      <td>-46.67</td>\n",
       "      <td>14</td>\n",
       "      <td>4</td>\n",
       "      <td>10</td>\n",
       "      <td>35</td>\n",
       "      <td>16</td>\n",
       "      <td>10</td>\n",
       "      <td>29</td>\n",
       "      <td>1</td>\n",
       "      <td>14</td>\n",
       "      <td>2</td>\n",
       "      <td>8</td>\n",
       "      <td>5</td>\n",
       "      <td>7</td>\n",
       "      <td>6</td>\n",
       "      <td>4</td>\n",
       "      <td>9</td>\n",
       "      <td>8.239904</td>\n",
       "    </tr>\n",
       "    <tr>\n",
       "      <th>3</th>\n",
       "      <td>p4vPhVu91o4b</td>\n",
       "      <td>-26.68</td>\n",
       "      <td>10</td>\n",
       "      <td>5</td>\n",
       "      <td>12</td>\n",
       "      <td>39</td>\n",
       "      <td>19</td>\n",
       "      <td>16</td>\n",
       "      <td>28</td>\n",
       "      <td>6</td>\n",
       "      <td>24</td>\n",
       "      <td>4</td>\n",
       "      <td>16</td>\n",
       "      <td>9</td>\n",
       "      <td>10</td>\n",
       "      <td>8</td>\n",
       "      <td>4</td>\n",
       "      <td>6</td>\n",
       "      <td>NaN</td>\n",
       "    </tr>\n",
       "    <tr>\n",
       "      <th>4</th>\n",
       "      <td>M09PXs7arQ5E</td>\n",
       "      <td>0.00</td>\n",
       "      <td>14</td>\n",
       "      <td>5</td>\n",
       "      <td>15</td>\n",
       "      <td>40</td>\n",
       "      <td>20</td>\n",
       "      <td>24</td>\n",
       "      <td>28</td>\n",
       "      <td>1</td>\n",
       "      <td>18</td>\n",
       "      <td>4</td>\n",
       "      <td>11</td>\n",
       "      <td>4</td>\n",
       "      <td>10</td>\n",
       "      <td>7</td>\n",
       "      <td>3</td>\n",
       "      <td>9</td>\n",
       "      <td>8.940679</td>\n",
       "    </tr>\n",
       "  </tbody>\n",
       "</table>\n",
       "</div>"
      ],
      "text/plain": [
       "  participant_id  EHQ_EHQ_Total  ColorVision_CV_Score  APQ_P_APQ_P_CP  \\\n",
       "0   UmrK0vMLopoR          40.00                    13               3   \n",
       "1   CPaeQkhcjg7d         -94.47                    14               3   \n",
       "2   Nb4EetVPm3gs         -46.67                    14               4   \n",
       "3   p4vPhVu91o4b         -26.68                    10               5   \n",
       "4   M09PXs7arQ5E           0.00                    14               5   \n",
       "\n",
       "   APQ_P_APQ_P_ID  APQ_P_APQ_P_INV  APQ_P_APQ_P_OPD  APQ_P_APQ_P_PM  \\\n",
       "0              10               47               13              11   \n",
       "1              13               34               18              23   \n",
       "2              10               35               16              10   \n",
       "3              12               39               19              16   \n",
       "4              15               40               20              24   \n",
       "\n",
       "   APQ_P_APQ_P_PP  SDQ_SDQ_Conduct_Problems  SDQ_SDQ_Difficulties_Total  \\\n",
       "0              28                         0                           6   \n",
       "1              30                         0                          18   \n",
       "2              29                         1                          14   \n",
       "3              28                         6                          24   \n",
       "4              28                         1                          18   \n",
       "\n",
       "   SDQ_SDQ_Emotional_Problems  SDQ_SDQ_Externalizing  \\\n",
       "0                           1                      5   \n",
       "1                           6                      8   \n",
       "2                           2                      8   \n",
       "3                           4                     16   \n",
       "4                           4                     11   \n",
       "\n",
       "   SDQ_SDQ_Generating_Impact  SDQ_SDQ_Hyperactivity  SDQ_SDQ_Internalizing  \\\n",
       "0                          0                      5                      1   \n",
       "1                          7                      8                     10   \n",
       "2                          5                      7                      6   \n",
       "3                          9                     10                      8   \n",
       "4                          4                     10                      7   \n",
       "\n",
       "   SDQ_SDQ_Peer_Problems  SDQ_SDQ_Prosocial  MRI_Track_Age_at_Scan  \n",
       "0                      0                 10                    NaN  \n",
       "1                      4                  5                    NaN  \n",
       "2                      4                  9               8.239904  \n",
       "3                      4                  6                    NaN  \n",
       "4                      3                  9               8.940679  "
      ]
     },
     "execution_count": 98,
     "metadata": {},
     "output_type": "execute_result"
    }
   ],
   "source": [
    "train_quant.head()"
   ]
  },
  {
   "cell_type": "code",
   "execution_count": 99,
   "id": "02c17237-f9cf-4299-b5d2-9861b5b45ea1",
   "metadata": {},
   "outputs": [
    {
     "data": {
      "text/plain": [
       "(1213, 19)"
      ]
     },
     "execution_count": 99,
     "metadata": {},
     "output_type": "execute_result"
    }
   ],
   "source": [
    "train_quant.shape"
   ]
  },
  {
   "cell_type": "code",
   "execution_count": 100,
   "id": "5dfcc243-475d-42fd-9aa7-ccffa672b630",
   "metadata": {},
   "outputs": [
    {
     "name": "stdout",
     "output_type": "stream",
     "text": [
      "<class 'pandas.core.frame.DataFrame'>\n",
      "RangeIndex: 1213 entries, 0 to 1212\n",
      "Data columns (total 19 columns):\n",
      " #   Column                      Non-Null Count  Dtype  \n",
      "---  ------                      --------------  -----  \n",
      " 0   participant_id              1213 non-null   object \n",
      " 1   EHQ_EHQ_Total               1213 non-null   float64\n",
      " 2   ColorVision_CV_Score        1213 non-null   int64  \n",
      " 3   APQ_P_APQ_P_CP              1213 non-null   int64  \n",
      " 4   APQ_P_APQ_P_ID              1213 non-null   int64  \n",
      " 5   APQ_P_APQ_P_INV             1213 non-null   int64  \n",
      " 6   APQ_P_APQ_P_OPD             1213 non-null   int64  \n",
      " 7   APQ_P_APQ_P_PM              1213 non-null   int64  \n",
      " 8   APQ_P_APQ_P_PP              1213 non-null   int64  \n",
      " 9   SDQ_SDQ_Conduct_Problems    1213 non-null   int64  \n",
      " 10  SDQ_SDQ_Difficulties_Total  1213 non-null   int64  \n",
      " 11  SDQ_SDQ_Emotional_Problems  1213 non-null   int64  \n",
      " 12  SDQ_SDQ_Externalizing       1213 non-null   int64  \n",
      " 13  SDQ_SDQ_Generating_Impact   1213 non-null   int64  \n",
      " 14  SDQ_SDQ_Hyperactivity       1213 non-null   int64  \n",
      " 15  SDQ_SDQ_Internalizing       1213 non-null   int64  \n",
      " 16  SDQ_SDQ_Peer_Problems       1213 non-null   int64  \n",
      " 17  SDQ_SDQ_Prosocial           1213 non-null   int64  \n",
      " 18  MRI_Track_Age_at_Scan       853 non-null    float64\n",
      "dtypes: float64(2), int64(16), object(1)\n",
      "memory usage: 180.2+ KB\n"
     ]
    }
   ],
   "source": [
    "train_quant.info()"
   ]
  },
  {
   "cell_type": "markdown",
   "id": "263a611a-d5e7-4845-91a4-455d18c33aeb",
   "metadata": {},
   "source": [
    "#### Merge Quantitative Data with Training Outcomes"
   ]
  },
  {
   "cell_type": "code",
   "execution_count": 101,
   "id": "82472e02-56c4-4da0-9838-a25f5e4fe7d8",
   "metadata": {},
   "outputs": [
    {
     "data": {
      "text/html": [
       "<div>\n",
       "<style scoped>\n",
       "    .dataframe tbody tr th:only-of-type {\n",
       "        vertical-align: middle;\n",
       "    }\n",
       "\n",
       "    .dataframe tbody tr th {\n",
       "        vertical-align: top;\n",
       "    }\n",
       "\n",
       "    .dataframe thead th {\n",
       "        text-align: right;\n",
       "    }\n",
       "</style>\n",
       "<table border=\"1\" class=\"dataframe\">\n",
       "  <thead>\n",
       "    <tr style=\"text-align: right;\">\n",
       "      <th></th>\n",
       "      <th>participant_id</th>\n",
       "      <th>EHQ_EHQ_Total</th>\n",
       "      <th>ColorVision_CV_Score</th>\n",
       "      <th>APQ_P_APQ_P_CP</th>\n",
       "      <th>APQ_P_APQ_P_ID</th>\n",
       "      <th>APQ_P_APQ_P_INV</th>\n",
       "      <th>APQ_P_APQ_P_OPD</th>\n",
       "      <th>APQ_P_APQ_P_PM</th>\n",
       "      <th>APQ_P_APQ_P_PP</th>\n",
       "      <th>SDQ_SDQ_Conduct_Problems</th>\n",
       "      <th>...</th>\n",
       "      <th>SDQ_SDQ_Emotional_Problems</th>\n",
       "      <th>SDQ_SDQ_Externalizing</th>\n",
       "      <th>SDQ_SDQ_Generating_Impact</th>\n",
       "      <th>SDQ_SDQ_Hyperactivity</th>\n",
       "      <th>SDQ_SDQ_Internalizing</th>\n",
       "      <th>SDQ_SDQ_Peer_Problems</th>\n",
       "      <th>SDQ_SDQ_Prosocial</th>\n",
       "      <th>MRI_Track_Age_at_Scan</th>\n",
       "      <th>ADHD_Outcome</th>\n",
       "      <th>Sex_F</th>\n",
       "    </tr>\n",
       "  </thead>\n",
       "  <tbody>\n",
       "    <tr>\n",
       "      <th>0</th>\n",
       "      <td>UmrK0vMLopoR</td>\n",
       "      <td>40.00</td>\n",
       "      <td>13</td>\n",
       "      <td>3</td>\n",
       "      <td>10</td>\n",
       "      <td>47</td>\n",
       "      <td>13</td>\n",
       "      <td>11</td>\n",
       "      <td>28</td>\n",
       "      <td>0</td>\n",
       "      <td>...</td>\n",
       "      <td>1</td>\n",
       "      <td>5</td>\n",
       "      <td>0</td>\n",
       "      <td>5</td>\n",
       "      <td>1</td>\n",
       "      <td>0</td>\n",
       "      <td>10</td>\n",
       "      <td>NaN</td>\n",
       "      <td>1</td>\n",
       "      <td>1</td>\n",
       "    </tr>\n",
       "    <tr>\n",
       "      <th>1</th>\n",
       "      <td>CPaeQkhcjg7d</td>\n",
       "      <td>-94.47</td>\n",
       "      <td>14</td>\n",
       "      <td>3</td>\n",
       "      <td>13</td>\n",
       "      <td>34</td>\n",
       "      <td>18</td>\n",
       "      <td>23</td>\n",
       "      <td>30</td>\n",
       "      <td>0</td>\n",
       "      <td>...</td>\n",
       "      <td>6</td>\n",
       "      <td>8</td>\n",
       "      <td>7</td>\n",
       "      <td>8</td>\n",
       "      <td>10</td>\n",
       "      <td>4</td>\n",
       "      <td>5</td>\n",
       "      <td>NaN</td>\n",
       "      <td>1</td>\n",
       "      <td>0</td>\n",
       "    </tr>\n",
       "    <tr>\n",
       "      <th>2</th>\n",
       "      <td>Nb4EetVPm3gs</td>\n",
       "      <td>-46.67</td>\n",
       "      <td>14</td>\n",
       "      <td>4</td>\n",
       "      <td>10</td>\n",
       "      <td>35</td>\n",
       "      <td>16</td>\n",
       "      <td>10</td>\n",
       "      <td>29</td>\n",
       "      <td>1</td>\n",
       "      <td>...</td>\n",
       "      <td>2</td>\n",
       "      <td>8</td>\n",
       "      <td>5</td>\n",
       "      <td>7</td>\n",
       "      <td>6</td>\n",
       "      <td>4</td>\n",
       "      <td>9</td>\n",
       "      <td>8.239904</td>\n",
       "      <td>1</td>\n",
       "      <td>0</td>\n",
       "    </tr>\n",
       "    <tr>\n",
       "      <th>3</th>\n",
       "      <td>p4vPhVu91o4b</td>\n",
       "      <td>-26.68</td>\n",
       "      <td>10</td>\n",
       "      <td>5</td>\n",
       "      <td>12</td>\n",
       "      <td>39</td>\n",
       "      <td>19</td>\n",
       "      <td>16</td>\n",
       "      <td>28</td>\n",
       "      <td>6</td>\n",
       "      <td>...</td>\n",
       "      <td>4</td>\n",
       "      <td>16</td>\n",
       "      <td>9</td>\n",
       "      <td>10</td>\n",
       "      <td>8</td>\n",
       "      <td>4</td>\n",
       "      <td>6</td>\n",
       "      <td>NaN</td>\n",
       "      <td>1</td>\n",
       "      <td>1</td>\n",
       "    </tr>\n",
       "    <tr>\n",
       "      <th>4</th>\n",
       "      <td>M09PXs7arQ5E</td>\n",
       "      <td>0.00</td>\n",
       "      <td>14</td>\n",
       "      <td>5</td>\n",
       "      <td>15</td>\n",
       "      <td>40</td>\n",
       "      <td>20</td>\n",
       "      <td>24</td>\n",
       "      <td>28</td>\n",
       "      <td>1</td>\n",
       "      <td>...</td>\n",
       "      <td>4</td>\n",
       "      <td>11</td>\n",
       "      <td>4</td>\n",
       "      <td>10</td>\n",
       "      <td>7</td>\n",
       "      <td>3</td>\n",
       "      <td>9</td>\n",
       "      <td>8.940679</td>\n",
       "      <td>1</td>\n",
       "      <td>1</td>\n",
       "    </tr>\n",
       "  </tbody>\n",
       "</table>\n",
       "<p>5 rows × 21 columns</p>\n",
       "</div>"
      ],
      "text/plain": [
       "  participant_id  EHQ_EHQ_Total  ColorVision_CV_Score  APQ_P_APQ_P_CP  \\\n",
       "0   UmrK0vMLopoR          40.00                    13               3   \n",
       "1   CPaeQkhcjg7d         -94.47                    14               3   \n",
       "2   Nb4EetVPm3gs         -46.67                    14               4   \n",
       "3   p4vPhVu91o4b         -26.68                    10               5   \n",
       "4   M09PXs7arQ5E           0.00                    14               5   \n",
       "\n",
       "   APQ_P_APQ_P_ID  APQ_P_APQ_P_INV  APQ_P_APQ_P_OPD  APQ_P_APQ_P_PM  \\\n",
       "0              10               47               13              11   \n",
       "1              13               34               18              23   \n",
       "2              10               35               16              10   \n",
       "3              12               39               19              16   \n",
       "4              15               40               20              24   \n",
       "\n",
       "   APQ_P_APQ_P_PP  SDQ_SDQ_Conduct_Problems  ...  SDQ_SDQ_Emotional_Problems  \\\n",
       "0              28                         0  ...                           1   \n",
       "1              30                         0  ...                           6   \n",
       "2              29                         1  ...                           2   \n",
       "3              28                         6  ...                           4   \n",
       "4              28                         1  ...                           4   \n",
       "\n",
       "   SDQ_SDQ_Externalizing  SDQ_SDQ_Generating_Impact  SDQ_SDQ_Hyperactivity  \\\n",
       "0                      5                          0                      5   \n",
       "1                      8                          7                      8   \n",
       "2                      8                          5                      7   \n",
       "3                     16                          9                     10   \n",
       "4                     11                          4                     10   \n",
       "\n",
       "   SDQ_SDQ_Internalizing  SDQ_SDQ_Peer_Problems  SDQ_SDQ_Prosocial  \\\n",
       "0                      1                      0                 10   \n",
       "1                     10                      4                  5   \n",
       "2                      6                      4                  9   \n",
       "3                      8                      4                  6   \n",
       "4                      7                      3                  9   \n",
       "\n",
       "   MRI_Track_Age_at_Scan  ADHD_Outcome  Sex_F  \n",
       "0                    NaN             1      1  \n",
       "1                    NaN             1      0  \n",
       "2               8.239904             1      0  \n",
       "3                    NaN             1      1  \n",
       "4               8.940679             1      1  \n",
       "\n",
       "[5 rows x 21 columns]"
      ]
     },
     "execution_count": 101,
     "metadata": {},
     "output_type": "execute_result"
    }
   ],
   "source": [
    "train_quant = pd.merge(train_quant, train_sols, on=\"participant_id\", how=\"inner\")  # Inner join\n",
    "train_quant.head()"
   ]
  },
  {
   "cell_type": "markdown",
   "id": "64f7f837-4adb-439c-88f9-dd7f7ba8e157",
   "metadata": {},
   "source": [
    "### Merge Categorical & Quantitative Training Data"
   ]
  },
  {
   "cell_type": "code",
   "execution_count": 102,
   "id": "dfcd7918-9c2a-4873-9a6a-259d65135d3c",
   "metadata": {},
   "outputs": [],
   "source": [
    "# Merge DataFrames on 'participant_id'\n",
    "train_df = pd.merge(train_cat, train_quant, on=[\"participant_id\", \"ADHD_Outcome\",\"Sex_F\"], how=\"inner\") # Inner join\n"
   ]
  },
  {
   "cell_type": "code",
   "execution_count": 103,
   "id": "2a879804-0cca-47eb-9eaf-bae7b76d8d0a",
   "metadata": {},
   "outputs": [
    {
     "data": {
      "text/html": [
       "<div>\n",
       "<style scoped>\n",
       "    .dataframe tbody tr th:only-of-type {\n",
       "        vertical-align: middle;\n",
       "    }\n",
       "\n",
       "    .dataframe tbody tr th {\n",
       "        vertical-align: top;\n",
       "    }\n",
       "\n",
       "    .dataframe thead th {\n",
       "        text-align: right;\n",
       "    }\n",
       "</style>\n",
       "<table border=\"1\" class=\"dataframe\">\n",
       "  <thead>\n",
       "    <tr style=\"text-align: right;\">\n",
       "      <th></th>\n",
       "      <th>participant_id</th>\n",
       "      <th>Basic_Demos_Enroll_Year</th>\n",
       "      <th>Basic_Demos_Study_Site</th>\n",
       "      <th>PreInt_Demos_Fam_Child_Ethnicity</th>\n",
       "      <th>PreInt_Demos_Fam_Child_Race</th>\n",
       "      <th>MRI_Track_Scan_Location</th>\n",
       "      <th>Barratt_Barratt_P1_Edu</th>\n",
       "      <th>Barratt_Barratt_P1_Occ</th>\n",
       "      <th>Barratt_Barratt_P2_Edu</th>\n",
       "      <th>Barratt_Barratt_P2_Occ</th>\n",
       "      <th>...</th>\n",
       "      <th>SDQ_SDQ_Conduct_Problems</th>\n",
       "      <th>SDQ_SDQ_Difficulties_Total</th>\n",
       "      <th>SDQ_SDQ_Emotional_Problems</th>\n",
       "      <th>SDQ_SDQ_Externalizing</th>\n",
       "      <th>SDQ_SDQ_Generating_Impact</th>\n",
       "      <th>SDQ_SDQ_Hyperactivity</th>\n",
       "      <th>SDQ_SDQ_Internalizing</th>\n",
       "      <th>SDQ_SDQ_Peer_Problems</th>\n",
       "      <th>SDQ_SDQ_Prosocial</th>\n",
       "      <th>MRI_Track_Age_at_Scan</th>\n",
       "    </tr>\n",
       "  </thead>\n",
       "  <tbody>\n",
       "    <tr>\n",
       "      <th>0</th>\n",
       "      <td>UmrK0vMLopoR</td>\n",
       "      <td>2016</td>\n",
       "      <td>1</td>\n",
       "      <td>0.0</td>\n",
       "      <td>0</td>\n",
       "      <td>1</td>\n",
       "      <td>21</td>\n",
       "      <td>45</td>\n",
       "      <td>21</td>\n",
       "      <td>45</td>\n",
       "      <td>...</td>\n",
       "      <td>0</td>\n",
       "      <td>6</td>\n",
       "      <td>1</td>\n",
       "      <td>5</td>\n",
       "      <td>0</td>\n",
       "      <td>5</td>\n",
       "      <td>1</td>\n",
       "      <td>0</td>\n",
       "      <td>10</td>\n",
       "      <td>NaN</td>\n",
       "    </tr>\n",
       "    <tr>\n",
       "      <th>1</th>\n",
       "      <td>CPaeQkhcjg7d</td>\n",
       "      <td>2019</td>\n",
       "      <td>3</td>\n",
       "      <td>1.0</td>\n",
       "      <td>2</td>\n",
       "      <td>3</td>\n",
       "      <td>15</td>\n",
       "      <td>15</td>\n",
       "      <td>0</td>\n",
       "      <td>0</td>\n",
       "      <td>...</td>\n",
       "      <td>0</td>\n",
       "      <td>18</td>\n",
       "      <td>6</td>\n",
       "      <td>8</td>\n",
       "      <td>7</td>\n",
       "      <td>8</td>\n",
       "      <td>10</td>\n",
       "      <td>4</td>\n",
       "      <td>5</td>\n",
       "      <td>NaN</td>\n",
       "    </tr>\n",
       "    <tr>\n",
       "      <th>2</th>\n",
       "      <td>Nb4EetVPm3gs</td>\n",
       "      <td>2016</td>\n",
       "      <td>1</td>\n",
       "      <td>1.0</td>\n",
       "      <td>8</td>\n",
       "      <td>1</td>\n",
       "      <td>18</td>\n",
       "      <td>40</td>\n",
       "      <td>0</td>\n",
       "      <td>0</td>\n",
       "      <td>...</td>\n",
       "      <td>1</td>\n",
       "      <td>14</td>\n",
       "      <td>2</td>\n",
       "      <td>8</td>\n",
       "      <td>5</td>\n",
       "      <td>7</td>\n",
       "      <td>6</td>\n",
       "      <td>4</td>\n",
       "      <td>9</td>\n",
       "      <td>8.239904</td>\n",
       "    </tr>\n",
       "    <tr>\n",
       "      <th>3</th>\n",
       "      <td>p4vPhVu91o4b</td>\n",
       "      <td>2018</td>\n",
       "      <td>3</td>\n",
       "      <td>0.0</td>\n",
       "      <td>8</td>\n",
       "      <td>3</td>\n",
       "      <td>15</td>\n",
       "      <td>30</td>\n",
       "      <td>18</td>\n",
       "      <td>0</td>\n",
       "      <td>...</td>\n",
       "      <td>6</td>\n",
       "      <td>24</td>\n",
       "      <td>4</td>\n",
       "      <td>16</td>\n",
       "      <td>9</td>\n",
       "      <td>10</td>\n",
       "      <td>8</td>\n",
       "      <td>4</td>\n",
       "      <td>6</td>\n",
       "      <td>NaN</td>\n",
       "    </tr>\n",
       "    <tr>\n",
       "      <th>4</th>\n",
       "      <td>M09PXs7arQ5E</td>\n",
       "      <td>2019</td>\n",
       "      <td>3</td>\n",
       "      <td>0.0</td>\n",
       "      <td>1</td>\n",
       "      <td>3</td>\n",
       "      <td>15</td>\n",
       "      <td>20</td>\n",
       "      <td>0</td>\n",
       "      <td>0</td>\n",
       "      <td>...</td>\n",
       "      <td>1</td>\n",
       "      <td>18</td>\n",
       "      <td>4</td>\n",
       "      <td>11</td>\n",
       "      <td>4</td>\n",
       "      <td>10</td>\n",
       "      <td>7</td>\n",
       "      <td>3</td>\n",
       "      <td>9</td>\n",
       "      <td>8.940679</td>\n",
       "    </tr>\n",
       "  </tbody>\n",
       "</table>\n",
       "<p>5 rows × 30 columns</p>\n",
       "</div>"
      ],
      "text/plain": [
       "  participant_id  Basic_Demos_Enroll_Year  Basic_Demos_Study_Site  \\\n",
       "0   UmrK0vMLopoR                     2016                       1   \n",
       "1   CPaeQkhcjg7d                     2019                       3   \n",
       "2   Nb4EetVPm3gs                     2016                       1   \n",
       "3   p4vPhVu91o4b                     2018                       3   \n",
       "4   M09PXs7arQ5E                     2019                       3   \n",
       "\n",
       "   PreInt_Demos_Fam_Child_Ethnicity  PreInt_Demos_Fam_Child_Race  \\\n",
       "0                               0.0                            0   \n",
       "1                               1.0                            2   \n",
       "2                               1.0                            8   \n",
       "3                               0.0                            8   \n",
       "4                               0.0                            1   \n",
       "\n",
       "   MRI_Track_Scan_Location  Barratt_Barratt_P1_Edu  Barratt_Barratt_P1_Occ  \\\n",
       "0                        1                      21                      45   \n",
       "1                        3                      15                      15   \n",
       "2                        1                      18                      40   \n",
       "3                        3                      15                      30   \n",
       "4                        3                      15                      20   \n",
       "\n",
       "   Barratt_Barratt_P2_Edu  Barratt_Barratt_P2_Occ  ...  \\\n",
       "0                      21                      45  ...   \n",
       "1                       0                       0  ...   \n",
       "2                       0                       0  ...   \n",
       "3                      18                       0  ...   \n",
       "4                       0                       0  ...   \n",
       "\n",
       "   SDQ_SDQ_Conduct_Problems  SDQ_SDQ_Difficulties_Total  \\\n",
       "0                         0                           6   \n",
       "1                         0                          18   \n",
       "2                         1                          14   \n",
       "3                         6                          24   \n",
       "4                         1                          18   \n",
       "\n",
       "   SDQ_SDQ_Emotional_Problems  SDQ_SDQ_Externalizing  \\\n",
       "0                           1                      5   \n",
       "1                           6                      8   \n",
       "2                           2                      8   \n",
       "3                           4                     16   \n",
       "4                           4                     11   \n",
       "\n",
       "   SDQ_SDQ_Generating_Impact  SDQ_SDQ_Hyperactivity  SDQ_SDQ_Internalizing  \\\n",
       "0                          0                      5                      1   \n",
       "1                          7                      8                     10   \n",
       "2                          5                      7                      6   \n",
       "3                          9                     10                      8   \n",
       "4                          4                     10                      7   \n",
       "\n",
       "   SDQ_SDQ_Peer_Problems  SDQ_SDQ_Prosocial  MRI_Track_Age_at_Scan  \n",
       "0                      0                 10                    NaN  \n",
       "1                      4                  5                    NaN  \n",
       "2                      4                  9               8.239904  \n",
       "3                      4                  6                    NaN  \n",
       "4                      3                  9               8.940679  \n",
       "\n",
       "[5 rows x 30 columns]"
      ]
     },
     "execution_count": 103,
     "metadata": {},
     "output_type": "execute_result"
    }
   ],
   "source": [
    "train_df.head()"
   ]
  },
  {
   "cell_type": "code",
   "execution_count": 104,
   "id": "d1a2c878-7fdf-497f-9a4b-d73e3b4b9b33",
   "metadata": {},
   "outputs": [
    {
     "name": "stdout",
     "output_type": "stream",
     "text": [
      "<class 'pandas.core.frame.DataFrame'>\n",
      "RangeIndex: 1213 entries, 0 to 1212\n",
      "Data columns (total 30 columns):\n",
      " #   Column                            Non-Null Count  Dtype  \n",
      "---  ------                            --------------  -----  \n",
      " 0   participant_id                    1213 non-null   object \n",
      " 1   Basic_Demos_Enroll_Year           1213 non-null   int64  \n",
      " 2   Basic_Demos_Study_Site            1213 non-null   int64  \n",
      " 3   PreInt_Demos_Fam_Child_Ethnicity  1202 non-null   float64\n",
      " 4   PreInt_Demos_Fam_Child_Race       1213 non-null   int64  \n",
      " 5   MRI_Track_Scan_Location           1213 non-null   int64  \n",
      " 6   Barratt_Barratt_P1_Edu            1213 non-null   int64  \n",
      " 7   Barratt_Barratt_P1_Occ            1213 non-null   int64  \n",
      " 8   Barratt_Barratt_P2_Edu            1213 non-null   int64  \n",
      " 9   Barratt_Barratt_P2_Occ            1213 non-null   int64  \n",
      " 10  ADHD_Outcome                      1213 non-null   int64  \n",
      " 11  Sex_F                             1213 non-null   int64  \n",
      " 12  EHQ_EHQ_Total                     1213 non-null   float64\n",
      " 13  ColorVision_CV_Score              1213 non-null   int64  \n",
      " 14  APQ_P_APQ_P_CP                    1213 non-null   int64  \n",
      " 15  APQ_P_APQ_P_ID                    1213 non-null   int64  \n",
      " 16  APQ_P_APQ_P_INV                   1213 non-null   int64  \n",
      " 17  APQ_P_APQ_P_OPD                   1213 non-null   int64  \n",
      " 18  APQ_P_APQ_P_PM                    1213 non-null   int64  \n",
      " 19  APQ_P_APQ_P_PP                    1213 non-null   int64  \n",
      " 20  SDQ_SDQ_Conduct_Problems          1213 non-null   int64  \n",
      " 21  SDQ_SDQ_Difficulties_Total        1213 non-null   int64  \n",
      " 22  SDQ_SDQ_Emotional_Problems        1213 non-null   int64  \n",
      " 23  SDQ_SDQ_Externalizing             1213 non-null   int64  \n",
      " 24  SDQ_SDQ_Generating_Impact         1213 non-null   int64  \n",
      " 25  SDQ_SDQ_Hyperactivity             1213 non-null   int64  \n",
      " 26  SDQ_SDQ_Internalizing             1213 non-null   int64  \n",
      " 27  SDQ_SDQ_Peer_Problems             1213 non-null   int64  \n",
      " 28  SDQ_SDQ_Prosocial                 1213 non-null   int64  \n",
      " 29  MRI_Track_Age_at_Scan             853 non-null    float64\n",
      "dtypes: float64(3), int64(26), object(1)\n",
      "memory usage: 284.4+ KB\n"
     ]
    }
   ],
   "source": [
    "train_df.info()"
   ]
  },
  {
   "cell_type": "code",
   "execution_count": 105,
   "id": "072dfa7f-3855-495f-b6a9-65afbe3f0dae",
   "metadata": {},
   "outputs": [
    {
     "data": {
      "text/plain": [
       "(1213, 30)"
      ]
     },
     "execution_count": 105,
     "metadata": {},
     "output_type": "execute_result"
    }
   ],
   "source": [
    "train_df.shape"
   ]
  },
  {
   "cell_type": "markdown",
   "id": "c66d95d5-8b99-452e-92c1-07885a8ad922",
   "metadata": {},
   "source": [
    "## Import Testing Data"
   ]
  },
  {
   "cell_type": "markdown",
   "id": "d7880966-5a1c-4a32-87d1-bbf01f78fe77",
   "metadata": {},
   "source": [
    "### MRI Testing Data"
   ]
  },
  {
   "cell_type": "code",
   "execution_count": 83,
   "id": "5da6bcba-ef44-4f60-bd9f-80594543bdec",
   "metadata": {},
   "outputs": [],
   "source": [
    "# Read the csv file\n",
    "test_mri = pd.read_csv(\"TEST_FUNCTIONAL_CONNECTOME_MATRICES.csv\")"
   ]
  },
  {
   "cell_type": "markdown",
   "id": "b6890fde-294e-4cb8-ba64-2e7a7967bfa5",
   "metadata": {},
   "source": [
    "### Categorical Testing Data"
   ]
  },
  {
   "cell_type": "code",
   "execution_count": 106,
   "id": "5c55cc6d-b355-4a41-bef3-dbcf32dd0438",
   "metadata": {},
   "outputs": [],
   "source": [
    "# Read the Excel file\n",
    "test_cat = pd.read_excel(\"TEST_CATEGORICAL.xlsx\")"
   ]
  },
  {
   "cell_type": "markdown",
   "id": "75f08214-6100-4bb1-bdf2-353f1c67cedd",
   "metadata": {},
   "source": [
    "### Quantitative Testing Data"
   ]
  },
  {
   "cell_type": "code",
   "execution_count": 107,
   "id": "27d850b9-e9ab-4576-866a-56905dbb3464",
   "metadata": {},
   "outputs": [],
   "source": [
    "# Read the Excel file\n",
    "test_quant = pd.read_excel(\"TEST_QUANTITATIVE_METADATA.xlsx\")"
   ]
  },
  {
   "cell_type": "markdown",
   "id": "51bfcc65-ba2e-4931-a163-fe418d7dff08",
   "metadata": {},
   "source": [
    "### Merge Categorical & Quantitative Testing Data"
   ]
  },
  {
   "cell_type": "code",
   "execution_count": 108,
   "id": "f2f8ba36-1c01-41f5-ac2c-bf1d8e49d663",
   "metadata": {},
   "outputs": [],
   "source": [
    "# Merge DataFrames on 'participant_id'\n",
    "test_df = pd.merge(test_cat, test_quant, on=[\"participant_id\"], how=\"inner\") # Inner join\n"
   ]
  },
  {
   "cell_type": "markdown",
   "id": "e2434a8e-40ef-41cc-83ba-2812bd4d45ba",
   "metadata": {},
   "source": [
    "## Sweetviz Analysis"
   ]
  },
  {
   "cell_type": "markdown",
   "id": "e1d1ff62-2c73-47a4-b02a-c6d9a2bc429f",
   "metadata": {},
   "source": [
    "### Combined Categorical & Quantitative Data"
   ]
  },
  {
   "cell_type": "code",
   "execution_count": 109,
   "id": "29e9e784-5f0d-4d73-95ce-222849455fb6",
   "metadata": {},
   "outputs": [
    {
     "data": {
      "application/vnd.jupyter.widget-view+json": {
       "model_id": "577f7447911243be8623caab4998352e",
       "version_major": 2,
       "version_minor": 0
      },
      "text/plain": [
       "                                             |                                             | [  0%]   00:00 ->…"
      ]
     },
     "metadata": {},
     "output_type": "display_data"
    },
    {
     "name": "stdout",
     "output_type": "stream",
     "text": [
      "Report sweetviz_report (Combined Categorical & Quantitative Training Data v ADHD Outcome).html was generated! NOTEBOOK/COLAB USERS: the web browser MAY not pop up, regardless, the report IS saved in your notebook/colab files.\n"
     ]
    }
   ],
   "source": [
    "# Generate a Sweetviz report\n",
    "report = sv.analyze(train_df, target_feat='ADHD_Outcome')\n",
    "\n",
    "# Show the report in a browser\n",
    "report.show_html(\"sweetviz_report (Combined Categorical & Quantitative Training Data v ADHD Outcome).html\")"
   ]
  },
  {
   "cell_type": "code",
   "execution_count": null,
   "id": "3773b127-db12-43c1-ae3c-4bc63612b48c",
   "metadata": {},
   "outputs": [],
   "source": [
    "# Generate a Sweetviz report\n",
    "report = sv.analyze(train_df, target_feat='Sex F')\n",
    "\n",
    "# Show the report in a browser\n",
    "report.show_html(\"sweetviz_report (Combined Categorical & Quantitative Training Data v Sex F).html\")"
   ]
  },
  {
   "cell_type": "markdown",
   "id": "750c0ced-250d-4b6f-9135-49250d064c4c",
   "metadata": {},
   "source": [
    "### Categorical Training Data"
   ]
  },
  {
   "cell_type": "code",
   "execution_count": 110,
   "id": "34d669ae-4f9f-4e1f-a7e7-7ca2097fd6d8",
   "metadata": {},
   "outputs": [
    {
     "data": {
      "application/vnd.jupyter.widget-view+json": {
       "model_id": "878a829c9d5e448ba1e44e54b92af893",
       "version_major": 2,
       "version_minor": 0
      },
      "text/plain": [
       "                                             |                                             | [  0%]   00:00 ->…"
      ]
     },
     "metadata": {},
     "output_type": "display_data"
    },
    {
     "name": "stdout",
     "output_type": "stream",
     "text": [
      "Report sweetviz_report (Categorical Training Data v ADHD Outcome).html was generated! NOTEBOOK/COLAB USERS: the web browser MAY not pop up, regardless, the report IS saved in your notebook/colab files.\n"
     ]
    }
   ],
   "source": [
    "# Generate a Sweetviz report\n",
    "report = sv.analyze(train_cat, target_feat='ADHD_Outcome')\n",
    "\n",
    "# Show the report in a browser\n",
    "report.show_html(\"sweetviz_report (Categorical Training Data v ADHD Outcome).html\")"
   ]
  },
  {
   "cell_type": "code",
   "execution_count": 111,
   "id": "1e064896-f601-45fd-a013-7ca2482dd970",
   "metadata": {},
   "outputs": [
    {
     "data": {
      "application/vnd.jupyter.widget-view+json": {
       "model_id": "8f9c1f957dc44aeaa77b707eef06e45d",
       "version_major": 2,
       "version_minor": 0
      },
      "text/plain": [
       "                                             |                                             | [  0%]   00:00 ->…"
      ]
     },
     "metadata": {},
     "output_type": "display_data"
    },
    {
     "name": "stdout",
     "output_type": "stream",
     "text": [
      "Report sweetviz_report (Categorical Training Data v Sex F).html was generated! NOTEBOOK/COLAB USERS: the web browser MAY not pop up, regardless, the report IS saved in your notebook/colab files.\n"
     ]
    }
   ],
   "source": [
    "# Generate a Sweetviz report\n",
    "report = sv.analyze(train_cat, target_feat='Sex_F')\n",
    "\n",
    "# Show the report in a browser\n",
    "report.show_html(\"sweetviz_report (Categorical Training Data v Sex F).html\")"
   ]
  },
  {
   "cell_type": "markdown",
   "id": "be0c1825-55da-4ac9-a5d9-6760ecf69731",
   "metadata": {},
   "source": [
    "### Quantitative Training Data"
   ]
  },
  {
   "cell_type": "code",
   "execution_count": 30,
   "id": "75b47dd1-24c0-4d7b-904e-afa3578307ea",
   "metadata": {},
   "outputs": [
    {
     "data": {
      "application/vnd.jupyter.widget-view+json": {
       "model_id": "15770eb569f64a9db2ef2a5cb4d46152",
       "version_major": 2,
       "version_minor": 0
      },
      "text/plain": [
       "                                             |                                             | [  0%]   00:00 ->…"
      ]
     },
     "metadata": {},
     "output_type": "display_data"
    },
    {
     "name": "stdout",
     "output_type": "stream",
     "text": [
      "Report sweetviz_report (Quantitative Training Data v ADHD Outcome).html was generated! NOTEBOOK/COLAB USERS: the web browser MAY not pop up, regardless, the report IS saved in your notebook/colab files.\n"
     ]
    }
   ],
   "source": [
    "# Generate a Sweetviz report\n",
    "report = sv.analyze(train_quant, target_feat='ADHD_Outcome')\n",
    "\n",
    "# Show the report in a browser\n",
    "report.show_html(\"sweetviz_report (Quantitative Training Data v ADHD Outcome).html\")"
   ]
  },
  {
   "cell_type": "code",
   "execution_count": null,
   "id": "c0d4db3d-b87c-4454-b415-8ddd21338a8c",
   "metadata": {},
   "outputs": [],
   "source": [
    "# Generate a Sweetviz report\n",
    "report = sv.analyze(train_quant, target_feat='Sex_F')\n",
    "\n",
    "# Show the report in a browser\n",
    "report.show_html(\"sweetviz_report (Quantitative Training Data v Sex F).html\")"
   ]
  },
  {
   "cell_type": "markdown",
   "id": "20e4fec1-da36-4f3a-b1e2-65d83abfa5d2",
   "metadata": {},
   "source": [
    "### Training Data v Testing Data"
   ]
  },
  {
   "cell_type": "markdown",
   "id": "a54ef300-6478-4848-8068-95041d5ce29e",
   "metadata": {},
   "source": [
    "#### Combined Categorical & Quantitative Data"
   ]
  },
  {
   "cell_type": "code",
   "execution_count": null,
   "id": "6f7a6757-d4d2-4ec1-b47e-c98e05d7ce55",
   "metadata": {},
   "outputs": [],
   "source": [
    "# Generate a Sweetviz report\n",
    "report = sv.compare([train_df,\"Categorical Training Data\"], [test_df,\"Categorical Testing Data\"])\n",
    "\n",
    "# Show the report in a browser\n",
    "report.show_html(\"sweetviz_report (Combined Training Data v Combined Testing Data).html\")"
   ]
  },
  {
   "cell_type": "markdown",
   "id": "fad314ee-ab22-4039-8a5f-5ec2ac6f207a",
   "metadata": {},
   "source": [
    "#### Categorical Data"
   ]
  },
  {
   "cell_type": "code",
   "execution_count": 112,
   "id": "e010c699-3654-4e39-871d-494aa259267f",
   "metadata": {},
   "outputs": [
    {
     "data": {
      "application/vnd.jupyter.widget-view+json": {
       "model_id": "cbe474c7317344a89397ed9bc7dbc634",
       "version_major": 2,
       "version_minor": 0
      },
      "text/plain": [
       "                                             |                                             | [  0%]   00:00 ->…"
      ]
     },
     "metadata": {},
     "output_type": "display_data"
    },
    {
     "name": "stdout",
     "output_type": "stream",
     "text": [
      "Report sweetviz_report (Categorical Training Data v Categorical Testing Data).html was generated! NOTEBOOK/COLAB USERS: the web browser MAY not pop up, regardless, the report IS saved in your notebook/colab files.\n"
     ]
    }
   ],
   "source": [
    "# Generate a Sweetviz report\n",
    "report = sv.compare([train_cat,\"Categorical Training Data\"], [test_cat,\"Categorical Testing Data\"])\n",
    "\n",
    "# Show the report in a browser\n",
    "report.show_html(\"sweetviz_report (Categorical Training Data v Categorical Testing Data).html\")"
   ]
  },
  {
   "cell_type": "markdown",
   "id": "78a86708-0f7f-43e9-a5a8-cf9a99cf94d2",
   "metadata": {},
   "source": [
    "#### Quantitative Data"
   ]
  },
  {
   "cell_type": "code",
   "execution_count": 113,
   "id": "8915ac63-66a0-44f5-b12a-de08455f4e25",
   "metadata": {},
   "outputs": [
    {
     "data": {
      "application/vnd.jupyter.widget-view+json": {
       "model_id": "3b827e742c59453ba7f1f786dda5c31d",
       "version_major": 2,
       "version_minor": 0
      },
      "text/plain": [
       "                                             |                                             | [  0%]   00:00 ->…"
      ]
     },
     "metadata": {},
     "output_type": "display_data"
    },
    {
     "name": "stdout",
     "output_type": "stream",
     "text": [
      "Report sweetviz_report (Quantitative Training Data v Quantitative Testing Data).html was generated! NOTEBOOK/COLAB USERS: the web browser MAY not pop up, regardless, the report IS saved in your notebook/colab files.\n"
     ]
    }
   ],
   "source": [
    "# Generate a Sweetviz report\n",
    "report = sv.compare([train_quant,\"Quantitative Training Data\"], [test_quant,\"Quantitative Testing Data\"])\n",
    "\n",
    "# Show the report in a browser\n",
    "report.show_html(\"sweetviz_report (Quantitative Training Data v Quantitative Testing Data).html\")"
   ]
  },
  {
   "cell_type": "code",
   "execution_count": null,
   "id": "d7a20678-cf6a-45c4-87d0-6953c2a785c3",
   "metadata": {},
   "outputs": [],
   "source": []
  },
  {
   "cell_type": "code",
   "execution_count": null,
   "id": "f22fccc2-0878-4d67-811b-34bc6174ffd3",
   "metadata": {},
   "outputs": [],
   "source": []
  }
 ],
 "metadata": {
  "kernelspec": {
   "display_name": "Python 3 (ipykernel)",
   "language": "python",
   "name": "python3"
  },
  "language_info": {
   "codemirror_mode": {
    "name": "ipython",
    "version": 3
   },
   "file_extension": ".py",
   "mimetype": "text/x-python",
   "name": "python",
   "nbconvert_exporter": "python",
   "pygments_lexer": "ipython3",
   "version": "3.11.7"
  }
 },
 "nbformat": 4,
 "nbformat_minor": 5
}
